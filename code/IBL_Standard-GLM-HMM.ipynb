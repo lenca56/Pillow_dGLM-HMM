{
 "cells": [
  {
   "cell_type": "code",
   "execution_count": 3,
   "metadata": {},
   "outputs": [],
   "source": [
    "from IPython.display import clear_output\n",
    "from matplotlib import pyplot as plt\n",
    "import numpy as np\n",
    "import pandas as pd\n",
    "# from oneibl.onelight import ONE # only used for downloading data\n",
    "# import wget\n",
    "from utils import *\n",
    "from plotting_utils import *\n",
    "from analysis_utils import *\n",
    "import dglm_hmm1\n",
    "from pandas.errors import SettingWithCopyWarning\n",
    "warnings.simplefilter(action=\"ignore\", category=SettingWithCopyWarning)\n",
    "\n",
    "\n",
    "ibl_data_path = '../data_IBL'\n",
    "dfAll = pd.read_csv(ibl_data_path + '/Ibl_processed.csv') #f ile with all data\n",
    "subjectsWitten = np.unique(dfAll[dfAll['lab'] == 'wittenlab']['subject']).tolist()\n",
    "colorsFeatures = [['#FAA61A','indigo','#99CC66','#59C3C3','#9593D9'],['#FAA61A',\"#2369BD\",\"#A9373B\",'#99CC66','#59C3C3','#9593D9']]\n",
    "colorsStates = ['tab:orange','tab:blue', 'tab:green','tab:red'] #['darkorange','darkblue','forestgreen','purple']\n",
    "myFeatures = [['bias','delta stimulus', 'previous choice', 'previous answer'],['bias','contrast left','contrast right', 'previous choice', 'previous answer']]\n",
    "sns.set_context(\"talk\")\n",
    "colormap = ['tab:purple','tab:pink','tab:cyan','yellowgreen']\n"
   ]
  },
  {
   "cell_type": "code",
   "execution_count": 4,
   "metadata": {},
   "outputs": [],
   "source": [
    "labChosen =  ['angelakilab','churchlandlab','wittenlab']\n",
    "subjectsAll = []\n",
    "for lab in labChosen:\n",
    "    subjects = np.unique(dfAll[dfAll['lab'] == lab]['subject']).tolist()\n",
    "    subjectsAll = subjectsAll + subjects\n",
    "\n",
    "# removing missing or incomplete animals\n",
    "if ('NYU-01' in subjectsAll):\n",
    "    subjectsAll.remove('NYU-01')\n",
    "if ('NYU-06' in subjectsAll):\n",
    "    subjectsAll.remove('NYU-06')\n",
    "if ('CSHL_007' in subjectsAll):\n",
    "    subjectsAll.remove('CSHL_007')\n",
    "if ('CSHL049' in subjectsAll):\n",
    "    subjectsAll.remove('CSHL049')"
   ]
  },
  {
   "cell_type": "code",
   "execution_count": null,
   "metadata": {},
   "outputs": [],
   "source": [
    "# change get design matrix to get tanh FITS\n",
    "\n"
   ]
  },
  {
   "cell_type": "code",
   "execution_count": null,
   "metadata": {},
   "outputs": [],
   "source": [
    "# make dataset with all mice from Witten lab for specific D\n",
    "\n",
    "D = 4\n",
    "firstSubject = 'ibl_witten_02'\n",
    "x, y, sessInd = get_mouse_design(dfAll, firstSubject, sessStop=-1, D=D)\n",
    "for subject in subjectsWitten:\n",
    "    if (subject != firstSubject):\n",
    "        xTemp, yTemp, sessIndTemp = get_mouse_design(dfAll, subject, sessStop=-1, D=D)\n",
    "        x = np.concatenate((x,xTemp))\n",
    "        y = np.concatenate((y,yTemp))\n",
    "        sessInd = sessInd + [x + sessInd[-1] for x in sessIndTemp[1:]]\n",
    "print(x)\n",
    "np.save(f'../data_IBL/X_allAnimals_D={D}', x)\n",
    "np.save(f'../data_IBL/Y_allAnimals_D={D}', y)\n",
    "np.save(f'../data_IBL/sessInd_allAnimals_D={D}', sessInd)"
   ]
  }
 ],
 "metadata": {
  "kernelspec": {
   "display_name": "base",
   "language": "python",
   "name": "python3"
  },
  "language_info": {
   "codemirror_mode": {
    "name": "ipython",
    "version": 3
   },
   "file_extension": ".py",
   "mimetype": "text/x-python",
   "name": "python",
   "nbconvert_exporter": "python",
   "pygments_lexer": "ipython3",
   "version": "3.9.12"
  }
 },
 "nbformat": 4,
 "nbformat_minor": 2
}
