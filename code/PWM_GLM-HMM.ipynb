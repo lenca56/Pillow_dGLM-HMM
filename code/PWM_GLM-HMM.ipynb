{
 "cells": [
  {
   "cell_type": "markdown",
   "metadata": {},
   "source": [
    "### Looking for global fit (standard GLM-HMM) for Psytrack animals all together"
   ]
  },
  {
   "cell_type": "code",
   "execution_count": 1,
   "metadata": {},
   "outputs": [],
   "source": [
    "# importing packages and modules\n",
    "import matplotlib.pyplot as plt\n",
    "import scipy.stats as stats\n",
    "from scipy.optimize import minimize\n",
    "from utils import *\n",
    "from plotting_utils import *\n",
    "from analysis_utils import *\n",
    "import dglm_hmm1\n",
    "from scipy.stats import multivariate_normal, norm\n",
    "# import jax\n",
    "\n",
    "# code from summer project working with PWM data\n",
    "import sys, os\n",
    "sys.path.append(os.path.abspath(os.path.join('..', '..', 'LC_PWM_GLM-HMM/code')))\n",
    "import io_utils, analysis_utils, plotting_utils\n",
    "\n",
    "sns.set_context(\"talk\")"
   ]
  },
  {
   "cell_type": "code",
   "execution_count": 2,
   "metadata": {},
   "outputs": [],
   "source": [
    "#  animalsIDs = ['W060','W068','W073','W074','W075','W080','W081','W082','W088','W089']\n",
    "animalsIDs = ['W060','W075','W081','W089']\n",
    "pni_path = '/Users/lencacuturela/Desktop/github/LC_PWM_GLM-HMM/data'\n",
    "laptop_path = '/Users/lencacuturela/Desktop/Research/github/LC_PWM_GLM-HMM/data'"
   ]
  },
  {
   "cell_type": "code",
   "execution_count": 3,
   "metadata": {},
   "outputs": [
    {
     "ename": "FileNotFoundError",
     "evalue": "[Errno 2] No such file or directory: '/Users/lencacuturela/Desktop/github/LC_PWM_GLM-HMM/data/rat_behavior.csv'",
     "output_type": "error",
     "traceback": [
      "\u001b[0;31m---------------------------------------------------------------------------\u001b[0m",
      "\u001b[0;31mFileNotFoundError\u001b[0m                         Traceback (most recent call last)",
      "\u001b[1;32m/Users/lencacuturela/Desktop/Research/github/Pillow_dGLM-HMM/code/PWM_GLM-HMM.ipynb Cell 4\u001b[0m in \u001b[0;36m<cell line: 5>\u001b[0;34m()\u001b[0m\n\u001b[1;32m      <a href='vscode-notebook-cell:/Users/lencacuturela/Desktop/Research/github/Pillow_dGLM-HMM/code/PWM_GLM-HMM.ipynb#W3sZmlsZQ%3D%3D?line=0'>1</a>\u001b[0m \u001b[39m# According to Jonathan's suggestions for fitting global GLM-HMM for all animals\u001b[39;00m\n\u001b[1;32m      <a href='vscode-notebook-cell:/Users/lencacuturela/Desktop/Research/github/Pillow_dGLM-HMM/code/PWM_GLM-HMM.ipynb#W3sZmlsZQ%3D%3D?line=1'>2</a>\u001b[0m \u001b[39m# stage filter changed from 3 to 4\u001b[39;00m\n\u001b[1;32m      <a href='vscode-notebook-cell:/Users/lencacuturela/Desktop/Research/github/Pillow_dGLM-HMM/code/PWM_GLM-HMM.ipynb#W3sZmlsZQ%3D%3D?line=2'>3</a>\u001b[0m \u001b[39m# cutoff changed from 10 to 50\u001b[39;00m\n\u001b[1;32m      <a href='vscode-notebook-cell:/Users/lencacuturela/Desktop/Research/github/Pillow_dGLM-HMM/code/PWM_GLM-HMM.ipynb#W3sZmlsZQ%3D%3D?line=3'>4</a>\u001b[0m firstAnimal \u001b[39m=\u001b[39m \u001b[39m'\u001b[39m\u001b[39mW060\u001b[39m\u001b[39m'\u001b[39m\n\u001b[0;32m----> <a href='vscode-notebook-cell:/Users/lencacuturela/Desktop/Research/github/Pillow_dGLM-HMM/code/PWM_GLM-HMM.ipynb#W3sZmlsZQ%3D%3D?line=4'>5</a>\u001b[0m x, y \u001b[39m=\u001b[39m io_utils\u001b[39m.\u001b[39;49mprepare_design_matrices(rat_id\u001b[39m=\u001b[39;49mfirstAnimal, path\u001b[39m=\u001b[39;49mpni_path, psychometric\u001b[39m=\u001b[39;49m\u001b[39mTrue\u001b[39;49;00m, cutoff\u001b[39m=\u001b[39;49m\u001b[39m100\u001b[39;49m, stage_filter\u001b[39m=\u001b[39;49m\u001b[39m4\u001b[39;49m, overwrite\u001b[39m=\u001b[39;49m\u001b[39mFalse\u001b[39;49;00m)\n\u001b[1;32m      <a href='vscode-notebook-cell:/Users/lencacuturela/Desktop/Research/github/Pillow_dGLM-HMM/code/PWM_GLM-HMM.ipynb#W3sZmlsZQ%3D%3D?line=5'>6</a>\u001b[0m sessInd \u001b[39m=\u001b[39m \u001b[39mlist\u001b[39m(io_utils\u001b[39m.\u001b[39msession_start(rat_id\u001b[39m=\u001b[39mfirstAnimal, path\u001b[39m=\u001b[39mpni_path, psychometric\u001b[39m=\u001b[39m\u001b[39mTrue\u001b[39;00m, cutoff\u001b[39m=\u001b[39m\u001b[39m100\u001b[39m, stage_filter\u001b[39m=\u001b[39m\u001b[39m4\u001b[39m))\n\u001b[1;32m      <a href='vscode-notebook-cell:/Users/lencacuturela/Desktop/Research/github/Pillow_dGLM-HMM/code/PWM_GLM-HMM.ipynb#W3sZmlsZQ%3D%3D?line=7'>8</a>\u001b[0m \u001b[39mfor\u001b[39;00m animal \u001b[39min\u001b[39;00m animalsIDs:\n",
      "File \u001b[0;32m~/Desktop/Research/github/LC_PWM_GLM-HMM/code/io_utils.py:165\u001b[0m, in \u001b[0;36mprepare_design_matrices\u001b[0;34m(rat_id, path, psychometric, cutoff, stage_filter, overwrite)\u001b[0m\n\u001b[1;32m    161\u001b[0m     \u001b[39mreturn\u001b[39;00m x, y\n\u001b[1;32m    163\u001b[0m \u001b[39melse\u001b[39;00m:\n\u001b[1;32m    164\u001b[0m     \u001b[39m# loads dataset for rat_id\u001b[39;00m\n\u001b[0;32m--> 165\u001b[0m     df \u001b[39m=\u001b[39m load_and_wrangle(rat_id\u001b[39m=\u001b[39;49mrat_id, path\u001b[39m=\u001b[39;49mpath, psychometric\u001b[39m=\u001b[39;49mpsychometric, cutoff\u001b[39m=\u001b[39;49mcutoff, stage_filter\u001b[39m=\u001b[39;49mstage_filter, overwrite\u001b[39m=\u001b[39;49m\u001b[39mFalse\u001b[39;49;00m)\n\u001b[1;32m    167\u001b[0m     \u001b[39m# creating sensory history as in Roy et al\u001b[39;00m\n\u001b[1;32m    168\u001b[0m     df[\u001b[39m\"\u001b[39m\u001b[39mprev_s\u001b[39m\u001b[39m\"\u001b[39m] \u001b[39m=\u001b[39m \u001b[39m0\u001b[39m\n",
      "File \u001b[0;32m~/Desktop/Research/github/LC_PWM_GLM-HMM/code/io_utils.py:95\u001b[0m, in \u001b[0;36mload_and_wrangle\u001b[0;34m(rat_id, path, psychometric, cutoff, stage_filter, overwrite)\u001b[0m\n\u001b[1;32m     92\u001b[0m     \u001b[39mreturn\u001b[39;00m df\n\u001b[1;32m     94\u001b[0m \u001b[39melse\u001b[39;00m:\n\u001b[0;32m---> 95\u001b[0m     df \u001b[39m=\u001b[39m pd\u001b[39m.\u001b[39;49mread_csv(path \u001b[39m/\u001b[39;49m \u001b[39m\"\u001b[39;49m\u001b[39mrat_behavior.csv\u001b[39;49m\u001b[39m\"\u001b[39;49m)\n\u001b[1;32m     97\u001b[0m     \u001b[39m# load data for rat\u001b[39;00m\n\u001b[1;32m     98\u001b[0m     df \u001b[39m=\u001b[39m pd\u001b[39m.\u001b[39mDataFrame(df[df[\u001b[39m\"\u001b[39m\u001b[39msubject_id\u001b[39m\u001b[39m\"\u001b[39m]\u001b[39m==\u001b[39mrat_id])\n",
      "File \u001b[0;32m~/opt/anaconda3/lib/python3.9/site-packages/pandas/util/_decorators.py:311\u001b[0m, in \u001b[0;36mdeprecate_nonkeyword_arguments.<locals>.decorate.<locals>.wrapper\u001b[0;34m(*args, **kwargs)\u001b[0m\n\u001b[1;32m    305\u001b[0m \u001b[39mif\u001b[39;00m \u001b[39mlen\u001b[39m(args) \u001b[39m>\u001b[39m num_allow_args:\n\u001b[1;32m    306\u001b[0m     warnings\u001b[39m.\u001b[39mwarn(\n\u001b[1;32m    307\u001b[0m         msg\u001b[39m.\u001b[39mformat(arguments\u001b[39m=\u001b[39marguments),\n\u001b[1;32m    308\u001b[0m         \u001b[39mFutureWarning\u001b[39;00m,\n\u001b[1;32m    309\u001b[0m         stacklevel\u001b[39m=\u001b[39mstacklevel,\n\u001b[1;32m    310\u001b[0m     )\n\u001b[0;32m--> 311\u001b[0m \u001b[39mreturn\u001b[39;00m func(\u001b[39m*\u001b[39;49margs, \u001b[39m*\u001b[39;49m\u001b[39m*\u001b[39;49mkwargs)\n",
      "File \u001b[0;32m~/opt/anaconda3/lib/python3.9/site-packages/pandas/io/parsers/readers.py:680\u001b[0m, in \u001b[0;36mread_csv\u001b[0;34m(filepath_or_buffer, sep, delimiter, header, names, index_col, usecols, squeeze, prefix, mangle_dupe_cols, dtype, engine, converters, true_values, false_values, skipinitialspace, skiprows, skipfooter, nrows, na_values, keep_default_na, na_filter, verbose, skip_blank_lines, parse_dates, infer_datetime_format, keep_date_col, date_parser, dayfirst, cache_dates, iterator, chunksize, compression, thousands, decimal, lineterminator, quotechar, quoting, doublequote, escapechar, comment, encoding, encoding_errors, dialect, error_bad_lines, warn_bad_lines, on_bad_lines, delim_whitespace, low_memory, memory_map, float_precision, storage_options)\u001b[0m\n\u001b[1;32m    665\u001b[0m kwds_defaults \u001b[39m=\u001b[39m _refine_defaults_read(\n\u001b[1;32m    666\u001b[0m     dialect,\n\u001b[1;32m    667\u001b[0m     delimiter,\n\u001b[0;32m   (...)\u001b[0m\n\u001b[1;32m    676\u001b[0m     defaults\u001b[39m=\u001b[39m{\u001b[39m\"\u001b[39m\u001b[39mdelimiter\u001b[39m\u001b[39m\"\u001b[39m: \u001b[39m\"\u001b[39m\u001b[39m,\u001b[39m\u001b[39m\"\u001b[39m},\n\u001b[1;32m    677\u001b[0m )\n\u001b[1;32m    678\u001b[0m kwds\u001b[39m.\u001b[39mupdate(kwds_defaults)\n\u001b[0;32m--> 680\u001b[0m \u001b[39mreturn\u001b[39;00m _read(filepath_or_buffer, kwds)\n",
      "File \u001b[0;32m~/opt/anaconda3/lib/python3.9/site-packages/pandas/io/parsers/readers.py:575\u001b[0m, in \u001b[0;36m_read\u001b[0;34m(filepath_or_buffer, kwds)\u001b[0m\n\u001b[1;32m    572\u001b[0m _validate_names(kwds\u001b[39m.\u001b[39mget(\u001b[39m\"\u001b[39m\u001b[39mnames\u001b[39m\u001b[39m\"\u001b[39m, \u001b[39mNone\u001b[39;00m))\n\u001b[1;32m    574\u001b[0m \u001b[39m# Create the parser.\u001b[39;00m\n\u001b[0;32m--> 575\u001b[0m parser \u001b[39m=\u001b[39m TextFileReader(filepath_or_buffer, \u001b[39m*\u001b[39;49m\u001b[39m*\u001b[39;49mkwds)\n\u001b[1;32m    577\u001b[0m \u001b[39mif\u001b[39;00m chunksize \u001b[39mor\u001b[39;00m iterator:\n\u001b[1;32m    578\u001b[0m     \u001b[39mreturn\u001b[39;00m parser\n",
      "File \u001b[0;32m~/opt/anaconda3/lib/python3.9/site-packages/pandas/io/parsers/readers.py:933\u001b[0m, in \u001b[0;36mTextFileReader.__init__\u001b[0;34m(self, f, engine, **kwds)\u001b[0m\n\u001b[1;32m    930\u001b[0m     \u001b[39mself\u001b[39m\u001b[39m.\u001b[39moptions[\u001b[39m\"\u001b[39m\u001b[39mhas_index_names\u001b[39m\u001b[39m\"\u001b[39m] \u001b[39m=\u001b[39m kwds[\u001b[39m\"\u001b[39m\u001b[39mhas_index_names\u001b[39m\u001b[39m\"\u001b[39m]\n\u001b[1;32m    932\u001b[0m \u001b[39mself\u001b[39m\u001b[39m.\u001b[39mhandles: IOHandles \u001b[39m|\u001b[39m \u001b[39mNone\u001b[39;00m \u001b[39m=\u001b[39m \u001b[39mNone\u001b[39;00m\n\u001b[0;32m--> 933\u001b[0m \u001b[39mself\u001b[39m\u001b[39m.\u001b[39m_engine \u001b[39m=\u001b[39m \u001b[39mself\u001b[39;49m\u001b[39m.\u001b[39;49m_make_engine(f, \u001b[39mself\u001b[39;49m\u001b[39m.\u001b[39;49mengine)\n",
      "File \u001b[0;32m~/opt/anaconda3/lib/python3.9/site-packages/pandas/io/parsers/readers.py:1217\u001b[0m, in \u001b[0;36mTextFileReader._make_engine\u001b[0;34m(self, f, engine)\u001b[0m\n\u001b[1;32m   1213\u001b[0m     mode \u001b[39m=\u001b[39m \u001b[39m\"\u001b[39m\u001b[39mrb\u001b[39m\u001b[39m\"\u001b[39m\n\u001b[1;32m   1214\u001b[0m \u001b[39m# error: No overload variant of \"get_handle\" matches argument types\u001b[39;00m\n\u001b[1;32m   1215\u001b[0m \u001b[39m# \"Union[str, PathLike[str], ReadCsvBuffer[bytes], ReadCsvBuffer[str]]\"\u001b[39;00m\n\u001b[1;32m   1216\u001b[0m \u001b[39m# , \"str\", \"bool\", \"Any\", \"Any\", \"Any\", \"Any\", \"Any\"\u001b[39;00m\n\u001b[0;32m-> 1217\u001b[0m \u001b[39mself\u001b[39m\u001b[39m.\u001b[39mhandles \u001b[39m=\u001b[39m get_handle(  \u001b[39m# type: ignore[call-overload]\u001b[39;49;00m\n\u001b[1;32m   1218\u001b[0m     f,\n\u001b[1;32m   1219\u001b[0m     mode,\n\u001b[1;32m   1220\u001b[0m     encoding\u001b[39m=\u001b[39;49m\u001b[39mself\u001b[39;49m\u001b[39m.\u001b[39;49moptions\u001b[39m.\u001b[39;49mget(\u001b[39m\"\u001b[39;49m\u001b[39mencoding\u001b[39;49m\u001b[39m\"\u001b[39;49m, \u001b[39mNone\u001b[39;49;00m),\n\u001b[1;32m   1221\u001b[0m     compression\u001b[39m=\u001b[39;49m\u001b[39mself\u001b[39;49m\u001b[39m.\u001b[39;49moptions\u001b[39m.\u001b[39;49mget(\u001b[39m\"\u001b[39;49m\u001b[39mcompression\u001b[39;49m\u001b[39m\"\u001b[39;49m, \u001b[39mNone\u001b[39;49;00m),\n\u001b[1;32m   1222\u001b[0m     memory_map\u001b[39m=\u001b[39;49m\u001b[39mself\u001b[39;49m\u001b[39m.\u001b[39;49moptions\u001b[39m.\u001b[39;49mget(\u001b[39m\"\u001b[39;49m\u001b[39mmemory_map\u001b[39;49m\u001b[39m\"\u001b[39;49m, \u001b[39mFalse\u001b[39;49;00m),\n\u001b[1;32m   1223\u001b[0m     is_text\u001b[39m=\u001b[39;49mis_text,\n\u001b[1;32m   1224\u001b[0m     errors\u001b[39m=\u001b[39;49m\u001b[39mself\u001b[39;49m\u001b[39m.\u001b[39;49moptions\u001b[39m.\u001b[39;49mget(\u001b[39m\"\u001b[39;49m\u001b[39mencoding_errors\u001b[39;49m\u001b[39m\"\u001b[39;49m, \u001b[39m\"\u001b[39;49m\u001b[39mstrict\u001b[39;49m\u001b[39m\"\u001b[39;49m),\n\u001b[1;32m   1225\u001b[0m     storage_options\u001b[39m=\u001b[39;49m\u001b[39mself\u001b[39;49m\u001b[39m.\u001b[39;49moptions\u001b[39m.\u001b[39;49mget(\u001b[39m\"\u001b[39;49m\u001b[39mstorage_options\u001b[39;49m\u001b[39m\"\u001b[39;49m, \u001b[39mNone\u001b[39;49;00m),\n\u001b[1;32m   1226\u001b[0m )\n\u001b[1;32m   1227\u001b[0m \u001b[39massert\u001b[39;00m \u001b[39mself\u001b[39m\u001b[39m.\u001b[39mhandles \u001b[39mis\u001b[39;00m \u001b[39mnot\u001b[39;00m \u001b[39mNone\u001b[39;00m\n\u001b[1;32m   1228\u001b[0m f \u001b[39m=\u001b[39m \u001b[39mself\u001b[39m\u001b[39m.\u001b[39mhandles\u001b[39m.\u001b[39mhandle\n",
      "File \u001b[0;32m~/opt/anaconda3/lib/python3.9/site-packages/pandas/io/common.py:789\u001b[0m, in \u001b[0;36mget_handle\u001b[0;34m(path_or_buf, mode, encoding, compression, memory_map, is_text, errors, storage_options)\u001b[0m\n\u001b[1;32m    784\u001b[0m \u001b[39melif\u001b[39;00m \u001b[39misinstance\u001b[39m(handle, \u001b[39mstr\u001b[39m):\n\u001b[1;32m    785\u001b[0m     \u001b[39m# Check whether the filename is to be opened in binary mode.\u001b[39;00m\n\u001b[1;32m    786\u001b[0m     \u001b[39m# Binary mode does not support 'encoding' and 'newline'.\u001b[39;00m\n\u001b[1;32m    787\u001b[0m     \u001b[39mif\u001b[39;00m ioargs\u001b[39m.\u001b[39mencoding \u001b[39mand\u001b[39;00m \u001b[39m\"\u001b[39m\u001b[39mb\u001b[39m\u001b[39m\"\u001b[39m \u001b[39mnot\u001b[39;00m \u001b[39min\u001b[39;00m ioargs\u001b[39m.\u001b[39mmode:\n\u001b[1;32m    788\u001b[0m         \u001b[39m# Encoding\u001b[39;00m\n\u001b[0;32m--> 789\u001b[0m         handle \u001b[39m=\u001b[39m \u001b[39mopen\u001b[39;49m(\n\u001b[1;32m    790\u001b[0m             handle,\n\u001b[1;32m    791\u001b[0m             ioargs\u001b[39m.\u001b[39;49mmode,\n\u001b[1;32m    792\u001b[0m             encoding\u001b[39m=\u001b[39;49mioargs\u001b[39m.\u001b[39;49mencoding,\n\u001b[1;32m    793\u001b[0m             errors\u001b[39m=\u001b[39;49merrors,\n\u001b[1;32m    794\u001b[0m             newline\u001b[39m=\u001b[39;49m\u001b[39m\"\u001b[39;49m\u001b[39m\"\u001b[39;49m,\n\u001b[1;32m    795\u001b[0m         )\n\u001b[1;32m    796\u001b[0m     \u001b[39melse\u001b[39;00m:\n\u001b[1;32m    797\u001b[0m         \u001b[39m# Binary mode\u001b[39;00m\n\u001b[1;32m    798\u001b[0m         handle \u001b[39m=\u001b[39m \u001b[39mopen\u001b[39m(handle, ioargs\u001b[39m.\u001b[39mmode)\n",
      "\u001b[0;31mFileNotFoundError\u001b[0m: [Errno 2] No such file or directory: '/Users/lencacuturela/Desktop/github/LC_PWM_GLM-HMM/data/rat_behavior.csv'"
     ]
    }
   ],
   "source": [
    "# According to Jonathan's suggestions for fitting global GLM-HMM for all animals\n",
    "# stage filter changed from 3 to 4\n",
    "# cutoff changed from 10 to 50\n",
    "firstAnimal = 'W060'\n",
    "x, y = io_utils.prepare_design_matrices(rat_id=firstAnimal, path=pni_path, psychometric=True, cutoff=100, stage_filter=4, overwrite=False)\n",
    "sessInd = list(io_utils.session_start(rat_id=firstAnimal, path=pni_path, psychometric=True, cutoff=100, stage_filter=4))\n",
    "\n",
    "for animal in animalsIDs:\n",
    "    if (animal != firstAnimal):\n",
    "        xTemp, yTemp = io_utils.prepare_design_matrices(rat_id=animal, path=pni_path, psychometric=True, cutoff=100, stage_filter=4, overwrite=False)\n",
    "        sessIndTemp = list(io_utils.session_start(rat_id=animal, path=pni_path, psychometric=True, cutoff=100, stage_filter=4))\n",
    "        x = np.concatenate((x,xTemp))\n",
    "        y = np.concatenate((y,yTemp))\n",
    "oneSessInd = [0,x.shape[0]]\n",
    "print(oneSessInd)\n",
    "\n",
    "# NOT TAKING INTO ACCOUNT TO BREAK FORWARD-BACKWARD AT EACH SESSION LIKE IRIS DOES\n",
    "    "
   ]
  },
  {
   "cell_type": "markdown",
   "metadata": {},
   "source": [
    "### K=1 GLM Fit"
   ]
  },
  {
   "cell_type": "code",
   "execution_count": 14,
   "metadata": {},
   "outputs": [
    {
     "name": "stdout",
     "output_type": "stream",
     "text": [
      "Init  0\n",
      "0\n",
      "Init  1\n",
      "0\n",
      "Init  2\n",
      "0\n",
      "Init  3\n",
      "0\n",
      "Init  4\n",
      "0\n",
      "Init  5\n",
      "0\n",
      "Init  6\n",
      "0\n",
      "Init  7\n",
      "0\n",
      "Init  8\n",
      "0\n",
      "Init  9\n",
      "0\n"
     ]
    },
    {
     "ename": "KeyboardInterrupt",
     "evalue": "",
     "output_type": "error",
     "traceback": [
      "\u001b[0;31m---------------------------------------------------------------------------\u001b[0m",
      "\u001b[0;31mKeyboardInterrupt\u001b[0m                         Traceback (most recent call last)",
      "Cell \u001b[0;32mIn[14], line 27\u001b[0m\n\u001b[1;32m     25\u001b[0m \u001b[39melse\u001b[39;00m:\n\u001b[1;32m     26\u001b[0m     initP0, initW0 \u001b[39m=\u001b[39m dGLM_HMM\u001b[39m.\u001b[39mgenerate_param(sessInd\u001b[39m=\u001b[39moneSessInd, transitionDistribution\u001b[39m=\u001b[39m[\u001b[39m'\u001b[39m\u001b[39mdirichlet\u001b[39m\u001b[39m'\u001b[39m, (\u001b[39m5\u001b[39m, \u001b[39m1\u001b[39m)], weightDistribution\u001b[39m=\u001b[39m[\u001b[39m'\u001b[39m\u001b[39mnormal\u001b[39m\u001b[39m'\u001b[39m, (\u001b[39m0\u001b[39m,\u001b[39m2\u001b[39m)]) \n\u001b[0;32m---> 27\u001b[0m allP[i], allW[i], allLl[i] \u001b[39m=\u001b[39m dGLM_HMM\u001b[39m.\u001b[39;49mfit(x, y,  initP0, initW0, sigma\u001b[39m=\u001b[39;49mreshapeSigma(\u001b[39m1\u001b[39;49m, K, D), sessInd\u001b[39m=\u001b[39;49moneSessInd, pi0\u001b[39m=\u001b[39;49m\u001b[39mNone\u001b[39;49;00m, maxIter\u001b[39m=\u001b[39;49mmaxiter, tol\u001b[39m=\u001b[39;49m\u001b[39m1e-3\u001b[39;49m, penaltyW\u001b[39m=\u001b[39;49mpenaltyW) \u001b[39m# sigma does not matter here\u001b[39;00m\n\u001b[1;32m     29\u001b[0m np\u001b[39m.\u001b[39msave(\u001b[39mf\u001b[39m\u001b[39m'\u001b[39m\u001b[39m../data_PWM/trainLl-global_PWM_all-animals_sf=4_\u001b[39m\u001b[39m{\u001b[39;00mK\u001b[39m}\u001b[39;00m\u001b[39m_state_multiple_inits_penaltyW=\u001b[39m\u001b[39m{\u001b[39;00mpenaltyW\u001b[39m}\u001b[39;00m\u001b[39m'\u001b[39m, allLl)\n\u001b[1;32m     30\u001b[0m np\u001b[39m.\u001b[39msave(\u001b[39mf\u001b[39m\u001b[39m'\u001b[39m\u001b[39m../data_PWM/P-global_PWM_all-animals_sf=4_\u001b[39m\u001b[39m{\u001b[39;00mK\u001b[39m}\u001b[39;00m\u001b[39m_state_multiple_inits_penaltyW=\u001b[39m\u001b[39m{\u001b[39;00mpenaltyW\u001b[39m}\u001b[39;00m\u001b[39m'\u001b[39m, allP)\n",
      "File \u001b[0;32m~/Desktop/github/Pillow_dGLM-HMM/code/dglm_hmm1.py:745\u001b[0m, in \u001b[0;36mdGLM_HMM1.fit\u001b[0;34m(self, x, y, initP, initW, sigma, sessInd, pi0, maxIter, tol, penaltyW)\u001b[0m\n\u001b[1;32m    743\u001b[0m         opt_val \u001b[39m=\u001b[39m \u001b[39mlambda\u001b[39;00m w: \u001b[39mself\u001b[39m\u001b[39m.\u001b[39mvalue_weight_loss_function(w, x[sessInd[s]:sessInd[s\u001b[39m+\u001b[39m\u001b[39m1\u001b[39m]], y[sessInd[s]:sessInd[s\u001b[39m+\u001b[39m\u001b[39m1\u001b[39m]], gammaSess[:,k], prevW, nextW, sigma[k,:], penaltyW\u001b[39m=\u001b[39mpenaltyW)\n\u001b[1;32m    744\u001b[0m         opt_grad \u001b[39m=\u001b[39m \u001b[39mlambda\u001b[39;00m w: \u001b[39mself\u001b[39m\u001b[39m.\u001b[39mgrad_weight_loss_function(w, x[sessInd[s]:sessInd[s\u001b[39m+\u001b[39m\u001b[39m1\u001b[39m]], y[sessInd[s]:sessInd[s\u001b[39m+\u001b[39m\u001b[39m1\u001b[39m]], gammaSess[:,k], prevW, nextW, sigma[k,:], penaltyW\u001b[39m=\u001b[39mpenaltyW)\n\u001b[0;32m--> 745\u001b[0m         optimized \u001b[39m=\u001b[39m minimize(opt_val, w_flat, jac\u001b[39m=\u001b[39;49mopt_grad, method\u001b[39m=\u001b[39;49m\u001b[39m'\u001b[39;49m\u001b[39mL-BFGS-B\u001b[39;49m\u001b[39m'\u001b[39;49m)\n\u001b[1;32m    746\u001b[0m         w[sessInd[s]:sessInd[s\u001b[39m+\u001b[39m\u001b[39m1\u001b[39m],k,:,\u001b[39m1\u001b[39m] \u001b[39m=\u001b[39m optimized\u001b[39m.\u001b[39mx \u001b[39m# updating weight w for current session\u001b[39;00m\n\u001b[1;32m    748\u001b[0m     \u001b[39m# simple optimization\u001b[39;00m\n\u001b[1;32m    749\u001b[0m     \u001b[39m# w_flat = np.ndarray.flatten(w[sessInd[s],:,:,0]) # flatten weights for optimization \u001b[39;00m\n\u001b[1;32m    750\u001b[0m     \u001b[39m# optimized = minimize(self.weight_loss_function, w_flat, args=(x[sessInd[s]:sessInd[s+1]], y[sessInd[s]:sessInd[s+1]], gammaSess, prevW, nextW, sigma))\u001b[39;00m\n\u001b[0;32m   (...)\u001b[0m\n\u001b[1;32m    778\u001b[0m \n\u001b[1;32m    779\u001b[0m \u001b[39m# M-step for transition matrix p - for all sessions together\u001b[39;00m\n",
      "File \u001b[0;32m~/anaconda3/lib/python3.10/site-packages/scipy/optimize/_minimize.py:696\u001b[0m, in \u001b[0;36mminimize\u001b[0;34m(fun, x0, args, method, jac, hess, hessp, bounds, constraints, tol, callback, options)\u001b[0m\n\u001b[1;32m    693\u001b[0m     res \u001b[39m=\u001b[39m _minimize_newtoncg(fun, x0, args, jac, hess, hessp, callback,\n\u001b[1;32m    694\u001b[0m                              \u001b[39m*\u001b[39m\u001b[39m*\u001b[39moptions)\n\u001b[1;32m    695\u001b[0m \u001b[39melif\u001b[39;00m meth \u001b[39m==\u001b[39m \u001b[39m'\u001b[39m\u001b[39ml-bfgs-b\u001b[39m\u001b[39m'\u001b[39m:\n\u001b[0;32m--> 696\u001b[0m     res \u001b[39m=\u001b[39m _minimize_lbfgsb(fun, x0, args, jac, bounds,\n\u001b[1;32m    697\u001b[0m                            callback\u001b[39m=\u001b[39;49mcallback, \u001b[39m*\u001b[39;49m\u001b[39m*\u001b[39;49moptions)\n\u001b[1;32m    698\u001b[0m \u001b[39melif\u001b[39;00m meth \u001b[39m==\u001b[39m \u001b[39m'\u001b[39m\u001b[39mtnc\u001b[39m\u001b[39m'\u001b[39m:\n\u001b[1;32m    699\u001b[0m     res \u001b[39m=\u001b[39m _minimize_tnc(fun, x0, args, jac, bounds, callback\u001b[39m=\u001b[39mcallback,\n\u001b[1;32m    700\u001b[0m                         \u001b[39m*\u001b[39m\u001b[39m*\u001b[39moptions)\n",
      "File \u001b[0;32m~/anaconda3/lib/python3.10/site-packages/scipy/optimize/_lbfgsb_py.py:359\u001b[0m, in \u001b[0;36m_minimize_lbfgsb\u001b[0;34m(fun, x0, args, jac, bounds, disp, maxcor, ftol, gtol, eps, maxfun, maxiter, iprint, callback, maxls, finite_diff_rel_step, **unknown_options)\u001b[0m\n\u001b[1;32m    353\u001b[0m task_str \u001b[39m=\u001b[39m task\u001b[39m.\u001b[39mtobytes()\n\u001b[1;32m    354\u001b[0m \u001b[39mif\u001b[39;00m task_str\u001b[39m.\u001b[39mstartswith(\u001b[39mb\u001b[39m\u001b[39m'\u001b[39m\u001b[39mFG\u001b[39m\u001b[39m'\u001b[39m):\n\u001b[1;32m    355\u001b[0m     \u001b[39m# The minimization routine wants f and g at the current x.\u001b[39;00m\n\u001b[1;32m    356\u001b[0m     \u001b[39m# Note that interruptions due to maxfun are postponed\u001b[39;00m\n\u001b[1;32m    357\u001b[0m     \u001b[39m# until the completion of the current minimization iteration.\u001b[39;00m\n\u001b[1;32m    358\u001b[0m     \u001b[39m# Overwrite f and g:\u001b[39;00m\n\u001b[0;32m--> 359\u001b[0m     f, g \u001b[39m=\u001b[39m func_and_grad(x)\n\u001b[1;32m    360\u001b[0m \u001b[39melif\u001b[39;00m task_str\u001b[39m.\u001b[39mstartswith(\u001b[39mb\u001b[39m\u001b[39m'\u001b[39m\u001b[39mNEW_X\u001b[39m\u001b[39m'\u001b[39m):\n\u001b[1;32m    361\u001b[0m     \u001b[39m# new iteration\u001b[39;00m\n\u001b[1;32m    362\u001b[0m     n_iterations \u001b[39m+\u001b[39m\u001b[39m=\u001b[39m \u001b[39m1\u001b[39m\n",
      "File \u001b[0;32m~/anaconda3/lib/python3.10/site-packages/scipy/optimize/_differentiable_functions.py:285\u001b[0m, in \u001b[0;36mScalarFunction.fun_and_grad\u001b[0;34m(self, x)\u001b[0m\n\u001b[1;32m    283\u001b[0m \u001b[39mif\u001b[39;00m \u001b[39mnot\u001b[39;00m np\u001b[39m.\u001b[39marray_equal(x, \u001b[39mself\u001b[39m\u001b[39m.\u001b[39mx):\n\u001b[1;32m    284\u001b[0m     \u001b[39mself\u001b[39m\u001b[39m.\u001b[39m_update_x_impl(x)\n\u001b[0;32m--> 285\u001b[0m \u001b[39mself\u001b[39;49m\u001b[39m.\u001b[39;49m_update_fun()\n\u001b[1;32m    286\u001b[0m \u001b[39mself\u001b[39m\u001b[39m.\u001b[39m_update_grad()\n\u001b[1;32m    287\u001b[0m \u001b[39mreturn\u001b[39;00m \u001b[39mself\u001b[39m\u001b[39m.\u001b[39mf, \u001b[39mself\u001b[39m\u001b[39m.\u001b[39mg\n",
      "File \u001b[0;32m~/anaconda3/lib/python3.10/site-packages/scipy/optimize/_differentiable_functions.py:251\u001b[0m, in \u001b[0;36mScalarFunction._update_fun\u001b[0;34m(self)\u001b[0m\n\u001b[1;32m    249\u001b[0m \u001b[39mdef\u001b[39;00m \u001b[39m_update_fun\u001b[39m(\u001b[39mself\u001b[39m):\n\u001b[1;32m    250\u001b[0m     \u001b[39mif\u001b[39;00m \u001b[39mnot\u001b[39;00m \u001b[39mself\u001b[39m\u001b[39m.\u001b[39mf_updated:\n\u001b[0;32m--> 251\u001b[0m         \u001b[39mself\u001b[39;49m\u001b[39m.\u001b[39;49m_update_fun_impl()\n\u001b[1;32m    252\u001b[0m         \u001b[39mself\u001b[39m\u001b[39m.\u001b[39mf_updated \u001b[39m=\u001b[39m \u001b[39mTrue\u001b[39;00m\n",
      "File \u001b[0;32m~/anaconda3/lib/python3.10/site-packages/scipy/optimize/_differentiable_functions.py:155\u001b[0m, in \u001b[0;36mScalarFunction.__init__.<locals>.update_fun\u001b[0;34m()\u001b[0m\n\u001b[1;32m    154\u001b[0m \u001b[39mdef\u001b[39;00m \u001b[39mupdate_fun\u001b[39m():\n\u001b[0;32m--> 155\u001b[0m     \u001b[39mself\u001b[39m\u001b[39m.\u001b[39mf \u001b[39m=\u001b[39m fun_wrapped(\u001b[39mself\u001b[39;49m\u001b[39m.\u001b[39;49mx)\n",
      "File \u001b[0;32m~/anaconda3/lib/python3.10/site-packages/scipy/optimize/_differentiable_functions.py:137\u001b[0m, in \u001b[0;36mScalarFunction.__init__.<locals>.fun_wrapped\u001b[0;34m(x)\u001b[0m\n\u001b[1;32m    133\u001b[0m \u001b[39mself\u001b[39m\u001b[39m.\u001b[39mnfev \u001b[39m+\u001b[39m\u001b[39m=\u001b[39m \u001b[39m1\u001b[39m\n\u001b[1;32m    134\u001b[0m \u001b[39m# Send a copy because the user may overwrite it.\u001b[39;00m\n\u001b[1;32m    135\u001b[0m \u001b[39m# Overwriting results in undefined behaviour because\u001b[39;00m\n\u001b[1;32m    136\u001b[0m \u001b[39m# fun(self.x) will change self.x, with the two no longer linked.\u001b[39;00m\n\u001b[0;32m--> 137\u001b[0m fx \u001b[39m=\u001b[39m fun(np\u001b[39m.\u001b[39;49mcopy(x), \u001b[39m*\u001b[39;49margs)\n\u001b[1;32m    138\u001b[0m \u001b[39m# Make sure the function returns a true scalar\u001b[39;00m\n\u001b[1;32m    139\u001b[0m \u001b[39mif\u001b[39;00m \u001b[39mnot\u001b[39;00m np\u001b[39m.\u001b[39misscalar(fx):\n",
      "File \u001b[0;32m~/Desktop/github/Pillow_dGLM-HMM/code/dglm_hmm1.py:743\u001b[0m, in \u001b[0;36mdGLM_HMM1.fit.<locals>.<lambda>\u001b[0;34m(w)\u001b[0m\n\u001b[1;32m    741\u001b[0m w_flat \u001b[39m=\u001b[39m np\u001b[39m.\u001b[39mndarray\u001b[39m.\u001b[39mflatten(w[sessInd[s],k,:,\u001b[39m1\u001b[39m]) \u001b[39m# flatten weights for optimization \u001b[39;00m\n\u001b[1;32m    742\u001b[0m \u001b[39m#optimized = minimize(self.value_weight_loss_function, w_flat, args=(x[sessInd[s]:sessInd[s+1]], y[sessInd[s]:sessInd[s+1]], gammaSess[:,k], prevW, nextW, sigma[k,:]))\u001b[39;00m\n\u001b[0;32m--> 743\u001b[0m opt_val \u001b[39m=\u001b[39m \u001b[39mlambda\u001b[39;00m w: \u001b[39mself\u001b[39;49m\u001b[39m.\u001b[39;49mvalue_weight_loss_function(w, x[sessInd[s]:sessInd[s\u001b[39m+\u001b[39;49m\u001b[39m1\u001b[39;49m]], y[sessInd[s]:sessInd[s\u001b[39m+\u001b[39;49m\u001b[39m1\u001b[39;49m]], gammaSess[:,k], prevW, nextW, sigma[k,:], penaltyW\u001b[39m=\u001b[39;49mpenaltyW)\n\u001b[1;32m    744\u001b[0m opt_grad \u001b[39m=\u001b[39m \u001b[39mlambda\u001b[39;00m w: \u001b[39mself\u001b[39m\u001b[39m.\u001b[39mgrad_weight_loss_function(w, x[sessInd[s]:sessInd[s\u001b[39m+\u001b[39m\u001b[39m1\u001b[39m]], y[sessInd[s]:sessInd[s\u001b[39m+\u001b[39m\u001b[39m1\u001b[39m]], gammaSess[:,k], prevW, nextW, sigma[k,:], penaltyW\u001b[39m=\u001b[39mpenaltyW)\n\u001b[1;32m    745\u001b[0m optimized \u001b[39m=\u001b[39m minimize(opt_val, w_flat, jac\u001b[39m=\u001b[39mopt_grad, method\u001b[39m=\u001b[39m\u001b[39m'\u001b[39m\u001b[39mL-BFGS-B\u001b[39m\u001b[39m'\u001b[39m)\n",
      "File \u001b[0;32m~/Desktop/github/Pillow_dGLM-HMM/code/dglm_hmm1.py:490\u001b[0m, in \u001b[0;36mdGLM_HMM1.value_weight_loss_function\u001b[0;34m(self, currentW, x, y, gamma, prevW, nextW, sigma, penaltyW)\u001b[0m\n\u001b[1;32m    487\u001b[0m \u001b[39mfor\u001b[39;00m t \u001b[39min\u001b[39;00m \u001b[39mrange\u001b[39m(\u001b[39m0\u001b[39m,T):\n\u001b[1;32m    488\u001b[0m     sessW[t,\u001b[39m0\u001b[39m,:,\u001b[39m1\u001b[39m] \u001b[39m=\u001b[39m currentW[:]\n\u001b[0;32m--> 490\u001b[0m phi \u001b[39m=\u001b[39m \u001b[39mself\u001b[39;49m\u001b[39m.\u001b[39;49mobservation_probability(x, sessW) \u001b[39m# N x 1 x C phi matrix calculated with currentW\u001b[39;00m\n\u001b[1;32m    491\u001b[0m logPhi \u001b[39m=\u001b[39m np\u001b[39m.\u001b[39mlog(phi) \u001b[39m# natural log of observation probabilities\u001b[39;00m\n\u001b[1;32m    493\u001b[0m \u001b[39m# weighted log likelihood term of loss function\u001b[39;00m\n",
      "File \u001b[0;32m~/Desktop/github/Pillow_dGLM-HMM/code/dglm_hmm1.py:64\u001b[0m, in \u001b[0;36mdGLM_HMM1.observation_probability\u001b[0;34m(self, x, w)\u001b[0m\n\u001b[1;32m     62\u001b[0m \u001b[39mfor\u001b[39;00m k \u001b[39min\u001b[39;00m \u001b[39mrange\u001b[39m(\u001b[39m0\u001b[39m, K):\n\u001b[1;32m     63\u001b[0m     \u001b[39mfor\u001b[39;00m t \u001b[39min\u001b[39;00m \u001b[39mrange\u001b[39m(\u001b[39m0\u001b[39m,Ncurrent):\n\u001b[0;32m---> 64\u001b[0m         phi[t,k,\u001b[39m1\u001b[39m] \u001b[39m=\u001b[39m softplus_deriv(\u001b[39m-\u001b[39;49mw[t,k,:,\u001b[39m1\u001b[39;49m]\u001b[39m@x\u001b[39;49m[t])\n\u001b[1;32m     65\u001b[0m         phi[t,k,\u001b[39m0\u001b[39m] \u001b[39m=\u001b[39m \u001b[39m1\u001b[39m \u001b[39m-\u001b[39m phi[t,k,\u001b[39m1\u001b[39m]\n\u001b[1;32m     67\u001b[0m     \u001b[39m# issues with overflow if calculating this way\u001b[39;00m\n\u001b[1;32m     68\u001b[0m     \u001b[39m#     phi[:,k,c] = np.exp(-np.sum(w[:,k,:,c]*x,axis=1))\u001b[39;00m\n\u001b[1;32m     69\u001b[0m     \u001b[39m# phi[:,k,:]  = np.divide((phi[:,k,:]).T,np.sum(phi[:,k,:],axis=1)).T     \u001b[39;00m\n",
      "File \u001b[0;32m~/Desktop/github/Pillow_dGLM-HMM/code/utils.py:115\u001b[0m, in \u001b[0;36msoftplus_deriv\u001b[0;34m(x)\u001b[0m\n\u001b[1;32m    111\u001b[0m     sortedInd\u001b[39m.\u001b[39mreverse() \u001b[39m# decreasing order\u001b[39;00m\n\u001b[1;32m    113\u001b[0m     \u001b[39mreturn\u001b[39;00m sortedInd\n\u001b[0;32m--> 115\u001b[0m \u001b[39mdef\u001b[39;00m \u001b[39msoftplus_deriv\u001b[39m(x):\n\u001b[1;32m    116\u001b[0m     \u001b[39m'''\u001b[39;00m\n\u001b[1;32m    117\u001b[0m \u001b[39m    also sigmoid\u001b[39;00m\n\u001b[1;32m    118\u001b[0m \u001b[39m    '''\u001b[39;00m\n\u001b[1;32m    120\u001b[0m     \u001b[39m# avoiding overflow\u001b[39;00m\n",
      "\u001b[0;31mKeyboardInterrupt\u001b[0m: "
     ]
    }
   ],
   "source": [
    "inits = 20\n",
    "penaltyW=True\n",
    "maxiter = 250\n",
    "\n",
    "path = pni_path\n",
    "\n",
    "N = x.shape[0]\n",
    "D = x.shape[1]\n",
    "C = 2 # only looking at binomial classes\n",
    "K = 1\n",
    "\n",
    "allP = np.zeros((inits, K, K))\n",
    "allW = np.zeros((inits, N, K, D, C))\n",
    "allLl = np.zeros((inits, maxiter))\n",
    "testLl = np.zeros((inits))\n",
    "oneSessInd = [0,N]\n",
    "dGLM_HMM = dglm_hmm1.dGLM_HMM1(N,K,D,C)\n",
    "\n",
    "for i in range(0,inits):\n",
    "    print(\"Init \", i)\n",
    "\n",
    "    # global fit\n",
    "    if (i%2 ==0):\n",
    "        initP0, initW0 = dGLM_HMM.generate_param(sessInd=oneSessInd, transitionDistribution=['dirichlet', (5, 1)], weightDistribution=['uniform', (-2,2)]) \n",
    "    else:\n",
    "        initP0, initW0 = dGLM_HMM.generate_param(sessInd=oneSessInd, transitionDistribution=['dirichlet', (5, 1)], weightDistribution=['normal', (0,2)]) \n",
    "    allP[i], allW[i], allLl[i] = dGLM_HMM.fit(x, y,  initP0, initW0, sigma=reshapeSigma(1, K, D), sessInd=oneSessInd, pi0=None, maxIter=maxiter, tol=1e-3, penaltyW=penaltyW) # sigma does not matter here\n",
    "    \n",
    "    np.save(f'../data_PWM/trainLl-global_PWM_all-animals_sf=4_{K}_state_multiple_inits_penaltyW={penaltyW}', allLl)\n",
    "    np.save(f'../data_PWM/P-global_PWM_all-animals_sf=4_{K}_state_multiple_inits_penaltyW={penaltyW}', allP)\n",
    "    np.save(f'../data_PWM/W-global_PWM_all-animals_sf=4_{K}_state_multiple_inits_penaltyW={penaltyW}', allW)\n",
    "\n",
    "    "
   ]
  },
  {
   "cell_type": "code",
   "execution_count": 9,
   "metadata": {},
   "outputs": [
    {
     "name": "stdout",
     "output_type": "stream",
     "text": [
      "[[-0.02367646 -1.3375472   1.71198048 -0.2121932  -0.08533615 -0.33284049]]\n"
     ]
    }
   ],
   "source": [
    "K = 1\n",
    "allW = np.load(f'../data_PWM/W-global_PWM_all-animals_sf=4_{K}_state_multiple_inits_L2penaltyW=1.npy')\n",
    "weightsGLM = allW[0]\n",
    "print(weightsGLM[10000,:,:,1])"
   ]
  },
  {
   "cell_type": "code",
   "execution_count": null,
   "metadata": {},
   "outputs": [],
   "source": [
    "# Find best init for GLM"
   ]
  },
  {
   "cell_type": "markdown",
   "metadata": {},
   "source": [
    "#### K=2 GLM-HMM Fit with weight initializations from GLM + noise - 3 out of 6 options were top ones, same like Iris' global solutions"
   ]
  },
  {
   "cell_type": "code",
   "execution_count": 64,
   "metadata": {},
   "outputs": [
    {
     "name": "stdout",
     "output_type": "stream",
     "text": [
      "Init  0\n",
      "0\n",
      "Init  1\n",
      "0\n",
      "100\n",
      "200\n",
      "Init  2\n",
      "0\n",
      "Init  3\n",
      "0\n",
      "Init  4\n",
      "0\n",
      "100\n",
      "200\n",
      "Init  5\n",
      "0\n"
     ]
    },
    {
     "ename": "KeyboardInterrupt",
     "evalue": "",
     "output_type": "error",
     "traceback": [
      "\u001b[0;31m---------------------------------------------------------------------------\u001b[0m",
      "\u001b[0;31mKeyboardInterrupt\u001b[0m                         Traceback (most recent call last)",
      "Cell \u001b[0;32mIn[64], line 30\u001b[0m\n\u001b[1;32m     28\u001b[0m     initP, initW0 \u001b[39m=\u001b[39m dGLM_HMM\u001b[39m.\u001b[39mgenerate_param(sessInd\u001b[39m=\u001b[39moneSessInd, transitionDistribution\u001b[39m=\u001b[39m[\u001b[39m'\u001b[39m\u001b[39mdirichlet\u001b[39m\u001b[39m'\u001b[39m, (\u001b[39m5\u001b[39m, \u001b[39m1\u001b[39m)], weightDistribution\u001b[39m=\u001b[39m[\u001b[39m'\u001b[39m\u001b[39mnormal\u001b[39m\u001b[39m'\u001b[39m, (\u001b[39m0\u001b[39m,\u001b[39m1\u001b[39m)]) \n\u001b[1;32m     29\u001b[0m     initW \u001b[39m=\u001b[39m initW0 \u001b[39m+\u001b[39m weightsGLM_K2\n\u001b[0;32m---> 30\u001b[0m allP[i], allW[i], allLl[i] \u001b[39m=\u001b[39m dGLM_HMM\u001b[39m.\u001b[39;49mfit(x, y,  initP, initW, sigma\u001b[39m=\u001b[39;49mreshapeSigma(\u001b[39m1\u001b[39;49m, K, D), sessInd\u001b[39m=\u001b[39;49moneSessInd, pi0\u001b[39m=\u001b[39;49m\u001b[39mNone\u001b[39;49;00m, maxIter\u001b[39m=\u001b[39;49mmaxiter, tol\u001b[39m=\u001b[39;49m\u001b[39m1e-3\u001b[39;49m, penaltyW\u001b[39m=\u001b[39;49mpenaltyW) \u001b[39m# sigma does not matter here\u001b[39;00m\n\u001b[1;32m     31\u001b[0m np\u001b[39m.\u001b[39msave(\u001b[39mf\u001b[39m\u001b[39m'\u001b[39m\u001b[39m../data_PWM/trainLl-global_PWM_all-animals_sf=4_\u001b[39m\u001b[39m{\u001b[39;00mK\u001b[39m}\u001b[39;00m\u001b[39m_state_multiple_inits_penaltyW=\u001b[39m\u001b[39m{\u001b[39;00mpenaltyW\u001b[39m}\u001b[39;00m\u001b[39m'\u001b[39m, allLl)\n\u001b[1;32m     32\u001b[0m np\u001b[39m.\u001b[39msave(\u001b[39mf\u001b[39m\u001b[39m'\u001b[39m\u001b[39m../data_PWM/P-global_PWM_all-animals_sf=4_\u001b[39m\u001b[39m{\u001b[39;00mK\u001b[39m}\u001b[39;00m\u001b[39m_state_multiple_inits_penaltyW=\u001b[39m\u001b[39m{\u001b[39;00mpenaltyW\u001b[39m}\u001b[39;00m\u001b[39m'\u001b[39m, allP)\n",
      "File \u001b[0;32m~/Desktop/github/Pillow_dGLM-HMM/code/dglm_hmm1.py:745\u001b[0m, in \u001b[0;36mdGLM_HMM1.fit\u001b[0;34m(self, x, y, initP, initW, sigma, sessInd, pi0, maxIter, tol, penaltyW)\u001b[0m\n\u001b[1;32m    743\u001b[0m         opt_val \u001b[39m=\u001b[39m \u001b[39mlambda\u001b[39;00m w: \u001b[39mself\u001b[39m\u001b[39m.\u001b[39mvalue_weight_loss_function(w, x[sessInd[s]:sessInd[s\u001b[39m+\u001b[39m\u001b[39m1\u001b[39m]], y[sessInd[s]:sessInd[s\u001b[39m+\u001b[39m\u001b[39m1\u001b[39m]], gammaSess[:,k], prevW, nextW, sigma[k,:], penaltyW\u001b[39m=\u001b[39mpenaltyW)\n\u001b[1;32m    744\u001b[0m         opt_grad \u001b[39m=\u001b[39m \u001b[39mlambda\u001b[39;00m w: \u001b[39mself\u001b[39m\u001b[39m.\u001b[39mgrad_weight_loss_function(w, x[sessInd[s]:sessInd[s\u001b[39m+\u001b[39m\u001b[39m1\u001b[39m]], y[sessInd[s]:sessInd[s\u001b[39m+\u001b[39m\u001b[39m1\u001b[39m]], gammaSess[:,k], prevW, nextW, sigma[k,:], penaltyW\u001b[39m=\u001b[39mpenaltyW)\n\u001b[0;32m--> 745\u001b[0m         optimized \u001b[39m=\u001b[39m minimize(opt_val, w_flat, jac\u001b[39m=\u001b[39;49mopt_grad, method\u001b[39m=\u001b[39;49m\u001b[39m'\u001b[39;49m\u001b[39mL-BFGS-B\u001b[39;49m\u001b[39m'\u001b[39;49m)\n\u001b[1;32m    746\u001b[0m         w[sessInd[s]:sessInd[s\u001b[39m+\u001b[39m\u001b[39m1\u001b[39m],k,:,\u001b[39m1\u001b[39m] \u001b[39m=\u001b[39m optimized\u001b[39m.\u001b[39mx \u001b[39m# updating weight w for current session\u001b[39;00m\n\u001b[1;32m    748\u001b[0m     \u001b[39m# simple optimization\u001b[39;00m\n\u001b[1;32m    749\u001b[0m     \u001b[39m# w_flat = np.ndarray.flatten(w[sessInd[s],:,:,0]) # flatten weights for optimization \u001b[39;00m\n\u001b[1;32m    750\u001b[0m     \u001b[39m# optimized = minimize(self.weight_loss_function, w_flat, args=(x[sessInd[s]:sessInd[s+1]], y[sessInd[s]:sessInd[s+1]], gammaSess, prevW, nextW, sigma))\u001b[39;00m\n\u001b[0;32m   (...)\u001b[0m\n\u001b[1;32m    778\u001b[0m \n\u001b[1;32m    779\u001b[0m \u001b[39m# M-step for transition matrix p - for all sessions together\u001b[39;00m\n",
      "File \u001b[0;32m~/anaconda3/lib/python3.10/site-packages/scipy/optimize/_minimize.py:696\u001b[0m, in \u001b[0;36mminimize\u001b[0;34m(fun, x0, args, method, jac, hess, hessp, bounds, constraints, tol, callback, options)\u001b[0m\n\u001b[1;32m    693\u001b[0m     res \u001b[39m=\u001b[39m _minimize_newtoncg(fun, x0, args, jac, hess, hessp, callback,\n\u001b[1;32m    694\u001b[0m                              \u001b[39m*\u001b[39m\u001b[39m*\u001b[39moptions)\n\u001b[1;32m    695\u001b[0m \u001b[39melif\u001b[39;00m meth \u001b[39m==\u001b[39m \u001b[39m'\u001b[39m\u001b[39ml-bfgs-b\u001b[39m\u001b[39m'\u001b[39m:\n\u001b[0;32m--> 696\u001b[0m     res \u001b[39m=\u001b[39m _minimize_lbfgsb(fun, x0, args, jac, bounds,\n\u001b[1;32m    697\u001b[0m                            callback\u001b[39m=\u001b[39;49mcallback, \u001b[39m*\u001b[39;49m\u001b[39m*\u001b[39;49moptions)\n\u001b[1;32m    698\u001b[0m \u001b[39melif\u001b[39;00m meth \u001b[39m==\u001b[39m \u001b[39m'\u001b[39m\u001b[39mtnc\u001b[39m\u001b[39m'\u001b[39m:\n\u001b[1;32m    699\u001b[0m     res \u001b[39m=\u001b[39m _minimize_tnc(fun, x0, args, jac, bounds, callback\u001b[39m=\u001b[39mcallback,\n\u001b[1;32m    700\u001b[0m                         \u001b[39m*\u001b[39m\u001b[39m*\u001b[39moptions)\n",
      "File \u001b[0;32m~/anaconda3/lib/python3.10/site-packages/scipy/optimize/_lbfgsb_py.py:305\u001b[0m, in \u001b[0;36m_minimize_lbfgsb\u001b[0;34m(fun, x0, args, jac, bounds, disp, maxcor, ftol, gtol, eps, maxfun, maxiter, iprint, callback, maxls, finite_diff_rel_step, **unknown_options)\u001b[0m\n\u001b[1;32m    302\u001b[0m     \u001b[39melse\u001b[39;00m:\n\u001b[1;32m    303\u001b[0m         iprint \u001b[39m=\u001b[39m disp\n\u001b[0;32m--> 305\u001b[0m sf \u001b[39m=\u001b[39m _prepare_scalar_function(fun, x0, jac\u001b[39m=\u001b[39;49mjac, args\u001b[39m=\u001b[39;49margs, epsilon\u001b[39m=\u001b[39;49meps,\n\u001b[1;32m    306\u001b[0m                               bounds\u001b[39m=\u001b[39;49mnew_bounds,\n\u001b[1;32m    307\u001b[0m                               finite_diff_rel_step\u001b[39m=\u001b[39;49mfinite_diff_rel_step)\n\u001b[1;32m    309\u001b[0m func_and_grad \u001b[39m=\u001b[39m sf\u001b[39m.\u001b[39mfun_and_grad\n\u001b[1;32m    311\u001b[0m fortran_int \u001b[39m=\u001b[39m _lbfgsb\u001b[39m.\u001b[39mtypes\u001b[39m.\u001b[39mintvar\u001b[39m.\u001b[39mdtype\n",
      "File \u001b[0;32m~/anaconda3/lib/python3.10/site-packages/scipy/optimize/_optimize.py:332\u001b[0m, in \u001b[0;36m_prepare_scalar_function\u001b[0;34m(fun, x0, jac, args, bounds, epsilon, finite_diff_rel_step, hess)\u001b[0m\n\u001b[1;32m    328\u001b[0m     bounds \u001b[39m=\u001b[39m (\u001b[39m-\u001b[39mnp\u001b[39m.\u001b[39minf, np\u001b[39m.\u001b[39minf)\n\u001b[1;32m    330\u001b[0m \u001b[39m# ScalarFunction caches. Reuse of fun(x) during grad\u001b[39;00m\n\u001b[1;32m    331\u001b[0m \u001b[39m# calculation reduces overall function evaluations.\u001b[39;00m\n\u001b[0;32m--> 332\u001b[0m sf \u001b[39m=\u001b[39m ScalarFunction(fun, x0, args, grad, hess,\n\u001b[1;32m    333\u001b[0m                     finite_diff_rel_step, bounds, epsilon\u001b[39m=\u001b[39;49mepsilon)\n\u001b[1;32m    335\u001b[0m \u001b[39mreturn\u001b[39;00m sf\n",
      "File \u001b[0;32m~/anaconda3/lib/python3.10/site-packages/scipy/optimize/_differentiable_functions.py:158\u001b[0m, in \u001b[0;36mScalarFunction.__init__\u001b[0;34m(self, fun, x0, args, grad, hess, finite_diff_rel_step, finite_diff_bounds, epsilon)\u001b[0m\n\u001b[1;32m    155\u001b[0m     \u001b[39mself\u001b[39m\u001b[39m.\u001b[39mf \u001b[39m=\u001b[39m fun_wrapped(\u001b[39mself\u001b[39m\u001b[39m.\u001b[39mx)\n\u001b[1;32m    157\u001b[0m \u001b[39mself\u001b[39m\u001b[39m.\u001b[39m_update_fun_impl \u001b[39m=\u001b[39m update_fun\n\u001b[0;32m--> 158\u001b[0m \u001b[39mself\u001b[39;49m\u001b[39m.\u001b[39;49m_update_fun()\n\u001b[1;32m    160\u001b[0m \u001b[39m# Gradient evaluation\u001b[39;00m\n\u001b[1;32m    161\u001b[0m \u001b[39mif\u001b[39;00m callable(grad):\n",
      "File \u001b[0;32m~/anaconda3/lib/python3.10/site-packages/scipy/optimize/_differentiable_functions.py:251\u001b[0m, in \u001b[0;36mScalarFunction._update_fun\u001b[0;34m(self)\u001b[0m\n\u001b[1;32m    249\u001b[0m \u001b[39mdef\u001b[39;00m \u001b[39m_update_fun\u001b[39m(\u001b[39mself\u001b[39m):\n\u001b[1;32m    250\u001b[0m     \u001b[39mif\u001b[39;00m \u001b[39mnot\u001b[39;00m \u001b[39mself\u001b[39m\u001b[39m.\u001b[39mf_updated:\n\u001b[0;32m--> 251\u001b[0m         \u001b[39mself\u001b[39;49m\u001b[39m.\u001b[39;49m_update_fun_impl()\n\u001b[1;32m    252\u001b[0m         \u001b[39mself\u001b[39m\u001b[39m.\u001b[39mf_updated \u001b[39m=\u001b[39m \u001b[39mTrue\u001b[39;00m\n",
      "File \u001b[0;32m~/anaconda3/lib/python3.10/site-packages/scipy/optimize/_differentiable_functions.py:155\u001b[0m, in \u001b[0;36mScalarFunction.__init__.<locals>.update_fun\u001b[0;34m()\u001b[0m\n\u001b[1;32m    154\u001b[0m \u001b[39mdef\u001b[39;00m \u001b[39mupdate_fun\u001b[39m():\n\u001b[0;32m--> 155\u001b[0m     \u001b[39mself\u001b[39m\u001b[39m.\u001b[39mf \u001b[39m=\u001b[39m fun_wrapped(\u001b[39mself\u001b[39;49m\u001b[39m.\u001b[39;49mx)\n",
      "File \u001b[0;32m~/anaconda3/lib/python3.10/site-packages/scipy/optimize/_differentiable_functions.py:137\u001b[0m, in \u001b[0;36mScalarFunction.__init__.<locals>.fun_wrapped\u001b[0;34m(x)\u001b[0m\n\u001b[1;32m    133\u001b[0m \u001b[39mself\u001b[39m\u001b[39m.\u001b[39mnfev \u001b[39m+\u001b[39m\u001b[39m=\u001b[39m \u001b[39m1\u001b[39m\n\u001b[1;32m    134\u001b[0m \u001b[39m# Send a copy because the user may overwrite it.\u001b[39;00m\n\u001b[1;32m    135\u001b[0m \u001b[39m# Overwriting results in undefined behaviour because\u001b[39;00m\n\u001b[1;32m    136\u001b[0m \u001b[39m# fun(self.x) will change self.x, with the two no longer linked.\u001b[39;00m\n\u001b[0;32m--> 137\u001b[0m fx \u001b[39m=\u001b[39m fun(np\u001b[39m.\u001b[39;49mcopy(x), \u001b[39m*\u001b[39;49margs)\n\u001b[1;32m    138\u001b[0m \u001b[39m# Make sure the function returns a true scalar\u001b[39;00m\n\u001b[1;32m    139\u001b[0m \u001b[39mif\u001b[39;00m \u001b[39mnot\u001b[39;00m np\u001b[39m.\u001b[39misscalar(fx):\n",
      "File \u001b[0;32m~/Desktop/github/Pillow_dGLM-HMM/code/dglm_hmm1.py:743\u001b[0m, in \u001b[0;36mdGLM_HMM1.fit.<locals>.<lambda>\u001b[0;34m(w)\u001b[0m\n\u001b[1;32m    741\u001b[0m w_flat \u001b[39m=\u001b[39m np\u001b[39m.\u001b[39mndarray\u001b[39m.\u001b[39mflatten(w[sessInd[s],k,:,\u001b[39m1\u001b[39m]) \u001b[39m# flatten weights for optimization \u001b[39;00m\n\u001b[1;32m    742\u001b[0m \u001b[39m#optimized = minimize(self.value_weight_loss_function, w_flat, args=(x[sessInd[s]:sessInd[s+1]], y[sessInd[s]:sessInd[s+1]], gammaSess[:,k], prevW, nextW, sigma[k,:]))\u001b[39;00m\n\u001b[0;32m--> 743\u001b[0m opt_val \u001b[39m=\u001b[39m \u001b[39mlambda\u001b[39;00m w: \u001b[39mself\u001b[39;49m\u001b[39m.\u001b[39;49mvalue_weight_loss_function(w, x[sessInd[s]:sessInd[s\u001b[39m+\u001b[39;49m\u001b[39m1\u001b[39;49m]], y[sessInd[s]:sessInd[s\u001b[39m+\u001b[39;49m\u001b[39m1\u001b[39;49m]], gammaSess[:,k], prevW, nextW, sigma[k,:], penaltyW\u001b[39m=\u001b[39;49mpenaltyW)\n\u001b[1;32m    744\u001b[0m opt_grad \u001b[39m=\u001b[39m \u001b[39mlambda\u001b[39;00m w: \u001b[39mself\u001b[39m\u001b[39m.\u001b[39mgrad_weight_loss_function(w, x[sessInd[s]:sessInd[s\u001b[39m+\u001b[39m\u001b[39m1\u001b[39m]], y[sessInd[s]:sessInd[s\u001b[39m+\u001b[39m\u001b[39m1\u001b[39m]], gammaSess[:,k], prevW, nextW, sigma[k,:], penaltyW\u001b[39m=\u001b[39mpenaltyW)\n\u001b[1;32m    745\u001b[0m optimized \u001b[39m=\u001b[39m minimize(opt_val, w_flat, jac\u001b[39m=\u001b[39mopt_grad, method\u001b[39m=\u001b[39m\u001b[39m'\u001b[39m\u001b[39mL-BFGS-B\u001b[39m\u001b[39m'\u001b[39m)\n",
      "File \u001b[0;32m~/Desktop/github/Pillow_dGLM-HMM/code/dglm_hmm1.py:488\u001b[0m, in \u001b[0;36mdGLM_HMM1.value_weight_loss_function\u001b[0;34m(self, currentW, x, y, gamma, prevW, nextW, sigma, penaltyW)\u001b[0m\n\u001b[1;32m    486\u001b[0m sessW \u001b[39m=\u001b[39m np\u001b[39m.\u001b[39mzeros((T, \u001b[39m1\u001b[39m, \u001b[39mself\u001b[39m\u001b[39m.\u001b[39md, \u001b[39mself\u001b[39m\u001b[39m.\u001b[39mc)) \u001b[39m# K=1\u001b[39;00m\n\u001b[1;32m    487\u001b[0m \u001b[39mfor\u001b[39;00m t \u001b[39min\u001b[39;00m \u001b[39mrange\u001b[39m(\u001b[39m0\u001b[39m,T):\n\u001b[0;32m--> 488\u001b[0m     sessW[t,\u001b[39m0\u001b[39m,:,\u001b[39m1\u001b[39m] \u001b[39m=\u001b[39m currentW[:]\n\u001b[1;32m    490\u001b[0m phi \u001b[39m=\u001b[39m \u001b[39mself\u001b[39m\u001b[39m.\u001b[39mobservation_probability(x, sessW) \u001b[39m# N x 1 x C phi matrix calculated with currentW\u001b[39;00m\n\u001b[1;32m    491\u001b[0m logPhi \u001b[39m=\u001b[39m np\u001b[39m.\u001b[39mlog(phi) \u001b[39m# natural log of observation probabilities\u001b[39;00m\n",
      "\u001b[0;31mKeyboardInterrupt\u001b[0m: "
     ]
    }
   ],
   "source": [
    "inits = 12\n",
    "L2penaltyW=1\n",
    "maxiter = 250\n",
    "\n",
    "path = pni_path\n",
    "\n",
    "N = x.shape[0]\n",
    "D = x.shape[1]\n",
    "C = 2 # only looking at binomial classes\n",
    "K = 2\n",
    "\n",
    "allP = np.zeros((inits, K, K))\n",
    "allW = np.zeros((inits, N, K, D, C))\n",
    "allLl = np.zeros((inits, maxiter))\n",
    "testLl = np.zeros((inits))\n",
    "oneSessInd = [0,N]\n",
    "dGLM_HMM = dglm_hmm1.dGLM_HMM1(N,K,D,C)\n",
    "\n",
    "weightsGLM_K2 = np.repeat(weightsGLM, 2, axis=1)\n",
    "for i in range(0,inits):\n",
    "    print(\"Init \", i)\n",
    "    # global fit\n",
    "    if (i%2 ==0):\n",
    "        initP, initW0 = dGLM_HMM.generate_param(sessInd=oneSessInd, transitionDistribution=['dirichlet', (5, 1)], weightDistribution=['uniform', (-1,1)]) \n",
    "        initW = initW0 + weightsGLM_K2\n",
    "    else:\n",
    "        initP, initW0 = dGLM_HMM.generate_param(sessInd=oneSessInd, transitionDistribution=['dirichlet', (5, 1)], weightDistribution=['normal', (0,1)]) \n",
    "        initW = initW0 + weightsGLM_K2\n",
    "    allP[i], allW[i], allLl[i] = dGLM_HMM.fit(x, y,  initP, initW, sigma=reshapeSigma(1, K, D), sessInd=oneSessInd, pi0=None, maxIter=maxiter, tol=1e-3, penaltyW=penaltyW) # sigma does not matter here\n",
    "    np.save(f'../data_PWM/trainLl-global_PWM_all-animals_sf=4_{K}_state_multiple_inits_L2penaltyW={L2penaltyW}', allLl)\n",
    "    np.save(f'../data_PWM/P-global_PWM_all-animals_sf=4_{K}_state_multiple_inits_L2penaltyW={L2penaltyW}', allP)\n",
    "    np.save(f'../data_PWM/W-global_PWM_all-animals_sf=4_{K}_state_multiple_inits_L2penaltyW={L2penaltyW}', allW)\n",
    "    \n",
    "\n",
    "    "
   ]
  },
  {
   "cell_type": "code",
   "execution_count": 7,
   "metadata": {},
   "outputs": [
    {
     "ename": "FileNotFoundError",
     "evalue": "[Errno 2] No such file or directory: '../data_PWM/W-global_PWM_all-animals_sf=3_1_state_multiple_inits_L2penaltyW=1'",
     "output_type": "error",
     "traceback": [
      "\u001b[0;31m---------------------------------------------------------------------------\u001b[0m",
      "\u001b[0;31mFileNotFoundError\u001b[0m                         Traceback (most recent call last)",
      "\u001b[1;32m/Users/lencacuturela/Desktop/Research/github/Pillow_dGLM-HMM/code/PWM_GLM-HMM.ipynb Cell 11\u001b[0m in \u001b[0;36m<cell line: 2>\u001b[0;34m()\u001b[0m\n\u001b[1;32m      <a href='vscode-notebook-cell:/Users/lencacuturela/Desktop/Research/github/Pillow_dGLM-HMM/code/PWM_GLM-HMM.ipynb#X16sZmlsZQ%3D%3D?line=0'>1</a>\u001b[0m K \u001b[39m=\u001b[39m \u001b[39m1\u001b[39m\n\u001b[0;32m----> <a href='vscode-notebook-cell:/Users/lencacuturela/Desktop/Research/github/Pillow_dGLM-HMM/code/PWM_GLM-HMM.ipynb#X16sZmlsZQ%3D%3D?line=1'>2</a>\u001b[0m allW \u001b[39m=\u001b[39m np\u001b[39m.\u001b[39;49mload(\u001b[39mf\u001b[39;49m\u001b[39m'\u001b[39;49m\u001b[39m../data_PWM/W-global_PWM_all-animals_sf=3_\u001b[39;49m\u001b[39m{\u001b[39;49;00mK\u001b[39m}\u001b[39;49;00m\u001b[39m_state_multiple_inits_L2penaltyW=1\u001b[39;49m\u001b[39m'\u001b[39;49m)\n\u001b[1;32m      <a href='vscode-notebook-cell:/Users/lencacuturela/Desktop/Research/github/Pillow_dGLM-HMM/code/PWM_GLM-HMM.ipynb#X16sZmlsZQ%3D%3D?line=2'>3</a>\u001b[0m \u001b[39mprint\u001b[39m(allW\u001b[39m.\u001b[39mshape)\n",
      "File \u001b[0;32m~/opt/anaconda3/lib/python3.9/site-packages/numpy/lib/npyio.py:417\u001b[0m, in \u001b[0;36mload\u001b[0;34m(file, mmap_mode, allow_pickle, fix_imports, encoding)\u001b[0m\n\u001b[1;32m    415\u001b[0m     own_fid \u001b[39m=\u001b[39m \u001b[39mFalse\u001b[39;00m\n\u001b[1;32m    416\u001b[0m \u001b[39melse\u001b[39;00m:\n\u001b[0;32m--> 417\u001b[0m     fid \u001b[39m=\u001b[39m stack\u001b[39m.\u001b[39menter_context(\u001b[39mopen\u001b[39;49m(os_fspath(file), \u001b[39m\"\u001b[39;49m\u001b[39mrb\u001b[39;49m\u001b[39m\"\u001b[39;49m))\n\u001b[1;32m    418\u001b[0m     own_fid \u001b[39m=\u001b[39m \u001b[39mTrue\u001b[39;00m\n\u001b[1;32m    420\u001b[0m \u001b[39m# Code to distinguish from NumPy binary files and pickles.\u001b[39;00m\n",
      "\u001b[0;31mFileNotFoundError\u001b[0m: [Errno 2] No such file or directory: '../data_PWM/W-global_PWM_all-animals_sf=3_1_state_multiple_inits_L2penaltyW=1'"
     ]
    }
   ],
   "source": [
    "K = 1\n",
    "allW = np.load(f'../data_PWM/W-global_PWM_all-animals_sf=3_{K}_state_multiple_inits_L2penaltyW=1')\n",
    "print(allW.shape)\n",
    "    "
   ]
  },
  {
   "cell_type": "markdown",
   "metadata": {},
   "source": [
    "### Per Animal global GLM-HMM fits"
   ]
  },
  {
   "cell_type": "code",
   "execution_count": null,
   "metadata": {},
   "outputs": [],
   "source": [
    "# write function to find best GLM-HMM INITALIAATIONS for each animal"
   ]
  },
  {
   "cell_type": "code",
   "execution_count": 13,
   "metadata": {},
   "outputs": [
    {
     "name": "stdout",
     "output_type": "stream",
     "text": [
      "0\n",
      "[[-0.02066336 -1.04750387  1.48845138 -0.20481824 -0.21377259 -0.3786432 ]]\n",
      "Init  0\n",
      "0\n",
      "100\n",
      "200\n",
      "Init  1\n",
      "0\n",
      "100\n",
      "200\n",
      "Init  2\n",
      "0\n",
      "Init  3\n",
      "0\n",
      "100\n",
      "Init  4\n",
      "0\n",
      "100\n",
      "Init  5\n",
      "0\n",
      "100\n",
      "Init  6\n",
      "0\n",
      "100\n",
      "200\n",
      "Init  7\n",
      "0\n",
      "100\n",
      "200\n",
      "Init  8\n",
      "0\n",
      "100\n",
      "Init  9\n",
      "0\n"
     ]
    },
    {
     "ename": "KeyboardInterrupt",
     "evalue": "",
     "output_type": "error",
     "traceback": [
      "\u001b[0;31m---------------------------------------------------------------------------\u001b[0m",
      "\u001b[0;31mKeyboardInterrupt\u001b[0m                         Traceback (most recent call last)",
      "\u001b[1;32m/Users/lencacuturela/Desktop/Research/github/Pillow_dGLM-HMM/code/PWM_GLM-HMM.ipynb Cell 14\u001b[0m in \u001b[0;36m<cell line: 32>\u001b[0;34m()\u001b[0m\n\u001b[1;32m     <a href='vscode-notebook-cell:/Users/lencacuturela/Desktop/Research/github/Pillow_dGLM-HMM/code/PWM_GLM-HMM.ipynb#X15sZmlsZQ%3D%3D?line=40'>41</a>\u001b[0m \u001b[39melse\u001b[39;00m:\n\u001b[1;32m     <a href='vscode-notebook-cell:/Users/lencacuturela/Desktop/Research/github/Pillow_dGLM-HMM/code/PWM_GLM-HMM.ipynb#X15sZmlsZQ%3D%3D?line=41'>42</a>\u001b[0m     initP, initW \u001b[39m=\u001b[39m dGLM_HMM\u001b[39m.\u001b[39mgenerate_param(sessInd\u001b[39m=\u001b[39moneSessInd, transitionDistribution\u001b[39m=\u001b[39m[\u001b[39m'\u001b[39m\u001b[39mdirichlet\u001b[39m\u001b[39m'\u001b[39m, (\u001b[39m5\u001b[39m, \u001b[39m1\u001b[39m)], weightDistribution\u001b[39m=\u001b[39m[\u001b[39m'\u001b[39m\u001b[39muniform\u001b[39m\u001b[39m'\u001b[39m, (\u001b[39m-\u001b[39m\u001b[39m2\u001b[39m,\u001b[39m2\u001b[39m)]) \n\u001b[0;32m---> <a href='vscode-notebook-cell:/Users/lencacuturela/Desktop/Research/github/Pillow_dGLM-HMM/code/PWM_GLM-HMM.ipynb#X15sZmlsZQ%3D%3D?line=42'>43</a>\u001b[0m allP[i], allW[i], allLl[i] \u001b[39m=\u001b[39m dGLM_HMM\u001b[39m.\u001b[39;49mfit(x, y,  initP, initW, sigma\u001b[39m=\u001b[39;49mreshapeSigma(\u001b[39m1\u001b[39;49m, K, D), sessInd\u001b[39m=\u001b[39;49moneSessInd, pi0\u001b[39m=\u001b[39;49m\u001b[39mNone\u001b[39;49;00m, maxIter\u001b[39m=\u001b[39;49mmaxiter, tol\u001b[39m=\u001b[39;49m\u001b[39m1e-3\u001b[39;49m, L2penaltyW\u001b[39m=\u001b[39;49mL2penaltyW) \u001b[39m# sigma does not matter here\u001b[39;00m\n\u001b[1;32m     <a href='vscode-notebook-cell:/Users/lencacuturela/Desktop/Research/github/Pillow_dGLM-HMM/code/PWM_GLM-HMM.ipynb#X15sZmlsZQ%3D%3D?line=43'>44</a>\u001b[0m np\u001b[39m.\u001b[39msave(\u001b[39mf\u001b[39m\u001b[39m'\u001b[39m\u001b[39m../data_PWM/trainLl-global_PWM_\u001b[39m\u001b[39m{\u001b[39;00mrat_id\u001b[39m}\u001b[39;00m\u001b[39m_sf=3_\u001b[39m\u001b[39m{\u001b[39;00mK\u001b[39m}\u001b[39;00m\u001b[39m_state_multiple_inits_L2penaltyW=\u001b[39m\u001b[39m{\u001b[39;00mL2penaltyW\u001b[39m}\u001b[39;00m\u001b[39m'\u001b[39m, allLl)\n\u001b[1;32m     <a href='vscode-notebook-cell:/Users/lencacuturela/Desktop/Research/github/Pillow_dGLM-HMM/code/PWM_GLM-HMM.ipynb#X15sZmlsZQ%3D%3D?line=44'>45</a>\u001b[0m np\u001b[39m.\u001b[39msave(\u001b[39mf\u001b[39m\u001b[39m'\u001b[39m\u001b[39m../data_PWM/P-global_PWM_\u001b[39m\u001b[39m{\u001b[39;00mrat_id\u001b[39m}\u001b[39;00m\u001b[39m_sf=3_\u001b[39m\u001b[39m{\u001b[39;00mK\u001b[39m}\u001b[39;00m\u001b[39m_state_multiple_inits_L2penaltyW=\u001b[39m\u001b[39m{\u001b[39;00mL2penaltyW\u001b[39m}\u001b[39;00m\u001b[39m'\u001b[39m, allP)\n",
      "File \u001b[0;32m~/Desktop/Research/github/Pillow_dGLM-HMM/code/dglm_hmm1.py:669\u001b[0m, in \u001b[0;36mdGLM_HMM1.fit\u001b[0;34m(self, x, y, initP, initW, sigma, sessInd, pi0, maxIter, tol, L2penaltyW)\u001b[0m\n\u001b[1;32m    667\u001b[0m         opt_val \u001b[39m=\u001b[39m \u001b[39mlambda\u001b[39;00m w: \u001b[39mself\u001b[39m\u001b[39m.\u001b[39mvalue_weight_loss_function(w, x[sessInd[s]:sessInd[s\u001b[39m+\u001b[39m\u001b[39m1\u001b[39m]], y[sessInd[s]:sessInd[s\u001b[39m+\u001b[39m\u001b[39m1\u001b[39m]], gammaSess[:,k], prevW, nextW, sigma[k,:], L2penaltyW\u001b[39m=\u001b[39mL2penaltyW)\n\u001b[1;32m    668\u001b[0m         opt_grad \u001b[39m=\u001b[39m \u001b[39mlambda\u001b[39;00m w: \u001b[39mself\u001b[39m\u001b[39m.\u001b[39mgrad_weight_loss_function(w, x[sessInd[s]:sessInd[s\u001b[39m+\u001b[39m\u001b[39m1\u001b[39m]], y[sessInd[s]:sessInd[s\u001b[39m+\u001b[39m\u001b[39m1\u001b[39m]], gammaSess[:,k], prevW, nextW, sigma[k,:], L2penaltyW\u001b[39m=\u001b[39mL2penaltyW)\n\u001b[0;32m--> 669\u001b[0m         optimized \u001b[39m=\u001b[39m minimize(opt_val, w_flat, jac\u001b[39m=\u001b[39;49mopt_grad, method\u001b[39m=\u001b[39;49m\u001b[39m'\u001b[39;49m\u001b[39mL-BFGS-B\u001b[39;49m\u001b[39m'\u001b[39;49m)\n\u001b[1;32m    670\u001b[0m         w[sessInd[s]:sessInd[s\u001b[39m+\u001b[39m\u001b[39m1\u001b[39m],k,:,\u001b[39m1\u001b[39m] \u001b[39m=\u001b[39m optimized\u001b[39m.\u001b[39mx \u001b[39m# updating weight w for current session\u001b[39;00m\n\u001b[1;32m    672\u001b[0m     \u001b[39m# simple optimization\u001b[39;00m\n\u001b[1;32m    673\u001b[0m     \u001b[39m# w_flat = np.ndarray.flatten(w[sessInd[s],:,:,0]) # flatten weights for optimization \u001b[39;00m\n\u001b[1;32m    674\u001b[0m     \u001b[39m# optimized = minimize(self.weight_loss_function, w_flat, args=(x[sessInd[s]:sessInd[s+1]], y[sessInd[s]:sessInd[s+1]], gammaSess, prevW, nextW, sigma))\u001b[39;00m\n\u001b[0;32m   (...)\u001b[0m\n\u001b[1;32m    702\u001b[0m \n\u001b[1;32m    703\u001b[0m \u001b[39m# M-step for transition matrix p - for all sessions together\u001b[39;00m\n",
      "File \u001b[0;32m~/opt/anaconda3/lib/python3.9/site-packages/scipy/optimize/_minimize.py:696\u001b[0m, in \u001b[0;36mminimize\u001b[0;34m(fun, x0, args, method, jac, hess, hessp, bounds, constraints, tol, callback, options)\u001b[0m\n\u001b[1;32m    693\u001b[0m     res \u001b[39m=\u001b[39m _minimize_newtoncg(fun, x0, args, jac, hess, hessp, callback,\n\u001b[1;32m    694\u001b[0m                              \u001b[39m*\u001b[39m\u001b[39m*\u001b[39moptions)\n\u001b[1;32m    695\u001b[0m \u001b[39melif\u001b[39;00m meth \u001b[39m==\u001b[39m \u001b[39m'\u001b[39m\u001b[39ml-bfgs-b\u001b[39m\u001b[39m'\u001b[39m:\n\u001b[0;32m--> 696\u001b[0m     res \u001b[39m=\u001b[39m _minimize_lbfgsb(fun, x0, args, jac, bounds,\n\u001b[1;32m    697\u001b[0m                            callback\u001b[39m=\u001b[39;49mcallback, \u001b[39m*\u001b[39;49m\u001b[39m*\u001b[39;49moptions)\n\u001b[1;32m    698\u001b[0m \u001b[39melif\u001b[39;00m meth \u001b[39m==\u001b[39m \u001b[39m'\u001b[39m\u001b[39mtnc\u001b[39m\u001b[39m'\u001b[39m:\n\u001b[1;32m    699\u001b[0m     res \u001b[39m=\u001b[39m _minimize_tnc(fun, x0, args, jac, bounds, callback\u001b[39m=\u001b[39mcallback,\n\u001b[1;32m    700\u001b[0m                         \u001b[39m*\u001b[39m\u001b[39m*\u001b[39moptions)\n",
      "File \u001b[0;32m~/opt/anaconda3/lib/python3.9/site-packages/scipy/optimize/_lbfgsb_py.py:359\u001b[0m, in \u001b[0;36m_minimize_lbfgsb\u001b[0;34m(fun, x0, args, jac, bounds, disp, maxcor, ftol, gtol, eps, maxfun, maxiter, iprint, callback, maxls, finite_diff_rel_step, **unknown_options)\u001b[0m\n\u001b[1;32m    353\u001b[0m task_str \u001b[39m=\u001b[39m task\u001b[39m.\u001b[39mtobytes()\n\u001b[1;32m    354\u001b[0m \u001b[39mif\u001b[39;00m task_str\u001b[39m.\u001b[39mstartswith(\u001b[39mb\u001b[39m\u001b[39m'\u001b[39m\u001b[39mFG\u001b[39m\u001b[39m'\u001b[39m):\n\u001b[1;32m    355\u001b[0m     \u001b[39m# The minimization routine wants f and g at the current x.\u001b[39;00m\n\u001b[1;32m    356\u001b[0m     \u001b[39m# Note that interruptions due to maxfun are postponed\u001b[39;00m\n\u001b[1;32m    357\u001b[0m     \u001b[39m# until the completion of the current minimization iteration.\u001b[39;00m\n\u001b[1;32m    358\u001b[0m     \u001b[39m# Overwrite f and g:\u001b[39;00m\n\u001b[0;32m--> 359\u001b[0m     f, g \u001b[39m=\u001b[39m func_and_grad(x)\n\u001b[1;32m    360\u001b[0m \u001b[39melif\u001b[39;00m task_str\u001b[39m.\u001b[39mstartswith(\u001b[39mb\u001b[39m\u001b[39m'\u001b[39m\u001b[39mNEW_X\u001b[39m\u001b[39m'\u001b[39m):\n\u001b[1;32m    361\u001b[0m     \u001b[39m# new iteration\u001b[39;00m\n\u001b[1;32m    362\u001b[0m     n_iterations \u001b[39m+\u001b[39m\u001b[39m=\u001b[39m \u001b[39m1\u001b[39m\n",
      "File \u001b[0;32m~/opt/anaconda3/lib/python3.9/site-packages/scipy/optimize/_differentiable_functions.py:286\u001b[0m, in \u001b[0;36mScalarFunction.fun_and_grad\u001b[0;34m(self, x)\u001b[0m\n\u001b[1;32m    284\u001b[0m     \u001b[39mself\u001b[39m\u001b[39m.\u001b[39m_update_x_impl(x)\n\u001b[1;32m    285\u001b[0m \u001b[39mself\u001b[39m\u001b[39m.\u001b[39m_update_fun()\n\u001b[0;32m--> 286\u001b[0m \u001b[39mself\u001b[39;49m\u001b[39m.\u001b[39;49m_update_grad()\n\u001b[1;32m    287\u001b[0m \u001b[39mreturn\u001b[39;00m \u001b[39mself\u001b[39m\u001b[39m.\u001b[39mf, \u001b[39mself\u001b[39m\u001b[39m.\u001b[39mg\n",
      "File \u001b[0;32m~/opt/anaconda3/lib/python3.9/site-packages/scipy/optimize/_differentiable_functions.py:256\u001b[0m, in \u001b[0;36mScalarFunction._update_grad\u001b[0;34m(self)\u001b[0m\n\u001b[1;32m    254\u001b[0m \u001b[39mdef\u001b[39;00m \u001b[39m_update_grad\u001b[39m(\u001b[39mself\u001b[39m):\n\u001b[1;32m    255\u001b[0m     \u001b[39mif\u001b[39;00m \u001b[39mnot\u001b[39;00m \u001b[39mself\u001b[39m\u001b[39m.\u001b[39mg_updated:\n\u001b[0;32m--> 256\u001b[0m         \u001b[39mself\u001b[39;49m\u001b[39m.\u001b[39;49m_update_grad_impl()\n\u001b[1;32m    257\u001b[0m         \u001b[39mself\u001b[39m\u001b[39m.\u001b[39mg_updated \u001b[39m=\u001b[39m \u001b[39mTrue\u001b[39;00m\n",
      "File \u001b[0;32m~/opt/anaconda3/lib/python3.9/site-packages/scipy/optimize/_differentiable_functions.py:167\u001b[0m, in \u001b[0;36mScalarFunction.__init__.<locals>.update_grad\u001b[0;34m()\u001b[0m\n\u001b[1;32m    166\u001b[0m \u001b[39mdef\u001b[39;00m \u001b[39mupdate_grad\u001b[39m():\n\u001b[0;32m--> 167\u001b[0m     \u001b[39mself\u001b[39m\u001b[39m.\u001b[39mg \u001b[39m=\u001b[39m grad_wrapped(\u001b[39mself\u001b[39;49m\u001b[39m.\u001b[39;49mx)\n",
      "File \u001b[0;32m~/opt/anaconda3/lib/python3.9/site-packages/scipy/optimize/_differentiable_functions.py:164\u001b[0m, in \u001b[0;36mScalarFunction.__init__.<locals>.grad_wrapped\u001b[0;34m(x)\u001b[0m\n\u001b[1;32m    162\u001b[0m \u001b[39mdef\u001b[39;00m \u001b[39mgrad_wrapped\u001b[39m(x):\n\u001b[1;32m    163\u001b[0m     \u001b[39mself\u001b[39m\u001b[39m.\u001b[39mngev \u001b[39m+\u001b[39m\u001b[39m=\u001b[39m \u001b[39m1\u001b[39m\n\u001b[0;32m--> 164\u001b[0m     \u001b[39mreturn\u001b[39;00m np\u001b[39m.\u001b[39matleast_1d(grad(np\u001b[39m.\u001b[39;49mcopy(x), \u001b[39m*\u001b[39;49margs))\n",
      "File \u001b[0;32m~/Desktop/Research/github/Pillow_dGLM-HMM/code/dglm_hmm1.py:668\u001b[0m, in \u001b[0;36mdGLM_HMM1.fit.<locals>.<lambda>\u001b[0;34m(w)\u001b[0m\n\u001b[1;32m    666\u001b[0m \u001b[39m#optimized = minimize(self.value_weight_loss_function, w_flat, args=(x[sessInd[s]:sessInd[s+1]], y[sessInd[s]:sessInd[s+1]], gammaSess[:,k], prevW, nextW, sigma[k,:]))\u001b[39;00m\n\u001b[1;32m    667\u001b[0m opt_val \u001b[39m=\u001b[39m \u001b[39mlambda\u001b[39;00m w: \u001b[39mself\u001b[39m\u001b[39m.\u001b[39mvalue_weight_loss_function(w, x[sessInd[s]:sessInd[s\u001b[39m+\u001b[39m\u001b[39m1\u001b[39m]], y[sessInd[s]:sessInd[s\u001b[39m+\u001b[39m\u001b[39m1\u001b[39m]], gammaSess[:,k], prevW, nextW, sigma[k,:], L2penaltyW\u001b[39m=\u001b[39mL2penaltyW)\n\u001b[0;32m--> 668\u001b[0m opt_grad \u001b[39m=\u001b[39m \u001b[39mlambda\u001b[39;00m w: \u001b[39mself\u001b[39;49m\u001b[39m.\u001b[39;49mgrad_weight_loss_function(w, x[sessInd[s]:sessInd[s\u001b[39m+\u001b[39;49m\u001b[39m1\u001b[39;49m]], y[sessInd[s]:sessInd[s\u001b[39m+\u001b[39;49m\u001b[39m1\u001b[39;49m]], gammaSess[:,k], prevW, nextW, sigma[k,:], L2penaltyW\u001b[39m=\u001b[39;49mL2penaltyW)\n\u001b[1;32m    669\u001b[0m optimized \u001b[39m=\u001b[39m minimize(opt_val, w_flat, jac\u001b[39m=\u001b[39mopt_grad, method\u001b[39m=\u001b[39m\u001b[39m'\u001b[39m\u001b[39mL-BFGS-B\u001b[39m\u001b[39m'\u001b[39m)\n\u001b[1;32m    670\u001b[0m w[sessInd[s]:sessInd[s\u001b[39m+\u001b[39m\u001b[39m1\u001b[39m],k,:,\u001b[39m1\u001b[39m] \u001b[39m=\u001b[39m optimized\u001b[39m.\u001b[39mx \u001b[39m# updating weight w for current session\u001b[39;00m\n",
      "File \u001b[0;32m~/Desktop/Research/github/Pillow_dGLM-HMM/code/dglm_hmm1.py:563\u001b[0m, in \u001b[0;36mdGLM_HMM1.grad_weight_loss_function\u001b[0;34m(self, currentW, x, y, gamma, prevW, nextW, sigma, L2penaltyW)\u001b[0m\n\u001b[1;32m    561\u001b[0m grad \u001b[39m=\u001b[39m np\u001b[39m.\u001b[39mzeros((\u001b[39mself\u001b[39m\u001b[39m.\u001b[39md))\n\u001b[1;32m    562\u001b[0m \u001b[39mfor\u001b[39;00m t \u001b[39min\u001b[39;00m \u001b[39mrange\u001b[39m(\u001b[39m0\u001b[39m, T):\n\u001b[0;32m--> 563\u001b[0m     grad \u001b[39m+\u001b[39m\u001b[39m=\u001b[39m gamma[t] \u001b[39m*\u001b[39m (softplus_deriv(\u001b[39m-\u001b[39;49mx[t] \u001b[39m@\u001b[39;49m currentW) \u001b[39m-\u001b[39m y[t]) \u001b[39m*\u001b[39m x[t]\n\u001b[1;32m    565\u001b[0m \u001b[39m# sigma=0 together with session indices [0,N] means usual GLM-HMM\u001b[39;00m\n\u001b[1;32m    566\u001b[0m \u001b[39m# inverse of covariance matrix\u001b[39;00m\n\u001b[1;32m    567\u001b[0m invSigma \u001b[39m=\u001b[39m np\u001b[39m.\u001b[39msquare(\u001b[39m1\u001b[39m\u001b[39m/\u001b[39msigma[:])\n",
      "\u001b[0;31mKeyboardInterrupt\u001b[0m: "
     ]
    }
   ],
   "source": [
    "rat_id = 'W075'\n",
    "animal = 'W075'\n",
    "folds = 4\n",
    "x, y = io_utils.prepare_design_matrices(rat_id=animal, path=laptop_path, psychometric=True, cutoff=10, stage_filter=3, overwrite=False)\n",
    "sessInd = list(io_utils.session_start(rat_id=animal, path=laptop_path, psychometric=True, cutoff=10, stage_filter=3))\n",
    "\n",
    "N = x.shape[0]\n",
    "D = x.shape[1]\n",
    "C = 2 # only looking at binomial classes\n",
    "oneSessInd = [0,N]\n",
    "maxiter=250\n",
    "L2penaltyW = 1\n",
    "\n",
    "# GLM FIT\n",
    "K = 1\n",
    "dGLM_HMM = dglm_hmm1.dGLM_HMM1(N,K,D,C)\n",
    "initP0, initW0 = dGLM_HMM.generate_param(sessInd=oneSessInd, transitionDistribution=['dirichlet', (5, 1)], weightDistribution=['uniform', (-2,2)]) \n",
    "glmP, glmW, glmLl = dGLM_HMM.fit(x, y,  initP0, initW0, sigma=reshapeSigma(1, K, D), sessInd=oneSessInd, pi0=None, maxIter=maxiter, tol=1e-3, L2penaltyW=L2penaltyW) # sigma does not matter here\n",
    "print(glmW[0,:,:,1])\n",
    "\n",
    "# multiple initializations for GLM-HMM fit \n",
    "K = 2\n",
    "inits = 12\n",
    "allP = np.zeros((inits, K, K))\n",
    "allW = np.zeros((inits, N, K, D, C))\n",
    "allLl = np.zeros((inits, maxiter))\n",
    "testLl = np.zeros((inits))\n",
    "oneSessInd = [0,N]\n",
    "dGLM_HMM = dglm_hmm1.dGLM_HMM1(N,K,D,C)\n",
    "\n",
    "weightsGLM_K2 = np.repeat(glmW, K, axis=1)\n",
    "for i in range(0,inits):\n",
    "    print(\"Init \", i)\n",
    "    # global fit\n",
    "    if (i%3 ==0):\n",
    "        initP, initW0 = dGLM_HMM.generate_param(sessInd=oneSessInd, transitionDistribution=['dirichlet', (5, 1)], weightDistribution=['uniform', (-1,1)]) \n",
    "        initW = initW0 + weightsGLM_K2\n",
    "    elif (i%3==1):\n",
    "        initP, initW0 = dGLM_HMM.generate_param(sessInd=oneSessInd, transitionDistribution=['dirichlet', (5, 1)], weightDistribution=['normal', (0,1)]) \n",
    "        initW = initW0 + weightsGLM_K2\n",
    "    else:\n",
    "        initP, initW = dGLM_HMM.generate_param(sessInd=oneSessInd, transitionDistribution=['dirichlet', (5, 1)], weightDistribution=['uniform', (-2,2)]) \n",
    "    allP[i], allW[i], allLl[i] = dGLM_HMM.fit(x, y,  initP, initW, sigma=reshapeSigma(1, K, D), sessInd=oneSessInd, pi0=None, maxIter=maxiter, tol=1e-3, L2penaltyW=L2penaltyW) # sigma does not matter here\n",
    "    np.save(f'../data_PWM/trainLl-global_PWM_{rat_id}_sf=3_{K}_state_multiple_inits_L2penaltyW={L2penaltyW}', allLl)\n",
    "    np.save(f'../data_PWM/P-global_PWM_{rat_id}_sf=3_{K}_state_multiple_inits_L2penaltyW={L2penaltyW}', allP)\n",
    "    np.save(f'../data_PWM/W-global_PWM_{rat_id}_sf=3_{K}_state_multiple_inits_L2penaltyW={L2penaltyW}', allW)\n",
    "    "
   ]
  },
  {
   "cell_type": "code",
   "execution_count": 6,
   "metadata": {},
   "outputs": [],
   "source": [
    "rat_id = 'W075'\n",
    "K=2\n",
    "L2penaltyW=1\n",
    "allLl = np.load(f'../data_PWM/trainLl-global_PWM_{rat_id}_sf=3_{K}_state_multiple_inits_L2penaltyW={L2penaltyW}.npy')\n",
    "allP = np.load(f'../data_PWM/P-global_PWM_{rat_id}_sf=3_{K}_state_multiple_inits_L2penaltyW={L2penaltyW}.npy')\n",
    "allW = np.load(f'../data_PWM/W-global_PWM_{rat_id}_sf=3_{K}_state_multiple_inits_L2penaltyW={L2penaltyW}.npy')"
   ]
  },
  {
   "cell_type": "code",
   "execution_count": 16,
   "metadata": {},
   "outputs": [
    {
     "name": "stdout",
     "output_type": "stream",
     "text": [
      "[2 4]\n"
     ]
    },
    {
     "data": {
      "image/png": "[encoded data removed]",
      "text/plain": [
       "<Figure size 432x288 with 1 Axes>"
      ]
     },
     "metadata": {
      "needs_background": "light"
     },
     "output_type": "display_data"
    }
   ],
   "source": [
    "fig, axes = plt.subplots(1)\n",
    "bestInd, finalLl, topInd = find_top_init_plot_loglikelihoods(allLl[0:9],maxdiff=0.2,ax=axes,startix=5,plot=True)\n",
    "print(topInd)"
   ]
  },
  {
   "cell_type": "code",
   "execution_count": 17,
   "metadata": {},
   "outputs": [
    {
     "name": "stdout",
     "output_type": "stream",
     "text": [
      "[-0.54446681 -0.54427411 -0.54926423 -0.54605246 -0.54926393 -0.54605491\n",
      " -0.54465972 -0.54435333 -0.54439957]\n",
      "(9,)\n",
      "[-72731.25843454 -72730.53100786 -72680.06840354 -72907.90030703\n",
      " -72680.06866169 -72907.82501329 -72733.56773941 -72733.59553102\n",
      " -72730.67522002]\n"
     ]
    }
   ],
   "source": [
    "rat_id = 'W075'\n",
    "path=laptop_path\n",
    "fold = 0\n",
    "stage_filter = 3\n",
    "folds = 4\n",
    "x, y = io_utils.prepare_design_matrices(rat_id=rat_id, path=path, psychometric=True, cutoff=10, stage_filter=stage_filter, overwrite=False)\n",
    "sessInd = list(io_utils.session_start(rat_id=rat_id, path=path, psychometric=True, cutoff=10, stage_filter=stage_filter)) \n",
    "trainX, trainY, trainSessInd, testX, testY, testSessInd = split_data_per_session(x, y, sessInd, folds=folds, random_state=1)\n",
    "D = trainX[0].shape[1]\n",
    "C = 2 # only looking at binomial classes\n",
    "K = 2\n",
    "oldSessInd = [0, allW[2].shape[0]]\n",
    "testLlInit = np.zeros((9))\n",
    "N = trainX[fold].shape[0]\n",
    "dGLM_HMM = dglm_hmm1.dGLM_HMM1(N,K,D,C)\n",
    "trainY[fold] = trainY[fold].astype(int)\n",
    "testY[fold] = testY[fold].astype(int)\n",
    "# evaluate\n",
    "for ind in range(0,9):\n",
    "    sess = len(testSessInd[fold]) - 1 # number sessions\n",
    "    testPhi = dGLM_HMM.observation_probability(testX[fold], reshapeWeights(allW[ind], oldSessInd, testSessInd[fold], True))\n",
    "    for s in range(0, sess):\n",
    "        # evaluate on test data for each session separately\n",
    "        _, _, temp = dGLM_HMM.forward_pass(testY[fold][testSessInd[fold][s]:testSessInd[fold][s+1]],allP[ind],testPhi[testSessInd[fold][s]:testSessInd[fold][s+1]])\n",
    "        testLlInit[ind] += temp\n",
    "\n",
    "testLlInit = testLlInit / testSessInd[fold][-1] # normalizing to the total number of trials in test dataset\n",
    "print(testLlInit)\n",
    "print(finalLl.shape)\n",
    "trainLlInit = finalLl \n",
    "print(trainLlInit)"
   ]
  },
  {
   "cell_type": "code",
   "execution_count": 19,
   "metadata": {},
   "outputs": [
    {
     "name": "stdout",
     "output_type": "stream",
     "text": [
      "[[[[ 0.         -0.03995084]\n",
      "   [ 0.         -1.2224458 ]\n",
      "   [ 0.          1.67129189]\n",
      "   [ 0.         -0.23273413]\n",
      "   [ 0.         -0.17079253]\n",
      "   [ 0.         -0.32119218]]\n",
      "\n",
      "  [[ 0.          0.04025063]\n",
      "   [ 0.         -0.30774395]\n",
      "   [ 0.          0.818934  ]\n",
      "   [ 0.         -0.14915913]\n",
      "   [ 0.         -0.50921711]\n",
      "   [ 0.         -0.73993549]]]\n",
      "\n",
      "\n",
      " [[[ 0.         -0.03995084]\n",
      "   [ 0.         -1.2224458 ]\n",
      "   [ 0.          1.67129189]\n",
      "   [ 0.         -0.23273413]\n",
      "   [ 0.         -0.17079253]\n",
      "   [ 0.         -0.32119218]]\n",
      "\n",
      "  [[ 0.          0.04025063]\n",
      "   [ 0.         -0.30774395]\n",
      "   [ 0.          0.818934  ]\n",
      "   [ 0.         -0.14915913]\n",
      "   [ 0.         -0.50921711]\n",
      "   [ 0.         -0.73993549]]]\n",
      "\n",
      "\n",
      " [[[ 0.         -0.03995084]\n",
      "   [ 0.         -1.2224458 ]\n",
      "   [ 0.          1.67129189]\n",
      "   [ 0.         -0.23273413]\n",
      "   [ 0.         -0.17079253]\n",
      "   [ 0.         -0.32119218]]\n",
      "\n",
      "  [[ 0.          0.04025063]\n",
      "   [ 0.         -0.30774395]\n",
      "   [ 0.          0.818934  ]\n",
      "   [ 0.         -0.14915913]\n",
      "   [ 0.         -0.50921711]\n",
      "   [ 0.         -0.73993549]]]\n",
      "\n",
      "\n",
      " ...\n",
      "\n",
      "\n",
      " [[[ 0.         -0.03995084]\n",
      "   [ 0.         -1.2224458 ]\n",
      "   [ 0.          1.67129189]\n",
      "   [ 0.         -0.23273413]\n",
      "   [ 0.         -0.17079253]\n",
      "   [ 0.         -0.32119218]]\n",
      "\n",
      "  [[ 0.          0.04025063]\n",
      "   [ 0.         -0.30774395]\n",
      "   [ 0.          0.818934  ]\n",
      "   [ 0.         -0.14915913]\n",
      "   [ 0.         -0.50921711]\n",
      "   [ 0.         -0.73993549]]]\n",
      "\n",
      "\n",
      " [[[ 0.         -0.03995084]\n",
      "   [ 0.         -1.2224458 ]\n",
      "   [ 0.          1.67129189]\n",
      "   [ 0.         -0.23273413]\n",
      "   [ 0.         -0.17079253]\n",
      "   [ 0.         -0.32119218]]\n",
      "\n",
      "  [[ 0.          0.04025063]\n",
      "   [ 0.         -0.30774395]\n",
      "   [ 0.          0.818934  ]\n",
      "   [ 0.         -0.14915913]\n",
      "   [ 0.         -0.50921711]\n",
      "   [ 0.         -0.73993549]]]\n",
      "\n",
      "\n",
      " [[[ 0.         -0.03995084]\n",
      "   [ 0.         -1.2224458 ]\n",
      "   [ 0.          1.67129189]\n",
      "   [ 0.         -0.23273413]\n",
      "   [ 0.         -0.17079253]\n",
      "   [ 0.         -0.32119218]]\n",
      "\n",
      "  [[ 0.          0.04025063]\n",
      "   [ 0.         -0.30774395]\n",
      "   [ 0.          0.818934  ]\n",
      "   [ 0.         -0.14915913]\n",
      "   [ 0.         -0.50921711]\n",
      "   [ 0.         -0.73993549]]]]\n"
     ]
    }
   ],
   "source": [
    "print(allW[2])"
   ]
  }
 ],
 "metadata": {
  "kernelspec": {
   "display_name": "base",
   "language": "python",
   "name": "python3"
  },
  "language_info": {
   "codemirror_mode": {
    "name": "ipython",
    "version": 3
   },
   "file_extension": ".py",
   "mimetype": "text/x-python",
   "name": "python",
   "nbconvert_exporter": "python",
   "pygments_lexer": "ipython3",
   "version": "3.9.12"
  },
  "orig_nbformat": 4
 },
 "nbformat": 4,
 "nbformat_minor": 2
}
