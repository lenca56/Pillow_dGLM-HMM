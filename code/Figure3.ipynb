{
 "cells": [
  {
   "cell_type": "code",
   "execution_count": 1,
   "metadata": {},
   "outputs": [],
   "source": [
    "# importing packages and modules\n",
    "import numpy as np\n",
    "#import autograd.numpy as jnp\n",
    "import matplotlib as mpl\n",
    "import scipy.stats as stats\n",
    "from scipy.optimize import minimize, check_grad\n",
    "from utils import *\n",
    "from plotting_utils import *\n",
    "from analysis_utils import *\n",
    "import dglm_hmm1, dglm_hmm2\n",
    "from scipy.stats import multivariate_normal, norm\n",
    "#from autograd import value_and_grad\n",
    "\n",
    "colormap = ['rebeccapurple','teal','darkturquoise','springgreen']\n",
    "sns.set_context(\"talk\")"
   ]
  },
  {
   "cell_type": "code",
   "execution_count": 3,
   "metadata": {},
   "outputs": [],
   "source": [
    "exampleSubject = 'ibl_witten_15'"
   ]
  }
 ],
 "metadata": {
  "kernelspec": {
   "display_name": "base",
   "language": "python",
   "name": "python3"
  },
  "language_info": {
   "codemirror_mode": {
    "name": "ipython",
    "version": 3
   },
   "file_extension": ".py",
   "mimetype": "text/x-python",
   "name": "python",
   "nbconvert_exporter": "python",
   "pygments_lexer": "ipython3",
   "version": "3.9.12"
  },
  "orig_nbformat": 4
 },
 "nbformat": 4,
 "nbformat_minor": 2
}
