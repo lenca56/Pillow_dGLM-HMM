{
 "cells": [
  {
   "cell_type": "code",
   "execution_count": 1,
   "metadata": {},
   "outputs": [],
   "source": [
    "# importing packages and modules\n",
    "import pandas as pd \n",
    "import numpy as np\n",
    "import matplotlib.pyplot as plt\n",
    "import scipy.stats as stats\n",
    "from scipy.optimize import minimize\n",
    "from utils import *\n",
    "from plotting_utils import *\n",
    "import dglm_hmm1\n",
    "from scipy.stats import multivariate_normal"
   ]
  },
  {
   "cell_type": "code",
   "execution_count": 2,
   "metadata": {},
   "outputs": [],
   "source": [
    "# setting hyperparameters\n",
    "S = 10 # sessions\n",
    "T = 500 # trials per session\n",
    "N = T * S # total data points\n",
    "C = 2 # classes\n",
    "K = 2 # states\n",
    "D = 2 # features (sensory & bias)"
   ]
  },
  {
   "cell_type": "code",
   "execution_count": 3,
   "metadata": {},
   "outputs": [
    {
     "name": "stdout",
     "output_type": "stream",
     "text": [
      "True Transition Matrix P\n",
      "[[0.97 0.03]\n",
      " [0.05 0.95]]\n"
     ]
    }
   ],
   "source": [
    "# True Transition Matrix\n",
    "trueP = np.zeros((2,2))\n",
    "trueP[0,0]=0.97\n",
    "trueP[0,1]=0.03\n",
    "trueP[1,0]=.05\n",
    "trueP[1,1]=.95\n",
    "print(\"True Transition Matrix P\")\n",
    "print(trueP)"
   ]
  },
  {
   "cell_type": "code",
   "execution_count": 4,
   "metadata": {},
   "outputs": [
    {
     "name": "stdout",
     "output_type": "stream",
     "text": [
      "Session indicies\n",
      "[0, 500, 1000, 1500, 2000, 2500, 3000, 3500, 4000, 4500, 5000]\n"
     ]
    },
    {
     "data": {
      "image/png": "[encoded data removed]",
      "text/plain": [
       "<Figure size 432x288 with 1 Axes>"
      ]
     },
     "metadata": {
      "needs_background": "light"
     },
     "output_type": "display_data"
    },
    {
     "name": "stdout",
     "output_type": "stream",
     "text": [
      "(5000, 2, 2, 2)\n"
     ]
    }
   ],
   "source": [
    "# True Weights and Session Start Indices\n",
    "ourW = np.zeros((S,K,D))\n",
    "ourW[:,0,1] = np.linspace(0,2,S) # state 1 sensory (increasing)\n",
    "ourW[:,0,0] = np.linspace(1,0,S) # state 1 bias (decreasing)\n",
    "ourW[:,1,1] = 0 # state 2 sensory (flat 0)\n",
    "ourW[:,1,0] = 1 # state 2 bias (flat 1)\n",
    "trueW = np.zeros((N,K,D,C))\n",
    "# change weight format to have session*trials points\n",
    "sessInd = []\n",
    "for sess in range(0,S):\n",
    "    sessInd.append(sess*T)\n",
    "    for t in range(0,T):\n",
    "        trueW[sess*T+t,:,:,0] = ourW[sess,:,:]\n",
    "sessInd.append(N)\n",
    "print(\"Session indicies\")\n",
    "print(sessInd)\n",
    "plotting_weights(trueW,sessInd,'true weights')\n",
    "print(trueW.shape)"
   ]
  },
  {
   "cell_type": "code",
   "execution_count": 5,
   "metadata": {},
   "outputs": [],
   "source": [
    "# initialize object\n",
    "dGLM_HMM = dglm_hmm1.dGLM_HMM1(N,K,D,C)"
   ]
  },
  {
   "cell_type": "code",
   "execution_count": 6,
   "metadata": {},
   "outputs": [],
   "source": [
    "# simualating data from true weight and transition matrices\n",
    "simX, simY, simZ = dGLM_HMM.simulate_data(trueW, trueP, sessInd)\n",
    "simPhi = dGLM_HMM.observation_probability(simX, trueW)"
   ]
  },
  {
   "cell_type": "code",
   "execution_count": 7,
   "metadata": {},
   "outputs": [
    {
     "name": "stdout",
     "output_type": "stream",
     "text": [
      "[[[0.37574265 0.00762853]\n",
      "  [0.04576937 0.57085945]]\n",
      "\n",
      " [[0.41503866 0.00647337]\n",
      "  [0.05466833 0.52381964]]\n",
      "\n",
      " [[0.46229892 0.00740807]\n",
      "  [0.04890048 0.48139253]]\n",
      "\n",
      " ...\n",
      "\n",
      " [[0.73304601 0.02128834]\n",
      "  [0.01303901 0.23262663]]\n",
      "\n",
      " [[0.72413489 0.02195013]\n",
      "  [0.01294045 0.24097453]]\n",
      "\n",
      " [[0.71746408 0.01961127]\n",
      "  [0.01477746 0.2481472 ]]]\n"
     ]
    }
   ],
   "source": [
    "alpha, ct, ll = dGLM_HMM.forward_pass(simY[2000:2500], trueP, simPhi[2000:2500,:,:])\n",
    "beta = dGLM_HMM.backward_pass(simY[2000:2500,], trueP, simPhi[2000:2500,:,:], ct)\n",
    "gamma, zeta = dGLM_HMM.posteriorLatents(simY[2000:2500], trueP, simPhi[2000:2500,:], alpha, beta, ct)\n",
    "print(zeta)"
   ]
  },
  {
   "cell_type": "code",
   "execution_count": 27,
   "metadata": {},
   "outputs": [],
   "source": [
    "initP, initW = dGLM_HMM.generate_param(sessInd=sessInd, transitionDistribution=['dirichlet', (5, 1)], weightDistribution=['normal', (0,1)])"
   ]
  }
 ],
 "metadata": {
  "kernelspec": {
   "display_name": "glmhmm",
   "language": "python",
   "name": "python3"
  },
  "language_info": {
   "codemirror_mode": {
    "name": "ipython",
    "version": 3
   },
   "file_extension": ".py",
   "mimetype": "text/x-python",
   "name": "python",
   "nbconvert_exporter": "python",
   "pygments_lexer": "ipython3",
   "version": "3.7.3"
  },
  "orig_nbformat": 4,
  "vscode": {
   "interpreter": {
    "hash": "1d640932c2a2c517cdbbece3f152ca5b28ed3faaa2a397b6e105b7071e77c91f"
   }
  }
 },
 "nbformat": 4,
 "nbformat_minor": 2
}
