{
 "cells": [
  {
   "cell_type": "code",
   "execution_count": 2,
   "metadata": {},
   "outputs": [],
   "source": [
    "# importing packages and modules\n",
    "import pandas as pd \n",
    "import numpy as np\n",
    "from pathlib import Path\n",
    "import math\n",
    "import pickle\n",
    "import matplotlib.pyplot as plt\n",
    "import scipy.stats as stats\n",
    "from scipy.optimize import minimize\n",
    "from utils import *\n",
    "from plotting_utils import *\n",
    "from scipy.stats import multivariate_normal\n"
   ]
  },
  {
   "cell_type": "code",
   "execution_count": 3,
   "metadata": {},
   "outputs": [
    {
     "name": "stdout",
     "output_type": "stream",
     "text": [
      "True Transition Matrix P\n",
      "[[0.97 0.03]\n",
      " [0.05 0.95]]\n"
     ]
    }
   ],
   "source": [
    "trueP = np.zeros((2,2))\n",
    "trueP[0,0]=0.97\n",
    "trueP[0,1]=0.03\n",
    "trueP[1,0]=.05\n",
    "trueP[1,1]=.95\n",
    "print(\"True Transition Matrix P\")\n",
    "print(trueP)"
   ]
  },
  {
   "cell_type": "code",
   "execution_count": 4,
   "metadata": {},
   "outputs": [
    {
     "name": "stdout",
     "output_type": "stream",
     "text": [
      "Session indicies\n",
      "[0, 500, 1000, 1500, 2000, 2500, 3000, 3500, 4000, 4500, 5000]\n"
     ]
    },
    {
     "data": {
      "image/png": "[encoded data removed]",
      "text/plain": [
       "<Figure size 432x288 with 1 Axes>"
      ]
     },
     "metadata": {
      "needs_background": "light"
     },
     "output_type": "display_data"
    }
   ],
   "source": [
    "S = 10 # sessions\n",
    "T = 500 # trials per session\n",
    "N = T * S\n",
    "C = 2 # classes\n",
    "K = 2 # states\n",
    "D = 2 # features (sensory & bias)\n",
    "ourW = np.zeros((S,K,D))\n",
    "ourW[:,0,1] = np.linspace(0,2,S) # state 1 sensory (increasing)\n",
    "ourW[:,0,0] = np.linspace(1,0,S) # state 1 bias (decreasing)\n",
    "ourW[:,1,1] = 0 # state 2 sensory (flat 0)\n",
    "ourW[:,1,0] = 1 # state 2 bias (flat 1)\n",
    "trueW = np.zeros((N,K,D,C))\n",
    "# change weight format to have session*trials points\n",
    "sessInd = []\n",
    "for sess in range(0,S):\n",
    "    sessInd.append(sess*T)\n",
    "    for t in range(0,T):\n",
    "        trueW[sess*T+t,:,:,0] = ourW[sess,:,:]\n",
    "sessInd.append(N)\n",
    "print(\"Session indicies\")\n",
    "print(sessInd)\n",
    "plotting_weights(trueW,sessInd,'true weights')\n",
    "\n"
   ]
  },
  {
   "cell_type": "code",
   "execution_count": 5,
   "metadata": {},
   "outputs": [],
   "source": [
    "# Iris' code has reversed columns\n",
    "def emission_probability(x, w,  z=None, latents=False):\n",
    "    '''\n",
    "    Calculating emission probabilities for each session\n",
    "\n",
    "    Parameters\n",
    "    ----------\n",
    "    x: N x D numpy array\n",
    "    z: N x 1 numpy array\n",
    "    w: N x K x D x C numpy array\n",
    "\n",
    "    Returns\n",
    "    -------\n",
    "    phi: N x K x C numpy array\n",
    "        emission probabilities\n",
    "    '''\n",
    "    N = x.shape[0]\n",
    "    D = x.shape[1]\n",
    "    K = w.shape[1]\n",
    "    phi = np.empty((N,K,C)) # probability that it is state 1\n",
    "    for k in range(0,K):\n",
    "        for c in range(0,C):\n",
    "            phi[:,k,c] = np.exp(-np.sum(w[:,k,:,c]*x,axis=1))\n",
    "        phi[:,k,:]  = np.divide((phi[:,k,:]).T,np.sum(phi[:,k,:],axis=1)).T     \n",
    "\n",
    "    return phi"
   ]
  },
  {
   "cell_type": "code",
   "execution_count": 11,
   "metadata": {},
   "outputs": [
    {
     "name": "stdout",
     "output_type": "stream",
     "text": [
      "[[ 1.         -0.93164315]\n",
      " [ 1.          1.37549201]\n",
      " [ 1.          0.3867198 ]\n",
      " ...\n",
      " [ 1.         -0.82177957]\n",
      " [ 1.         -0.27246168]\n",
      " [ 1.          0.82617412]]\n"
     ]
    }
   ],
   "source": [
    "def simulate_data(trueW, trueP, priorZstart, sessInd, save=False):\n",
    "    '''\n",
    "    function that simulates X and Y data from true weights and true transition matrix\n",
    "    S sessions, K states, D features (in the order: bias, sensory)\n",
    "    K = 2 BINOMIAL\n",
    "\n",
    "    Parameters\n",
    "    ----------\n",
    "    trueW: S x K x D numpy array\n",
    "        true weight matrix\n",
    "    trueP: K X K numpy array\n",
    "        true probability transition matrix\n",
    "    priorZstart: int\n",
    "        prior for initial latent state to be 0\n",
    "    sessInd: list of int\n",
    "        indices of each session start, together with last session end\n",
    "        \n",
    "    Returns\n",
    "    -------\n",
    "    x_sim: N x D\n",
    "    y_sim: N x C\n",
    "    z_sim: \n",
    "\n",
    "    '''\n",
    "    # check that weight and transition matrices are valid options\n",
    "\n",
    "    n = trueW.shape[0] # total timepoints\n",
    "    k = trueW.shape[1] # states\n",
    "    d = trueW.shape[2] # features\n",
    "    c = trueW.shape[3] # classes\n",
    "    x = np.empty((n,d))\n",
    "    y = np.zeros((n,c)).astype(int)\n",
    "    z = np.empty((n,),dtype=int)\n",
    "\n",
    "    # input data x\n",
    "    x[:,0] = 1 # bias term\n",
    "    x[:,1] = stats.uniform.rvs(loc=-16,scale=33,size=n).astype(int)\n",
    "    # standardizing sensory info\n",
    "    x[:,1] = x[:,1] - x[:,1].mean()\n",
    "    x[:,1] = x[:,1] / x[:,1].std()\n",
    "\n",
    "    # latent variables z \n",
    "    for t in range(0,n):\n",
    "        if (t in sessInd[:-1]): # beginning of session has a new draw for latent\n",
    "            z[t] = np.random.binomial(n=1,p=1-priorZstart)\n",
    "        else:\n",
    "            z[t] = np.random.binomial(n=1, p=trueP[z[t-1],1])\n",
    "    \n",
    "    # observation probabilities\n",
    "    phi = emission_probability(x, trueW,  z=None, latents=False)\n",
    "\n",
    "    for t in range(0,n):\n",
    "        y[t,int(np.random.binomial(n=1,p=phi[t,z[t],1]))]=1\n",
    "\n",
    "    if (save==True):\n",
    "        np.save('../data/simX', x)\n",
    "        np.save('../data/simY', y)\n",
    "        np.save('../data/simZ', z)\n",
    "    return x, y, z\n",
    "\n",
    "xSim, ySim, zSim  = simulate_data(trueW=trueW, trueP=trueP, priorZstart=0.5, sessInd=sessInd, save=False)\n",
    "print(xSim)"
   ]
  },
  {
   "cell_type": "code",
   "execution_count": 12,
   "metadata": {},
   "outputs": [
    {
     "name": "stdout",
     "output_type": "stream",
     "text": [
      "[[ 1.         -0.93164315]\n",
      " [ 1.          1.37549201]\n",
      " [ 1.          0.3867198 ]\n",
      " ...\n",
      " [ 1.         -0.82177957]\n",
      " [ 1.         -0.27246168]\n",
      " [ 1.          0.82617412]]\n"
     ]
    }
   ],
   "source": [
    "xSim = np.load('../data/simX.npy')\n",
    "print(xSim)"
   ]
  },
  {
   "cell_type": "code",
   "execution_count": 10,
   "metadata": {},
   "outputs": [
    {
     "name": "stdout",
     "output_type": "stream",
     "text": [
      "[0.11442212 0.88557788]\n",
      "[1.        0.7308747]\n",
      "[[0.77777778 0.        ]\n",
      " [0.44444444 0.        ]]\n"
     ]
    }
   ],
   "source": [
    "phiSim = emission_probability(xSim, trueW,  z=None, latents=False)\n",
    "print(phiSim[3785,0,:])\n",
    "print(xSim[-3785,:])\n",
    "print(trueW[-3785,0,:,:])"
   ]
  },
  {
   "cell_type": "code",
   "execution_count": 9,
   "metadata": {},
   "outputs": [
    {
     "name": "stdout",
     "output_type": "stream",
     "text": [
      "[0.5 0.5]\n",
      "[0.5 0.5]\n",
      "[0.5 0.5]\n",
      "[0.5 0.5]\n",
      "[0.5 0.5]\n",
      "[0.5 0.5]\n",
      "[0.5 0.5]\n",
      "[0.5 0.5]\n",
      "[0.5 0.5]\n",
      "[0.5 0.5]\n"
     ]
    }
   ],
   "source": [
    "# Using Iris' code to fit simulate data and calculate alpha forward and backward\n",
    "\n",
    "# Import outside packages by changing the path\n",
    "import sys, os\n",
    "sys.path.append(os.path.abspath(os.path.join('..', '..', 'glmhmm')))\n",
    "from glmhmm import glm, glm_hmm, utils\n",
    "from glmhmm.utils import permute_states, find_best_fit, compare_top_weights\n",
    "from glmhmm import visualize, analysis\n",
    "\n",
    "true_GLMHMM = glm_hmm.GLMHMM(N,D,C,K,observations=\"bernoulli\")\n",
    "# # compute phi for each state from weights \n",
    "phi = np.zeros((true_GLMHMM.n,true_GLMHMM.k,true_GLMHMM.c))\n",
    "for i in range(true_GLMHMM.n):\n",
    "    for zi in range(true_GLMHMM.k):\n",
    "        phi[i,zi,:] = true_GLMHMM.glm.observations.compObs(xSim[i,:],trueW[i,zi,:,:])\n",
    "# print(\"Observation prob NxKxC\")\n",
    "# print(phi[:,0,:])\n",
    "\n",
    "# checked forward and backward passes with Iris' function\n",
    "# ll_s,alpha_s,alpha_prior_s,cs_s = true_GLMHMM.forwardPass(reshapeObs(ySim[2000:2500,:]),trueP,phiSim[2000:2500,:,:])\n",
    "# pBack_s,beta_s,zhatBack_s = true_GLMHMM.backwardPass(reshapeObs(ySim[2000:2500,:]),trueP,phiSim[2000:2500,:,:],alpha_s,cs_s)\n",
    "\n",
    "# inits = 1 # set the number of initializations\n",
    "\n",
    "# # store values for each initialization\n",
    "# lls_all = np.zeros((1,250))\n",
    "# A_all = np.zeros((1,K,K))\n",
    "# w_all = np.zeros((1,K,D,C))\n",
    "\n",
    "# fit the model for each initialization\n",
    "init_p,init_w,_ = true_GLMHMM.generate_params() # initialize the model parameters\n",
    "#print(init_p)\n",
    "y0,alpha0,beta0,cs0,A0,phi0,xis0 = true_GLMHMM.fit(reshapeObs(ySim),xSim,init_p,init_w,maxiter=1,sess=sessInd) # fit the model\n",
    "#print(A_all)\n",
    "\n"
   ]
  },
  {
   "cell_type": "code",
   "execution_count": 10,
   "metadata": {},
   "outputs": [
    {
     "name": "stdout",
     "output_type": "stream",
     "text": [
      "[[ 0.9  -0.26]\n",
      " [-0.58  0.39]]\n"
     ]
    }
   ],
   "source": [
    "print(init_w[:,:,1])"
   ]
  },
  {
   "cell_type": "code",
   "execution_count": 11,
   "metadata": {},
   "outputs": [
    {
     "data": {
      "image/png": "[encoded data removed]",
      "text/plain": [
       "<Figure size 432x288 with 1 Axes>"
      ]
     },
     "metadata": {},
     "output_type": "display_data"
    }
   ],
   "source": [
    "perf,ind = accuracy(xSim,ySim,zSim,s=10)"
   ]
  },
  {
   "cell_type": "code",
   "execution_count": 12,
   "metadata": {},
   "outputs": [],
   "source": [
    "# already checked with Iris' function that it is correct\n",
    "def forward_pass(y,P,phi,pi0=None):\n",
    "    '''\n",
    "    Calculates alpha scaled as part of the forward-backward algorithm in E-step for a single session \n",
    "    given current parameters weight w and transition matrix P\n",
    "\n",
    "    Parameters\n",
    "    ----------\n",
    "    y : Tx1 vector of observations with values 0,1,..,C-1\n",
    "    P : KxK matrix of transition probabilities\n",
    "    phi : TxKxC matrix of emission probabilities\n",
    "        \n",
    "    Returns\n",
    "    -------\n",
    "    ll : float, marginal log-likelihood of the data p(y)\n",
    "    alpha : nx1 vector of the conditional probabilities p(z_t|x_{1:t},y_{1:t})\n",
    "    ct : nx1 vector of the forward marginal likelihoods p(y_t | y_1:t-1)\n",
    "    '''\n",
    "    T = y.shape[0]\n",
    "    K = P.shape[0]\n",
    "    \n",
    "    alpha = np.zeros((T,K)) # forward probabilities p(z_t | y_1:t)\n",
    "    alpha_prior = np.zeros((T,K)) # prior probabilities p(z_t | y_1:t-1)\n",
    "    lt = np.zeros((T,K)) # likelihood of data p(y_t|z_t)\n",
    "    ct = np.zeros(T) # forward marginal likelihoods p(y_t | y_1:t-1)\n",
    "\n",
    "    # forward pass calculations\n",
    "    for t in range(0,T):\n",
    "        lt[t,:] = phi[t,:,y[t]] # likelihood p(y_t | z_t)\n",
    "        if (t==0): # time point 0\n",
    "            if (pi0==None):\n",
    "                alpha_prior[0,:] = np.ones((1,K))/K # prior of z_0 before any data (=uniform)\n",
    "            else:\n",
    "                alpha_prior[0,:] = pi0\n",
    "        else:\n",
    "            alpha_prior[t,:] = (alpha[t-1,:].T @ P) # conditional p(z_t | y_1:t-1)\n",
    "        pxz = np.multiply(lt[t],alpha_prior[t,:]) # joint P(y_1:t,z_t)\n",
    "        ct[t] = np.sum(pxz) # conditional p(y_t | y_1:t-1)\n",
    "        alpha[t,:] = pxz/ct[t] # conditional p(z_t | y_1:t)\n",
    "    \n",
    "    ll = np.sum(np.log(ct)) # marginal log likelihood p(y_1:T) as sum of log conitionals p(y_t | y_1:t-1) \n",
    "    \n",
    "    return alpha,alpha_prior,ct,ll\n",
    "\n",
    "alpha,alpha_prior,ct,ll = forward_pass(reshapeObs(ySim[2000:2500,:]),trueP,phiSim[2000:2500,:,:])\n",
    "\n"
   ]
  },
  {
   "cell_type": "code",
   "execution_count": 13,
   "metadata": {},
   "outputs": [],
   "source": [
    "# already checked with Iris' function that it is correct\n",
    "def backward_pass(y,P,phi,ct,pi0=None):\n",
    "    '''\n",
    "    Calculates beta scaled as part of the forward-backward algorithm in E-step for a single session \n",
    "    given current parameters weight w and transition matrix P\n",
    "\n",
    "    Parameters\n",
    "    ----------\n",
    "    y : Tx1 vector of observations with values 0,1,..,C-1\n",
    "    P : KxK matrix of transition probabilities\n",
    "    phi : TxKxC matrix of emission probabilities\n",
    "    ct : Tx1 numpy vector of forward marginal likelihoods p(y_t | y_1:t-1), calculated at forward_pass\n",
    "        \n",
    "    Returns\n",
    "    -------\n",
    "    beta: TxK numpy array \n",
    "    \n",
    "    '''\n",
    "    T = y.shape[0]\n",
    "    K = P.shape[0]\n",
    "    \n",
    "    beta = np.zeros((T,K)) # backward conditional probabilities p(y_t+1:T | z_t)/p(y_t+1:T | y_1:t)\n",
    "    lt = np.zeros((T,K)) # likelihood of data p(y_t|z_t)\n",
    "\n",
    "    # last time point\n",
    "    beta[-1] = 1 # p(z_T=1)\n",
    "\n",
    "    # backward pass calculations\n",
    "    for t in np.arange(T-2,-1,-1):\n",
    "        lt[t+1,:] = phi[t+1,:,y[t+1]] \n",
    "        beta[t,:] = P @ (np.multiply(beta[t+1,:],lt[t+1,:]))\n",
    "        beta[t,:] = beta[t,:] / ct[t+1] # scaling factor\n",
    "    \n",
    "    return beta\n",
    "beta = backward_pass(reshapeObs(ySim[2000:2500,:]),trueP,phiSim[2000:2500,:,:],ct)"
   ]
  },
  {
   "cell_type": "code",
   "execution_count": 14,
   "metadata": {},
   "outputs": [],
   "source": [
    "# checked gammas and zetas against iris'\n",
    "def posteriorLatents(y, p, phi, alpha, beta, ct):\n",
    "    ''' \n",
    "    calculates marginal posterior of latents gamma(z_t) = p(z_t | y_1:T)\n",
    "    and joint posterior of successive latens zeta(z_t,z_t+1) = p(z_t,z_t+1 | y_1:T)\n",
    "\n",
    "    Parameters\n",
    "    ----------\n",
    "    y : Tx1 vector of observations with values 0,1,..,C-1\n",
    "    '''\n",
    "    N = phi.shape[0]\n",
    "    K = phi.shape[1]\n",
    "    C = phi.shape[2]\n",
    "    T = ct.shape[0]\n",
    "    gamma = np.empty((T,K)).astype(float) # marginal posterior of latents\n",
    "    zeta = np.empty((T-1,K,K)).astype(float)\n",
    "\n",
    "    gamma = np.multiply(alpha,beta) # gamma(z_t) = alpha(z_t) * beta(z_t)\n",
    "    \n",
    "    for t in range(0,T-1):#T-1):\n",
    "        alpha_beta = alpha[t,:].reshape((K,1)) @ beta[t+1,:].reshape((1,K))\n",
    "        zeta[t,:,:] = np.multiply(alpha_beta,p) \n",
    "        zeta[t,:,:] = np.multiply(zeta[t,:,:],phi[t+1,:,y[t+1]]) # change t+1 to t in phi to match Iris'\n",
    "        zeta[t,:,:] = zeta[t,:,:] / ct[t+1]\n",
    "    return gamma, zeta\n",
    "gamma, zeta = posteriorLatents(reshapeObs(ySim[2000:2500,:]), trueP, phiSim[2000:2500,:], alpha, beta, ct)\n",
    "\n"
   ]
  },
  {
   "cell_type": "code",
   "execution_count": 15,
   "metadata": {},
   "outputs": [
    {
     "data": {
      "text/plain": [
       "296.58410770004286"
      ]
     },
     "execution_count": 15,
     "metadata": {},
     "output_type": "execute_result"
    }
   ],
   "source": [
    "def weight_negloglike(currentW, x, y, gamma, prevW, nextW, sigma):\n",
    "    '''\n",
    "    negative log likelihood function to optimize the weight in M-step\n",
    "    L(w) = ...\n",
    "\n",
    "    Parameters\n",
    "    ----------\n",
    "    currentW: K x D  vector\n",
    "        only weights correspind to one current session for C=0\n",
    "    prevW: K x D x C vector\n",
    "        weights previous session\n",
    "    nextW: K x D x C vector\n",
    "        weights next session\n",
    "    '''\n",
    "    T = x.shape[0]\n",
    "    if(prevW is not None):\n",
    "        K = prevW.shape[0]\n",
    "        D = prevW.shape[1]\n",
    "        C = prevW.shape[2]\n",
    "    elif(nextW is not None):\n",
    "        K = nextW.shape[0]\n",
    "        D = nextW.shape[1]\n",
    "        C = nextW.shape[2]\n",
    "    currentW = currentW.reshape((K,D))\n",
    "    sessW = np.zeros((T,K,D,C))\n",
    "    for t in range(0,T):\n",
    "        sessW[t,:,:,0] = currentW[:,:]\n",
    "    phi = emission_probability(x, sessW,  z=None, latents=False) # N x K x C matrix calculated with currentW\n",
    "    K = phi.shape[1]\n",
    "    ll = 0\n",
    "\n",
    "    for t in range(0,T):\n",
    "        ll += np.multiply(gamma[t,:],np.log(phi[t,:,y[t]])).sum()\n",
    "    \n",
    "    # w | prevW ~ Normal(prevW, sigma^2*Id) and w | nextW ~ Normal(nextW, sigma^2*Id)\n",
    "    for k in range(0,K):\n",
    "        if (prevW is not None):\n",
    "            rv = multivariate_normal(mean=prevW[k,:,0], cov=np.diag(np.square(sigma[k,:])), allow_singular=True)\n",
    "            ll += np.log(rv.pdf(currentW[k,:]))   \n",
    "        if (nextW is not None):\n",
    "            rv = multivariate_normal(mean=nextW[k,:,0], cov=np.diag(np.square(sigma[k,:])), allow_singular=True)\n",
    "            ll += np.log(rv.pdf(currentW[k,:]))\n",
    "            \n",
    "    \n",
    "    return -ll\n",
    "weight_negloglike(np.ndarray.flatten(trueW[500,:,:,0]), xSim[0:500], reshapeObs(ySim[0:500]), gamma,trueW[0],trueW[1000], reshapeSigma(0.5,2,2))"
   ]
  },
  {
   "cell_type": "code",
   "execution_count": 16,
   "metadata": {},
   "outputs": [
    {
     "name": "stdout",
     "output_type": "stream",
     "text": [
      "0\n",
      "1\n",
      "2\n",
      "3\n",
      "4\n",
      "5\n",
      "6\n",
      "7\n",
      "8\n",
      "9\n",
      "10\n",
      "11\n",
      "12\n",
      "13\n",
      "14\n",
      "15\n",
      "16\n",
      "17\n",
      "18\n",
      "19\n",
      "20\n",
      "21\n",
      "22\n",
      "23\n",
      "24\n",
      "25\n",
      "26\n",
      "27\n"
     ]
    },
    {
     "name": "stderr",
     "output_type": "stream",
     "text": [
      "/Users/lencacuturela/opt/anaconda3/envs/glmhmm/lib/python3.7/site-packages/scipy/optimize/optimize.py:1046: RuntimeWarning: divide by zero encountered in double_scalars\n",
      "  rhok = 1.0 / (numpy.dot(yk, sk))\n"
     ]
    },
    {
     "name": "stdout",
     "output_type": "stream",
     "text": [
      "28\n",
      "29\n",
      "30\n",
      "31\n",
      "32\n",
      "33\n",
      "34\n",
      "35\n",
      "36\n",
      "37\n",
      "38\n",
      "39\n",
      "40\n",
      "41\n",
      "42\n",
      "43\n",
      "44\n",
      "45\n",
      "46\n",
      "47\n",
      "48\n",
      "49\n",
      "50\n",
      "51\n",
      "52\n",
      "53\n",
      "54\n",
      "55\n",
      "56\n",
      "57\n",
      "58\n",
      "59\n",
      "60\n",
      "61\n",
      "62\n",
      "63\n",
      "64\n",
      "65\n"
     ]
    },
    {
     "name": "stderr",
     "output_type": "stream",
     "text": [
      "/Users/lencacuturela/opt/anaconda3/envs/glmhmm/lib/python3.7/site-packages/scipy/optimize/optimize.py:1046: RuntimeWarning: divide by zero encountered in double_scalars\n",
      "  rhok = 1.0 / (numpy.dot(yk, sk))\n"
     ]
    },
    {
     "name": "stdout",
     "output_type": "stream",
     "text": [
      "66\n",
      "67\n",
      "68\n",
      "69\n",
      "70\n",
      "71\n",
      "72\n",
      "73\n",
      "74\n",
      "75\n",
      "76\n",
      "77\n",
      "78\n",
      "79\n",
      "80\n",
      "81\n",
      "82\n",
      "83\n",
      "84\n",
      "85\n",
      "86\n",
      "87\n",
      "88\n",
      "89\n",
      "90\n",
      "91\n",
      "92\n",
      "93\n",
      "94\n",
      "95\n",
      "96\n",
      "97\n",
      "98\n",
      "99\n",
      "100\n",
      "101\n",
      "102\n",
      "103\n",
      "104\n",
      "105\n",
      "106\n",
      "107\n",
      "108\n",
      "109\n",
      "110\n",
      "111\n",
      "112\n",
      "113\n",
      "114\n",
      "115\n",
      "116\n",
      "117\n",
      "118\n",
      "119\n",
      "120\n",
      "121\n",
      "122\n"
     ]
    },
    {
     "name": "stderr",
     "output_type": "stream",
     "text": [
      "/Users/lencacuturela/opt/anaconda3/envs/glmhmm/lib/python3.7/site-packages/scipy/optimize/optimize.py:1046: RuntimeWarning: divide by zero encountered in double_scalars\n",
      "  rhok = 1.0 / (numpy.dot(yk, sk))\n"
     ]
    },
    {
     "name": "stdout",
     "output_type": "stream",
     "text": [
      "123\n",
      "124\n",
      "125\n",
      "126\n",
      "127\n",
      "128\n",
      "129\n",
      "130\n",
      "131\n",
      "132\n",
      "133\n",
      "134\n",
      "135\n",
      "136\n"
     ]
    },
    {
     "name": "stderr",
     "output_type": "stream",
     "text": [
      "/Users/lencacuturela/opt/anaconda3/envs/glmhmm/lib/python3.7/site-packages/scipy/optimize/optimize.py:1046: RuntimeWarning: divide by zero encountered in double_scalars\n",
      "  rhok = 1.0 / (numpy.dot(yk, sk))\n"
     ]
    },
    {
     "name": "stdout",
     "output_type": "stream",
     "text": [
      "137\n",
      "138\n"
     ]
    },
    {
     "name": "stderr",
     "output_type": "stream",
     "text": [
      "/Users/lencacuturela/opt/anaconda3/envs/glmhmm/lib/python3.7/site-packages/scipy/optimize/optimize.py:1046: RuntimeWarning: divide by zero encountered in double_scalars\n",
      "  rhok = 1.0 / (numpy.dot(yk, sk))\n"
     ]
    },
    {
     "name": "stdout",
     "output_type": "stream",
     "text": [
      "139\n",
      "140\n",
      "141\n",
      "142\n",
      "143\n",
      "144\n",
      "145\n",
      "146\n",
      "147\n",
      "148\n",
      "149\n",
      "150\n",
      "151\n",
      "152\n",
      "153\n",
      "154\n",
      "155\n",
      "156\n",
      "157\n",
      "158\n",
      "159\n",
      "160\n",
      "161\n",
      "162\n",
      "163\n",
      "164\n",
      "165\n",
      "166\n",
      "167\n",
      "168\n",
      "169\n",
      "170\n",
      "171\n",
      "172\n",
      "173\n",
      "174\n",
      "175\n",
      "176\n",
      "177\n",
      "178\n",
      "179\n"
     ]
    },
    {
     "name": "stderr",
     "output_type": "stream",
     "text": [
      "/Users/lencacuturela/opt/anaconda3/envs/glmhmm/lib/python3.7/site-packages/scipy/optimize/optimize.py:1046: RuntimeWarning: divide by zero encountered in double_scalars\n",
      "  rhok = 1.0 / (numpy.dot(yk, sk))\n"
     ]
    },
    {
     "name": "stdout",
     "output_type": "stream",
     "text": [
      "180\n",
      "181\n",
      "182\n",
      "183\n",
      "184\n",
      "185\n",
      "186\n",
      "187\n",
      "188\n",
      "189\n",
      "190\n",
      "191\n",
      "192\n",
      "193\n",
      "194\n",
      "195\n",
      "196\n",
      "197\n",
      "198\n",
      "199\n",
      "200\n",
      "201\n",
      "202\n",
      "203\n",
      "204\n",
      "205\n",
      "206\n",
      "207\n",
      "208\n",
      "209\n",
      "210\n",
      "211\n",
      "212\n",
      "213\n",
      "214\n",
      "215\n",
      "216\n",
      "217\n",
      "218\n",
      "219\n",
      "220\n",
      "221\n",
      "222\n",
      "223\n",
      "224\n",
      "225\n",
      "226\n",
      "227\n",
      "228\n",
      "229\n",
      "230\n",
      "231\n",
      "232\n",
      "233\n",
      "234\n",
      "235\n",
      "236\n",
      "237\n",
      "238\n",
      "239\n",
      "240\n",
      "241\n"
     ]
    },
    {
     "name": "stderr",
     "output_type": "stream",
     "text": [
      "/Users/lencacuturela/opt/anaconda3/envs/glmhmm/lib/python3.7/site-packages/scipy/optimize/optimize.py:1046: RuntimeWarning: divide by zero encountered in double_scalars\n",
      "  rhok = 1.0 / (numpy.dot(yk, sk))\n"
     ]
    },
    {
     "name": "stdout",
     "output_type": "stream",
     "text": [
      "242\n",
      "243\n",
      "244\n",
      "245\n"
     ]
    },
    {
     "name": "stderr",
     "output_type": "stream",
     "text": [
      "/Users/lencacuturela/opt/anaconda3/envs/glmhmm/lib/python3.7/site-packages/scipy/optimize/optimize.py:1046: RuntimeWarning: divide by zero encountered in double_scalars\n",
      "  rhok = 1.0 / (numpy.dot(yk, sk))\n"
     ]
    },
    {
     "name": "stdout",
     "output_type": "stream",
     "text": [
      "246\n",
      "247\n",
      "248\n",
      "249\n"
     ]
    }
   ],
   "source": [
    "ourSigma = reshapeSigma(sigma=1,K=K,D=D)\n",
    "def fit(y, x, initP, initW, sigma, pi0=None, maxIter=250, tol=1e-3, sessInd=None):\n",
    "    '''\n",
    "    Fitting function based on EM algorithm\n",
    "\n",
    "    Parameters\n",
    "    ----------\n",
    "    y : NxC vector of observations with values 0 and 1, and exactly one 1 per row\n",
    "    initP : KxK numpy array\n",
    "        initial matrix of transition probabilities\n",
    "    initW: NxKxDxC numpy array\n",
    "        initial weight matrix\n",
    "    sigma: KxD matrix\n",
    "        covariance of weight drifting over sessions\n",
    "\n",
    "    pi0 : initial kx1 vector of state probabilities for t=1.\n",
    "    maxiter : int\n",
    "         The maximum number of iterations of EM to allow. The default is 250.\n",
    "    tol : float\n",
    "        The tolerance value for the loglikelihood to allow early stopping of EM. The default is 1e-3.\n",
    "    sessions : an optional vector of the first and last indices of different sessions in the data (for separate computations of the E step; first and last entries should be 0 and n, respectively)  \n",
    "    \n",
    "    Returns\n",
    "    -------\n",
    "    '''\n",
    "    n = initW.shape[0] # total timepoints\n",
    "    k = initW.shape[1] # states\n",
    "    d = initW.shape[2] # features\n",
    "    c = initW.shape[3] # classes\n",
    "    sess = len(sessInd)-1\n",
    "    zeta = np.zeros((n-1,K,K)).astype(float)\n",
    "    t = int(n/sess)\n",
    "    y = reshapeObs(y) \n",
    "\n",
    "    if sess is None:\n",
    "        sessInd = [0,n]\n",
    "        sess = 1 # equivalent to saying the entire data set has one session\n",
    "\n",
    "    # initialize w and P \n",
    "    w = np.copy(initW)\n",
    "    p = np.copy(initP)\n",
    "\n",
    "    for iter in range(maxIter):\n",
    "        print(iter)\n",
    "         \n",
    "        # calculate emission probabilities given theta_old\n",
    "        phi = emission_probability(x, w,  z=None, latents=False)\n",
    "        # phi[:,:,[0,1]] = phi_original[:,:,[1,0]] # when checking against Iris'\n",
    "\n",
    "        ll = 0\n",
    "\n",
    "        # EM step for each session independently \n",
    "        for s in range(0,sess):\n",
    "            \n",
    "            # E step - calculates all probabilities given theta_old = previous weight and transition matrix p\n",
    "            alphaSess, _, ctSess, llSess = forward_pass(y[sessInd[s]:sessInd[s+1]],p,phi[sessInd[s]:sessInd[s+1],:,:])\n",
    "            betaSess = backward_pass(y[sessInd[s]:sessInd[s+1]],p,phi[sessInd[s]:sessInd[s+1],:,:],ctSess)\n",
    "            gammaSess, zetaSess = posteriorLatents(y[sessInd[s]:sessInd[s+1]],p,phi[sessInd[s]:sessInd[s+1],:,:], alphaSess, betaSess, ctSess)\n",
    "            \n",
    "            # merging info for all sessions \n",
    "            zeta[sessInd[s]:sessInd[s+1]-1,:,:] = zetaSess[:,:,:] \n",
    "            ll += llSess\n",
    "            \n",
    "            # M step for weights - weights are updated for each session individually (as neighboring session weights have to be fixed)\n",
    "            w_flat = np.ndarray.flatten(w[sessInd[s],:,:,0]) # flatten weights for optimization \n",
    "            prevW = w[sessInd[s-1]] if s!=0 else None\n",
    "            nextW = w[sessInd[s+1]] if s!=sess-1 else None\n",
    "            optimized = minimize(weight_negloglike, w_flat, args=(x[sessInd[s]:sessInd[s+1]], y[sessInd[s]:sessInd[s+1]], gammaSess,prevW,nextW, sigma))\n",
    "            optimizedW = np.reshape(optimized.x,(K,D)) # reshape and update weights\n",
    "            # updating weight w for that session\n",
    "            w[sessInd[s]:sessInd[s+1],:,:,0] = optimizedW #np.repeat(optimizedW[np.newaxis], sessInd[s+1]-sessInd[s-1], axis=0)\n",
    "            \n",
    "        \n",
    "        #gamma, zeta = posteriorLatents(y, p, phi, alpha, beta, cs) # calculate zeta for whole dataset after merging like Iris'\n",
    "\n",
    "        # M-step for transition matrix p - for all sessions together\n",
    "        # Closed form update - correct formula\n",
    "        for i in range(0,K):\n",
    "            for j in range(0,K):\n",
    "                p[i,j] = zeta[:,i,j].sum()/zeta[:,i,:].sum()\n",
    "    \n",
    "    return w, p\n",
    "    #return y,p,phi,zeta\n",
    "initP = init_p\n",
    "initW = np.empty((N,K,D,C))\n",
    "initW[:] = init_w\n",
    "initW = initW[:,:,:,[1,0]]\n",
    "w1, p1= fit(ySim,xSim,initP,initW,sigma=ourSigma,maxIter=250,tol=1e-3,sessInd=sessInd)\n",
    "\n"
   ]
  },
  {
   "cell_type": "code",
   "execution_count": 22,
   "metadata": {},
   "outputs": [
    {
     "data": {
      "image/png": "[encoded data removed]",
      "text/plain": [
       "<Figure size 432x288 with 1 Axes>"
      ]
     },
     "metadata": {},
     "output_type": "display_data"
    }
   ],
   "source": [
    "plotting_weights(w1,sessInd,'recovered weights')"
   ]
  },
  {
   "cell_type": "code",
   "execution_count": 66,
   "metadata": {},
   "outputs": [
    {
     "name": "stdout",
     "output_type": "stream",
     "text": [
      "[[-0.95 -0.71]\n",
      " [-0.62  0.17]]\n"
     ]
    }
   ],
   "source": [
    "print(initW[0,:,:,0])"
   ]
  },
  {
   "cell_type": "code",
   "execution_count": 17,
   "metadata": {},
   "outputs": [],
   "source": [
    "# to check reshape Obs for C>=3"
   ]
  }
 ],
 "metadata": {
  "kernelspec": {
   "display_name": "glmhmm",
   "language": "python",
   "name": "python3"
  },
  "language_info": {
   "codemirror_mode": {
    "name": "ipython",
    "version": 3
   },
   "file_extension": ".py",
   "mimetype": "text/x-python",
   "name": "python",
   "nbconvert_exporter": "python",
   "pygments_lexer": "ipython3",
   "version": "3.7.3"
  },
  "orig_nbformat": 4,
  "vscode": {
   "interpreter": {
    "hash": "1d640932c2a2c517cdbbece3f152ca5b28ed3faaa2a397b6e105b7071e77c91f"
   }
  }
 },
 "nbformat": 4,
 "nbformat_minor": 2
}
