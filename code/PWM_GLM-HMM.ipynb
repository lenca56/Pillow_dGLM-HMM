{
 "cells": [
  {
   "cell_type": "markdown",
   "metadata": {},
   "source": [
    "### Looking for global fit (standard GLM-HMM) for Psytrack animals all together"
   ]
  },
  {
   "cell_type": "code",
   "execution_count": 1,
   "metadata": {},
   "outputs": [],
   "source": [
    "# importing packages and modules\n",
    "import matplotlib.pyplot as plt\n",
    "import scipy.stats as stats\n",
    "from scipy.optimize import minimize\n",
    "from utils import *\n",
    "from plotting_utils import *\n",
    "from analysis_utils import *\n",
    "import dglm_hmm1\n",
    "from scipy.stats import multivariate_normal, norm\n",
    "# import jax\n",
    "\n",
    "# code from summer project working with PWM data\n",
    "import sys, os\n",
    "sys.path.append(os.path.abspath(os.path.join('..', '..', 'LC_PWM_GLM-HMM/code')))\n",
    "import io_utils, analysis_utils, plotting_utils\n",
    "\n",
    "sns.set_context(\"talk\")"
   ]
  },
  {
   "cell_type": "code",
   "execution_count": 10,
   "metadata": {},
   "outputs": [],
   "source": [
    "#  animalsIDs = ['W060','W068','W073','W074','W075','W080','W081','W082','W088','W089']\n",
    "animalsIDs = ['W060','W075','W081','W089']\n",
    "pni_path = '/Users/lencacuturela/Desktop/github/LC_PWM_GLM-HMM/data'"
   ]
  },
  {
   "cell_type": "code",
   "execution_count": 11,
   "metadata": {},
   "outputs": [
    {
     "name": "stdout",
     "output_type": "stream",
     "text": [
      "[0, 489249]\n"
     ]
    }
   ],
   "source": [
    "# According to Jonathan's suggestions for fitting global GLM-HMM for all animals\n",
    "# stage filter changed from 3 to 4\n",
    "# cutoff changed from 10 to 50\n",
    "firstAnimal = 'W060'\n",
    "x, y = io_utils.prepare_design_matrices(rat_id=firstAnimal, path=pni_path, psychometric=True, cutoff=100, stage_filter=4, overwrite=False)\n",
    "sessInd = list(io_utils.session_start(rat_id=firstAnimal, path=pni_path, psychometric=True, cutoff=100, stage_filter=4))\n",
    "\n",
    "for animal in animalsIDs:\n",
    "    if (animal != firstAnimal):\n",
    "        xTemp, yTemp = io_utils.prepare_design_matrices(rat_id=animal, path=pni_path, psychometric=True, cutoff=100, stage_filter=4, overwrite=False)\n",
    "        sessIndTemp = list(io_utils.session_start(rat_id=animal, path=pni_path, psychometric=True, cutoff=100, stage_filter=4))\n",
    "        x = np.concatenate((x,xTemp))\n",
    "        y = np.concatenate((y,yTemp))\n",
    "oneSessInd = [0,x.shape[0]]\n",
    "print(oneSessInd)\n",
    "\n",
    "# NOT TAKING INTO ACCOUNT TO BREAK FORWARD-BACKWARD AT EACH SESSION LIKE IRIS DOES\n",
    "    "
   ]
  },
  {
   "cell_type": "markdown",
   "metadata": {},
   "source": [
    "### K=1 GLM Fit"
   ]
  },
  {
   "cell_type": "code",
   "execution_count": 14,
   "metadata": {},
   "outputs": [
    {
     "name": "stdout",
     "output_type": "stream",
     "text": [
      "Init  0\n",
      "0\n",
      "Init  1\n",
      "0\n",
      "Init  2\n",
      "0\n",
      "Init  3\n",
      "0\n",
      "Init  4\n",
      "0\n",
      "Init  5\n",
      "0\n",
      "Init  6\n",
      "0\n",
      "Init  7\n",
      "0\n",
      "Init  8\n",
      "0\n",
      "Init  9\n",
      "0\n"
     ]
    },
    {
     "ename": "KeyboardInterrupt",
     "evalue": "",
     "output_type": "error",
     "traceback": [
      "\u001b[0;31m---------------------------------------------------------------------------\u001b[0m",
      "\u001b[0;31mKeyboardInterrupt\u001b[0m                         Traceback (most recent call last)",
      "Cell \u001b[0;32mIn[14], line 27\u001b[0m\n\u001b[1;32m     25\u001b[0m \u001b[39melse\u001b[39;00m:\n\u001b[1;32m     26\u001b[0m     initP0, initW0 \u001b[39m=\u001b[39m dGLM_HMM\u001b[39m.\u001b[39mgenerate_param(sessInd\u001b[39m=\u001b[39moneSessInd, transitionDistribution\u001b[39m=\u001b[39m[\u001b[39m'\u001b[39m\u001b[39mdirichlet\u001b[39m\u001b[39m'\u001b[39m, (\u001b[39m5\u001b[39m, \u001b[39m1\u001b[39m)], weightDistribution\u001b[39m=\u001b[39m[\u001b[39m'\u001b[39m\u001b[39mnormal\u001b[39m\u001b[39m'\u001b[39m, (\u001b[39m0\u001b[39m,\u001b[39m2\u001b[39m)]) \n\u001b[0;32m---> 27\u001b[0m allP[i], allW[i], allLl[i] \u001b[39m=\u001b[39m dGLM_HMM\u001b[39m.\u001b[39;49mfit(x, y,  initP0, initW0, sigma\u001b[39m=\u001b[39;49mreshapeSigma(\u001b[39m1\u001b[39;49m, K, D), sessInd\u001b[39m=\u001b[39;49moneSessInd, pi0\u001b[39m=\u001b[39;49m\u001b[39mNone\u001b[39;49;00m, maxIter\u001b[39m=\u001b[39;49mmaxiter, tol\u001b[39m=\u001b[39;49m\u001b[39m1e-3\u001b[39;49m, penaltyW\u001b[39m=\u001b[39;49mpenaltyW) \u001b[39m# sigma does not matter here\u001b[39;00m\n\u001b[1;32m     29\u001b[0m np\u001b[39m.\u001b[39msave(\u001b[39mf\u001b[39m\u001b[39m'\u001b[39m\u001b[39m../data_PWM/trainLl-global_PWM_all-animals_sf=4_\u001b[39m\u001b[39m{\u001b[39;00mK\u001b[39m}\u001b[39;00m\u001b[39m_state_multiple_inits_penaltyW=\u001b[39m\u001b[39m{\u001b[39;00mpenaltyW\u001b[39m}\u001b[39;00m\u001b[39m'\u001b[39m, allLl)\n\u001b[1;32m     30\u001b[0m np\u001b[39m.\u001b[39msave(\u001b[39mf\u001b[39m\u001b[39m'\u001b[39m\u001b[39m../data_PWM/P-global_PWM_all-animals_sf=4_\u001b[39m\u001b[39m{\u001b[39;00mK\u001b[39m}\u001b[39;00m\u001b[39m_state_multiple_inits_penaltyW=\u001b[39m\u001b[39m{\u001b[39;00mpenaltyW\u001b[39m}\u001b[39;00m\u001b[39m'\u001b[39m, allP)\n",
      "File \u001b[0;32m~/Desktop/github/Pillow_dGLM-HMM/code/dglm_hmm1.py:745\u001b[0m, in \u001b[0;36mdGLM_HMM1.fit\u001b[0;34m(self, x, y, initP, initW, sigma, sessInd, pi0, maxIter, tol, penaltyW)\u001b[0m\n\u001b[1;32m    743\u001b[0m         opt_val \u001b[39m=\u001b[39m \u001b[39mlambda\u001b[39;00m w: \u001b[39mself\u001b[39m\u001b[39m.\u001b[39mvalue_weight_loss_function(w, x[sessInd[s]:sessInd[s\u001b[39m+\u001b[39m\u001b[39m1\u001b[39m]], y[sessInd[s]:sessInd[s\u001b[39m+\u001b[39m\u001b[39m1\u001b[39m]], gammaSess[:,k], prevW, nextW, sigma[k,:], penaltyW\u001b[39m=\u001b[39mpenaltyW)\n\u001b[1;32m    744\u001b[0m         opt_grad \u001b[39m=\u001b[39m \u001b[39mlambda\u001b[39;00m w: \u001b[39mself\u001b[39m\u001b[39m.\u001b[39mgrad_weight_loss_function(w, x[sessInd[s]:sessInd[s\u001b[39m+\u001b[39m\u001b[39m1\u001b[39m]], y[sessInd[s]:sessInd[s\u001b[39m+\u001b[39m\u001b[39m1\u001b[39m]], gammaSess[:,k], prevW, nextW, sigma[k,:], penaltyW\u001b[39m=\u001b[39mpenaltyW)\n\u001b[0;32m--> 745\u001b[0m         optimized \u001b[39m=\u001b[39m minimize(opt_val, w_flat, jac\u001b[39m=\u001b[39;49mopt_grad, method\u001b[39m=\u001b[39;49m\u001b[39m'\u001b[39;49m\u001b[39mL-BFGS-B\u001b[39;49m\u001b[39m'\u001b[39;49m)\n\u001b[1;32m    746\u001b[0m         w[sessInd[s]:sessInd[s\u001b[39m+\u001b[39m\u001b[39m1\u001b[39m],k,:,\u001b[39m1\u001b[39m] \u001b[39m=\u001b[39m optimized\u001b[39m.\u001b[39mx \u001b[39m# updating weight w for current session\u001b[39;00m\n\u001b[1;32m    748\u001b[0m     \u001b[39m# simple optimization\u001b[39;00m\n\u001b[1;32m    749\u001b[0m     \u001b[39m# w_flat = np.ndarray.flatten(w[sessInd[s],:,:,0]) # flatten weights for optimization \u001b[39;00m\n\u001b[1;32m    750\u001b[0m     \u001b[39m# optimized = minimize(self.weight_loss_function, w_flat, args=(x[sessInd[s]:sessInd[s+1]], y[sessInd[s]:sessInd[s+1]], gammaSess, prevW, nextW, sigma))\u001b[39;00m\n\u001b[0;32m   (...)\u001b[0m\n\u001b[1;32m    778\u001b[0m \n\u001b[1;32m    779\u001b[0m \u001b[39m# M-step for transition matrix p - for all sessions together\u001b[39;00m\n",
      "File \u001b[0;32m~/anaconda3/lib/python3.10/site-packages/scipy/optimize/_minimize.py:696\u001b[0m, in \u001b[0;36mminimize\u001b[0;34m(fun, x0, args, method, jac, hess, hessp, bounds, constraints, tol, callback, options)\u001b[0m\n\u001b[1;32m    693\u001b[0m     res \u001b[39m=\u001b[39m _minimize_newtoncg(fun, x0, args, jac, hess, hessp, callback,\n\u001b[1;32m    694\u001b[0m                              \u001b[39m*\u001b[39m\u001b[39m*\u001b[39moptions)\n\u001b[1;32m    695\u001b[0m \u001b[39melif\u001b[39;00m meth \u001b[39m==\u001b[39m \u001b[39m'\u001b[39m\u001b[39ml-bfgs-b\u001b[39m\u001b[39m'\u001b[39m:\n\u001b[0;32m--> 696\u001b[0m     res \u001b[39m=\u001b[39m _minimize_lbfgsb(fun, x0, args, jac, bounds,\n\u001b[1;32m    697\u001b[0m                            callback\u001b[39m=\u001b[39;49mcallback, \u001b[39m*\u001b[39;49m\u001b[39m*\u001b[39;49moptions)\n\u001b[1;32m    698\u001b[0m \u001b[39melif\u001b[39;00m meth \u001b[39m==\u001b[39m \u001b[39m'\u001b[39m\u001b[39mtnc\u001b[39m\u001b[39m'\u001b[39m:\n\u001b[1;32m    699\u001b[0m     res \u001b[39m=\u001b[39m _minimize_tnc(fun, x0, args, jac, bounds, callback\u001b[39m=\u001b[39mcallback,\n\u001b[1;32m    700\u001b[0m                         \u001b[39m*\u001b[39m\u001b[39m*\u001b[39moptions)\n",
      "File \u001b[0;32m~/anaconda3/lib/python3.10/site-packages/scipy/optimize/_lbfgsb_py.py:359\u001b[0m, in \u001b[0;36m_minimize_lbfgsb\u001b[0;34m(fun, x0, args, jac, bounds, disp, maxcor, ftol, gtol, eps, maxfun, maxiter, iprint, callback, maxls, finite_diff_rel_step, **unknown_options)\u001b[0m\n\u001b[1;32m    353\u001b[0m task_str \u001b[39m=\u001b[39m task\u001b[39m.\u001b[39mtobytes()\n\u001b[1;32m    354\u001b[0m \u001b[39mif\u001b[39;00m task_str\u001b[39m.\u001b[39mstartswith(\u001b[39mb\u001b[39m\u001b[39m'\u001b[39m\u001b[39mFG\u001b[39m\u001b[39m'\u001b[39m):\n\u001b[1;32m    355\u001b[0m     \u001b[39m# The minimization routine wants f and g at the current x.\u001b[39;00m\n\u001b[1;32m    356\u001b[0m     \u001b[39m# Note that interruptions due to maxfun are postponed\u001b[39;00m\n\u001b[1;32m    357\u001b[0m     \u001b[39m# until the completion of the current minimization iteration.\u001b[39;00m\n\u001b[1;32m    358\u001b[0m     \u001b[39m# Overwrite f and g:\u001b[39;00m\n\u001b[0;32m--> 359\u001b[0m     f, g \u001b[39m=\u001b[39m func_and_grad(x)\n\u001b[1;32m    360\u001b[0m \u001b[39melif\u001b[39;00m task_str\u001b[39m.\u001b[39mstartswith(\u001b[39mb\u001b[39m\u001b[39m'\u001b[39m\u001b[39mNEW_X\u001b[39m\u001b[39m'\u001b[39m):\n\u001b[1;32m    361\u001b[0m     \u001b[39m# new iteration\u001b[39;00m\n\u001b[1;32m    362\u001b[0m     n_iterations \u001b[39m+\u001b[39m\u001b[39m=\u001b[39m \u001b[39m1\u001b[39m\n",
      "File \u001b[0;32m~/anaconda3/lib/python3.10/site-packages/scipy/optimize/_differentiable_functions.py:285\u001b[0m, in \u001b[0;36mScalarFunction.fun_and_grad\u001b[0;34m(self, x)\u001b[0m\n\u001b[1;32m    283\u001b[0m \u001b[39mif\u001b[39;00m \u001b[39mnot\u001b[39;00m np\u001b[39m.\u001b[39marray_equal(x, \u001b[39mself\u001b[39m\u001b[39m.\u001b[39mx):\n\u001b[1;32m    284\u001b[0m     \u001b[39mself\u001b[39m\u001b[39m.\u001b[39m_update_x_impl(x)\n\u001b[0;32m--> 285\u001b[0m \u001b[39mself\u001b[39;49m\u001b[39m.\u001b[39;49m_update_fun()\n\u001b[1;32m    286\u001b[0m \u001b[39mself\u001b[39m\u001b[39m.\u001b[39m_update_grad()\n\u001b[1;32m    287\u001b[0m \u001b[39mreturn\u001b[39;00m \u001b[39mself\u001b[39m\u001b[39m.\u001b[39mf, \u001b[39mself\u001b[39m\u001b[39m.\u001b[39mg\n",
      "File \u001b[0;32m~/anaconda3/lib/python3.10/site-packages/scipy/optimize/_differentiable_functions.py:251\u001b[0m, in \u001b[0;36mScalarFunction._update_fun\u001b[0;34m(self)\u001b[0m\n\u001b[1;32m    249\u001b[0m \u001b[39mdef\u001b[39;00m \u001b[39m_update_fun\u001b[39m(\u001b[39mself\u001b[39m):\n\u001b[1;32m    250\u001b[0m     \u001b[39mif\u001b[39;00m \u001b[39mnot\u001b[39;00m \u001b[39mself\u001b[39m\u001b[39m.\u001b[39mf_updated:\n\u001b[0;32m--> 251\u001b[0m         \u001b[39mself\u001b[39;49m\u001b[39m.\u001b[39;49m_update_fun_impl()\n\u001b[1;32m    252\u001b[0m         \u001b[39mself\u001b[39m\u001b[39m.\u001b[39mf_updated \u001b[39m=\u001b[39m \u001b[39mTrue\u001b[39;00m\n",
      "File \u001b[0;32m~/anaconda3/lib/python3.10/site-packages/scipy/optimize/_differentiable_functions.py:155\u001b[0m, in \u001b[0;36mScalarFunction.__init__.<locals>.update_fun\u001b[0;34m()\u001b[0m\n\u001b[1;32m    154\u001b[0m \u001b[39mdef\u001b[39;00m \u001b[39mupdate_fun\u001b[39m():\n\u001b[0;32m--> 155\u001b[0m     \u001b[39mself\u001b[39m\u001b[39m.\u001b[39mf \u001b[39m=\u001b[39m fun_wrapped(\u001b[39mself\u001b[39;49m\u001b[39m.\u001b[39;49mx)\n",
      "File \u001b[0;32m~/anaconda3/lib/python3.10/site-packages/scipy/optimize/_differentiable_functions.py:137\u001b[0m, in \u001b[0;36mScalarFunction.__init__.<locals>.fun_wrapped\u001b[0;34m(x)\u001b[0m\n\u001b[1;32m    133\u001b[0m \u001b[39mself\u001b[39m\u001b[39m.\u001b[39mnfev \u001b[39m+\u001b[39m\u001b[39m=\u001b[39m \u001b[39m1\u001b[39m\n\u001b[1;32m    134\u001b[0m \u001b[39m# Send a copy because the user may overwrite it.\u001b[39;00m\n\u001b[1;32m    135\u001b[0m \u001b[39m# Overwriting results in undefined behaviour because\u001b[39;00m\n\u001b[1;32m    136\u001b[0m \u001b[39m# fun(self.x) will change self.x, with the two no longer linked.\u001b[39;00m\n\u001b[0;32m--> 137\u001b[0m fx \u001b[39m=\u001b[39m fun(np\u001b[39m.\u001b[39;49mcopy(x), \u001b[39m*\u001b[39;49margs)\n\u001b[1;32m    138\u001b[0m \u001b[39m# Make sure the function returns a true scalar\u001b[39;00m\n\u001b[1;32m    139\u001b[0m \u001b[39mif\u001b[39;00m \u001b[39mnot\u001b[39;00m np\u001b[39m.\u001b[39misscalar(fx):\n",
      "File \u001b[0;32m~/Desktop/github/Pillow_dGLM-HMM/code/dglm_hmm1.py:743\u001b[0m, in \u001b[0;36mdGLM_HMM1.fit.<locals>.<lambda>\u001b[0;34m(w)\u001b[0m\n\u001b[1;32m    741\u001b[0m w_flat \u001b[39m=\u001b[39m np\u001b[39m.\u001b[39mndarray\u001b[39m.\u001b[39mflatten(w[sessInd[s],k,:,\u001b[39m1\u001b[39m]) \u001b[39m# flatten weights for optimization \u001b[39;00m\n\u001b[1;32m    742\u001b[0m \u001b[39m#optimized = minimize(self.value_weight_loss_function, w_flat, args=(x[sessInd[s]:sessInd[s+1]], y[sessInd[s]:sessInd[s+1]], gammaSess[:,k], prevW, nextW, sigma[k,:]))\u001b[39;00m\n\u001b[0;32m--> 743\u001b[0m opt_val \u001b[39m=\u001b[39m \u001b[39mlambda\u001b[39;00m w: \u001b[39mself\u001b[39;49m\u001b[39m.\u001b[39;49mvalue_weight_loss_function(w, x[sessInd[s]:sessInd[s\u001b[39m+\u001b[39;49m\u001b[39m1\u001b[39;49m]], y[sessInd[s]:sessInd[s\u001b[39m+\u001b[39;49m\u001b[39m1\u001b[39;49m]], gammaSess[:,k], prevW, nextW, sigma[k,:], penaltyW\u001b[39m=\u001b[39;49mpenaltyW)\n\u001b[1;32m    744\u001b[0m opt_grad \u001b[39m=\u001b[39m \u001b[39mlambda\u001b[39;00m w: \u001b[39mself\u001b[39m\u001b[39m.\u001b[39mgrad_weight_loss_function(w, x[sessInd[s]:sessInd[s\u001b[39m+\u001b[39m\u001b[39m1\u001b[39m]], y[sessInd[s]:sessInd[s\u001b[39m+\u001b[39m\u001b[39m1\u001b[39m]], gammaSess[:,k], prevW, nextW, sigma[k,:], penaltyW\u001b[39m=\u001b[39mpenaltyW)\n\u001b[1;32m    745\u001b[0m optimized \u001b[39m=\u001b[39m minimize(opt_val, w_flat, jac\u001b[39m=\u001b[39mopt_grad, method\u001b[39m=\u001b[39m\u001b[39m'\u001b[39m\u001b[39mL-BFGS-B\u001b[39m\u001b[39m'\u001b[39m)\n",
      "File \u001b[0;32m~/Desktop/github/Pillow_dGLM-HMM/code/dglm_hmm1.py:490\u001b[0m, in \u001b[0;36mdGLM_HMM1.value_weight_loss_function\u001b[0;34m(self, currentW, x, y, gamma, prevW, nextW, sigma, penaltyW)\u001b[0m\n\u001b[1;32m    487\u001b[0m \u001b[39mfor\u001b[39;00m t \u001b[39min\u001b[39;00m \u001b[39mrange\u001b[39m(\u001b[39m0\u001b[39m,T):\n\u001b[1;32m    488\u001b[0m     sessW[t,\u001b[39m0\u001b[39m,:,\u001b[39m1\u001b[39m] \u001b[39m=\u001b[39m currentW[:]\n\u001b[0;32m--> 490\u001b[0m phi \u001b[39m=\u001b[39m \u001b[39mself\u001b[39;49m\u001b[39m.\u001b[39;49mobservation_probability(x, sessW) \u001b[39m# N x 1 x C phi matrix calculated with currentW\u001b[39;00m\n\u001b[1;32m    491\u001b[0m logPhi \u001b[39m=\u001b[39m np\u001b[39m.\u001b[39mlog(phi) \u001b[39m# natural log of observation probabilities\u001b[39;00m\n\u001b[1;32m    493\u001b[0m \u001b[39m# weighted log likelihood term of loss function\u001b[39;00m\n",
      "File \u001b[0;32m~/Desktop/github/Pillow_dGLM-HMM/code/dglm_hmm1.py:64\u001b[0m, in \u001b[0;36mdGLM_HMM1.observation_probability\u001b[0;34m(self, x, w)\u001b[0m\n\u001b[1;32m     62\u001b[0m \u001b[39mfor\u001b[39;00m k \u001b[39min\u001b[39;00m \u001b[39mrange\u001b[39m(\u001b[39m0\u001b[39m, K):\n\u001b[1;32m     63\u001b[0m     \u001b[39mfor\u001b[39;00m t \u001b[39min\u001b[39;00m \u001b[39mrange\u001b[39m(\u001b[39m0\u001b[39m,Ncurrent):\n\u001b[0;32m---> 64\u001b[0m         phi[t,k,\u001b[39m1\u001b[39m] \u001b[39m=\u001b[39m softplus_deriv(\u001b[39m-\u001b[39;49mw[t,k,:,\u001b[39m1\u001b[39;49m]\u001b[39m@x\u001b[39;49m[t])\n\u001b[1;32m     65\u001b[0m         phi[t,k,\u001b[39m0\u001b[39m] \u001b[39m=\u001b[39m \u001b[39m1\u001b[39m \u001b[39m-\u001b[39m phi[t,k,\u001b[39m1\u001b[39m]\n\u001b[1;32m     67\u001b[0m     \u001b[39m# issues with overflow if calculating this way\u001b[39;00m\n\u001b[1;32m     68\u001b[0m     \u001b[39m#     phi[:,k,c] = np.exp(-np.sum(w[:,k,:,c]*x,axis=1))\u001b[39;00m\n\u001b[1;32m     69\u001b[0m     \u001b[39m# phi[:,k,:]  = np.divide((phi[:,k,:]).T,np.sum(phi[:,k,:],axis=1)).T     \u001b[39;00m\n",
      "File \u001b[0;32m~/Desktop/github/Pillow_dGLM-HMM/code/utils.py:115\u001b[0m, in \u001b[0;36msoftplus_deriv\u001b[0;34m(x)\u001b[0m\n\u001b[1;32m    111\u001b[0m     sortedInd\u001b[39m.\u001b[39mreverse() \u001b[39m# decreasing order\u001b[39;00m\n\u001b[1;32m    113\u001b[0m     \u001b[39mreturn\u001b[39;00m sortedInd\n\u001b[0;32m--> 115\u001b[0m \u001b[39mdef\u001b[39;00m \u001b[39msoftplus_deriv\u001b[39m(x):\n\u001b[1;32m    116\u001b[0m     \u001b[39m'''\u001b[39;00m\n\u001b[1;32m    117\u001b[0m \u001b[39m    also sigmoid\u001b[39;00m\n\u001b[1;32m    118\u001b[0m \u001b[39m    '''\u001b[39;00m\n\u001b[1;32m    120\u001b[0m     \u001b[39m# avoiding overflow\u001b[39;00m\n",
      "\u001b[0;31mKeyboardInterrupt\u001b[0m: "
     ]
    }
   ],
   "source": [
    "inits = 20\n",
    "penaltyW=True\n",
    "maxiter = 250\n",
    "\n",
    "path = pni_path\n",
    "\n",
    "N = x.shape[0]\n",
    "D = x.shape[1]\n",
    "C = 2 # only looking at binomial classes\n",
    "K = 1\n",
    "\n",
    "allP = np.zeros((inits, K, K))\n",
    "allW = np.zeros((inits, N, K, D, C))\n",
    "allLl = np.zeros((inits, maxiter))\n",
    "testLl = np.zeros((inits))\n",
    "oneSessInd = [0,N]\n",
    "dGLM_HMM = dglm_hmm1.dGLM_HMM1(N,K,D,C)\n",
    "\n",
    "for i in range(0,inits):\n",
    "    print(\"Init \", i)\n",
    "\n",
    "    # global fit\n",
    "    if (i%2 ==0):\n",
    "        initP0, initW0 = dGLM_HMM.generate_param(sessInd=oneSessInd, transitionDistribution=['dirichlet', (5, 1)], weightDistribution=['uniform', (-2,2)]) \n",
    "    else:\n",
    "        initP0, initW0 = dGLM_HMM.generate_param(sessInd=oneSessInd, transitionDistribution=['dirichlet', (5, 1)], weightDistribution=['normal', (0,2)]) \n",
    "    allP[i], allW[i], allLl[i] = dGLM_HMM.fit(x, y,  initP0, initW0, sigma=reshapeSigma(1, K, D), sessInd=oneSessInd, pi0=None, maxIter=maxiter, tol=1e-3, penaltyW=penaltyW) # sigma does not matter here\n",
    "    \n",
    "    np.save(f'../data_PWM/trainLl-global_PWM_all-animals_sf=4_{K}_state_multiple_inits_penaltyW={penaltyW}', allLl)\n",
    "    np.save(f'../data_PWM/P-global_PWM_all-animals_sf=4_{K}_state_multiple_inits_penaltyW={penaltyW}', allP)\n",
    "    np.save(f'../data_PWM/W-global_PWM_all-animals_sf=4_{K}_state_multiple_inits_penaltyW={penaltyW}', allW)\n",
    "\n",
    "    "
   ]
  },
  {
   "cell_type": "code",
   "execution_count": 15,
   "metadata": {},
   "outputs": [
    {
     "data": {
      "text/plain": [
       "array([ 0,  1,  2,  3,  4,  5,  6,  7,  8,  9, 10, 11, 12, 13, 14, 15, 16,\n",
       "       17, 18, 19])"
      ]
     },
     "execution_count": 15,
     "metadata": {},
     "output_type": "execute_result"
    },
    {
     "data": {
      "image/png": "[encoded data removed]",
      "text/plain": [
       "<Figure size 640x480 with 1 Axes>"
      ]
     },
     "metadata": {},
     "output_type": "display_data"
    }
   ],
   "source": [
    "def plot_loglikelihoods(lls,maxdiff,ax,startix=5):\n",
    "    '''\n",
    "    Plot the trajectory of the log-likelihoods for multiple fits, identify how many top fits (nearly) match, and \n",
    "    color those trajectories in the plot accordingly\n",
    "    '''\n",
    "    \n",
    "    # get the final ll for each fit\n",
    "    final_lls = np.array([np.amax(lls[i,~np.isnan(lls[i,:])]) for i in range(lls.shape[0])])\n",
    "    \n",
    "    # get the index of the top ll\n",
    "    bestix = np.argmax(final_lls)\n",
    "    \n",
    "    # compute the difference between the top ll and all final lls\n",
    "    ll_diffs = final_lls[bestix] - final_lls\n",
    "    \n",
    "    # identify te fits where the difference from the top ll is less than maxdiff\n",
    "    top_matching_lls = lls[ll_diffs < maxdiff,:]\n",
    "    \n",
    "    # plot\n",
    "    ax.plot(np.arange(startix,lls.shape[1]),lls.T[startix:], color='black')\n",
    "    ax.plot(top_matching_lls.T[startix:], color='red')\n",
    "    ax.set_xlabel('iterations of EM', fontsize=16)\n",
    "    ax.set_ylabel('log-likelihood', fontsize=16)\n",
    "    \n",
    "    return np.where(ll_diffs < maxdiff)[0] # return indices of best (matching) fits\n",
    "fig, axes = plt.subplots(1)\n",
    "axes.set_xlim(0,100)\n",
    "plot_loglikelihoods(allLl,maxdiff=0.1,ax=axes,startix=5)"
   ]
  },
  {
   "cell_type": "code",
   "execution_count": 43,
   "metadata": {},
   "outputs": [
    {
     "name": "stdout",
     "output_type": "stream",
     "text": [
      "(489249, 1, 6, 2)\n"
     ]
    }
   ],
   "source": [
    "K = 1\n",
    "allW = np.load(f'../data_PWM/W-global_PWM_all-animals_sf=4_{K}_state_multiple_inits_penaltyW={penaltyW}.npy')\n",
    "weightsGLM = allW[0]\n",
    "print(weightsGLM.shape)"
   ]
  },
  {
   "cell_type": "code",
   "execution_count": null,
   "metadata": {},
   "outputs": [],
   "source": [
    "# Find best init for GLM"
   ]
  },
  {
   "cell_type": "markdown",
   "metadata": {},
   "source": [
    "#### K=2 GLM-HMM Fit with weight initializations from GLM + noise - 3 out of 6 options were top ones, same like Iris' global solutions"
   ]
  },
  {
   "cell_type": "code",
   "execution_count": 64,
   "metadata": {},
   "outputs": [
    {
     "name": "stdout",
     "output_type": "stream",
     "text": [
      "Init  0\n",
      "0\n",
      "Init  1\n",
      "0\n",
      "100\n",
      "200\n",
      "Init  2\n",
      "0\n",
      "Init  3\n",
      "0\n",
      "Init  4\n",
      "0\n",
      "100\n",
      "200\n",
      "Init  5\n",
      "0\n"
     ]
    },
    {
     "ename": "KeyboardInterrupt",
     "evalue": "",
     "output_type": "error",
     "traceback": [
      "\u001b[0;31m---------------------------------------------------------------------------\u001b[0m",
      "\u001b[0;31mKeyboardInterrupt\u001b[0m                         Traceback (most recent call last)",
      "Cell \u001b[0;32mIn[64], line 30\u001b[0m\n\u001b[1;32m     28\u001b[0m     initP, initW0 \u001b[39m=\u001b[39m dGLM_HMM\u001b[39m.\u001b[39mgenerate_param(sessInd\u001b[39m=\u001b[39moneSessInd, transitionDistribution\u001b[39m=\u001b[39m[\u001b[39m'\u001b[39m\u001b[39mdirichlet\u001b[39m\u001b[39m'\u001b[39m, (\u001b[39m5\u001b[39m, \u001b[39m1\u001b[39m)], weightDistribution\u001b[39m=\u001b[39m[\u001b[39m'\u001b[39m\u001b[39mnormal\u001b[39m\u001b[39m'\u001b[39m, (\u001b[39m0\u001b[39m,\u001b[39m1\u001b[39m)]) \n\u001b[1;32m     29\u001b[0m     initW \u001b[39m=\u001b[39m initW0 \u001b[39m+\u001b[39m weightsGLM_K2\n\u001b[0;32m---> 30\u001b[0m allP[i], allW[i], allLl[i] \u001b[39m=\u001b[39m dGLM_HMM\u001b[39m.\u001b[39;49mfit(x, y,  initP, initW, sigma\u001b[39m=\u001b[39;49mreshapeSigma(\u001b[39m1\u001b[39;49m, K, D), sessInd\u001b[39m=\u001b[39;49moneSessInd, pi0\u001b[39m=\u001b[39;49m\u001b[39mNone\u001b[39;49;00m, maxIter\u001b[39m=\u001b[39;49mmaxiter, tol\u001b[39m=\u001b[39;49m\u001b[39m1e-3\u001b[39;49m, penaltyW\u001b[39m=\u001b[39;49mpenaltyW) \u001b[39m# sigma does not matter here\u001b[39;00m\n\u001b[1;32m     31\u001b[0m np\u001b[39m.\u001b[39msave(\u001b[39mf\u001b[39m\u001b[39m'\u001b[39m\u001b[39m../data_PWM/trainLl-global_PWM_all-animals_sf=4_\u001b[39m\u001b[39m{\u001b[39;00mK\u001b[39m}\u001b[39;00m\u001b[39m_state_multiple_inits_penaltyW=\u001b[39m\u001b[39m{\u001b[39;00mpenaltyW\u001b[39m}\u001b[39;00m\u001b[39m'\u001b[39m, allLl)\n\u001b[1;32m     32\u001b[0m np\u001b[39m.\u001b[39msave(\u001b[39mf\u001b[39m\u001b[39m'\u001b[39m\u001b[39m../data_PWM/P-global_PWM_all-animals_sf=4_\u001b[39m\u001b[39m{\u001b[39;00mK\u001b[39m}\u001b[39;00m\u001b[39m_state_multiple_inits_penaltyW=\u001b[39m\u001b[39m{\u001b[39;00mpenaltyW\u001b[39m}\u001b[39;00m\u001b[39m'\u001b[39m, allP)\n",
      "File \u001b[0;32m~/Desktop/github/Pillow_dGLM-HMM/code/dglm_hmm1.py:745\u001b[0m, in \u001b[0;36mdGLM_HMM1.fit\u001b[0;34m(self, x, y, initP, initW, sigma, sessInd, pi0, maxIter, tol, penaltyW)\u001b[0m\n\u001b[1;32m    743\u001b[0m         opt_val \u001b[39m=\u001b[39m \u001b[39mlambda\u001b[39;00m w: \u001b[39mself\u001b[39m\u001b[39m.\u001b[39mvalue_weight_loss_function(w, x[sessInd[s]:sessInd[s\u001b[39m+\u001b[39m\u001b[39m1\u001b[39m]], y[sessInd[s]:sessInd[s\u001b[39m+\u001b[39m\u001b[39m1\u001b[39m]], gammaSess[:,k], prevW, nextW, sigma[k,:], penaltyW\u001b[39m=\u001b[39mpenaltyW)\n\u001b[1;32m    744\u001b[0m         opt_grad \u001b[39m=\u001b[39m \u001b[39mlambda\u001b[39;00m w: \u001b[39mself\u001b[39m\u001b[39m.\u001b[39mgrad_weight_loss_function(w, x[sessInd[s]:sessInd[s\u001b[39m+\u001b[39m\u001b[39m1\u001b[39m]], y[sessInd[s]:sessInd[s\u001b[39m+\u001b[39m\u001b[39m1\u001b[39m]], gammaSess[:,k], prevW, nextW, sigma[k,:], penaltyW\u001b[39m=\u001b[39mpenaltyW)\n\u001b[0;32m--> 745\u001b[0m         optimized \u001b[39m=\u001b[39m minimize(opt_val, w_flat, jac\u001b[39m=\u001b[39;49mopt_grad, method\u001b[39m=\u001b[39;49m\u001b[39m'\u001b[39;49m\u001b[39mL-BFGS-B\u001b[39;49m\u001b[39m'\u001b[39;49m)\n\u001b[1;32m    746\u001b[0m         w[sessInd[s]:sessInd[s\u001b[39m+\u001b[39m\u001b[39m1\u001b[39m],k,:,\u001b[39m1\u001b[39m] \u001b[39m=\u001b[39m optimized\u001b[39m.\u001b[39mx \u001b[39m# updating weight w for current session\u001b[39;00m\n\u001b[1;32m    748\u001b[0m     \u001b[39m# simple optimization\u001b[39;00m\n\u001b[1;32m    749\u001b[0m     \u001b[39m# w_flat = np.ndarray.flatten(w[sessInd[s],:,:,0]) # flatten weights for optimization \u001b[39;00m\n\u001b[1;32m    750\u001b[0m     \u001b[39m# optimized = minimize(self.weight_loss_function, w_flat, args=(x[sessInd[s]:sessInd[s+1]], y[sessInd[s]:sessInd[s+1]], gammaSess, prevW, nextW, sigma))\u001b[39;00m\n\u001b[0;32m   (...)\u001b[0m\n\u001b[1;32m    778\u001b[0m \n\u001b[1;32m    779\u001b[0m \u001b[39m# M-step for transition matrix p - for all sessions together\u001b[39;00m\n",
      "File \u001b[0;32m~/anaconda3/lib/python3.10/site-packages/scipy/optimize/_minimize.py:696\u001b[0m, in \u001b[0;36mminimize\u001b[0;34m(fun, x0, args, method, jac, hess, hessp, bounds, constraints, tol, callback, options)\u001b[0m\n\u001b[1;32m    693\u001b[0m     res \u001b[39m=\u001b[39m _minimize_newtoncg(fun, x0, args, jac, hess, hessp, callback,\n\u001b[1;32m    694\u001b[0m                              \u001b[39m*\u001b[39m\u001b[39m*\u001b[39moptions)\n\u001b[1;32m    695\u001b[0m \u001b[39melif\u001b[39;00m meth \u001b[39m==\u001b[39m \u001b[39m'\u001b[39m\u001b[39ml-bfgs-b\u001b[39m\u001b[39m'\u001b[39m:\n\u001b[0;32m--> 696\u001b[0m     res \u001b[39m=\u001b[39m _minimize_lbfgsb(fun, x0, args, jac, bounds,\n\u001b[1;32m    697\u001b[0m                            callback\u001b[39m=\u001b[39;49mcallback, \u001b[39m*\u001b[39;49m\u001b[39m*\u001b[39;49moptions)\n\u001b[1;32m    698\u001b[0m \u001b[39melif\u001b[39;00m meth \u001b[39m==\u001b[39m \u001b[39m'\u001b[39m\u001b[39mtnc\u001b[39m\u001b[39m'\u001b[39m:\n\u001b[1;32m    699\u001b[0m     res \u001b[39m=\u001b[39m _minimize_tnc(fun, x0, args, jac, bounds, callback\u001b[39m=\u001b[39mcallback,\n\u001b[1;32m    700\u001b[0m                         \u001b[39m*\u001b[39m\u001b[39m*\u001b[39moptions)\n",
      "File \u001b[0;32m~/anaconda3/lib/python3.10/site-packages/scipy/optimize/_lbfgsb_py.py:305\u001b[0m, in \u001b[0;36m_minimize_lbfgsb\u001b[0;34m(fun, x0, args, jac, bounds, disp, maxcor, ftol, gtol, eps, maxfun, maxiter, iprint, callback, maxls, finite_diff_rel_step, **unknown_options)\u001b[0m\n\u001b[1;32m    302\u001b[0m     \u001b[39melse\u001b[39;00m:\n\u001b[1;32m    303\u001b[0m         iprint \u001b[39m=\u001b[39m disp\n\u001b[0;32m--> 305\u001b[0m sf \u001b[39m=\u001b[39m _prepare_scalar_function(fun, x0, jac\u001b[39m=\u001b[39;49mjac, args\u001b[39m=\u001b[39;49margs, epsilon\u001b[39m=\u001b[39;49meps,\n\u001b[1;32m    306\u001b[0m                               bounds\u001b[39m=\u001b[39;49mnew_bounds,\n\u001b[1;32m    307\u001b[0m                               finite_diff_rel_step\u001b[39m=\u001b[39;49mfinite_diff_rel_step)\n\u001b[1;32m    309\u001b[0m func_and_grad \u001b[39m=\u001b[39m sf\u001b[39m.\u001b[39mfun_and_grad\n\u001b[1;32m    311\u001b[0m fortran_int \u001b[39m=\u001b[39m _lbfgsb\u001b[39m.\u001b[39mtypes\u001b[39m.\u001b[39mintvar\u001b[39m.\u001b[39mdtype\n",
      "File \u001b[0;32m~/anaconda3/lib/python3.10/site-packages/scipy/optimize/_optimize.py:332\u001b[0m, in \u001b[0;36m_prepare_scalar_function\u001b[0;34m(fun, x0, jac, args, bounds, epsilon, finite_diff_rel_step, hess)\u001b[0m\n\u001b[1;32m    328\u001b[0m     bounds \u001b[39m=\u001b[39m (\u001b[39m-\u001b[39mnp\u001b[39m.\u001b[39minf, np\u001b[39m.\u001b[39minf)\n\u001b[1;32m    330\u001b[0m \u001b[39m# ScalarFunction caches. Reuse of fun(x) during grad\u001b[39;00m\n\u001b[1;32m    331\u001b[0m \u001b[39m# calculation reduces overall function evaluations.\u001b[39;00m\n\u001b[0;32m--> 332\u001b[0m sf \u001b[39m=\u001b[39m ScalarFunction(fun, x0, args, grad, hess,\n\u001b[1;32m    333\u001b[0m                     finite_diff_rel_step, bounds, epsilon\u001b[39m=\u001b[39;49mepsilon)\n\u001b[1;32m    335\u001b[0m \u001b[39mreturn\u001b[39;00m sf\n",
      "File \u001b[0;32m~/anaconda3/lib/python3.10/site-packages/scipy/optimize/_differentiable_functions.py:158\u001b[0m, in \u001b[0;36mScalarFunction.__init__\u001b[0;34m(self, fun, x0, args, grad, hess, finite_diff_rel_step, finite_diff_bounds, epsilon)\u001b[0m\n\u001b[1;32m    155\u001b[0m     \u001b[39mself\u001b[39m\u001b[39m.\u001b[39mf \u001b[39m=\u001b[39m fun_wrapped(\u001b[39mself\u001b[39m\u001b[39m.\u001b[39mx)\n\u001b[1;32m    157\u001b[0m \u001b[39mself\u001b[39m\u001b[39m.\u001b[39m_update_fun_impl \u001b[39m=\u001b[39m update_fun\n\u001b[0;32m--> 158\u001b[0m \u001b[39mself\u001b[39;49m\u001b[39m.\u001b[39;49m_update_fun()\n\u001b[1;32m    160\u001b[0m \u001b[39m# Gradient evaluation\u001b[39;00m\n\u001b[1;32m    161\u001b[0m \u001b[39mif\u001b[39;00m callable(grad):\n",
      "File \u001b[0;32m~/anaconda3/lib/python3.10/site-packages/scipy/optimize/_differentiable_functions.py:251\u001b[0m, in \u001b[0;36mScalarFunction._update_fun\u001b[0;34m(self)\u001b[0m\n\u001b[1;32m    249\u001b[0m \u001b[39mdef\u001b[39;00m \u001b[39m_update_fun\u001b[39m(\u001b[39mself\u001b[39m):\n\u001b[1;32m    250\u001b[0m     \u001b[39mif\u001b[39;00m \u001b[39mnot\u001b[39;00m \u001b[39mself\u001b[39m\u001b[39m.\u001b[39mf_updated:\n\u001b[0;32m--> 251\u001b[0m         \u001b[39mself\u001b[39;49m\u001b[39m.\u001b[39;49m_update_fun_impl()\n\u001b[1;32m    252\u001b[0m         \u001b[39mself\u001b[39m\u001b[39m.\u001b[39mf_updated \u001b[39m=\u001b[39m \u001b[39mTrue\u001b[39;00m\n",
      "File \u001b[0;32m~/anaconda3/lib/python3.10/site-packages/scipy/optimize/_differentiable_functions.py:155\u001b[0m, in \u001b[0;36mScalarFunction.__init__.<locals>.update_fun\u001b[0;34m()\u001b[0m\n\u001b[1;32m    154\u001b[0m \u001b[39mdef\u001b[39;00m \u001b[39mupdate_fun\u001b[39m():\n\u001b[0;32m--> 155\u001b[0m     \u001b[39mself\u001b[39m\u001b[39m.\u001b[39mf \u001b[39m=\u001b[39m fun_wrapped(\u001b[39mself\u001b[39;49m\u001b[39m.\u001b[39;49mx)\n",
      "File \u001b[0;32m~/anaconda3/lib/python3.10/site-packages/scipy/optimize/_differentiable_functions.py:137\u001b[0m, in \u001b[0;36mScalarFunction.__init__.<locals>.fun_wrapped\u001b[0;34m(x)\u001b[0m\n\u001b[1;32m    133\u001b[0m \u001b[39mself\u001b[39m\u001b[39m.\u001b[39mnfev \u001b[39m+\u001b[39m\u001b[39m=\u001b[39m \u001b[39m1\u001b[39m\n\u001b[1;32m    134\u001b[0m \u001b[39m# Send a copy because the user may overwrite it.\u001b[39;00m\n\u001b[1;32m    135\u001b[0m \u001b[39m# Overwriting results in undefined behaviour because\u001b[39;00m\n\u001b[1;32m    136\u001b[0m \u001b[39m# fun(self.x) will change self.x, with the two no longer linked.\u001b[39;00m\n\u001b[0;32m--> 137\u001b[0m fx \u001b[39m=\u001b[39m fun(np\u001b[39m.\u001b[39;49mcopy(x), \u001b[39m*\u001b[39;49margs)\n\u001b[1;32m    138\u001b[0m \u001b[39m# Make sure the function returns a true scalar\u001b[39;00m\n\u001b[1;32m    139\u001b[0m \u001b[39mif\u001b[39;00m \u001b[39mnot\u001b[39;00m np\u001b[39m.\u001b[39misscalar(fx):\n",
      "File \u001b[0;32m~/Desktop/github/Pillow_dGLM-HMM/code/dglm_hmm1.py:743\u001b[0m, in \u001b[0;36mdGLM_HMM1.fit.<locals>.<lambda>\u001b[0;34m(w)\u001b[0m\n\u001b[1;32m    741\u001b[0m w_flat \u001b[39m=\u001b[39m np\u001b[39m.\u001b[39mndarray\u001b[39m.\u001b[39mflatten(w[sessInd[s],k,:,\u001b[39m1\u001b[39m]) \u001b[39m# flatten weights for optimization \u001b[39;00m\n\u001b[1;32m    742\u001b[0m \u001b[39m#optimized = minimize(self.value_weight_loss_function, w_flat, args=(x[sessInd[s]:sessInd[s+1]], y[sessInd[s]:sessInd[s+1]], gammaSess[:,k], prevW, nextW, sigma[k,:]))\u001b[39;00m\n\u001b[0;32m--> 743\u001b[0m opt_val \u001b[39m=\u001b[39m \u001b[39mlambda\u001b[39;00m w: \u001b[39mself\u001b[39;49m\u001b[39m.\u001b[39;49mvalue_weight_loss_function(w, x[sessInd[s]:sessInd[s\u001b[39m+\u001b[39;49m\u001b[39m1\u001b[39;49m]], y[sessInd[s]:sessInd[s\u001b[39m+\u001b[39;49m\u001b[39m1\u001b[39;49m]], gammaSess[:,k], prevW, nextW, sigma[k,:], penaltyW\u001b[39m=\u001b[39;49mpenaltyW)\n\u001b[1;32m    744\u001b[0m opt_grad \u001b[39m=\u001b[39m \u001b[39mlambda\u001b[39;00m w: \u001b[39mself\u001b[39m\u001b[39m.\u001b[39mgrad_weight_loss_function(w, x[sessInd[s]:sessInd[s\u001b[39m+\u001b[39m\u001b[39m1\u001b[39m]], y[sessInd[s]:sessInd[s\u001b[39m+\u001b[39m\u001b[39m1\u001b[39m]], gammaSess[:,k], prevW, nextW, sigma[k,:], penaltyW\u001b[39m=\u001b[39mpenaltyW)\n\u001b[1;32m    745\u001b[0m optimized \u001b[39m=\u001b[39m minimize(opt_val, w_flat, jac\u001b[39m=\u001b[39mopt_grad, method\u001b[39m=\u001b[39m\u001b[39m'\u001b[39m\u001b[39mL-BFGS-B\u001b[39m\u001b[39m'\u001b[39m)\n",
      "File \u001b[0;32m~/Desktop/github/Pillow_dGLM-HMM/code/dglm_hmm1.py:488\u001b[0m, in \u001b[0;36mdGLM_HMM1.value_weight_loss_function\u001b[0;34m(self, currentW, x, y, gamma, prevW, nextW, sigma, penaltyW)\u001b[0m\n\u001b[1;32m    486\u001b[0m sessW \u001b[39m=\u001b[39m np\u001b[39m.\u001b[39mzeros((T, \u001b[39m1\u001b[39m, \u001b[39mself\u001b[39m\u001b[39m.\u001b[39md, \u001b[39mself\u001b[39m\u001b[39m.\u001b[39mc)) \u001b[39m# K=1\u001b[39;00m\n\u001b[1;32m    487\u001b[0m \u001b[39mfor\u001b[39;00m t \u001b[39min\u001b[39;00m \u001b[39mrange\u001b[39m(\u001b[39m0\u001b[39m,T):\n\u001b[0;32m--> 488\u001b[0m     sessW[t,\u001b[39m0\u001b[39m,:,\u001b[39m1\u001b[39m] \u001b[39m=\u001b[39m currentW[:]\n\u001b[1;32m    490\u001b[0m phi \u001b[39m=\u001b[39m \u001b[39mself\u001b[39m\u001b[39m.\u001b[39mobservation_probability(x, sessW) \u001b[39m# N x 1 x C phi matrix calculated with currentW\u001b[39;00m\n\u001b[1;32m    491\u001b[0m logPhi \u001b[39m=\u001b[39m np\u001b[39m.\u001b[39mlog(phi) \u001b[39m# natural log of observation probabilities\u001b[39;00m\n",
      "\u001b[0;31mKeyboardInterrupt\u001b[0m: "
     ]
    }
   ],
   "source": [
    "inits = 12\n",
    "penaltyW=True\n",
    "maxiter = 250\n",
    "\n",
    "path = pni_path\n",
    "\n",
    "N = x.shape[0]\n",
    "D = x.shape[1]\n",
    "C = 2 # only looking at binomial classes\n",
    "K = 2\n",
    "\n",
    "allP = np.zeros((inits, K, K))\n",
    "allW = np.zeros((inits, N, K, D, C))\n",
    "allLl = np.zeros((inits, maxiter))\n",
    "testLl = np.zeros((inits))\n",
    "oneSessInd = [0,N]\n",
    "dGLM_HMM = dglm_hmm1.dGLM_HMM1(N,K,D,C)\n",
    "\n",
    "weightsGLM_K2 = np.repeat(weightsGLM, 2, axis=1)\n",
    "for i in range(0,inits):\n",
    "    print(\"Init \", i)\n",
    "    # global fit\n",
    "    if (i%2 ==0):\n",
    "        initP, initW0 = dGLM_HMM.generate_param(sessInd=oneSessInd, transitionDistribution=['dirichlet', (5, 1)], weightDistribution=['uniform', (-1,1)]) \n",
    "        initW = initW0 + weightsGLM_K2\n",
    "    else:\n",
    "        initP, initW0 = dGLM_HMM.generate_param(sessInd=oneSessInd, transitionDistribution=['dirichlet', (5, 1)], weightDistribution=['normal', (0,1)]) \n",
    "        initW = initW0 + weightsGLM_K2\n",
    "    allP[i], allW[i], allLl[i] = dGLM_HMM.fit(x, y,  initP, initW, sigma=reshapeSigma(1, K, D), sessInd=oneSessInd, pi0=None, maxIter=maxiter, tol=1e-3, penaltyW=penaltyW) # sigma does not matter here\n",
    "    np.save(f'../data_PWM/trainLl-global_PWM_all-animals_sf=4_{K}_state_multiple_inits_penaltyW={penaltyW}', allLl)\n",
    "    np.save(f'../data_PWM/P-global_PWM_all-animals_sf=4_{K}_state_multiple_inits_penaltyW={penaltyW}', allP)\n",
    "    np.save(f'../data_PWM/W-global_PWM_all-animals_sf=4_{K}_state_multiple_inits_penaltyW={penaltyW}', allW)\n",
    "\n",
    "    "
   ]
  }
 ],
 "metadata": {
  "kernelspec": {
   "display_name": "base",
   "language": "python",
   "name": "python3"
  },
  "language_info": {
   "codemirror_mode": {
    "name": "ipython",
    "version": 3
   },
   "file_extension": ".py",
   "mimetype": "text/x-python",
   "name": "python",
   "nbconvert_exporter": "python",
   "pygments_lexer": "ipython3",
   "version": "3.10.9"
  },
  "orig_nbformat": 4
 },
 "nbformat": 4,
 "nbformat_minor": 2
}
