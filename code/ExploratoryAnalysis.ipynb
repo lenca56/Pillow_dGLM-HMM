{
 "cells": [
  {
   "cell_type": "code",
   "execution_count": 18,
   "metadata": {},
   "outputs": [],
   "source": [
    "# importing packages and modules\n",
    "import pandas as pd \n",
    "import numpy as np\n",
    "from pathlib import Path\n",
    "import math\n",
    "import pickle\n",
    "import matplotlib.pyplot as plt\n",
    "import scipy.stats as stats\n"
   ]
  },
  {
   "cell_type": "code",
   "execution_count": 19,
   "metadata": {},
   "outputs": [
    {
     "name": "stdout",
     "output_type": "stream",
     "text": [
      "True Transition Matrix P\n",
      "[[0.97 0.03]\n",
      " [0.05 0.95]]\n"
     ]
    }
   ],
   "source": [
    "trueP = np.zeros((2,2))\n",
    "trueP[0,0]=0.97\n",
    "trueP[0,1]=0.03\n",
    "trueP[1,0]=.05\n",
    "trueP[1,1]=.95\n",
    "print(\"True Transition Matrix P\")\n",
    "print(trueP)"
   ]
  },
  {
   "cell_type": "code",
   "execution_count": 20,
   "metadata": {},
   "outputs": [
    {
     "data": {
      "image/png": "[encoded data removed]",
      "text/plain": [
       "<Figure size 432x288 with 1 Axes>"
      ]
     },
     "metadata": {},
     "output_type": "display_data"
    }
   ],
   "source": [
    "S = 10 # sessions\n",
    "T = 500 # trials per session\n",
    "N = T * S\n",
    "C = 2 # classes\n",
    "K = 2 # states\n",
    "D = 2 # features (sensory & bias)\n",
    "ourW = np.zeros((S,K,D))\n",
    "ourW[:,0,0] = np.linspace(0,2,S) # state 1 sensory (increasing)\n",
    "ourW[:,0,1] = np.linspace(1,0,S) # state 1 bias (decreasing)\n",
    "ourW[:,1,0] = 0 # state 2 sensory (flat 0)\n",
    "ourW[:,1,1] = 1 # state 2 bias (flat 1)\n",
    "plt.plot(range(1,S+1),ourW[:,0,0],color='blue',marker='o',label='state 0 sensory')\n",
    "plt.plot(range(1,S+1),ourW[:,0,1],color='blue',marker='o',linestyle=':',label='state 0 bias')\n",
    "plt.plot(range(1,S+1),ourW[:,1,0],color='red',marker='o',label='state 1 sensory')\n",
    "plt.plot(range(1,S+1),ourW[:,1,1],color='red',marker='o',linestyle=':',label='state 1 bias')\n",
    "plt.ylabel(\"true weights\")\n",
    "plt.xlabel('session')\n",
    "plt.legend(fontsize='xx-small')\n",
    "plt.show()\n",
    "trueW = np.zeros((N,K,D,C))\n",
    "# change weight format to have session*trials points\n",
    "for sess in range(0,S):\n",
    "    for t in range(0,T):\n",
    "        trueW[sess*T+t,:,:,1] = ourW[sess,:,:]\n",
    "\n"
   ]
  },
  {
   "cell_type": "code",
   "execution_count": 36,
   "metadata": {},
   "outputs": [],
   "source": [
    "def emission_probability(x, w,  z=None, latents=False):\n",
    "    '''\n",
    "    Calculating emission probabilities for each session\n",
    "\n",
    "    Parameters\n",
    "    ----------\n",
    "    x: N x D numpy array\n",
    "    z: N x 1 numpy array\n",
    "    w: N x K x D x C numpy array\n",
    "\n",
    "    Returns\n",
    "    -------\n",
    "    phi: N x K x C numpy array\n",
    "        emission probabilities\n",
    "    '''\n",
    "    N = x.shape[0]\n",
    "    D = x.shape[1]\n",
    "    K = w.shape[1]\n",
    "    phi = np.empty((N,K,C)) # probability that it is state 1\n",
    "    for k in range(0,K):\n",
    "        for c in range(0,C):\n",
    "            phi[:,k,c] = np.exp(-np.sum(x*w[:,k,:,c],axis=1))\n",
    "        phi[:,k,:]  = np.divide((phi[:,k,:]).T,np.sum(phi[:,k,:],axis=1)).T     \n",
    "    \n",
    "    # np.sum()\n",
    "    # if(plot==True):\n",
    "    #     plt.title(\"histogram for emission probabilities of y_t=1\")\n",
    "    #     plt.hist(phi,[0,0.2,0.4,0.6,0.8,1])\n",
    "    #     plt.show()\n",
    "    \n",
    "\n",
    "    return phi\n",
    "phiSim = emission_probability(xSim, trueW,  z=None, latents=False)\n",
    "print(phiSim)\n",
    "\n",
    "# CHECKING WITH IRIS' CODE"
   ]
  },
  {
   "cell_type": "code",
   "execution_count": 23,
   "metadata": {},
   "outputs": [],
   "source": [
    "def simulate_data(trueW, trueP,priorZstart,sess):\n",
    "    '''\n",
    "    function that simulates X and Y data from true weights and true transition matrix\n",
    "    S sessions, K states, D features (in the order: sensory, bias)\n",
    "    K = 2 BINOMIAL\n",
    "\n",
    "    Parameters\n",
    "    ----------\n",
    "    trueW: S x K x D numpy array\n",
    "        true weight matrix\n",
    "    trueP: K X K numpy array\n",
    "        true probability transition matrix\n",
    "    priorZstart: int\n",
    "        prior for initial latent state to be 0\n",
    "        \n",
    "    Returns\n",
    "    -------\n",
    "    x_sim: N x D\n",
    "    y_sim: N x C\n",
    "    z_sim: \n",
    "\n",
    "    '''\n",
    "\n",
    "    # check that weights and transition matrix are valid options\n",
    "\n",
    "    n = trueW.shape[0]\n",
    "    k = trueW.shape[1] # states\n",
    "    d = trueW.shape[2] # features\n",
    "    c = trueW.shape[3]\n",
    "    x = np.empty((n,d))\n",
    "    y = np.empty((n,c))\n",
    "    z = np.empty((n,),dtype=int)\n",
    "\n",
    "    # input data x\n",
    "    x[:,1] = 1 # bias term\n",
    "    x[:,0] = stats.uniform.rvs(loc=-16,scale=33,size=n).astype(int)\n",
    "    x[:,0] = x[:,0] - x[:,0].mean()\n",
    "    x[:,0] = x[:,0] / x[:,0].std()\n",
    "\n",
    "    # # latent variables z \n",
    "    # for t in range(0,n):\n",
    "    #     if (t % trials==0): # beginning of session has a new draw for latent\n",
    "    #         z[t] = np.random.binomial(n=1,p=1-priorZstart)\n",
    "    #     else:\n",
    "    #         z[t] = np.random.binomial(n=1, p=trueP[z[t-1],1])\n",
    "\n",
    "    # for sess in range(0,s): # true weight are the same within one session\n",
    "    #     # # choice/output data y\n",
    "    #     # y[t] = np.random.binomial(n=1,p=1/(1+math.exp(-true_w[sess,])))\n",
    "\n",
    "    # phi = emission_probability(x,z,w,plot=False)\n",
    "\n",
    "    # for t in range(0,n):\n",
    "    #     y[t] = np.random.binomial(n=1,p=phi[t])\n",
    "    \n",
    "    # print(z.sum())\n",
    "\n",
    "    return x, y, z\n",
    "\n",
    "xSim, _, _  = simulate_data(trueW=trueW, trueP=trueP, priorZstart=0.5, sess=500)"
   ]
  },
  {
   "cell_type": "code",
   "execution_count": 6,
   "metadata": {},
   "outputs": [
    {
     "data": {
      "image/png": "[encoded data removed]",
      "text/plain": [
       "<Figure size 432x288 with 1 Axes>"
      ]
     },
     "metadata": {
      "needs_background": "light"
     },
     "output_type": "display_data"
    },
    {
     "data": {
      "text/plain": [
       "array([0.73105858, 0.73105858, 0.73105858, ..., 0.73105858, 0.73105858,\n",
       "       0.73105858])"
      ]
     },
     "execution_count": 6,
     "metadata": {},
     "output_type": "execute_result"
    }
   ],
   "source": [
    "emission_probability(x_sim, z_sim, w_sim, plot=True)\n",
    "\n"
   ]
  },
  {
   "cell_type": "code",
   "execution_count": 7,
   "metadata": {},
   "outputs": [
    {
     "data": {
      "image/png": "[encoded data removed]",
      "text/plain": [
       "<Figure size 432x288 with 1 Axes>"
      ]
     },
     "metadata": {
      "needs_background": "light"
     },
     "output_type": "display_data"
    }
   ],
   "source": [
    "def accuracy(x,y,z,s):\n",
    "    '''\n",
    "    Calculates and plots percentage accuracy (given X and Y) and percentage accuracy in state 0 (given Z)\n",
    "\n",
    "    X: N x D numpy array\n",
    "    Y: N x 1 numpy array\n",
    "    s: int\n",
    "        number of sessions\n",
    "    '''\n",
    "    n = x.shape[0]\n",
    "    perf = np.zeros((s,))\n",
    "    trials = int(n/s)\n",
    "    state0 = np.empty((s,))\n",
    "    ind = []\n",
    "    for sess in range(0,s):\n",
    "        state0[sess] = trials - z_sim[sess*trials:(sess+1)*trials].sum()\n",
    "        for t in range(0,trials):\n",
    "            if (x[sess*trials+t,0]>0 and y[sess*trials+t]==1):\n",
    "                perf[sess]+=1\n",
    "            elif (x[sess*trials+t,0]<0 and y[sess*trials+t]==0):\n",
    "                perf[sess]+=1\n",
    "            else:\n",
    "                ind.append(sess*trials+t)\n",
    "\n",
    "    perf = perf / trials # normalize to number of trials per session\n",
    "    state0 = state0 / trials\n",
    "    plt.plot(range(0,s),state0,marker='o',color='darkgray',label='state 0')\n",
    "    plt.plot(range(0,s),perf,marker='o',label=\"accurracy\")\n",
    "    plt.xlabel(\"sesion\")\n",
    "    plt.legend()\n",
    "    plt.show()\n",
    "\n",
    "    return perf, ind\n",
    "perf,ind = accuracy(x_sim,y_sim,z_sim,s=10)"
   ]
  },
  {
   "cell_type": "code",
   "execution_count": 7,
   "metadata": {},
   "outputs": [
    {
     "name": "stdout",
     "output_type": "stream",
     "text": [
      "-3234.832415737818\n",
      "[[0.49994309 0.50005691]\n",
      " [0.50782564 0.49217436]\n",
      " [0.49963593 0.50036407]\n",
      " ...\n",
      " [0.41002458 0.58997542]\n",
      " [0.35864105 0.64135895]\n",
      " [0.36846614 0.63153386]]\n",
      "[[0.5        0.5       ]\n",
      " [0.51522794 0.48477206]\n",
      " [0.5217031  0.4782969 ]\n",
      " ...\n",
      " [0.38186048 0.61813952]\n",
      " [0.44136397 0.55863603]\n",
      " [0.39915473 0.60084527]]\n",
      "[0.59628475 0.59625009 0.59565863 ... 0.58647055 0.41592507 0.41007733]\n"
     ]
    }
   ],
   "source": [
    "# Using Iris' code to fit simulate data and calculate alpha forward and backward\n",
    "\n",
    "# Import outside packages by changing the path\n",
    "import sys, os\n",
    "sys.path.append(os.path.abspath(os.path.join('..', '..', 'glmhmm')))\n",
    "from glmhmm import glm, glm_hmm, utils\n",
    "from glmhmm.utils import permute_states, find_best_fit, compare_top_weights\n",
    "from glmhmm import visualize, analysis\n",
    "\n",
    "true_GLMHMM = glm_hmm.GLMHMM(N,D,C,K,observations=\"bernoulli\")\n",
    "\n",
    "inits = 1 # set the number of initializations\n",
    "\n",
    "# store values for each initialization\n",
    "lls_all = np.zeros((inits,250))\n",
    "A_all = np.zeros((inits,K,K))\n",
    "w_all = np.zeros((inits,K,D,C))\n",
    "\n",
    "# fit the model for each initialization\n",
    "A_init,w_init,pi_init = true_GLMHMM.generate_params() # initialize the model parameters\n",
    "lls_all[0,:],A_all[0,:,:],w_all[0,:,:],pi0 = true_GLMHMM.fit(y_sim,x_sim,A_init,w_init,maxiter=1) # fit the model\n",
    "\n"
   ]
  },
  {
   "cell_type": "code",
   "execution_count": 8,
   "metadata": {},
   "outputs": [
    {
     "name": "stdout",
     "output_type": "stream",
     "text": [
      "[[[0.         0.01830653]\n",
      "  [0.         0.59404611]]\n",
      "\n",
      " [[0.         0.81900947]\n",
      "  [0.         0.8031173 ]]]\n"
     ]
    }
   ],
   "source": [
    "print(w_init)"
   ]
  },
  {
   "cell_type": "code",
   "execution_count": 8,
   "metadata": {},
   "outputs": [
    {
     "name": "stdout",
     "output_type": "stream",
     "text": [
      "1931\n",
      "216\n"
     ]
    }
   ],
   "source": [
    "def forward_pass(w,P):\n",
    "    '''\n",
    "    Calculates alpha scaled as part of the forward-backward algorithm in E-step for a single session \n",
    "    given current parameters weight w and transition matrix P\n",
    "\n",
    "    Parameters\n",
    "    ----------\n",
    "    y : nx1 vector of observations\n",
    "    P : kxk matrix of transition probabilities\n",
    "    phi : nxkxc matrix of emission probabilities\n",
    "        \n",
    "    Returns\n",
    "    -------\n",
    "    ll : float, marginal log-likelihood of the data p(y)\n",
    "    alpha : nx1 vector of the conditional probabilities p(z_t|x_{1:t},y_{1:t})\n",
    "    cs : nx1 vector of the forward marginal likelihoods\n",
    "    '''"
   ]
  },
  {
   "cell_type": "code",
   "execution_count": null,
   "metadata": {},
   "outputs": [],
   "source": [
    "# Iris' forward pass function\n",
    "def forwardPass(self,y,A,phi,pi0=None):\n",
    "        \n",
    "        '''\n",
    "        Computes forward pass of Expectation Maximization (EM) algorithm; first half of E-step.\n",
    "        \n",
    "        Parameters\n",
    "        ----------\n",
    "        y : nx1 vector of observations\n",
    "        A : kxk matrix of transition probabilities\n",
    "        phi : nxkxc matrix of emission probabilities\n",
    "        \n",
    "        Returns\n",
    "        -------\n",
    "        ll : float, marginal log-likelihood of the data p(y)\n",
    "        alpha : nx1 vector of the conditional probabilities p(z_t|x_{1:t},y_{1:t})\n",
    "        cs : nx1 vector of the forward marginal likelihoods\n",
    "        '''\n",
    "        \n",
    "        alpha = np.zeros((y.shape[0],self.k)) # forward probabilities p(z_t | y_1:t)\n",
    "        alpha_prior = np.zeros_like(alpha) # prior probabilities p(z_t | y_1:t-1)\n",
    "        cs = np.zeros(y.shape[0]) # forward marginal likelihoods\n",
    "        \n",
    "        # if not fitting initial state probabilities, initialize to ones\n",
    "        if not np.any(pi0):\n",
    "            pi0 = np.ones(self.k)/self.k\n",
    "            \n",
    "        # if phi is 2d, add a time/trial axis (repeats matrix n times for stationary transitions)\n",
    "        if len(phi.shape) == 2:\n",
    "            phir = np.broadcast_to(phi, (y.shape[0], self.k, self.c))\n",
    "        elif len(phi.shape) == 3:\n",
    "            phir = phi\n",
    "        \n",
    "        # first time bin\n",
    "        pxz = np.multiply(phir[0,:,int(y[0])],np.squeeze(pi0)) # weight t=0 observation probabilities by initial state probabilities\n",
    "        cs[0] = np.sum(pxz) # normalizer\n",
    "\n",
    "        alpha[0] = pxz/cs[0] # conditional p(z_1 | y_1)\n",
    "        alpha_prior[0] = 1/self.k # conditional p(z_0 | y_0)\n",
    "    \n",
    "        # forward pass for remaining time bins\n",
    "        for i in np.arange(1,y.shape[0]):\n",
    "            alpha_prior[i] = alpha[i-1]@A # propogate uncertainty forward\n",
    "            pxz = np.multiply(phir[i,:,int(y[i])],alpha_prior[i]) # joint P(y_1:t,z_t)\n",
    "            cs[i] = np.sum(pxz) # conditional p(y_t | y_1:t-1)\n",
    "            alpha[i] = pxz/cs[i] # conditional p(z_t | y_1:t)\n",
    "        \n",
    "        ll = np.sum(np.log(cs))\n",
    "        \n",
    "        return ll,alpha,alpha_prior,cs"
   ]
  },
  {
   "cell_type": "code",
   "execution_count": null,
   "metadata": {},
   "outputs": [],
   "source": [
    "# Iris' fitting function\n",
    "\n",
    "def fit(self,y,x,A,w,pi0=None,fit_init_states=False,maxiter=250,tol=1e-3,sess=None,B=1):\n",
    "        '''\n",
    "        Parameters\n",
    "        ----------\n",
    "        y : nx1 vector of observations \n",
    "        A : initial kxk matrix of transition probabilities\n",
    "        phi : initial kxc or nxkxc matrix of emission probabilities\n",
    "        pi0 : initial kx1 vector of state probabilities for t=1.\n",
    "        fit_init_states : boolean, determines if EM will including fitting pi\n",
    "        maxiter : int. The maximum number of iterations of EM to allow. The default is 250.\n",
    "        tol : float. The tolerance value for the loglikelihood to allow early stopping of EM. The default is 1e-3.\n",
    "        sessions : an optional vector of the first and last indices of different sessions in the data (for\n",
    "        separate computations of the E step; first and last entries should be 0 and n, respectively)  \n",
    "        B : an optional temperature parameter used when fitting via direct annealing EM (DAEM; see Ueda and Nakano 1998)                                                                                         \n",
    "        Returns\n",
    "        -------\n",
    "        lls : vector of loglikelihoods for each step of EM, size maxiter \n",
    "        A : fitted kxk matrix of transition probabilities\n",
    "        w : fitted kxdxc omatrix of weights\n",
    "        pi0 : fitted kx1 vector of state probabilities for t= (only different from initial value of fit_init_states=True)\n",
    "        '''\n",
    "        \n",
    "        self.lls = np.empty(maxiter)\n",
    "        self.lls[:] = np.nan\n",
    "            \n",
    "        # store variables\n",
    "        self.pi0 = pi0\n",
    "        \n",
    "        # # compute phi for each state from weights \n",
    "        phi = np.zeros((self.n,self.k,self.c))\n",
    "        for i in range(self.n):\n",
    "            for zi in range(self.k):\n",
    "                phi[i,zi,:] = self.glm.observations.compObs(x[i,:],w[zi,:,:])\n",
    "        \n",
    "        if sess is None:\n",
    "            sess = np.array([0,self.n]) # equivalent to saying the entire data set has one session\n",
    "        \n",
    "        for n in range(maxiter):\n",
    "            \n",
    "            # E STEP\n",
    "            alpha = np.zeros((self.n,self.k))\n",
    "            beta = np.zeros_like(alpha)\n",
    "            cs = np.zeros((self.n))\n",
    "            self.pStates = np.zeros_like(alpha)\n",
    "            self.states = np.zeros_like(cs)\n",
    "            ll = 0\n",
    "            \n",
    "            for s in range(len(sess)-1): # compute E step separately over each session or day of data \n",
    "                ll_s,alpha_s,_,cs_s = self.forwardPass(y[sess[s]:sess[s+1]],A,phi[sess[s]:sess[s+1],:,:],pi0=pi0)\n",
    "                pBack_s,beta_s,zhatBack_s = self.backwardPass(y[sess[s]:sess[s+1]],A,phi[sess[s]:sess[s+1],:,:],alpha_s,cs_s)\n",
    "                \n",
    "                \n",
    "                ll += ll_s\n",
    "                alpha[sess[s]:sess[s+1]] = alpha_s\n",
    "                cs[sess[s]:sess[s+1]] = cs_s\n",
    "                self.pStates[sess[s]:sess[s+1]] = pBack_s ** B\n",
    "                beta[sess[s]:sess[s+1]] = beta_s\n",
    "                self.states[sess[s]:sess[s+1]] = zhatBack_s\n",
    "                \n",
    "            \n",
    "            self.lls[n] = ll\n",
    "            \n",
    "            # M STEP\n",
    "            A,w,phi,pi0 = self._updateParams(y,x,self.pStates,beta,alpha,cs,A,phi,w,fit_init_states = fit_init_states)\n",
    "            \n",
    "            \n",
    "            # CHECK FOR CONVERGENCE    \n",
    "            self.lls[n] = ll\n",
    "            if  n > 5 and self.lls[n-5] + tol >= ll: # break early if tolerance is reached\n",
    "                break\n",
    "        \n",
    "        self.A,self.w,self.phi,self.pi0 = A,w,phi,pi0\n",
    "\n",
    "        return self.lls,self.A,self.w,self.pi0"
   ]
  }
 ],
 "metadata": {
  "kernelspec": {
   "display_name": "base",
   "language": "python",
   "name": "python3"
  },
  "language_info": {
   "codemirror_mode": {
    "name": "ipython",
    "version": 3
   },
   "file_extension": ".py",
   "mimetype": "text/x-python",
   "name": "python",
   "nbconvert_exporter": "python",
   "pygments_lexer": "ipython3",
   "version": "3.7.3"
  },
  "orig_nbformat": 4
 },
 "nbformat": 4,
 "nbformat_minor": 2
}
