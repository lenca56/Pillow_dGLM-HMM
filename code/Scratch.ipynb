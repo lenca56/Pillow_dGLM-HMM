{
 "cells": [
  {
   "cell_type": "code",
   "execution_count": 1,
   "metadata": {},
   "outputs": [],
   "source": [
    "from matplotlib import pyplot as plt\n",
    "import numpy as np\n",
    "import pandas as pd\n",
    "# from oneibl.onelight import ONE # only used for downloading data\n",
    "# import wget\n",
    "from utils import *\n",
    "from plotting_utils import *\n",
    "from analysis_utils import *\n",
    "import dglm_hmm2\n",
    "from pandas.errors import SettingWithCopyWarning\n",
    "warnings.simplefilter(action=\"ignore\", category=SettingWithCopyWarning)\n",
    "import sys\n",
    "import os\n",
    "\n",
    "ibl_data_path = '../data_IBL'\n",
    "dfAll = pd.read_csv(ibl_data_path + '/Ibl_processed.csv')\n",
    "subjectsWitten = np.unique(dfAll[dfAll['lab'] == 'wittenlab']['subject']).tolist()\n",
    "subjectsWitten.remove('ibl_witten_02')\n",
    "subjectsWitten.remove('ibl_witten_03')"
   ]
  },
  {
   "cell_type": "code",
   "execution_count": 8,
   "metadata": {},
   "outputs": [
    {
     "name": "stdout",
     "output_type": "stream",
     "text": [
      "ibl_witten_15\n",
      "69\n"
     ]
    }
   ],
   "source": [
    "# read from cluster array in order to get parallelizations\n",
    "idx = 7 #int(os.environ[\"SLURM_ARRAY_TASK_ID\"]) # 0,8 inclusively\n",
    "subject = subjectsWitten[idx]\n",
    "K = 3\n",
    "print(subject)\n",
    "\n",
    "# setting hyperparameters\n",
    "alpha = 0\n",
    "L2penaltyW = 1\n",
    "maxiter = 3\n",
    "bestSigma = 1 # verified from fitting multiple sigmas\n",
    "priorDirP = None\n",
    "fit_init_states = False\n",
    "\n",
    "D = 4 # number of features\n",
    "sessStop = -1 # last session to use in fitting\n",
    "\n",
    "# fitting for K = 1,2,3,4\n",
    "x, y, sessInd, _ = get_mouse_design(dfAll, subject, sessStop=sessStop, D=D) # NOT LOOKING AT FULL DATASET\n",
    "N = x.shape[0]\n",
    "sess = len(sessInd)-1\n",
    "print(sess)\n",
    "\n",
    "# parameters for best model in dGLM-HMM1 (only weights varying)\n",
    "dglmhmmW = np.load(f'../data_IBL/{subject}/{subject}_bestW_D={D}_{K}_state_CV_sigma=1_L2penaltyW={L2penaltyW}_priorDirP={priorDirP}_untilSession{sessStop}.npy')\n",
    "globalP = np.load(f'../data_IBL/{subject}/{subject}_bestP_D={D}_{K}_state_CV_sigma=1_L2penaltyW={L2penaltyW}_priorDirP={priorDirP}_untilSession{sessStop}.npy')  \n",
    "\n",
    "inits = 3 # first one is constant P\n",
    "trainLl = np.zeros((inits,maxiter))\n",
    "testLl = np.zeros((inits))\n",
    "testAccuracy = np.zeros((inits))\n",
    "allP = np.zeros((inits,N,K,K))\n",
    "allW = np.zeros((inits,N,K,D,2))\n",
    "\n"
   ]
  },
  {
   "cell_type": "code",
   "execution_count": 9,
   "metadata": {},
   "outputs": [
    {
     "name": "stdout",
     "output_type": "stream",
     "text": [
      "0\n",
      "1\n",
      "2\n"
     ]
    }
   ],
   "source": [
    "initP = np.load(f'../data_IBL/{subject}/{subject}_initP-noisy-alpha=10.npy')\n",
    "allP[0] = initP[0] # globalP repeated across sessions - constant\n",
    "allW[0] = np.copy(dglmhmmW)\n",
    "bestAlpha = 0\n",
    "pi = np.ones((K))/K    \n",
    "presentAll = np.ones((N))\n",
    "dGLM_HMM2 = dglm_hmm2.dGLM_HMM2(N,K,D,2)\n",
    "for init in range(0,inits):\n",
    "    print(init)\n",
    "    # fitting\n",
    "    if init !=0: # first init is only evaluated\n",
    "        allP[init], _, allW[init], trainLl[init] = dGLM_HMM2.fit(x, y, presentAll, initP[init], pi, dglmhmmW, sigma=reshapeSigma(bestSigma, K, D), alpha=bestAlpha, globalP=globalP, sessInd=sessInd, maxIter=maxiter, tol=1e-3, L2penaltyW=L2penaltyW, fit_init_states=fit_init_states) \n",
    "\n",
    "    # evaluate \n",
    "    testLl[init], testAccuracy[init] = dGLM_HMM2.evaluate(x, y, sessInd, presentAll, allP[init], pi, allW[init], sortStates=False)\n",
    "                                 \n",
    "np.savez(f'../data_IBL/{subject}/{subject}_D={D}_{K}_state_alpha={bestAlpha}_multiple-inits_L2penaltyW={L2penaltyW}_untilSession{sessStop}', trainLl=trainLl, allP=allP, allW=allW, testLl=testLl, testAccuracy=testAccuracy)\n"
   ]
  }
 ],
 "metadata": {
  "kernelspec": {
   "display_name": "base",
   "language": "python",
   "name": "python3"
  },
  "language_info": {
   "codemirror_mode": {
    "name": "ipython",
    "version": 3
   },
   "file_extension": ".py",
   "mimetype": "text/x-python",
   "name": "python",
   "nbconvert_exporter": "python",
   "pygments_lexer": "ipython3",
   "version": "3.9.12"
  }
 },
 "nbformat": 4,
 "nbformat_minor": 2
}
