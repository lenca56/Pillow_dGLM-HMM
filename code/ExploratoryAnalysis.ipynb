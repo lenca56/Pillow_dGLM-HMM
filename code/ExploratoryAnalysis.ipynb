{
 "cells": [
  {
   "cell_type": "code",
   "execution_count": null,
   "metadata": {},
   "outputs": [
    {
     "ename": "",
     "evalue": "",
     "output_type": "error",
     "traceback": [
      "\u001b[1;31mFailed to start the Kernel. \n",
      "\u001b[1;31mEPERM: operation not permitted, scandir '/Users/lencacuturela/Desktop/Research/github/Pillow_dGLM-HMM/code'. \n",
      "\u001b[1;31mView Jupyter <a href='command:jupyter.viewOutput'>log</a> for further details."
     ]
    }
   ],
   "source": [
    "# importing packages and modules\n",
    "import pandas as pd \n",
    "import numpy as np\n",
    "from pathlib import Path\n",
    "import math\n",
    "import pickle\n",
    "import matplotlib.pyplot as plt\n",
    "import scipy.stats as stats\n"
   ]
  },
  {
   "cell_type": "code",
   "execution_count": 172,
   "metadata": {},
   "outputs": [
    {
     "name": "stdout",
     "output_type": "stream",
     "text": [
      "True Transition Matrix P\n",
      "[[1.   0.  ]\n",
      " [0.05 0.95]]\n"
     ]
    }
   ],
   "source": [
    "ourP = np.zeros((2,2))\n",
    "ourP[0,0]=.97\n",
    "ourP[0,1]=.03\n",
    "ourP[1,0]=.05\n",
    "ourP[1,1]=.95\n",
    "print(\"True Transition Matrix P\")\n",
    "print(ourP)\n",
    "\n"
   ]
  },
  {
   "cell_type": "code",
   "execution_count": 173,
   "metadata": {},
   "outputs": [
    {
     "data": {
      "image/png": "[encoded data removed]",
      "text/plain": [
       "<Figure size 432x288 with 1 Axes>"
      ]
     },
     "metadata": {
      "needs_background": "light"
     },
     "output_type": "display_data"
    }
   ],
   "source": [
    "s = 10 # sessions\n",
    "t = 500 # trials per session\n",
    "k = 2 # states\n",
    "d = 2 # features (sensory & bias)\n",
    "ourW = np.zeros((s,k,d))\n",
    "ourW[:,0,0] = np.linspace(0,2,s) # state 1 sensory (increasing)\n",
    "ourW[:,0,1] = np.linspace(1,0,s) # state 1 bias (decreasing)\n",
    "ourW[:,1,0] = 0 # state 2 sensory (flat 0)\n",
    "ourW[:,1,1] = 1 # state 2 bias (flat 1)\n",
    "plt.plot(range(1,s+1),ourW[:,0,0],color='blue',marker='o',label='state 0 sensory')\n",
    "plt.plot(range(1,s+1),ourW[:,0,1],color='blue',marker='o',linestyle=':',label='state 0 bias')\n",
    "plt.plot(range(1,s+1),ourW[:,1,0],color='red',marker='o',label='state 1 sensory')\n",
    "plt.plot(range(1,s+1),ourW[:,1,1],color='red',marker='o',linestyle=':',label='state 1 bias')\n",
    "plt.ylabel(\"true weights\")\n",
    "plt.xlabel('session')\n",
    "plt.legend()\n",
    "plt.show()"
   ]
  },
  {
   "cell_type": "code",
   "execution_count": 174,
   "metadata": {},
   "outputs": [
    {
     "name": "stdout",
     "output_type": "stream",
     "text": [
      "0\n"
     ]
    }
   ],
   "source": [
    "def simulate_data(true_w, true_P,priorZstart,trials):\n",
    "    '''\n",
    "    function that simulates X and Y data from true weights and true transition matrix\n",
    "    S sessions, K states, D features (in the order: sensory, bias)\n",
    "    K = 2 BINOMIAL\n",
    "\n",
    "    Parameters\n",
    "    ----------\n",
    "    true_w: S x K x D numpy array\n",
    "        true weight matrix\n",
    "    true_P: K X K numpy array\n",
    "        true probability transition matrix\n",
    "    priorZstart: int\n",
    "        prior for initial latent state to be 0\n",
    "    t : int \n",
    "        number of trials per session\n",
    "        \n",
    "    Returns\n",
    "    -------\n",
    "    '''\n",
    "\n",
    "    # check that weights and transition matrix are valid options\n",
    "\n",
    "    s = true_w.shape[0] # sessions\n",
    "    k = true_w.shape[1] # states\n",
    "    d = true_w.shape[2] # features\n",
    "    n = s * trials # total number datapoints\n",
    "    x = np.empty((n,d))\n",
    "    y = np.empty((n,))\n",
    "    z = np.empty((n,),dtype=int)\n",
    "    w = np.empty((n,k,d)) # weights\n",
    "\n",
    "    # input data x\n",
    "    x[:,1] = 1 # bias term\n",
    "    x[:,0] = stats.uniform.rvs(loc=-1,scale=2,size=n)\n",
    "\n",
    "    # change weight format to have session*trials points\n",
    "    for sess in range(0,s):\n",
    "        for t in range(0,trials):\n",
    "            w[sess*trials+t,:,:] = true_w[sess,:,:]\n",
    "\n",
    "    # latent variables z \n",
    "    for t in range(0,n):\n",
    "        if (t % trials==0): # beginning of session has a new draw for latent\n",
    "            z[t] = np.random.binomial(n=1,p=1-priorZstart)\n",
    "        else:\n",
    "            z[t] = np.random.binomial(n=1, p=true_P[z[t-1],1])\n",
    "\n",
    "    # for sess in range(0,s): # true weight are the same within one session\n",
    "        \n",
    "    #     # # choice/output data y\n",
    "    #     # y[t] = np.random.binomial(n=1,p=1/(1+math.exp(-true_w[sess,])))\n",
    "    phi = emission_probability(x,z,w,plot=False)\n",
    "\n",
    "    for t in range(0,n):\n",
    "        y[t] = np.random.binomial(n=1,p=phi[t])\n",
    "    \n",
    "    print(z.sum())\n",
    "\n",
    "    return x, y, z, w\n",
    "\n",
    "x_sim, y_sim, z_sim, w_sim = simulate_data(true_w=ourW, true_P=ourP, priorZstart=1, trials=500)"
   ]
  },
  {
   "cell_type": "code",
   "execution_count": 175,
   "metadata": {},
   "outputs": [
    {
     "data": {
      "image/png": "[encoded data removed]",
      "text/plain": [
       "<Figure size 432x288 with 1 Axes>"
      ]
     },
     "metadata": {
      "needs_background": "light"
     },
     "output_type": "display_data"
    },
    {
     "data": {
      "text/plain": [
       "array([0.73105858, 0.73105858, 0.73105858, ..., 0.15578807, 0.51636522,\n",
       "       0.54999656])"
      ]
     },
     "execution_count": 175,
     "metadata": {},
     "output_type": "execute_result"
    }
   ],
   "source": [
    "def emission_probability(x, z, w, plot=False):\n",
    "    '''\n",
    "    X: N x D numpy array\n",
    "    Z: N x 1 numpy array\n",
    "    W: N x K x D \n",
    "    '''\n",
    "    n = x.shape[0]\n",
    "    d = x.shape[1]\n",
    "    k = w.shape[1]\n",
    "    phi = np.empty((n,)) # probability that it is state 1\n",
    "    for t in range(0,n):\n",
    "        phi[t] = 1/(1+math.exp(-w[t,z[t],:]@x[t,:]))\n",
    "    if(plot==True):\n",
    "        plt.title(\"histogram for emission probabilities of y_t=1\")\n",
    "        plt.hist(phi,[0,0.2,0.4,0.6,0.8,1])\n",
    "        plt.show()\n",
    "    return phi\n",
    "\n",
    "emission_probability(x_sim, z_sim, w_sim, plot=True)\n",
    "\n"
   ]
  },
  {
   "cell_type": "code",
   "execution_count": 176,
   "metadata": {},
   "outputs": [
    {
     "data": {
      "image/png": "[encoded data removed]",
      "text/plain": [
       "<Figure size 432x288 with 1 Axes>"
      ]
     },
     "metadata": {
      "needs_background": "light"
     },
     "output_type": "display_data"
    }
   ],
   "source": [
    "def accuracy(x,y,z,s):\n",
    "    '''\n",
    "    X: N x D numpy array\n",
    "    Y: N x 1 numpy array\n",
    "    '''\n",
    "    n = x.shape[0]\n",
    "    perf = np.zeros((s,))\n",
    "    trials = int(n/s)\n",
    "    state0 = np.empty((s,))\n",
    "    ind = []\n",
    "    for sess in range(0,s):\n",
    "        state0[sess] = trials - z_sim[sess*trials:(sess+1)*trials].sum()\n",
    "        for t in range(0,trials):\n",
    "            if (x[sess*trials+t,0]>0 and y[sess*trials+t]==1):\n",
    "                perf[sess]+=1\n",
    "            elif (x[sess*trials+t,0]<0 and y[sess*trials+t]==0):\n",
    "                perf[sess]+=1\n",
    "            else:\n",
    "                ind.append(sess*trials+t)\n",
    "\n",
    "    perf = perf / trials # normalize to number of trials per session\n",
    "    state0 = state0 / trials\n",
    "    plt.plot(range(0,s),state0,marker='o',color='darkgray',label='state 0')\n",
    "    plt.plot(range(0,s),perf,marker='o',label=\"accurracy\")\n",
    "    plt.xlabel(\"sesion\")\n",
    "    plt.ylim(0.4,0.8)\n",
    "    plt.legend()\n",
    "    plt.show()\n",
    "\n",
    "    return perf, ind\n",
    "perf,ind = accuracy(x_sim,y_sim,z_sim,s=10)"
   ]
  },
  {
   "cell_type": "code",
   "execution_count": 154,
   "metadata": {},
   "outputs": [
    {
     "name": "stdout",
     "output_type": "stream",
     "text": [
      "1868\n",
      "247\n"
     ]
    }
   ],
   "source": [
    "print(z_sim.sum())\n",
    "print(z_sim[4500:].sum())"
   ]
  }
 ],
 "metadata": {
  "kernelspec": {
   "display_name": "base",
   "language": "python",
   "name": "python3"
  },
  "language_info": {
   "codemirror_mode": {
    "name": "ipython",
    "version": 3
   },
   "file_extension": ".py",
   "mimetype": "text/x-python",
   "name": "python",
   "nbconvert_exporter": "python",
   "pygments_lexer": "ipython3",
   "version": "3.9.12"
  },
  "orig_nbformat": 4
 },
 "nbformat": 4,
 "nbformat_minor": 2
}
