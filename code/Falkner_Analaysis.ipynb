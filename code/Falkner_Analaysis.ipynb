{
 "cells": [
  {
   "cell_type": "code",
   "execution_count": 1,
   "metadata": {},
   "outputs": [],
   "source": [
    "# importing packages and modules\n",
    "import pandas as pd \n",
    "import numpy as np\n",
    "import matplotlib.pyplot as plt\n",
    "import scipy.stats as stats\n",
    "from scipy.optimize import minimize\n",
    "from utils import *\n",
    "from plotting_utils import *\n",
    "from analysis_utils import *\n",
    "import dglm_hmm2\n",
    "import dglm_hmm1\n",
    "from scipy.stats import multivariate_normal, norm"
   ]
  },
  {
   "cell_type": "code",
   "execution_count": 4,
   "metadata": {},
   "outputs": [],
   "source": [
    "animals = ['29L_','3095_','3096_','3097_','30B_','30L_','30R2_','4013_','4014_','4015_','4016_','91R2_']\n",
    "days = ['d1_balbc','d2_balbc','d3_balbc','d4_balbc','d5_balbc','d6_balbc','d7_balbc','d8_balbc','d9_mCD1']\n",
    "obsDays = []\n",
    "sessions = ['_t1','_t2','_t3']"
   ]
  },
  {
   "cell_type": "code",
   "execution_count": 5,
   "metadata": {},
   "outputs": [],
   "source": [
    "featuresShortlist1 = [\"proximity\",'resident2intruder head-head', 'resident2intruder head-tti','resident2intruder head2head angle', 'resident2intruder head2tti angle', \"intruder2resident head2centroid angle\",\"resident centroid roc 500 ms\", \"intruder centroid roc 500 ms\",\n",
    "   \"resident tti2head\", \"intruder tti2head\", \"resident tailbase2head angle\", \"intruder tailbase2head angle\"]\n",
    "featuresShortlist2 = [\"proximity\",'resident2intruder head-head','resident2intruder head-tti','resident2intruder head2centroid angle',\"resident centroid roc 500 ms\",\"intruder centroid roc 500 ms\"]\n",
    "# ARE THERE HEAD TO TAIL AND HEAD TO HEAD ANLGES?"
   ]
  },
  {
   "cell_type": "code",
   "execution_count": 6,
   "metadata": {},
   "outputs": [
    {
     "data": {
      "image/png": "[encoded data removed]",
      "text/plain": [
       "<Figure size 432x288 with 1 Axes>"
      ]
     },
     "metadata": {
      "needs_background": "light"
     },
     "output_type": "display_data"
    }
   ],
   "source": [
    "plt.hist(a[:,0], bins=60)\n",
    "plt.ylabel('frames count')\n",
    "plt.xlabel('proximity')\n",
    "plt.show()"
   ]
  },
  {
   "cell_type": "markdown",
   "metadata": {},
   "source": [
    "### Reading PICKLE FILES\n"
   ]
  },
  {
   "cell_type": "code",
   "execution_count": 7,
   "metadata": {},
   "outputs": [
    {
     "data": {
      "text/html": [
       "<div>\n",
       "<style scoped>\n",
       "    .dataframe tbody tr th:only-of-type {\n",
       "        vertical-align: middle;\n",
       "    }\n",
       "\n",
       "    .dataframe tbody tr th {\n",
       "        vertical-align: top;\n",
       "    }\n",
       "\n",
       "    .dataframe thead th {\n",
       "        text-align: right;\n",
       "    }\n",
       "</style>\n",
       "<table border=\"1\" class=\"dataframe\">\n",
       "  <thead>\n",
       "    <tr style=\"text-align: right;\">\n",
       "      <th></th>\n",
       "      <th>proximity</th>\n",
       "      <th>resident2intruder head2centroid angle</th>\n",
       "      <th>intruder2resident head2centroid angle</th>\n",
       "      <th>resident centroid roc 500 ms</th>\n",
       "      <th>intruder centroid roc 500 ms</th>\n",
       "      <th>resident tti2head</th>\n",
       "      <th>intruder tti2head</th>\n",
       "      <th>resident tailbase2head angle</th>\n",
       "      <th>intruder tailbase2head angle</th>\n",
       "    </tr>\n",
       "  </thead>\n",
       "  <tbody>\n",
       "    <tr>\n",
       "      <th>0</th>\n",
       "      <td>3.983381</td>\n",
       "      <td>2.497344</td>\n",
       "      <td>-1.063459</td>\n",
       "      <td>-1.930618</td>\n",
       "      <td>-2.124831</td>\n",
       "      <td>-1.358553</td>\n",
       "      <td>0.546214</td>\n",
       "      <td>-0.456123</td>\n",
       "      <td>0.165161</td>\n",
       "    </tr>\n",
       "    <tr>\n",
       "      <th>1</th>\n",
       "      <td>3.863617</td>\n",
       "      <td>2.050096</td>\n",
       "      <td>-1.188772</td>\n",
       "      <td>-1.930618</td>\n",
       "      <td>-2.124831</td>\n",
       "      <td>-1.363754</td>\n",
       "      <td>1.286370</td>\n",
       "      <td>0.779425</td>\n",
       "      <td>-1.063931</td>\n",
       "    </tr>\n",
       "    <tr>\n",
       "      <th>2</th>\n",
       "      <td>3.434315</td>\n",
       "      <td>2.509805</td>\n",
       "      <td>-1.200114</td>\n",
       "      <td>-1.930618</td>\n",
       "      <td>-2.124831</td>\n",
       "      <td>-1.275087</td>\n",
       "      <td>1.165050</td>\n",
       "      <td>-0.568938</td>\n",
       "      <td>-1.381684</td>\n",
       "    </tr>\n",
       "    <tr>\n",
       "      <th>3</th>\n",
       "      <td>3.196859</td>\n",
       "      <td>2.362525</td>\n",
       "      <td>-1.176833</td>\n",
       "      <td>-1.930618</td>\n",
       "      <td>-2.124831</td>\n",
       "      <td>-1.315733</td>\n",
       "      <td>0.789493</td>\n",
       "      <td>-0.176341</td>\n",
       "      <td>-0.896078</td>\n",
       "    </tr>\n",
       "    <tr>\n",
       "      <th>4</th>\n",
       "      <td>3.054127</td>\n",
       "      <td>2.392026</td>\n",
       "      <td>-1.152817</td>\n",
       "      <td>-1.930618</td>\n",
       "      <td>-2.124831</td>\n",
       "      <td>-1.271848</td>\n",
       "      <td>0.760513</td>\n",
       "      <td>-0.406515</td>\n",
       "      <td>-0.888179</td>\n",
       "    </tr>\n",
       "  </tbody>\n",
       "</table>\n",
       "</div>"
      ],
      "text/plain": [
       "   proximity  resident2intruder head2centroid angle  \\\n",
       "0   3.983381                               2.497344   \n",
       "1   3.863617                               2.050096   \n",
       "2   3.434315                               2.509805   \n",
       "3   3.196859                               2.362525   \n",
       "4   3.054127                               2.392026   \n",
       "\n",
       "   intruder2resident head2centroid angle  resident centroid roc 500 ms  \\\n",
       "0                              -1.063459                     -1.930618   \n",
       "1                              -1.188772                     -1.930618   \n",
       "2                              -1.200114                     -1.930618   \n",
       "3                              -1.176833                     -1.930618   \n",
       "4                              -1.152817                     -1.930618   \n",
       "\n",
       "   intruder centroid roc 500 ms  resident tti2head  intruder tti2head  \\\n",
       "0                     -2.124831          -1.358553           0.546214   \n",
       "1                     -2.124831          -1.363754           1.286370   \n",
       "2                     -2.124831          -1.275087           1.165050   \n",
       "3                     -2.124831          -1.315733           0.789493   \n",
       "4                     -2.124831          -1.271848           0.760513   \n",
       "\n",
       "   resident tailbase2head angle  intruder tailbase2head angle  \n",
       "0                     -0.456123                      0.165161  \n",
       "1                      0.779425                     -1.063931  \n",
       "2                     -0.568938                     -1.381684  \n",
       "3                     -0.176341                     -0.896078  \n",
       "4                     -0.406515                     -0.888179  "
      ]
     },
     "execution_count": 7,
     "metadata": {},
     "output_type": "execute_result"
    }
   ],
   "source": [
    "df = pd.read_pickle('../data_falkner/29L_d1_balbc_t1_zscored_features.pickle')\n",
    "df = df[featuresShortlist]\n",
    "df.head()\n"
   ]
  },
  {
   "cell_type": "code",
   "execution_count": 21,
   "metadata": {},
   "outputs": [
    {
     "name": "stdout",
     "output_type": "stream",
     "text": [
      "['resident tti2head', 'resident tti2trunk', 'resident tti2neck', 'resident tti2centroid', 'resident head2nose', 'resident trunk2head', 'resident forepaw left2head', 'resident forepaw right2head', 'resident forepaw left2trunk', 'resident forepaw right2trunk', 'resident hindpaw left2trunk', 'resident hindpaw right2trunk', 'resident hindpaw left2tti', 'resident hindpaw right2tti', 'resident hindpaw left2right', 'resident forepaw left2right', 'resident tailbase2head angle', 'resident tailbase2nose angle', 'resident centroid2nose angle', 'resident neck2nose angle', 'resident tailbase2trunk angle', 'resident tti2head roc 50 ms', 'resident tti2head abs roc 50 ms', 'resident tti2head reverse roc 50 ms', 'resident tti2head abs reverse roc 50 ms', 'resident tti2neck roc 50 ms', 'resident tti2neck abs roc 50 ms', 'resident tti2neck reverse roc 50 ms', 'resident tti2neck abs reverse roc 50 ms', 'resident centroid roc 50 ms', 'resident centroid reverse roc 50 ms', 'resident head roc 50 ms', 'resident head reverse roc 50 ms', 'resident tti roc 50 ms', 'resident tti reverse roc 50 ms', 'resident t0 roc 50 ms', 'resident t0 reverse roc 50 ms', 'resident t1 roc 50 ms', 'resident t1 reverse roc 50 ms', 'resident t2 roc 50 ms', 'resident t2 reverse roc 50 ms', 'resident tailtip roc 50 ms', 'resident tailtip reverse roc 50 ms', 'resident avg tail roc 50 ms', 'resident avg tail reverse roc 50 ms', 'resident tail vs centroid roc 50 ms', 'resident head vs tti roc 50 ms', 'resident tailbase2head angle roc 50 ms', 'resident tailbase2head angle abs roc 50 ms', 'resident tailbase2head angle reverse roc 50 ms', 'resident tailbase2head angle abs reverse roc 50 ms', 'resident tailbase2nose angle roc 50 ms', 'resident tailbase2nose angle abs roc 50 ms', 'resident tailbase2nose angle reverse roc 50 ms', 'resident tailbase2nose angle abs reverse roc 50 ms', 'resident centroid2nose angle roc 50 ms', 'resident centroid2nose angle abs roc 50 ms', 'resident centroid2nose angle reverse roc 50 ms', 'resident centroid2nose angle abs reverse roc 50 ms', 'resident neck2nose angle roc 50 ms', 'resident neck2nose angle abs roc 50 ms', 'resident neck2nose angle reverse roc 50 ms', 'resident neck2nose angle abs reverse roc 50 ms', 'resident tailbase2trunk angle roc 50 ms', 'resident tailbase2trunk angle abs roc 50 ms', 'resident tailbase2trunk angle reverse roc 50 ms', 'resident tailbase2trunk angle abs reverse roc 50 ms', 'resident tti2head roc 100 ms', 'resident tti2head abs roc 100 ms', 'resident tti2head reverse roc 100 ms', 'resident tti2head abs reverse roc 100 ms', 'resident tti2neck roc 100 ms', 'resident tti2neck abs roc 100 ms', 'resident tti2neck reverse roc 100 ms', 'resident tti2neck abs reverse roc 100 ms', 'resident centroid roc 100 ms', 'resident centroid reverse roc 100 ms', 'resident head roc 100 ms', 'resident head reverse roc 100 ms', 'resident tti roc 100 ms', 'resident tti reverse roc 100 ms', 'resident t0 roc 100 ms', 'resident t0 reverse roc 100 ms', 'resident t1 roc 100 ms', 'resident t1 reverse roc 100 ms', 'resident t2 roc 100 ms', 'resident t2 reverse roc 100 ms', 'resident tailtip roc 100 ms', 'resident tailtip reverse roc 100 ms', 'resident avg tail roc 100 ms', 'resident avg tail reverse roc 100 ms', 'resident tail vs centroid roc 100 ms', 'resident head vs tti roc 100 ms', 'resident tailbase2head angle roc 100 ms', 'resident tailbase2head angle abs roc 100 ms', 'resident tailbase2head angle reverse roc 100 ms', 'resident tailbase2head angle abs reverse roc 100 ms', 'resident tailbase2nose angle roc 100 ms', 'resident tailbase2nose angle abs roc 100 ms', 'resident tailbase2nose angle reverse roc 100 ms', 'resident tailbase2nose angle abs reverse roc 100 ms', 'resident centroid2nose angle roc 100 ms', 'resident centroid2nose angle abs roc 100 ms', 'resident centroid2nose angle reverse roc 100 ms', 'resident centroid2nose angle abs reverse roc 100 ms', 'resident neck2nose angle roc 100 ms', 'resident neck2nose angle abs roc 100 ms', 'resident neck2nose angle reverse roc 100 ms', 'resident neck2nose angle abs reverse roc 100 ms', 'resident tailbase2trunk angle roc 100 ms', 'resident tailbase2trunk angle abs roc 100 ms', 'resident tailbase2trunk angle reverse roc 100 ms', 'resident tailbase2trunk angle abs reverse roc 100 ms', 'resident tti2head roc 500 ms', 'resident tti2head abs roc 500 ms', 'resident tti2head reverse roc 500 ms', 'resident tti2head abs reverse roc 500 ms', 'resident tti2neck roc 500 ms', 'resident tti2neck abs roc 500 ms', 'resident tti2neck reverse roc 500 ms', 'resident tti2neck abs reverse roc 500 ms', 'resident centroid roc 500 ms', 'resident centroid reverse roc 500 ms', 'resident head roc 500 ms', 'resident head reverse roc 500 ms', 'resident tti roc 500 ms', 'resident tti reverse roc 500 ms', 'resident t0 roc 500 ms', 'resident t0 reverse roc 500 ms', 'resident t1 roc 500 ms', 'resident t1 reverse roc 500 ms', 'resident t2 roc 500 ms', 'resident t2 reverse roc 500 ms', 'resident tailtip roc 500 ms', 'resident tailtip reverse roc 500 ms', 'resident avg tail roc 500 ms', 'resident avg tail reverse roc 500 ms', 'resident tail vs centroid roc 500 ms', 'resident head vs tti roc 500 ms', 'resident tailbase2head angle roc 500 ms', 'resident tailbase2head angle abs roc 500 ms', 'resident tailbase2head angle reverse roc 500 ms', 'resident tailbase2head angle abs reverse roc 500 ms', 'resident tailbase2nose angle roc 500 ms', 'resident tailbase2nose angle abs roc 500 ms', 'resident tailbase2nose angle reverse roc 500 ms', 'resident tailbase2nose angle abs reverse roc 500 ms', 'resident centroid2nose angle roc 500 ms', 'resident centroid2nose angle abs roc 500 ms', 'resident centroid2nose angle reverse roc 500 ms', 'resident centroid2nose angle abs reverse roc 500 ms', 'resident neck2nose angle roc 500 ms', 'resident neck2nose angle abs roc 500 ms', 'resident neck2nose angle reverse roc 500 ms', 'resident neck2nose angle abs reverse roc 500 ms', 'resident tailbase2trunk angle roc 500 ms', 'resident tailbase2trunk angle abs roc 500 ms', 'resident tailbase2trunk angle reverse roc 500 ms', 'resident tailbase2trunk angle abs reverse roc 500 ms', 'resident tti2head roc 1000 ms', 'resident tti2head abs roc 1000 ms', 'resident tti2head reverse roc 1000 ms', 'resident tti2head abs reverse roc 1000 ms', 'resident tti2neck roc 1000 ms', 'resident tti2neck abs roc 1000 ms', 'resident tti2neck reverse roc 1000 ms', 'resident tti2neck abs reverse roc 1000 ms', 'resident centroid roc 1000 ms', 'resident centroid reverse roc 1000 ms', 'resident head roc 1000 ms', 'resident head reverse roc 1000 ms', 'resident tti roc 1000 ms', 'resident tti reverse roc 1000 ms', 'resident t0 roc 1000 ms', 'resident t0 reverse roc 1000 ms', 'resident t1 roc 1000 ms', 'resident t1 reverse roc 1000 ms', 'resident t2 roc 1000 ms', 'resident t2 reverse roc 1000 ms', 'resident tailtip roc 1000 ms', 'resident tailtip reverse roc 1000 ms', 'resident avg tail roc 1000 ms', 'resident avg tail reverse roc 1000 ms', 'resident tail vs centroid roc 1000 ms', 'resident head vs tti roc 1000 ms', 'resident tailbase2head angle roc 1000 ms', 'resident tailbase2head angle abs roc 1000 ms', 'resident tailbase2head angle reverse roc 1000 ms', 'resident tailbase2head angle abs reverse roc 1000 ms', 'resident tailbase2nose angle roc 1000 ms', 'resident tailbase2nose angle abs roc 1000 ms', 'resident tailbase2nose angle reverse roc 1000 ms', 'resident tailbase2nose angle abs reverse roc 1000 ms', 'resident centroid2nose angle roc 1000 ms', 'resident centroid2nose angle abs roc 1000 ms', 'resident centroid2nose angle reverse roc 1000 ms', 'resident centroid2nose angle abs reverse roc 1000 ms', 'resident neck2nose angle roc 1000 ms', 'resident neck2nose angle abs roc 1000 ms', 'resident neck2nose angle reverse roc 1000 ms', 'resident neck2nose angle abs reverse roc 1000 ms', 'resident tailbase2trunk angle roc 1000 ms', 'resident tailbase2trunk angle abs roc 1000 ms', 'resident tailbase2trunk angle reverse roc 1000 ms', 'resident tailbase2trunk angle abs reverse roc 1000 ms', 'resident tti2head roc 2000 ms', 'resident tti2head abs roc 2000 ms', 'resident tti2head reverse roc 2000 ms', 'resident tti2head abs reverse roc 2000 ms', 'resident tti2neck roc 2000 ms', 'resident tti2neck abs roc 2000 ms', 'resident tti2neck reverse roc 2000 ms', 'resident tti2neck abs reverse roc 2000 ms', 'resident centroid roc 2000 ms', 'resident centroid reverse roc 2000 ms', 'resident head roc 2000 ms', 'resident head reverse roc 2000 ms', 'resident tti roc 2000 ms', 'resident tti reverse roc 2000 ms', 'resident t0 roc 2000 ms', 'resident t0 reverse roc 2000 ms', 'resident t1 roc 2000 ms', 'resident t1 reverse roc 2000 ms', 'resident t2 roc 2000 ms', 'resident t2 reverse roc 2000 ms', 'resident tailtip roc 2000 ms', 'resident tailtip reverse roc 2000 ms', 'resident avg tail roc 2000 ms', 'resident avg tail reverse roc 2000 ms', 'resident tail vs centroid roc 2000 ms', 'resident head vs tti roc 2000 ms', 'resident tailbase2head angle roc 2000 ms', 'resident tailbase2head angle abs roc 2000 ms', 'resident tailbase2head angle reverse roc 2000 ms', 'resident tailbase2head angle abs reverse roc 2000 ms', 'resident tailbase2nose angle roc 2000 ms', 'resident tailbase2nose angle abs roc 2000 ms', 'resident tailbase2nose angle reverse roc 2000 ms', 'resident tailbase2nose angle abs reverse roc 2000 ms', 'resident centroid2nose angle roc 2000 ms', 'resident centroid2nose angle abs roc 2000 ms', 'resident centroid2nose angle reverse roc 2000 ms', 'resident centroid2nose angle abs reverse roc 2000 ms', 'resident neck2nose angle roc 2000 ms', 'resident neck2nose angle abs roc 2000 ms', 'resident neck2nose angle reverse roc 2000 ms', 'resident neck2nose angle abs reverse roc 2000 ms', 'resident tailbase2trunk angle roc 2000 ms', 'resident tailbase2trunk angle abs roc 2000 ms', 'resident tailbase2trunk angle reverse roc 2000 ms', 'resident tailbase2trunk angle abs reverse roc 2000 ms', 'resident tti2head roc 4000 ms', 'resident tti2head abs roc 4000 ms', 'resident tti2head reverse roc 4000 ms', 'resident tti2head abs reverse roc 4000 ms', 'resident tti2neck roc 4000 ms', 'resident tti2neck abs roc 4000 ms', 'resident tti2neck reverse roc 4000 ms', 'resident tti2neck abs reverse roc 4000 ms', 'resident centroid roc 4000 ms', 'resident centroid reverse roc 4000 ms', 'resident head roc 4000 ms', 'resident head reverse roc 4000 ms', 'resident tti roc 4000 ms', 'resident tti reverse roc 4000 ms', 'resident t0 roc 4000 ms', 'resident t0 reverse roc 4000 ms', 'resident t1 roc 4000 ms', 'resident t1 reverse roc 4000 ms', 'resident t2 roc 4000 ms', 'resident t2 reverse roc 4000 ms', 'resident tailtip roc 4000 ms', 'resident tailtip reverse roc 4000 ms', 'resident avg tail roc 4000 ms', 'resident avg tail reverse roc 4000 ms', 'resident tail vs centroid roc 4000 ms', 'resident head vs tti roc 4000 ms', 'resident tailbase2head angle roc 4000 ms', 'resident tailbase2head angle abs roc 4000 ms', 'resident tailbase2head angle reverse roc 4000 ms', 'resident tailbase2head angle abs reverse roc 4000 ms', 'resident tailbase2nose angle roc 4000 ms', 'resident tailbase2nose angle abs roc 4000 ms', 'resident tailbase2nose angle reverse roc 4000 ms', 'resident tailbase2nose angle abs reverse roc 4000 ms', 'resident centroid2nose angle roc 4000 ms', 'resident centroid2nose angle abs roc 4000 ms', 'resident centroid2nose angle reverse roc 4000 ms', 'resident centroid2nose angle abs reverse roc 4000 ms', 'resident neck2nose angle roc 4000 ms', 'resident neck2nose angle abs roc 4000 ms', 'resident neck2nose angle reverse roc 4000 ms', 'resident neck2nose angle abs reverse roc 4000 ms', 'resident tailbase2trunk angle roc 4000 ms', 'resident tailbase2trunk angle abs roc 4000 ms', 'resident tailbase2trunk angle reverse roc 4000 ms', 'resident tailbase2trunk angle abs reverse roc 4000 ms', 'resident tti2head roc 5000 ms', 'resident tti2head abs roc 5000 ms', 'resident tti2head reverse roc 5000 ms', 'resident tti2head abs reverse roc 5000 ms', 'resident tti2neck roc 5000 ms', 'resident tti2neck abs roc 5000 ms', 'resident tti2neck reverse roc 5000 ms', 'resident tti2neck abs reverse roc 5000 ms', 'resident centroid roc 5000 ms', 'resident centroid reverse roc 5000 ms', 'resident head roc 5000 ms', 'resident head reverse roc 5000 ms', 'resident tti roc 5000 ms', 'resident tti reverse roc 5000 ms', 'resident t0 roc 5000 ms', 'resident t0 reverse roc 5000 ms', 'resident t1 roc 5000 ms', 'resident t1 reverse roc 5000 ms', 'resident t2 roc 5000 ms', 'resident t2 reverse roc 5000 ms', 'resident tailtip roc 5000 ms', 'resident tailtip reverse roc 5000 ms', 'resident avg tail roc 5000 ms', 'resident avg tail reverse roc 5000 ms', 'resident tail vs centroid roc 5000 ms', 'resident head vs tti roc 5000 ms', 'resident tailbase2head angle roc 5000 ms', 'resident tailbase2head angle abs roc 5000 ms', 'resident tailbase2head angle reverse roc 5000 ms', 'resident tailbase2head angle abs reverse roc 5000 ms', 'resident tailbase2nose angle roc 5000 ms', 'resident tailbase2nose angle abs roc 5000 ms', 'resident tailbase2nose angle reverse roc 5000 ms', 'resident tailbase2nose angle abs reverse roc 5000 ms', 'resident centroid2nose angle roc 5000 ms', 'resident centroid2nose angle abs roc 5000 ms', 'resident centroid2nose angle reverse roc 5000 ms', 'resident centroid2nose angle abs reverse roc 5000 ms', 'resident neck2nose angle roc 5000 ms', 'resident neck2nose angle abs roc 5000 ms', 'resident neck2nose angle reverse roc 5000 ms', 'resident neck2nose angle abs reverse roc 5000 ms', 'resident tailbase2trunk angle roc 5000 ms', 'resident tailbase2trunk angle abs roc 5000 ms', 'resident tailbase2trunk angle reverse roc 5000 ms', 'resident tailbase2trunk angle abs reverse roc 5000 ms', 'intruder tti2head', 'intruder tti2trunk', 'intruder tti2neck', 'intruder tti2centroid', 'intruder head2nose', 'intruder trunk2head', 'intruder forepaw left2head', 'intruder forepaw right2head', 'intruder forepaw left2trunk', 'intruder forepaw right2trunk', 'intruder hindpaw left2trunk', 'intruder hindpaw right2trunk', 'intruder hindpaw left2tti', 'intruder hindpaw right2tti', 'intruder hindpaw left2right', 'intruder forepaw left2right', 'intruder tailbase2head angle', 'intruder tailbase2nose angle', 'intruder centroid2nose angle', 'intruder neck2nose angle', 'intruder tailbase2trunk angle', 'intruder tti2head roc 50 ms', 'intruder tti2head abs roc 50 ms', 'intruder tti2head reverse roc 50 ms', 'intruder tti2head abs reverse roc 50 ms', 'intruder tti2neck roc 50 ms', 'intruder tti2neck abs roc 50 ms', 'intruder tti2neck reverse roc 50 ms', 'intruder tti2neck abs reverse roc 50 ms', 'intruder centroid roc 50 ms', 'intruder centroid reverse roc 50 ms', 'intruder head roc 50 ms', 'intruder head reverse roc 50 ms', 'intruder tti roc 50 ms', 'intruder tti reverse roc 50 ms', 'intruder t0 roc 50 ms', 'intruder t0 reverse roc 50 ms', 'intruder t1 roc 50 ms', 'intruder t1 reverse roc 50 ms', 'intruder t2 roc 50 ms', 'intruder t2 reverse roc 50 ms', 'intruder tailtip roc 50 ms', 'intruder tailtip reverse roc 50 ms', 'intruder avg tail roc 50 ms', 'intruder avg tail reverse roc 50 ms', 'intruder tail vs centroid roc 50 ms', 'intruder head vs tti roc 50 ms', 'intruder tailbase2head angle roc 50 ms', 'intruder tailbase2head angle abs roc 50 ms', 'intruder tailbase2head angle reverse roc 50 ms', 'intruder tailbase2head angle abs reverse roc 50 ms', 'intruder tailbase2nose angle roc 50 ms', 'intruder tailbase2nose angle abs roc 50 ms', 'intruder tailbase2nose angle reverse roc 50 ms', 'intruder tailbase2nose angle abs reverse roc 50 ms', 'intruder centroid2nose angle roc 50 ms', 'intruder centroid2nose angle abs roc 50 ms', 'intruder centroid2nose angle reverse roc 50 ms', 'intruder centroid2nose angle abs reverse roc 50 ms', 'intruder neck2nose angle roc 50 ms', 'intruder neck2nose angle abs roc 50 ms', 'intruder neck2nose angle reverse roc 50 ms', 'intruder neck2nose angle abs reverse roc 50 ms', 'intruder tailbase2trunk angle roc 50 ms', 'intruder tailbase2trunk angle abs roc 50 ms', 'intruder tailbase2trunk angle reverse roc 50 ms', 'intruder tailbase2trunk angle abs reverse roc 50 ms', 'intruder tti2head roc 100 ms', 'intruder tti2head abs roc 100 ms', 'intruder tti2head reverse roc 100 ms', 'intruder tti2head abs reverse roc 100 ms', 'intruder tti2neck roc 100 ms', 'intruder tti2neck abs roc 100 ms', 'intruder tti2neck reverse roc 100 ms', 'intruder tti2neck abs reverse roc 100 ms', 'intruder centroid roc 100 ms', 'intruder centroid reverse roc 100 ms', 'intruder head roc 100 ms', 'intruder head reverse roc 100 ms', 'intruder tti roc 100 ms', 'intruder tti reverse roc 100 ms', 'intruder t0 roc 100 ms', 'intruder t0 reverse roc 100 ms', 'intruder t1 roc 100 ms', 'intruder t1 reverse roc 100 ms', 'intruder t2 roc 100 ms', 'intruder t2 reverse roc 100 ms', 'intruder tailtip roc 100 ms', 'intruder tailtip reverse roc 100 ms', 'intruder avg tail roc 100 ms', 'intruder avg tail reverse roc 100 ms', 'intruder tail vs centroid roc 100 ms', 'intruder head vs tti roc 100 ms', 'intruder tailbase2head angle roc 100 ms', 'intruder tailbase2head angle abs roc 100 ms', 'intruder tailbase2head angle reverse roc 100 ms', 'intruder tailbase2head angle abs reverse roc 100 ms', 'intruder tailbase2nose angle roc 100 ms', 'intruder tailbase2nose angle abs roc 100 ms', 'intruder tailbase2nose angle reverse roc 100 ms', 'intruder tailbase2nose angle abs reverse roc 100 ms', 'intruder centroid2nose angle roc 100 ms', 'intruder centroid2nose angle abs roc 100 ms', 'intruder centroid2nose angle reverse roc 100 ms', 'intruder centroid2nose angle abs reverse roc 100 ms', 'intruder neck2nose angle roc 100 ms', 'intruder neck2nose angle abs roc 100 ms', 'intruder neck2nose angle reverse roc 100 ms', 'intruder neck2nose angle abs reverse roc 100 ms', 'intruder tailbase2trunk angle roc 100 ms', 'intruder tailbase2trunk angle abs roc 100 ms', 'intruder tailbase2trunk angle reverse roc 100 ms', 'intruder tailbase2trunk angle abs reverse roc 100 ms', 'intruder tti2head roc 500 ms', 'intruder tti2head abs roc 500 ms', 'intruder tti2head reverse roc 500 ms', 'intruder tti2head abs reverse roc 500 ms', 'intruder tti2neck roc 500 ms', 'intruder tti2neck abs roc 500 ms', 'intruder tti2neck reverse roc 500 ms', 'intruder tti2neck abs reverse roc 500 ms', 'intruder centroid roc 500 ms', 'intruder centroid reverse roc 500 ms', 'intruder head roc 500 ms', 'intruder head reverse roc 500 ms', 'intruder tti roc 500 ms', 'intruder tti reverse roc 500 ms', 'intruder t0 roc 500 ms', 'intruder t0 reverse roc 500 ms', 'intruder t1 roc 500 ms', 'intruder t1 reverse roc 500 ms', 'intruder t2 roc 500 ms', 'intruder t2 reverse roc 500 ms', 'intruder tailtip roc 500 ms', 'intruder tailtip reverse roc 500 ms', 'intruder avg tail roc 500 ms', 'intruder avg tail reverse roc 500 ms', 'intruder tail vs centroid roc 500 ms', 'intruder head vs tti roc 500 ms', 'intruder tailbase2head angle roc 500 ms', 'intruder tailbase2head angle abs roc 500 ms', 'intruder tailbase2head angle reverse roc 500 ms', 'intruder tailbase2head angle abs reverse roc 500 ms', 'intruder tailbase2nose angle roc 500 ms', 'intruder tailbase2nose angle abs roc 500 ms', 'intruder tailbase2nose angle reverse roc 500 ms', 'intruder tailbase2nose angle abs reverse roc 500 ms', 'intruder centroid2nose angle roc 500 ms', 'intruder centroid2nose angle abs roc 500 ms', 'intruder centroid2nose angle reverse roc 500 ms', 'intruder centroid2nose angle abs reverse roc 500 ms', 'intruder neck2nose angle roc 500 ms', 'intruder neck2nose angle abs roc 500 ms', 'intruder neck2nose angle reverse roc 500 ms', 'intruder neck2nose angle abs reverse roc 500 ms', 'intruder tailbase2trunk angle roc 500 ms', 'intruder tailbase2trunk angle abs roc 500 ms', 'intruder tailbase2trunk angle reverse roc 500 ms', 'intruder tailbase2trunk angle abs reverse roc 500 ms', 'intruder tti2head roc 1000 ms', 'intruder tti2head abs roc 1000 ms', 'intruder tti2head reverse roc 1000 ms', 'intruder tti2head abs reverse roc 1000 ms', 'intruder tti2neck roc 1000 ms', 'intruder tti2neck abs roc 1000 ms', 'intruder tti2neck reverse roc 1000 ms', 'intruder tti2neck abs reverse roc 1000 ms', 'intruder centroid roc 1000 ms', 'intruder centroid reverse roc 1000 ms', 'intruder head roc 1000 ms', 'intruder head reverse roc 1000 ms', 'intruder tti roc 1000 ms', 'intruder tti reverse roc 1000 ms', 'intruder t0 roc 1000 ms', 'intruder t0 reverse roc 1000 ms', 'intruder t1 roc 1000 ms', 'intruder t1 reverse roc 1000 ms', 'intruder t2 roc 1000 ms', 'intruder t2 reverse roc 1000 ms', 'intruder tailtip roc 1000 ms', 'intruder tailtip reverse roc 1000 ms', 'intruder avg tail roc 1000 ms', 'intruder avg tail reverse roc 1000 ms', 'intruder tail vs centroid roc 1000 ms', 'intruder head vs tti roc 1000 ms', 'intruder tailbase2head angle roc 1000 ms', 'intruder tailbase2head angle abs roc 1000 ms', 'intruder tailbase2head angle reverse roc 1000 ms', 'intruder tailbase2head angle abs reverse roc 1000 ms', 'intruder tailbase2nose angle roc 1000 ms', 'intruder tailbase2nose angle abs roc 1000 ms', 'intruder tailbase2nose angle reverse roc 1000 ms', 'intruder tailbase2nose angle abs reverse roc 1000 ms', 'intruder centroid2nose angle roc 1000 ms', 'intruder centroid2nose angle abs roc 1000 ms', 'intruder centroid2nose angle reverse roc 1000 ms', 'intruder centroid2nose angle abs reverse roc 1000 ms', 'intruder neck2nose angle roc 1000 ms', 'intruder neck2nose angle abs roc 1000 ms', 'intruder neck2nose angle reverse roc 1000 ms', 'intruder neck2nose angle abs reverse roc 1000 ms', 'intruder tailbase2trunk angle roc 1000 ms', 'intruder tailbase2trunk angle abs roc 1000 ms', 'intruder tailbase2trunk angle reverse roc 1000 ms', 'intruder tailbase2trunk angle abs reverse roc 1000 ms', 'intruder tti2head roc 2000 ms', 'intruder tti2head abs roc 2000 ms', 'intruder tti2head reverse roc 2000 ms', 'intruder tti2head abs reverse roc 2000 ms', 'intruder tti2neck roc 2000 ms', 'intruder tti2neck abs roc 2000 ms', 'intruder tti2neck reverse roc 2000 ms', 'intruder tti2neck abs reverse roc 2000 ms', 'intruder centroid roc 2000 ms', 'intruder centroid reverse roc 2000 ms', 'intruder head roc 2000 ms', 'intruder head reverse roc 2000 ms', 'intruder tti roc 2000 ms', 'intruder tti reverse roc 2000 ms', 'intruder t0 roc 2000 ms', 'intruder t0 reverse roc 2000 ms', 'intruder t1 roc 2000 ms', 'intruder t1 reverse roc 2000 ms', 'intruder t2 roc 2000 ms', 'intruder t2 reverse roc 2000 ms', 'intruder tailtip roc 2000 ms', 'intruder tailtip reverse roc 2000 ms', 'intruder avg tail roc 2000 ms', 'intruder avg tail reverse roc 2000 ms', 'intruder tail vs centroid roc 2000 ms', 'intruder head vs tti roc 2000 ms', 'intruder tailbase2head angle roc 2000 ms', 'intruder tailbase2head angle abs roc 2000 ms', 'intruder tailbase2head angle reverse roc 2000 ms', 'intruder tailbase2head angle abs reverse roc 2000 ms', 'intruder tailbase2nose angle roc 2000 ms', 'intruder tailbase2nose angle abs roc 2000 ms', 'intruder tailbase2nose angle reverse roc 2000 ms', 'intruder tailbase2nose angle abs reverse roc 2000 ms', 'intruder centroid2nose angle roc 2000 ms', 'intruder centroid2nose angle abs roc 2000 ms', 'intruder centroid2nose angle reverse roc 2000 ms', 'intruder centroid2nose angle abs reverse roc 2000 ms', 'intruder neck2nose angle roc 2000 ms', 'intruder neck2nose angle abs roc 2000 ms', 'intruder neck2nose angle reverse roc 2000 ms', 'intruder neck2nose angle abs reverse roc 2000 ms', 'intruder tailbase2trunk angle roc 2000 ms', 'intruder tailbase2trunk angle abs roc 2000 ms', 'intruder tailbase2trunk angle reverse roc 2000 ms', 'intruder tailbase2trunk angle abs reverse roc 2000 ms', 'intruder tti2head roc 4000 ms', 'intruder tti2head abs roc 4000 ms', 'intruder tti2head reverse roc 4000 ms', 'intruder tti2head abs reverse roc 4000 ms', 'intruder tti2neck roc 4000 ms', 'intruder tti2neck abs roc 4000 ms', 'intruder tti2neck reverse roc 4000 ms', 'intruder tti2neck abs reverse roc 4000 ms', 'intruder centroid roc 4000 ms', 'intruder centroid reverse roc 4000 ms', 'intruder head roc 4000 ms', 'intruder head reverse roc 4000 ms', 'intruder tti roc 4000 ms', 'intruder tti reverse roc 4000 ms', 'intruder t0 roc 4000 ms', 'intruder t0 reverse roc 4000 ms', 'intruder t1 roc 4000 ms', 'intruder t1 reverse roc 4000 ms', 'intruder t2 roc 4000 ms', 'intruder t2 reverse roc 4000 ms', 'intruder tailtip roc 4000 ms', 'intruder tailtip reverse roc 4000 ms', 'intruder avg tail roc 4000 ms', 'intruder avg tail reverse roc 4000 ms', 'intruder tail vs centroid roc 4000 ms', 'intruder head vs tti roc 4000 ms', 'intruder tailbase2head angle roc 4000 ms', 'intruder tailbase2head angle abs roc 4000 ms', 'intruder tailbase2head angle reverse roc 4000 ms', 'intruder tailbase2head angle abs reverse roc 4000 ms', 'intruder tailbase2nose angle roc 4000 ms', 'intruder tailbase2nose angle abs roc 4000 ms', 'intruder tailbase2nose angle reverse roc 4000 ms', 'intruder tailbase2nose angle abs reverse roc 4000 ms', 'intruder centroid2nose angle roc 4000 ms', 'intruder centroid2nose angle abs roc 4000 ms', 'intruder centroid2nose angle reverse roc 4000 ms', 'intruder centroid2nose angle abs reverse roc 4000 ms', 'intruder neck2nose angle roc 4000 ms', 'intruder neck2nose angle abs roc 4000 ms', 'intruder neck2nose angle reverse roc 4000 ms', 'intruder neck2nose angle abs reverse roc 4000 ms', 'intruder tailbase2trunk angle roc 4000 ms', 'intruder tailbase2trunk angle abs roc 4000 ms', 'intruder tailbase2trunk angle reverse roc 4000 ms', 'intruder tailbase2trunk angle abs reverse roc 4000 ms', 'intruder tti2head roc 5000 ms', 'intruder tti2head abs roc 5000 ms', 'intruder tti2head reverse roc 5000 ms', 'intruder tti2head abs reverse roc 5000 ms', 'intruder tti2neck roc 5000 ms', 'intruder tti2neck abs roc 5000 ms', 'intruder tti2neck reverse roc 5000 ms', 'intruder tti2neck abs reverse roc 5000 ms', 'intruder centroid roc 5000 ms', 'intruder centroid reverse roc 5000 ms', 'intruder head roc 5000 ms', 'intruder head reverse roc 5000 ms', 'intruder tti roc 5000 ms', 'intruder tti reverse roc 5000 ms', 'intruder t0 roc 5000 ms', 'intruder t0 reverse roc 5000 ms', 'intruder t1 roc 5000 ms', 'intruder t1 reverse roc 5000 ms', 'intruder t2 roc 5000 ms', 'intruder t2 reverse roc 5000 ms', 'intruder tailtip roc 5000 ms', 'intruder tailtip reverse roc 5000 ms', 'intruder avg tail roc 5000 ms', 'intruder avg tail reverse roc 5000 ms', 'intruder tail vs centroid roc 5000 ms', 'intruder head vs tti roc 5000 ms', 'intruder tailbase2head angle roc 5000 ms', 'intruder tailbase2head angle abs roc 5000 ms', 'intruder tailbase2head angle reverse roc 5000 ms', 'intruder tailbase2head angle abs reverse roc 5000 ms', 'intruder tailbase2nose angle roc 5000 ms', 'intruder tailbase2nose angle abs roc 5000 ms', 'intruder tailbase2nose angle reverse roc 5000 ms', 'intruder tailbase2nose angle abs reverse roc 5000 ms', 'intruder centroid2nose angle roc 5000 ms', 'intruder centroid2nose angle abs roc 5000 ms', 'intruder centroid2nose angle reverse roc 5000 ms', 'intruder centroid2nose angle abs reverse roc 5000 ms', 'intruder neck2nose angle roc 5000 ms', 'intruder neck2nose angle abs roc 5000 ms', 'intruder neck2nose angle reverse roc 5000 ms', 'intruder neck2nose angle abs reverse roc 5000 ms', 'intruder tailbase2trunk angle roc 5000 ms', 'intruder tailbase2trunk angle abs roc 5000 ms', 'intruder tailbase2trunk angle reverse roc 5000 ms', 'intruder tailbase2trunk angle abs reverse roc 5000 ms', 'ious', 'resident2intruder head2head angle', 'resident2intruder nose2head angle', 'resident2intruder head2tti angle', 'resident2intruder nose2tti angle', 'resident2intruder head2centroid angle', 'resident2intruder nose2centroid angle', 'intruder2resident head2head angle', 'intruder2resident nose2head angle', 'intruder2resident head2tti angle', 'intruder2resident nose2tti angle', 'intruder2resident head2centroid angle', 'intruder2resident nose2centroid angle', 'proximity', 'proximity roc 50 ms', 'proximity abs roc 50 ms', 'proximity reverse roc 50 ms', 'proximity abs reverse roc 50 ms', 'ious roc 50 ms', 'ious abs roc 50 ms', 'ious reverse roc 50 ms', 'ious abs reverse roc 50 ms', 'centroid roc differential 50 ms', 'head roc differential 50 ms', 'proximity roc 100 ms', 'proximity abs roc 100 ms', 'proximity reverse roc 100 ms', 'proximity abs reverse roc 100 ms', 'ious roc 100 ms', 'ious abs roc 100 ms', 'ious reverse roc 100 ms', 'ious abs reverse roc 100 ms', 'centroid roc differential 100 ms', 'head roc differential 100 ms', 'proximity roc 500 ms', 'proximity abs roc 500 ms', 'proximity reverse roc 500 ms', 'proximity abs reverse roc 500 ms', 'ious roc 500 ms', 'ious abs roc 500 ms', 'ious reverse roc 500 ms', 'ious abs reverse roc 500 ms', 'centroid roc differential 500 ms', 'head roc differential 500 ms', 'proximity roc 1000 ms', 'proximity abs roc 1000 ms', 'proximity reverse roc 1000 ms', 'proximity abs reverse roc 1000 ms', 'ious roc 1000 ms', 'ious abs roc 1000 ms', 'ious reverse roc 1000 ms', 'ious abs reverse roc 1000 ms', 'centroid roc differential 1000 ms', 'head roc differential 1000 ms', 'proximity roc 2000 ms', 'proximity abs roc 2000 ms', 'proximity reverse roc 2000 ms', 'proximity abs reverse roc 2000 ms', 'ious roc 2000 ms', 'ious abs roc 2000 ms', 'ious reverse roc 2000 ms', 'ious abs reverse roc 2000 ms', 'centroid roc differential 2000 ms', 'head roc differential 2000 ms', 'proximity roc 4000 ms', 'proximity abs roc 4000 ms', 'proximity reverse roc 4000 ms', 'proximity abs reverse roc 4000 ms', 'ious roc 4000 ms', 'ious abs roc 4000 ms', 'ious reverse roc 4000 ms', 'ious abs reverse roc 4000 ms', 'centroid roc differential 4000 ms', 'head roc differential 4000 ms', 'proximity roc 5000 ms', 'proximity abs roc 5000 ms', 'proximity reverse roc 5000 ms', 'proximity abs reverse roc 5000 ms', 'ious roc 5000 ms', 'ious abs roc 5000 ms', 'ious reverse roc 5000 ms', 'ious abs reverse roc 5000 ms', 'centroid roc differential 5000 ms', 'head roc differential 5000 ms', 'resident2intruder head-head', 'resident2intruder head-tti', 'resident2intruder head-centroid', 'intruder2resident head-centroid', 'intruder2resident head-tti', 'resident2intruder nose-nose', 'resident2intruder nose-tti', 'resident2intruder nose-centroid', 'intruder2resident nose-centroid', 'intruder2resident nose-tti']\n",
      "0        2.405764\n",
      "1        2.075124\n",
      "2        2.515781\n",
      "3        2.416243\n",
      "4        2.440212\n",
      "           ...   \n",
      "21018    1.562241\n",
      "21019    1.398039\n",
      "21020    1.452275\n",
      "21021    1.490814\n",
      "21022    1.463383\n",
      "Name: resident2intruder head2tti angle, Length: 21023, dtype: float64\n"
     ]
    }
   ],
   "source": [
    "obs = pd.read_pickle('../data_falkner/29L_d1_balbc_t1_zscored_features.pickle')\n",
    "print(obs.columns.tolist())\n",
    "print(obs['resident2intruder head2tti angle'])"
   ]
  },
  {
   "cell_type": "code",
   "execution_count": 23,
   "metadata": {},
   "outputs": [
    {
     "name": "stdout",
     "output_type": "stream",
     "text": [
      "(21023, 12)\n",
      "(21135, 12)\n",
      "(21098, 12)\n",
      "(21072, 12)\n",
      "(21414, 12)\n",
      "(20542, 12)\n",
      "(21189, 12)\n",
      "(21088, 12)\n",
      "(22768, 12)\n",
      "(20910, 12)\n",
      "(20236, 12)\n",
      "(19945, 12)\n",
      "(20503, 12)\n",
      "(20677, 12)\n",
      "(20461, 12)\n",
      "(19983, 12)\n",
      "(20830, 12)\n",
      "(20853, 12)\n",
      "(21002, 12)\n",
      "(22160, 12)\n",
      "(20807, 12)\n",
      "(21059, 12)\n",
      "(21187, 12)\n",
      "(22930, 12)\n",
      "(9577, 12)\n",
      "(9509, 12)\n",
      "(9488, 12)\n"
     ]
    }
   ],
   "source": [
    "# saving features from shortlist1\n",
    "for animal in ['29L_']:\n",
    "    for day in days:\n",
    "        for sess in sessions:\n",
    "            df = pd.read_pickle(f'../data_falkner/{animal+day+sess}_zscored_features.pickle')\n",
    "            df = df[featuresShortlist1]\n",
    "            a = np.array(df)\n",
    "            np.save(f'../data_falkner/{animal+day+sess}_featuresShortlist1', a)\n",
    "            print(a.shape)"
   ]
  },
  {
   "cell_type": "code",
   "execution_count": 5,
   "metadata": {},
   "outputs": [
    {
     "name": "stdout",
     "output_type": "stream",
     "text": [
      "(21023, 780)\n",
      "(21135, 780)\n",
      "(21098, 780)\n",
      "(21072, 780)\n",
      "(21414, 780)\n",
      "(20542, 780)\n",
      "(21189, 780)\n",
      "(21088, 780)\n",
      "(22768, 780)\n",
      "(20910, 780)\n",
      "(20236, 780)\n",
      "(19945, 780)\n",
      "(20503, 780)\n",
      "(20677, 780)\n",
      "(20461, 780)\n",
      "(19983, 780)\n",
      "(20830, 780)\n",
      "(20853, 780)\n",
      "(21002, 780)\n",
      "(22160, 780)\n",
      "(20807, 780)\n",
      "(21059, 780)\n",
      "(21187, 780)\n",
      "(22930, 780)\n",
      "(9577, 780)\n",
      "(9509, 780)\n",
      "(9488, 780)\n"
     ]
    }
   ],
   "source": [
    "# saving dataset with all features as .npy\n",
    "for animal in ['29L_']:\n",
    "    for day in days:\n",
    "        for sess in sessions:\n",
    "            df = pd.read_pickle(f'../data_falkner/{animal+day+sess}_zscored_features.pickle')\n",
    "            a = np.array(df)\n",
    "            np.save(f'../data_falkner/{animal+day+sess}_allFeatures', a)\n",
    "            print(a.shape)"
   ]
  },
  {
   "cell_type": "code",
   "execution_count": 7,
   "metadata": {},
   "outputs": [],
   "source": [
    "# All sessions together\n",
    "sessInd = [0]\n",
    "for animal in ['29L_']:\n",
    "    for day in days:\n",
    "        for sess in sessions:\n",
    "            if (day == 'd1_balbc' and sess =='_t1'):\n",
    "                y = np.load('../data_falkner/' + f'{animal+day+sess}_aggr_labels.npy')\n",
    "                x = np.load(f'../data_falkner/{animal+day+sess}_featuresShortlist1.npy')\n",
    "                sessInd.append(y.shape[0])\n",
    "            else:\n",
    "                tempY = np.load('../data_falkner/' + f'{animal+day+sess}_aggr_labels.npy')\n",
    "                tempX = np.load(f'../data_falkner/{animal+day+sess}_featuresShortlist1.npy')\n",
    "                y = np.concatenate((y,tempY))\n",
    "                x = np.concatenate((x,tempX))\n",
    "                sessInd.append(tempY.shape[0] + int(sessInd[-1]))"
   ]
  },
  {
   "cell_type": "markdown",
   "metadata": {},
   "source": [
    "### FITTING DGLM-HMM - Version 1 (varying W and constant P) TO SINGLE ANIMAL 29L ALL session together"
   ]
  },
  {
   "cell_type": "code",
   "execution_count": 6,
   "metadata": {},
   "outputs": [
    {
     "ename": "NameError",
     "evalue": "name 'x' is not defined",
     "output_type": "error",
     "traceback": [
      "\u001b[0;31m---------------------------------------------------------------------------\u001b[0m",
      "\u001b[0;31mNameError\u001b[0m                                 Traceback (most recent call last)",
      "\u001b[0;32m<ipython-input-6-a4ab428f5a20>\u001b[0m in \u001b[0;36m<module>\u001b[0;34m\u001b[0m\n\u001b[1;32m      1\u001b[0m \u001b[0mfolds\u001b[0m \u001b[0;34m=\u001b[0m \u001b[0;36m3\u001b[0m\u001b[0;34m\u001b[0m\u001b[0;34m\u001b[0m\u001b[0m\n\u001b[0;32m----> 2\u001b[0;31m \u001b[0mtrainX\u001b[0m\u001b[0;34m,\u001b[0m \u001b[0mtrainY\u001b[0m\u001b[0;34m,\u001b[0m \u001b[0mtrainSessInd\u001b[0m\u001b[0;34m,\u001b[0m \u001b[0mtestX\u001b[0m\u001b[0;34m,\u001b[0m \u001b[0mtestY\u001b[0m\u001b[0;34m,\u001b[0m \u001b[0mtestSessInd\u001b[0m \u001b[0;34m=\u001b[0m \u001b[0msplit_data_per_session\u001b[0m\u001b[0;34m(\u001b[0m\u001b[0mx\u001b[0m\u001b[0;34m,\u001b[0m \u001b[0my\u001b[0m\u001b[0;34m,\u001b[0m \u001b[0msessInd\u001b[0m\u001b[0;34m,\u001b[0m \u001b[0mfolds\u001b[0m\u001b[0;34m=\u001b[0m\u001b[0;36m3\u001b[0m\u001b[0;34m,\u001b[0m \u001b[0mrandom_state\u001b[0m\u001b[0;34m=\u001b[0m\u001b[0;36m1\u001b[0m\u001b[0;34m)\u001b[0m\u001b[0;34m\u001b[0m\u001b[0;34m\u001b[0m\u001b[0m\n\u001b[0m\u001b[1;32m      3\u001b[0m \u001b[0mD\u001b[0m \u001b[0;34m=\u001b[0m \u001b[0mtrainX\u001b[0m\u001b[0;34m[\u001b[0m\u001b[0;36m0\u001b[0m\u001b[0;34m]\u001b[0m\u001b[0;34m.\u001b[0m\u001b[0mshape\u001b[0m\u001b[0;34m[\u001b[0m\u001b[0;36m1\u001b[0m\u001b[0;34m]\u001b[0m\u001b[0;34m\u001b[0m\u001b[0;34m\u001b[0m\u001b[0m\n\u001b[1;32m      4\u001b[0m \u001b[0mC\u001b[0m \u001b[0;34m=\u001b[0m \u001b[0;36m2\u001b[0m \u001b[0;31m# only looking at binomial classes\u001b[0m\u001b[0;34m\u001b[0m\u001b[0;34m\u001b[0m\u001b[0m\n\u001b[1;32m      5\u001b[0m \u001b[0mmaxiter\u001b[0m \u001b[0;34m=\u001b[0m \u001b[0;36m600\u001b[0m\u001b[0;34m\u001b[0m\u001b[0;34m\u001b[0m\u001b[0m\n",
      "\u001b[0;31mNameError\u001b[0m: name 'x' is not defined"
     ]
    }
   ],
   "source": [
    "folds = 3\n",
    "trainX, trainY, trainSessInd, testX, testY, testSessInd = split_data_per_session(x, y, sessInd, folds=3, random_state=1)\n",
    "D = trainX[0].shape[1]\n",
    "C = 2 # only looking at binomial classes\n",
    "maxiter = 600\n",
    "K = 3\n",
    "\n",
    "sigmaList = [0, 0.01, 0.1, 1, 10, 100]\n",
    "\n",
    "trainLl = [np.zeros((len(sigmaList), maxiter)) for i in range(0,folds)] \n",
    "testLl = [np.zeros((len(sigmaList))) for i in range(0,folds)]\n",
    "allP = [np.zeros((len(sigmaList), K,K)) for i in range(0,folds)] \n",
    "allW = [] \n",
    "\n",
    "for fold in range(0,folds):\n",
    "    # initializing parameters for each fold\n",
    "    N = trainX[fold].shape[0]\n",
    "    oneSessInd = [0,N] # treating whole dataset as one session for normal GLM-HMM fitting\n",
    "    dGLM_HMM = dglm_hmm1.dGLM_HMM1(N,K,D,C)\n",
    "    allW.append(np.zeros((len(sigmaList), N,K,D,C)))\n",
    "    trainY[fold] = trainY[fold].astype(int)\n",
    "    testY[fold] = testY[fold].astype(int)\n",
    "\n",
    "    for indSigma in range(0,len(sigmaList)): \n",
    "        print(sigmaList[indSigma])\n",
    "        if (indSigma == 0): \n",
    "            if(sigmaList[0] == 0):\n",
    "                initP0, initW0 = dGLM_HMM.generate_param(sessInd=oneSessInd, transitionDistribution=['dirichlet', (5, 1)], weightDistribution=['uniform', (-2,2)]) \n",
    "                allP[fold][indSigma],  allW[fold][indSigma], trainLl[fold][indSigma] = dGLM_HMM.fit(trainX[fold], trainY[fold],  initP0, initW0, sigma=reshapeSigma(1, K, D), sessInd=oneSessInd, pi0=None, maxIter=maxiter, tol=1e-3) # sigma does not matter here\n",
    "            else:\n",
    "                initP, initW = dGLM_HMM.generate_param(sessInd=trainSessInd[fold], transitionDistribution=['dirichlet', (5, 1)], weightDistribution=['uniform', (-2,2)]) # initialize the model parameters\n",
    "        else:\n",
    "            initP = allP[fold][indSigma-1] \n",
    "            initW = allW[fold][indSigma-1] \n",
    "            \n",
    "        # fitting dGLM-HMM\n",
    "        if(sigmaList[indSigma] != 0):\n",
    "            allP[fold][indSigma],  allW[fold][indSigma], trainLl[fold][indSigma] = dGLM_HMM.fit(trainX[fold], trainY[fold],  initP, initW, sigma=reshapeSigma(sigmaList[indSigma], K, D), sessInd=trainSessInd[fold], pi0=None, maxIter=maxiter, tol=1e-3) # fit the model\n",
    "        \n",
    "        # evaluate\n",
    "        sess = len(trainSessInd[fold]) - 1 # number sessions\n",
    "        testPhi = dGLM_HMM.observation_probability(testX[fold], reshapeWeights(allW[fold][indSigma], trainSessInd[fold], testSessInd[fold]))\n",
    "        for s in range(0, sess):\n",
    "            # evaluate on test data for each session separately\n",
    "            _, _, temp = dGLM_HMM.forward_pass(testY[fold][testSessInd[fold][s]:testSessInd[fold][s+1]],allP[fold][indSigma],testPhi[testSessInd[fold][s]:testSessInd[fold][s+1]])\n",
    "            testLl[fold][indSigma] += temp\n",
    "    \n",
    "    testLl[fold] = testLl[fold] / testSessInd[fold][-1] # normalizing to the total number of trials in test dataset\n",
    "\n",
    "    np.save(f'../data/trainLl_Falkner_29L_{K}_state_fold-{fold}_multiple_sigmas', trainLl[fold])\n",
    "    np.save(f'../data/testLl_Falkner_29L_{K}_state_fold-{fold}_multiple_sigmas', testLl[fold])\n",
    "    np.save(f'../data/P_Falkner_29L_{K}_state_fold-{fold}_multiple_sigmas', allP[fold])\n",
    "    np.save(f'../data/W_Falkner_29L_{K}_state_fold-{fold}_multiple_sigmas', allW[fold])\n",
    "    np.save(f'../data/trainSessInd_Falkner_29L_{K}_state_fold-{fold}_multiple_sigmas', np.array(trainSessInd[fold]))\n",
    "    np.save(f'../data/testSessInd_Falkner_29L_{K}_state_fold-{fold}_multiple_sigmas', np.array(testSessInd[fold]))\n"
   ]
  },
  {
   "cell_type": "markdown",
   "metadata": {},
   "source": [
    "### DO LOGISTIC REGRESSION ON ALL THE FEATURES TO SEE WHICH MATTER THE MOST"
   ]
  },
  {
   "cell_type": "code",
   "execution_count": 7,
   "metadata": {},
   "outputs": [
    {
     "name": "stdout",
     "output_type": "stream",
     "text": [
      "0\n"
     ]
    },
    {
     "name": "stderr",
     "output_type": "stream",
     "text": [
      "/Users/lencacuturela/opt/anaconda3/envs/glmhmm/lib/python3.7/site-packages/autograd/tracer.py:48: RuntimeWarning: overflow encountered in exp\n",
      "  return f_raw(*args, **kwargs)\n",
      "/Users/lencacuturela/opt/anaconda3/envs/glmhmm/lib/python3.7/site-packages/autograd/tracer.py:48: RuntimeWarning: invalid value encountered in multiply\n",
      "  return f_raw(*args, **kwargs)\n",
      "/Users/lencacuturela/opt/anaconda3/envs/glmhmm/lib/python3.7/site-packages/autograd/tracer.py:48: RuntimeWarning: divide by zero encountered in log\n",
      "  return f_raw(*args, **kwargs)\n",
      "/Users/lencacuturela/opt/anaconda3/envs/glmhmm/lib/python3.7/site-packages/autograd/tracer.py:48: RuntimeWarning: invalid value encountered in subtract\n",
      "  return f_raw(*args, **kwargs)\n",
      "/Users/lencacuturela/opt/anaconda3/envs/glmhmm/lib/python3.7/site-packages/autograd/tracer.py:48: RuntimeWarning: invalid value encountered in true_divide\n",
      "  return f_raw(*args, **kwargs)\n",
      "/Users/lencacuturela/opt/anaconda3/envs/glmhmm/lib/python3.7/site-packages/autograd/numpy/numpy_vjps.py:78: RuntimeWarning: divide by zero encountered in true_divide\n",
      "  defvjp(anp.log,    lambda ans, x : lambda g: g / x)\n",
      "/Users/lencacuturela/opt/anaconda3/envs/glmhmm/lib/python3.7/site-packages/autograd/numpy/numpy_vjps.py:78: RuntimeWarning: overflow encountered in true_divide\n",
      "  defvjp(anp.log,    lambda ans, x : lambda g: g / x)\n",
      "/Users/lencacuturela/opt/anaconda3/envs/glmhmm/lib/python3.7/site-packages/autograd/numpy/numpy_vjps.py:34: RuntimeWarning: invalid value encountered in multiply\n",
      "  defvjp(anp.multiply,    lambda ans, x, y : unbroadcast_f(x, lambda g: y * g),\n",
      "/Users/lencacuturela/opt/anaconda3/envs/glmhmm/lib/python3.7/site-packages/autograd/numpy/numpy_vjps.py:75: RuntimeWarning: invalid value encountered in multiply\n",
      "  defvjp(anp.exp,    lambda ans, x : lambda g: ans * g)\n",
      "/Users/lencacuturela/opt/anaconda3/envs/glmhmm/lib/python3.7/site-packages/autograd/tracer.py:48: RuntimeWarning: divide by zero encountered in true_divide\n",
      "  return f_raw(*args, **kwargs)\n",
      "/Users/lencacuturela/opt/anaconda3/envs/glmhmm/lib/python3.7/site-packages/autograd/tracer.py:48: RuntimeWarning: overflow encountered in true_divide\n",
      "  return f_raw(*args, **kwargs)\n",
      "/Users/lencacuturela/opt/anaconda3/envs/glmhmm/lib/python3.7/site-packages/autograd/numpy/numpy_vjps.py:35: RuntimeWarning: overflow encountered in multiply\n",
      "  lambda ans, x, y : unbroadcast_f(y, lambda g: x * g))\n",
      "/Users/lencacuturela/opt/anaconda3/envs/glmhmm/lib/python3.7/site-packages/autograd/numpy/numpy_vjps.py:35: RuntimeWarning: invalid value encountered in multiply\n",
      "  lambda ans, x, y : unbroadcast_f(y, lambda g: x * g))\n",
      "/Users/lencacuturela/opt/anaconda3/envs/glmhmm/lib/python3.7/site-packages/autograd/numpy/numpy_vjps.py:53: RuntimeWarning: overflow encountered in square\n",
      "  lambda ans, x, y : unbroadcast_f(y, lambda g: - g * x / y**2))\n",
      "/Users/lencacuturela/opt/anaconda3/envs/glmhmm/lib/python3.7/site-packages/autograd/numpy/numpy_vjps.py:53: RuntimeWarning: divide by zero encountered in true_divide\n",
      "  lambda ans, x, y : unbroadcast_f(y, lambda g: - g * x / y**2))\n",
      "/Users/lencacuturela/opt/anaconda3/envs/glmhmm/lib/python3.7/site-packages/autograd/numpy/numpy_vjps.py:53: RuntimeWarning: invalid value encountered in true_divide\n",
      "  lambda ans, x, y : unbroadcast_f(y, lambda g: - g * x / y**2))\n",
      "/Users/lencacuturela/opt/anaconda3/envs/glmhmm/lib/python3.7/site-packages/autograd/core.py:212: RuntimeWarning: invalid value encountered in add\n",
      "  def _add(self, x, y):        return x + y\n"
     ]
    },
    {
     "name": "stdout",
     "output_type": "stream",
     "text": [
      "1\n"
     ]
    },
    {
     "name": "stderr",
     "output_type": "stream",
     "text": [
      "/Users/lencacuturela/opt/anaconda3/envs/glmhmm/lib/python3.7/site-packages/autograd/tracer.py:48: RuntimeWarning: overflow encountered in exp\n",
      "  return f_raw(*args, **kwargs)\n",
      "/Users/lencacuturela/opt/anaconda3/envs/glmhmm/lib/python3.7/site-packages/autograd/tracer.py:48: RuntimeWarning: invalid value encountered in multiply\n",
      "  return f_raw(*args, **kwargs)\n",
      "/Users/lencacuturela/opt/anaconda3/envs/glmhmm/lib/python3.7/site-packages/autograd/tracer.py:48: RuntimeWarning: divide by zero encountered in log\n",
      "  return f_raw(*args, **kwargs)\n",
      "/Users/lencacuturela/opt/anaconda3/envs/glmhmm/lib/python3.7/site-packages/autograd/tracer.py:48: RuntimeWarning: invalid value encountered in subtract\n",
      "  return f_raw(*args, **kwargs)\n",
      "/Users/lencacuturela/opt/anaconda3/envs/glmhmm/lib/python3.7/site-packages/autograd/tracer.py:48: RuntimeWarning: invalid value encountered in true_divide\n",
      "  return f_raw(*args, **kwargs)\n",
      "/Users/lencacuturela/opt/anaconda3/envs/glmhmm/lib/python3.7/site-packages/autograd/numpy/numpy_vjps.py:78: RuntimeWarning: divide by zero encountered in true_divide\n",
      "  defvjp(anp.log,    lambda ans, x : lambda g: g / x)\n",
      "/Users/lencacuturela/opt/anaconda3/envs/glmhmm/lib/python3.7/site-packages/autograd/numpy/numpy_vjps.py:34: RuntimeWarning: invalid value encountered in multiply\n",
      "  defvjp(anp.multiply,    lambda ans, x, y : unbroadcast_f(x, lambda g: y * g),\n",
      "/Users/lencacuturela/opt/anaconda3/envs/glmhmm/lib/python3.7/site-packages/autograd/numpy/numpy_vjps.py:75: RuntimeWarning: invalid value encountered in multiply\n",
      "  defvjp(anp.exp,    lambda ans, x : lambda g: ans * g)\n",
      "/Users/lencacuturela/opt/anaconda3/envs/glmhmm/lib/python3.7/site-packages/autograd/tracer.py:48: RuntimeWarning: divide by zero encountered in true_divide\n",
      "  return f_raw(*args, **kwargs)\n",
      "/Users/lencacuturela/opt/anaconda3/envs/glmhmm/lib/python3.7/site-packages/autograd/numpy/numpy_vjps.py:35: RuntimeWarning: overflow encountered in multiply\n",
      "  lambda ans, x, y : unbroadcast_f(y, lambda g: x * g))\n",
      "/Users/lencacuturela/opt/anaconda3/envs/glmhmm/lib/python3.7/site-packages/autograd/numpy/numpy_vjps.py:35: RuntimeWarning: invalid value encountered in multiply\n",
      "  lambda ans, x, y : unbroadcast_f(y, lambda g: x * g))\n",
      "/Users/lencacuturela/opt/anaconda3/envs/glmhmm/lib/python3.7/site-packages/autograd/numpy/numpy_vjps.py:53: RuntimeWarning: overflow encountered in square\n",
      "  lambda ans, x, y : unbroadcast_f(y, lambda g: - g * x / y**2))\n",
      "/Users/lencacuturela/opt/anaconda3/envs/glmhmm/lib/python3.7/site-packages/autograd/numpy/numpy_vjps.py:53: RuntimeWarning: divide by zero encountered in true_divide\n",
      "  lambda ans, x, y : unbroadcast_f(y, lambda g: - g * x / y**2))\n",
      "/Users/lencacuturela/opt/anaconda3/envs/glmhmm/lib/python3.7/site-packages/autograd/numpy/numpy_vjps.py:53: RuntimeWarning: invalid value encountered in true_divide\n",
      "  lambda ans, x, y : unbroadcast_f(y, lambda g: - g * x / y**2))\n"
     ]
    },
    {
     "name": "stdout",
     "output_type": "stream",
     "text": [
      "2\n"
     ]
    },
    {
     "name": "stderr",
     "output_type": "stream",
     "text": [
      "/Users/lencacuturela/opt/anaconda3/envs/glmhmm/lib/python3.7/site-packages/autograd/tracer.py:48: RuntimeWarning: overflow encountered in exp\n",
      "  return f_raw(*args, **kwargs)\n",
      "/Users/lencacuturela/opt/anaconda3/envs/glmhmm/lib/python3.7/site-packages/autograd/tracer.py:48: RuntimeWarning: invalid value encountered in multiply\n",
      "  return f_raw(*args, **kwargs)\n",
      "/Users/lencacuturela/opt/anaconda3/envs/glmhmm/lib/python3.7/site-packages/autograd/tracer.py:48: RuntimeWarning: divide by zero encountered in log\n",
      "  return f_raw(*args, **kwargs)\n",
      "/Users/lencacuturela/opt/anaconda3/envs/glmhmm/lib/python3.7/site-packages/autograd/tracer.py:48: RuntimeWarning: invalid value encountered in subtract\n",
      "  return f_raw(*args, **kwargs)\n",
      "/Users/lencacuturela/opt/anaconda3/envs/glmhmm/lib/python3.7/site-packages/autograd/tracer.py:48: RuntimeWarning: invalid value encountered in true_divide\n",
      "  return f_raw(*args, **kwargs)\n",
      "/Users/lencacuturela/opt/anaconda3/envs/glmhmm/lib/python3.7/site-packages/autograd/numpy/numpy_vjps.py:78: RuntimeWarning: divide by zero encountered in true_divide\n",
      "  defvjp(anp.log,    lambda ans, x : lambda g: g / x)\n",
      "/Users/lencacuturela/opt/anaconda3/envs/glmhmm/lib/python3.7/site-packages/autograd/numpy/numpy_vjps.py:34: RuntimeWarning: invalid value encountered in multiply\n",
      "  defvjp(anp.multiply,    lambda ans, x, y : unbroadcast_f(x, lambda g: y * g),\n",
      "/Users/lencacuturela/opt/anaconda3/envs/glmhmm/lib/python3.7/site-packages/autograd/numpy/numpy_vjps.py:75: RuntimeWarning: invalid value encountered in multiply\n",
      "  defvjp(anp.exp,    lambda ans, x : lambda g: ans * g)\n",
      "/Users/lencacuturela/opt/anaconda3/envs/glmhmm/lib/python3.7/site-packages/autograd/tracer.py:48: RuntimeWarning: divide by zero encountered in true_divide\n",
      "  return f_raw(*args, **kwargs)\n",
      "/Users/lencacuturela/opt/anaconda3/envs/glmhmm/lib/python3.7/site-packages/autograd/numpy/numpy_vjps.py:35: RuntimeWarning: invalid value encountered in multiply\n",
      "  lambda ans, x, y : unbroadcast_f(y, lambda g: x * g))\n",
      "/Users/lencacuturela/opt/anaconda3/envs/glmhmm/lib/python3.7/site-packages/autograd/numpy/numpy_vjps.py:53: RuntimeWarning: overflow encountered in square\n",
      "  lambda ans, x, y : unbroadcast_f(y, lambda g: - g * x / y**2))\n",
      "/Users/lencacuturela/opt/anaconda3/envs/glmhmm/lib/python3.7/site-packages/autograd/numpy/numpy_vjps.py:53: RuntimeWarning: divide by zero encountered in true_divide\n",
      "  lambda ans, x, y : unbroadcast_f(y, lambda g: - g * x / y**2))\n",
      "/Users/lencacuturela/opt/anaconda3/envs/glmhmm/lib/python3.7/site-packages/autograd/numpy/numpy_vjps.py:53: RuntimeWarning: invalid value encountered in true_divide\n",
      "  lambda ans, x, y : unbroadcast_f(y, lambda g: - g * x / y**2))\n",
      "/Users/lencacuturela/opt/anaconda3/envs/glmhmm/lib/python3.7/site-packages/autograd/numpy/numpy_vjps.py:35: RuntimeWarning: overflow encountered in multiply\n",
      "  lambda ans, x, y : unbroadcast_f(y, lambda g: x * g))\n"
     ]
    },
    {
     "name": "stdout",
     "output_type": "stream",
     "text": [
      "3\n"
     ]
    },
    {
     "name": "stderr",
     "output_type": "stream",
     "text": [
      "/Users/lencacuturela/opt/anaconda3/envs/glmhmm/lib/python3.7/site-packages/autograd/tracer.py:48: RuntimeWarning: overflow encountered in exp\n",
      "  return f_raw(*args, **kwargs)\n",
      "/Users/lencacuturela/opt/anaconda3/envs/glmhmm/lib/python3.7/site-packages/autograd/tracer.py:48: RuntimeWarning: invalid value encountered in multiply\n",
      "  return f_raw(*args, **kwargs)\n",
      "/Users/lencacuturela/opt/anaconda3/envs/glmhmm/lib/python3.7/site-packages/autograd/tracer.py:48: RuntimeWarning: divide by zero encountered in log\n",
      "  return f_raw(*args, **kwargs)\n",
      "/Users/lencacuturela/opt/anaconda3/envs/glmhmm/lib/python3.7/site-packages/autograd/tracer.py:48: RuntimeWarning: invalid value encountered in subtract\n",
      "  return f_raw(*args, **kwargs)\n",
      "/Users/lencacuturela/opt/anaconda3/envs/glmhmm/lib/python3.7/site-packages/autograd/tracer.py:48: RuntimeWarning: invalid value encountered in true_divide\n",
      "  return f_raw(*args, **kwargs)\n",
      "/Users/lencacuturela/opt/anaconda3/envs/glmhmm/lib/python3.7/site-packages/autograd/numpy/numpy_vjps.py:78: RuntimeWarning: divide by zero encountered in true_divide\n",
      "  defvjp(anp.log,    lambda ans, x : lambda g: g / x)\n",
      "/Users/lencacuturela/opt/anaconda3/envs/glmhmm/lib/python3.7/site-packages/autograd/numpy/numpy_vjps.py:78: RuntimeWarning: overflow encountered in true_divide\n",
      "  defvjp(anp.log,    lambda ans, x : lambda g: g / x)\n",
      "/Users/lencacuturela/opt/anaconda3/envs/glmhmm/lib/python3.7/site-packages/autograd/numpy/numpy_vjps.py:34: RuntimeWarning: invalid value encountered in multiply\n",
      "  defvjp(anp.multiply,    lambda ans, x, y : unbroadcast_f(x, lambda g: y * g),\n",
      "/Users/lencacuturela/opt/anaconda3/envs/glmhmm/lib/python3.7/site-packages/autograd/numpy/numpy_vjps.py:75: RuntimeWarning: invalid value encountered in multiply\n",
      "  defvjp(anp.exp,    lambda ans, x : lambda g: ans * g)\n",
      "/Users/lencacuturela/opt/anaconda3/envs/glmhmm/lib/python3.7/site-packages/autograd/tracer.py:48: RuntimeWarning: divide by zero encountered in true_divide\n",
      "  return f_raw(*args, **kwargs)\n",
      "/Users/lencacuturela/opt/anaconda3/envs/glmhmm/lib/python3.7/site-packages/autograd/tracer.py:48: RuntimeWarning: overflow encountered in true_divide\n",
      "  return f_raw(*args, **kwargs)\n",
      "/Users/lencacuturela/opt/anaconda3/envs/glmhmm/lib/python3.7/site-packages/autograd/numpy/numpy_vjps.py:35: RuntimeWarning: overflow encountered in multiply\n",
      "  lambda ans, x, y : unbroadcast_f(y, lambda g: x * g))\n",
      "/Users/lencacuturela/opt/anaconda3/envs/glmhmm/lib/python3.7/site-packages/autograd/numpy/numpy_vjps.py:35: RuntimeWarning: invalid value encountered in multiply\n",
      "  lambda ans, x, y : unbroadcast_f(y, lambda g: x * g))\n",
      "/Users/lencacuturela/opt/anaconda3/envs/glmhmm/lib/python3.7/site-packages/autograd/numpy/numpy_vjps.py:53: RuntimeWarning: overflow encountered in square\n",
      "  lambda ans, x, y : unbroadcast_f(y, lambda g: - g * x / y**2))\n",
      "/Users/lencacuturela/opt/anaconda3/envs/glmhmm/lib/python3.7/site-packages/autograd/numpy/numpy_vjps.py:53: RuntimeWarning: divide by zero encountered in true_divide\n",
      "  lambda ans, x, y : unbroadcast_f(y, lambda g: - g * x / y**2))\n",
      "/Users/lencacuturela/opt/anaconda3/envs/glmhmm/lib/python3.7/site-packages/autograd/numpy/numpy_vjps.py:53: RuntimeWarning: invalid value encountered in true_divide\n",
      "  lambda ans, x, y : unbroadcast_f(y, lambda g: - g * x / y**2))\n",
      "/Users/lencacuturela/opt/anaconda3/envs/glmhmm/lib/python3.7/site-packages/autograd/core.py:212: RuntimeWarning: invalid value encountered in add\n",
      "  def _add(self, x, y):        return x + y\n",
      "/Users/lencacuturela/opt/anaconda3/envs/glmhmm/lib/python3.7/site-packages/autograd/numpy/numpy_vjps.py:34: RuntimeWarning: overflow encountered in multiply\n",
      "  defvjp(anp.multiply,    lambda ans, x, y : unbroadcast_f(x, lambda g: y * g),\n"
     ]
    },
    {
     "name": "stdout",
     "output_type": "stream",
     "text": [
      "4\n"
     ]
    },
    {
     "name": "stderr",
     "output_type": "stream",
     "text": [
      "/Users/lencacuturela/opt/anaconda3/envs/glmhmm/lib/python3.7/site-packages/autograd/tracer.py:48: RuntimeWarning: overflow encountered in exp\n",
      "  return f_raw(*args, **kwargs)\n",
      "/Users/lencacuturela/opt/anaconda3/envs/glmhmm/lib/python3.7/site-packages/autograd/tracer.py:48: RuntimeWarning: invalid value encountered in multiply\n",
      "  return f_raw(*args, **kwargs)\n",
      "/Users/lencacuturela/opt/anaconda3/envs/glmhmm/lib/python3.7/site-packages/autograd/tracer.py:48: RuntimeWarning: divide by zero encountered in log\n",
      "  return f_raw(*args, **kwargs)\n",
      "/Users/lencacuturela/opt/anaconda3/envs/glmhmm/lib/python3.7/site-packages/autograd/tracer.py:48: RuntimeWarning: invalid value encountered in subtract\n",
      "  return f_raw(*args, **kwargs)\n",
      "/Users/lencacuturela/opt/anaconda3/envs/glmhmm/lib/python3.7/site-packages/autograd/tracer.py:48: RuntimeWarning: invalid value encountered in true_divide\n",
      "  return f_raw(*args, **kwargs)\n",
      "/Users/lencacuturela/opt/anaconda3/envs/glmhmm/lib/python3.7/site-packages/autograd/numpy/numpy_vjps.py:78: RuntimeWarning: divide by zero encountered in true_divide\n",
      "  defvjp(anp.log,    lambda ans, x : lambda g: g / x)\n",
      "/Users/lencacuturela/opt/anaconda3/envs/glmhmm/lib/python3.7/site-packages/autograd/numpy/numpy_vjps.py:78: RuntimeWarning: overflow encountered in true_divide\n",
      "  defvjp(anp.log,    lambda ans, x : lambda g: g / x)\n",
      "/Users/lencacuturela/opt/anaconda3/envs/glmhmm/lib/python3.7/site-packages/autograd/numpy/numpy_vjps.py:34: RuntimeWarning: invalid value encountered in multiply\n",
      "  defvjp(anp.multiply,    lambda ans, x, y : unbroadcast_f(x, lambda g: y * g),\n",
      "/Users/lencacuturela/opt/anaconda3/envs/glmhmm/lib/python3.7/site-packages/autograd/numpy/numpy_vjps.py:75: RuntimeWarning: invalid value encountered in multiply\n",
      "  defvjp(anp.exp,    lambda ans, x : lambda g: ans * g)\n",
      "/Users/lencacuturela/opt/anaconda3/envs/glmhmm/lib/python3.7/site-packages/autograd/tracer.py:48: RuntimeWarning: divide by zero encountered in true_divide\n",
      "  return f_raw(*args, **kwargs)\n",
      "/Users/lencacuturela/opt/anaconda3/envs/glmhmm/lib/python3.7/site-packages/autograd/tracer.py:48: RuntimeWarning: overflow encountered in true_divide\n",
      "  return f_raw(*args, **kwargs)\n",
      "/Users/lencacuturela/opt/anaconda3/envs/glmhmm/lib/python3.7/site-packages/autograd/numpy/numpy_vjps.py:35: RuntimeWarning: invalid value encountered in multiply\n",
      "  lambda ans, x, y : unbroadcast_f(y, lambda g: x * g))\n",
      "/Users/lencacuturela/opt/anaconda3/envs/glmhmm/lib/python3.7/site-packages/autograd/numpy/numpy_vjps.py:53: RuntimeWarning: overflow encountered in square\n",
      "  lambda ans, x, y : unbroadcast_f(y, lambda g: - g * x / y**2))\n",
      "/Users/lencacuturela/opt/anaconda3/envs/glmhmm/lib/python3.7/site-packages/autograd/numpy/numpy_vjps.py:53: RuntimeWarning: divide by zero encountered in true_divide\n",
      "  lambda ans, x, y : unbroadcast_f(y, lambda g: - g * x / y**2))\n",
      "/Users/lencacuturela/opt/anaconda3/envs/glmhmm/lib/python3.7/site-packages/autograd/numpy/numpy_vjps.py:53: RuntimeWarning: invalid value encountered in true_divide\n",
      "  lambda ans, x, y : unbroadcast_f(y, lambda g: - g * x / y**2))\n",
      "/Users/lencacuturela/opt/anaconda3/envs/glmhmm/lib/python3.7/site-packages/autograd/core.py:212: RuntimeWarning: invalid value encountered in add\n",
      "  def _add(self, x, y):        return x + y\n",
      "/Users/lencacuturela/opt/anaconda3/envs/glmhmm/lib/python3.7/site-packages/autograd/numpy/numpy_vjps.py:35: RuntimeWarning: overflow encountered in multiply\n",
      "  lambda ans, x, y : unbroadcast_f(y, lambda g: x * g))\n",
      "/Users/lencacuturela/opt/anaconda3/envs/glmhmm/lib/python3.7/site-packages/autograd/numpy/numpy_vjps.py:34: RuntimeWarning: overflow encountered in multiply\n",
      "  defvjp(anp.multiply,    lambda ans, x, y : unbroadcast_f(x, lambda g: y * g),\n"
     ]
    },
    {
     "name": "stdout",
     "output_type": "stream",
     "text": [
      "5\n"
     ]
    },
    {
     "name": "stderr",
     "output_type": "stream",
     "text": [
      "/Users/lencacuturela/opt/anaconda3/envs/glmhmm/lib/python3.7/site-packages/autograd/tracer.py:48: RuntimeWarning: overflow encountered in exp\n",
      "  return f_raw(*args, **kwargs)\n",
      "/Users/lencacuturela/opt/anaconda3/envs/glmhmm/lib/python3.7/site-packages/autograd/tracer.py:48: RuntimeWarning: invalid value encountered in multiply\n",
      "  return f_raw(*args, **kwargs)\n",
      "/Users/lencacuturela/opt/anaconda3/envs/glmhmm/lib/python3.7/site-packages/autograd/tracer.py:48: RuntimeWarning: divide by zero encountered in log\n",
      "  return f_raw(*args, **kwargs)\n",
      "/Users/lencacuturela/opt/anaconda3/envs/glmhmm/lib/python3.7/site-packages/autograd/tracer.py:48: RuntimeWarning: invalid value encountered in subtract\n",
      "  return f_raw(*args, **kwargs)\n",
      "/Users/lencacuturela/opt/anaconda3/envs/glmhmm/lib/python3.7/site-packages/autograd/tracer.py:48: RuntimeWarning: invalid value encountered in true_divide\n",
      "  return f_raw(*args, **kwargs)\n",
      "/Users/lencacuturela/opt/anaconda3/envs/glmhmm/lib/python3.7/site-packages/autograd/numpy/numpy_vjps.py:78: RuntimeWarning: divide by zero encountered in true_divide\n",
      "  defvjp(anp.log,    lambda ans, x : lambda g: g / x)\n",
      "/Users/lencacuturela/opt/anaconda3/envs/glmhmm/lib/python3.7/site-packages/autograd/numpy/numpy_vjps.py:34: RuntimeWarning: invalid value encountered in multiply\n",
      "  defvjp(anp.multiply,    lambda ans, x, y : unbroadcast_f(x, lambda g: y * g),\n",
      "/Users/lencacuturela/opt/anaconda3/envs/glmhmm/lib/python3.7/site-packages/autograd/numpy/numpy_vjps.py:75: RuntimeWarning: invalid value encountered in multiply\n",
      "  defvjp(anp.exp,    lambda ans, x : lambda g: ans * g)\n",
      "/Users/lencacuturela/opt/anaconda3/envs/glmhmm/lib/python3.7/site-packages/autograd/tracer.py:48: RuntimeWarning: divide by zero encountered in true_divide\n",
      "  return f_raw(*args, **kwargs)\n",
      "/Users/lencacuturela/opt/anaconda3/envs/glmhmm/lib/python3.7/site-packages/autograd/numpy/numpy_vjps.py:35: RuntimeWarning: invalid value encountered in multiply\n",
      "  lambda ans, x, y : unbroadcast_f(y, lambda g: x * g))\n",
      "/Users/lencacuturela/opt/anaconda3/envs/glmhmm/lib/python3.7/site-packages/autograd/numpy/numpy_vjps.py:53: RuntimeWarning: overflow encountered in square\n",
      "  lambda ans, x, y : unbroadcast_f(y, lambda g: - g * x / y**2))\n",
      "/Users/lencacuturela/opt/anaconda3/envs/glmhmm/lib/python3.7/site-packages/autograd/numpy/numpy_vjps.py:53: RuntimeWarning: divide by zero encountered in true_divide\n",
      "  lambda ans, x, y : unbroadcast_f(y, lambda g: - g * x / y**2))\n",
      "/Users/lencacuturela/opt/anaconda3/envs/glmhmm/lib/python3.7/site-packages/autograd/numpy/numpy_vjps.py:53: RuntimeWarning: invalid value encountered in true_divide\n",
      "  lambda ans, x, y : unbroadcast_f(y, lambda g: - g * x / y**2))\n",
      "/Users/lencacuturela/opt/anaconda3/envs/glmhmm/lib/python3.7/site-packages/autograd/numpy/numpy_vjps.py:35: RuntimeWarning: overflow encountered in multiply\n",
      "  lambda ans, x, y : unbroadcast_f(y, lambda g: x * g))\n"
     ]
    },
    {
     "name": "stdout",
     "output_type": "stream",
     "text": [
      "6\n"
     ]
    },
    {
     "name": "stderr",
     "output_type": "stream",
     "text": [
      "/Users/lencacuturela/opt/anaconda3/envs/glmhmm/lib/python3.7/site-packages/autograd/tracer.py:48: RuntimeWarning: overflow encountered in exp\n",
      "  return f_raw(*args, **kwargs)\n",
      "/Users/lencacuturela/opt/anaconda3/envs/glmhmm/lib/python3.7/site-packages/autograd/tracer.py:48: RuntimeWarning: invalid value encountered in multiply\n",
      "  return f_raw(*args, **kwargs)\n",
      "/Users/lencacuturela/opt/anaconda3/envs/glmhmm/lib/python3.7/site-packages/autograd/tracer.py:48: RuntimeWarning: divide by zero encountered in log\n",
      "  return f_raw(*args, **kwargs)\n",
      "/Users/lencacuturela/opt/anaconda3/envs/glmhmm/lib/python3.7/site-packages/autograd/tracer.py:48: RuntimeWarning: invalid value encountered in subtract\n",
      "  return f_raw(*args, **kwargs)\n",
      "/Users/lencacuturela/opt/anaconda3/envs/glmhmm/lib/python3.7/site-packages/autograd/tracer.py:48: RuntimeWarning: invalid value encountered in true_divide\n",
      "  return f_raw(*args, **kwargs)\n",
      "/Users/lencacuturela/opt/anaconda3/envs/glmhmm/lib/python3.7/site-packages/autograd/numpy/numpy_vjps.py:78: RuntimeWarning: divide by zero encountered in true_divide\n",
      "  defvjp(anp.log,    lambda ans, x : lambda g: g / x)\n",
      "/Users/lencacuturela/opt/anaconda3/envs/glmhmm/lib/python3.7/site-packages/autograd/numpy/numpy_vjps.py:78: RuntimeWarning: overflow encountered in true_divide\n",
      "  defvjp(anp.log,    lambda ans, x : lambda g: g / x)\n",
      "/Users/lencacuturela/opt/anaconda3/envs/glmhmm/lib/python3.7/site-packages/autograd/numpy/numpy_vjps.py:34: RuntimeWarning: invalid value encountered in multiply\n",
      "  defvjp(anp.multiply,    lambda ans, x, y : unbroadcast_f(x, lambda g: y * g),\n",
      "/Users/lencacuturela/opt/anaconda3/envs/glmhmm/lib/python3.7/site-packages/autograd/numpy/numpy_vjps.py:75: RuntimeWarning: invalid value encountered in multiply\n",
      "  defvjp(anp.exp,    lambda ans, x : lambda g: ans * g)\n",
      "/Users/lencacuturela/opt/anaconda3/envs/glmhmm/lib/python3.7/site-packages/autograd/tracer.py:48: RuntimeWarning: divide by zero encountered in true_divide\n",
      "  return f_raw(*args, **kwargs)\n",
      "/Users/lencacuturela/opt/anaconda3/envs/glmhmm/lib/python3.7/site-packages/autograd/tracer.py:48: RuntimeWarning: overflow encountered in true_divide\n",
      "  return f_raw(*args, **kwargs)\n",
      "/Users/lencacuturela/opt/anaconda3/envs/glmhmm/lib/python3.7/site-packages/autograd/numpy/numpy_vjps.py:35: RuntimeWarning: overflow encountered in multiply\n",
      "  lambda ans, x, y : unbroadcast_f(y, lambda g: x * g))\n",
      "/Users/lencacuturela/opt/anaconda3/envs/glmhmm/lib/python3.7/site-packages/autograd/numpy/numpy_vjps.py:35: RuntimeWarning: invalid value encountered in multiply\n",
      "  lambda ans, x, y : unbroadcast_f(y, lambda g: x * g))\n",
      "/Users/lencacuturela/opt/anaconda3/envs/glmhmm/lib/python3.7/site-packages/autograd/numpy/numpy_vjps.py:53: RuntimeWarning: overflow encountered in square\n",
      "  lambda ans, x, y : unbroadcast_f(y, lambda g: - g * x / y**2))\n",
      "/Users/lencacuturela/opt/anaconda3/envs/glmhmm/lib/python3.7/site-packages/autograd/numpy/numpy_vjps.py:53: RuntimeWarning: divide by zero encountered in true_divide\n",
      "  lambda ans, x, y : unbroadcast_f(y, lambda g: - g * x / y**2))\n",
      "/Users/lencacuturela/opt/anaconda3/envs/glmhmm/lib/python3.7/site-packages/autograd/numpy/numpy_vjps.py:53: RuntimeWarning: invalid value encountered in true_divide\n",
      "  lambda ans, x, y : unbroadcast_f(y, lambda g: - g * x / y**2))\n",
      "/Users/lencacuturela/opt/anaconda3/envs/glmhmm/lib/python3.7/site-packages/autograd/core.py:212: RuntimeWarning: invalid value encountered in add\n",
      "  def _add(self, x, y):        return x + y\n",
      "/Users/lencacuturela/opt/anaconda3/envs/glmhmm/lib/python3.7/site-packages/autograd/numpy/numpy_vjps.py:34: RuntimeWarning: overflow encountered in multiply\n",
      "  defvjp(anp.multiply,    lambda ans, x, y : unbroadcast_f(x, lambda g: y * g),\n"
     ]
    },
    {
     "name": "stdout",
     "output_type": "stream",
     "text": [
      "7\n"
     ]
    },
    {
     "name": "stderr",
     "output_type": "stream",
     "text": [
      "/Users/lencacuturela/opt/anaconda3/envs/glmhmm/lib/python3.7/site-packages/autograd/tracer.py:48: RuntimeWarning: overflow encountered in exp\n",
      "  return f_raw(*args, **kwargs)\n",
      "/Users/lencacuturela/opt/anaconda3/envs/glmhmm/lib/python3.7/site-packages/autograd/tracer.py:48: RuntimeWarning: invalid value encountered in multiply\n",
      "  return f_raw(*args, **kwargs)\n",
      "/Users/lencacuturela/opt/anaconda3/envs/glmhmm/lib/python3.7/site-packages/autograd/tracer.py:48: RuntimeWarning: divide by zero encountered in log\n",
      "  return f_raw(*args, **kwargs)\n",
      "/Users/lencacuturela/opt/anaconda3/envs/glmhmm/lib/python3.7/site-packages/autograd/tracer.py:48: RuntimeWarning: invalid value encountered in subtract\n",
      "  return f_raw(*args, **kwargs)\n",
      "/Users/lencacuturela/opt/anaconda3/envs/glmhmm/lib/python3.7/site-packages/autograd/tracer.py:48: RuntimeWarning: invalid value encountered in true_divide\n",
      "  return f_raw(*args, **kwargs)\n",
      "/Users/lencacuturela/opt/anaconda3/envs/glmhmm/lib/python3.7/site-packages/autograd/numpy/numpy_vjps.py:78: RuntimeWarning: divide by zero encountered in true_divide\n",
      "  defvjp(anp.log,    lambda ans, x : lambda g: g / x)\n",
      "/Users/lencacuturela/opt/anaconda3/envs/glmhmm/lib/python3.7/site-packages/autograd/numpy/numpy_vjps.py:34: RuntimeWarning: invalid value encountered in multiply\n",
      "  defvjp(anp.multiply,    lambda ans, x, y : unbroadcast_f(x, lambda g: y * g),\n",
      "/Users/lencacuturela/opt/anaconda3/envs/glmhmm/lib/python3.7/site-packages/autograd/numpy/numpy_vjps.py:75: RuntimeWarning: invalid value encountered in multiply\n",
      "  defvjp(anp.exp,    lambda ans, x : lambda g: ans * g)\n",
      "/Users/lencacuturela/opt/anaconda3/envs/glmhmm/lib/python3.7/site-packages/autograd/tracer.py:48: RuntimeWarning: divide by zero encountered in true_divide\n",
      "  return f_raw(*args, **kwargs)\n",
      "/Users/lencacuturela/opt/anaconda3/envs/glmhmm/lib/python3.7/site-packages/autograd/numpy/numpy_vjps.py:35: RuntimeWarning: overflow encountered in multiply\n",
      "  lambda ans, x, y : unbroadcast_f(y, lambda g: x * g))\n",
      "/Users/lencacuturela/opt/anaconda3/envs/glmhmm/lib/python3.7/site-packages/autograd/numpy/numpy_vjps.py:35: RuntimeWarning: invalid value encountered in multiply\n",
      "  lambda ans, x, y : unbroadcast_f(y, lambda g: x * g))\n",
      "/Users/lencacuturela/opt/anaconda3/envs/glmhmm/lib/python3.7/site-packages/autograd/numpy/numpy_vjps.py:53: RuntimeWarning: overflow encountered in square\n",
      "  lambda ans, x, y : unbroadcast_f(y, lambda g: - g * x / y**2))\n",
      "/Users/lencacuturela/opt/anaconda3/envs/glmhmm/lib/python3.7/site-packages/autograd/numpy/numpy_vjps.py:53: RuntimeWarning: divide by zero encountered in true_divide\n",
      "  lambda ans, x, y : unbroadcast_f(y, lambda g: - g * x / y**2))\n",
      "/Users/lencacuturela/opt/anaconda3/envs/glmhmm/lib/python3.7/site-packages/autograd/numpy/numpy_vjps.py:53: RuntimeWarning: invalid value encountered in true_divide\n",
      "  lambda ans, x, y : unbroadcast_f(y, lambda g: - g * x / y**2))\n"
     ]
    },
    {
     "name": "stdout",
     "output_type": "stream",
     "text": [
      "8\n"
     ]
    },
    {
     "name": "stderr",
     "output_type": "stream",
     "text": [
      "/Users/lencacuturela/opt/anaconda3/envs/glmhmm/lib/python3.7/site-packages/autograd/tracer.py:48: RuntimeWarning: overflow encountered in exp\n",
      "  return f_raw(*args, **kwargs)\n",
      "/Users/lencacuturela/opt/anaconda3/envs/glmhmm/lib/python3.7/site-packages/autograd/tracer.py:48: RuntimeWarning: invalid value encountered in multiply\n",
      "  return f_raw(*args, **kwargs)\n",
      "/Users/lencacuturela/opt/anaconda3/envs/glmhmm/lib/python3.7/site-packages/autograd/tracer.py:48: RuntimeWarning: divide by zero encountered in log\n",
      "  return f_raw(*args, **kwargs)\n",
      "/Users/lencacuturela/opt/anaconda3/envs/glmhmm/lib/python3.7/site-packages/autograd/tracer.py:48: RuntimeWarning: invalid value encountered in subtract\n",
      "  return f_raw(*args, **kwargs)\n",
      "/Users/lencacuturela/opt/anaconda3/envs/glmhmm/lib/python3.7/site-packages/autograd/tracer.py:48: RuntimeWarning: invalid value encountered in true_divide\n",
      "  return f_raw(*args, **kwargs)\n",
      "/Users/lencacuturela/opt/anaconda3/envs/glmhmm/lib/python3.7/site-packages/autograd/numpy/numpy_vjps.py:78: RuntimeWarning: divide by zero encountered in true_divide\n",
      "  defvjp(anp.log,    lambda ans, x : lambda g: g / x)\n",
      "/Users/lencacuturela/opt/anaconda3/envs/glmhmm/lib/python3.7/site-packages/autograd/numpy/numpy_vjps.py:34: RuntimeWarning: invalid value encountered in multiply\n",
      "  defvjp(anp.multiply,    lambda ans, x, y : unbroadcast_f(x, lambda g: y * g),\n",
      "/Users/lencacuturela/opt/anaconda3/envs/glmhmm/lib/python3.7/site-packages/autograd/numpy/numpy_vjps.py:75: RuntimeWarning: invalid value encountered in multiply\n",
      "  defvjp(anp.exp,    lambda ans, x : lambda g: ans * g)\n",
      "/Users/lencacuturela/opt/anaconda3/envs/glmhmm/lib/python3.7/site-packages/autograd/tracer.py:48: RuntimeWarning: divide by zero encountered in true_divide\n",
      "  return f_raw(*args, **kwargs)\n",
      "/Users/lencacuturela/opt/anaconda3/envs/glmhmm/lib/python3.7/site-packages/autograd/numpy/numpy_vjps.py:35: RuntimeWarning: overflow encountered in multiply\n",
      "  lambda ans, x, y : unbroadcast_f(y, lambda g: x * g))\n",
      "/Users/lencacuturela/opt/anaconda3/envs/glmhmm/lib/python3.7/site-packages/autograd/numpy/numpy_vjps.py:35: RuntimeWarning: invalid value encountered in multiply\n",
      "  lambda ans, x, y : unbroadcast_f(y, lambda g: x * g))\n",
      "/Users/lencacuturela/opt/anaconda3/envs/glmhmm/lib/python3.7/site-packages/autograd/numpy/numpy_vjps.py:53: RuntimeWarning: overflow encountered in square\n",
      "  lambda ans, x, y : unbroadcast_f(y, lambda g: - g * x / y**2))\n",
      "/Users/lencacuturela/opt/anaconda3/envs/glmhmm/lib/python3.7/site-packages/autograd/numpy/numpy_vjps.py:53: RuntimeWarning: divide by zero encountered in true_divide\n",
      "  lambda ans, x, y : unbroadcast_f(y, lambda g: - g * x / y**2))\n",
      "/Users/lencacuturela/opt/anaconda3/envs/glmhmm/lib/python3.7/site-packages/autograd/numpy/numpy_vjps.py:53: RuntimeWarning: invalid value encountered in true_divide\n",
      "  lambda ans, x, y : unbroadcast_f(y, lambda g: - g * x / y**2))\n"
     ]
    }
   ],
   "source": [
    "# Per day logistic regression behavioral features and attack or not\n",
    "# Import outside packages by changing the path\n",
    "import sys, os\n",
    "sys.path.append(os.path.abspath(os.path.join('..', '..', 'glmhmm')))\n",
    "from glmhmm import glm, glm_hmm, utils\n",
    "from glmhmm.utils import permute_states, find_best_fit, compare_top_weights\n",
    "from glmhmm import visualize, analysis\n",
    "\n",
    "sessInd = [0]\n",
    "animal = '29L_'\n",
    "M = 780 # number of GLM inputs (regressors) - all behavioral features from Jorge\n",
    "w = np.zeros((len(days), M, 2))\n",
    "\n",
    "for i in range(0,len(days)):\n",
    "    print(i)\n",
    "    day = days[i]\n",
    "    sessInd = [0]\n",
    "\n",
    "    for sess in sessions:\n",
    "        if (sess =='_t1'):\n",
    "            y = np.load('../data_falkner/' + f'{animal+day+sess}_aggr_labels.npy')\n",
    "            x = np.load(f'../data_falkner/{animal+day+sess}_allFeatures.npy')\n",
    "            sessInd.append(y.shape[0])\n",
    "        else:\n",
    "            tempY = np.load('../data_falkner/' + f'{animal+day+sess}_aggr_labels.npy')\n",
    "            tempX = np.load(f'../data_falkner/{animal+day+sess}_allFeatures.npy')\n",
    "            y = np.concatenate((y,tempY))\n",
    "            x = np.concatenate((x,tempX))\n",
    "            sessInd.append(tempY.shape[0] + int(sessInd[-1]))\n",
    "    sessInd = np.array(sessInd)\n",
    "\n",
    "    N = x.shape[0] # number of data/time points\n",
    "    C = 2 # number of observation classes\n",
    "\n",
    "    # make a GLM with these parameters and set distribution type\n",
    "    GLM = glm.GLM(N,M,C,observations=\"bernoulli\")\n",
    "\n",
    "    w_init = GLM.init_weights(wdist=(-1,1))\n",
    "    w[i], phi = GLM.fit(x,w_init,y, compHess=True)\n",
    "    variance = GLM.variance\n"
   ]
  },
  {
   "cell_type": "code",
   "execution_count": 8,
   "metadata": {},
   "outputs": [],
   "source": [
    "# df = pd.read_pickle(f'../data_falkner/29L_d1_balbc_t1_zscored_features.pickle')\n",
    "# allFeatures = df.columns.tolist()\n",
    "# df.to_csv('../data_falkner/29L_d1_balbc_t1_zscored_features.csv')\n",
    "df = pd.read_csv('../data_falkner/29L_d1_balbc_t1_zscored_features.csv', index_col=0)\n",
    "allFeatures = df.columns.tolist()"
   ]
  },
  {
   "cell_type": "code",
   "execution_count": 19,
   "metadata": {},
   "outputs": [
    {
     "name": "stdout",
     "output_type": "stream",
     "text": [
      "resident tailbase2nose angle reverse roc 1000 ms\n",
      "proximity abs roc 1000 ms\n",
      "intruder t1 reverse roc 5000 ms\n",
      "intruder tti2head abs reverse roc 2000 ms\n",
      "resident tailbase2trunk angle abs roc 50 ms\n",
      "resident tailbase2nose angle reverse roc 2000 ms\n",
      "resident centroid2nose angle roc 50 ms\n",
      "intruder forepaw left2trunk\n",
      "resident tti2neck roc 2000 ms\n",
      "intruder tti roc 50 ms\n",
      "resident centroid2nose angle abs reverse roc 50 ms\n",
      "intruder t0 roc 5000 ms\n",
      "resident tti2head\n",
      "proximity abs roc 5000 ms\n",
      "resident tailbase2trunk angle reverse roc 2000 ms\n",
      "resident head roc 1000 ms\n",
      "intruder tailbase2nose angle reverse roc 4000 ms\n",
      "proximity abs reverse roc 5000 ms\n",
      "head roc differential 50 ms\n"
     ]
    }
   ],
   "source": [
    "a = np.abs(w[1,:,1])\n",
    "id = np.argsort(a)\n",
    "for i in range(0,id.shape[0]):\n",
    "    if (i > id.shape[0] - 20):\n",
    "        print(allFeatures[id[i]])"
   ]
  },
  {
   "cell_type": "code",
   "execution_count": 21,
   "metadata": {},
   "outputs": [
    {
     "name": "stdout",
     "output_type": "stream",
     "text": [
      "intruder avg tail roc 5000 ms\n",
      "resident tailbase2head angle reverse roc 1000 ms\n",
      "intruder tailbase2head angle reverse roc 50 ms\n",
      "intruder2resident nose-centroid\n",
      "resident centroid2nose angle abs roc 1000 ms\n",
      "intruder neck2nose angle roc 1000 ms\n",
      "resident tti2head roc 1000 ms\n",
      "resident centroid2nose angle abs roc 2000 ms\n",
      "intruder t0 reverse roc 5000 ms\n",
      "resident neck2nose angle abs reverse roc 2000 ms\n",
      "resident avg tail roc 1000 ms\n",
      "resident neck2nose angle reverse roc 50 ms\n",
      "resident neck2nose angle abs roc 2000 ms\n",
      "intruder neck2nose angle roc 50 ms\n",
      "intruder tti2head abs reverse roc 100 ms\n",
      "resident centroid roc 100 ms\n",
      "resident tti2head abs roc 5000 ms\n",
      "intruder tailbase2head angle abs reverse roc 5000 ms\n",
      "resident centroid2nose angle roc 5000 ms\n"
     ]
    }
   ],
   "source": [
    "featuresChange = np.zeros((M))\n",
    "for i in range(0,len(days)-1):\n",
    "    featuresChange += np.abs(w[i,:,1] - w[i+1,:,1])\n",
    "id = np.argsort(featuresChange)\n",
    "for i in range(0,id.shape[0]):\n",
    "    if (i > id.shape[0] - 20):\n",
    "        print(allFeatures[id[i]])"
   ]
  }
 ],
 "metadata": {
  "kernelspec": {
   "display_name": "base",
   "language": "python",
   "name": "python3"
  },
  "language_info": {
   "codemirror_mode": {
    "name": "ipython",
    "version": 3
   },
   "file_extension": ".py",
   "mimetype": "text/x-python",
   "name": "python",
   "nbconvert_exporter": "python",
   "pygments_lexer": "ipython3",
   "version": "3.7.3"
  },
  "orig_nbformat": 4
 },
 "nbformat": 4,
 "nbformat_minor": 2
}
