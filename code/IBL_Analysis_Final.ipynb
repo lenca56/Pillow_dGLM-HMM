{
 "cells": [
  {
   "cell_type": "code",
   "execution_count": 1,
   "metadata": {},
   "outputs": [],
   "source": [
    "import os\n",
    "import re\n",
    "from IPython.display import clear_output\n",
    "from matplotlib import pyplot as plt\n",
    "import numpy as np\n",
    "import pandas as pd\n",
    "# from oneibl.onelight import ONE # only used for downloading data\n",
    "# import wget\n",
    "from utils import *\n",
    "from plotting_utils import *\n",
    "from analysis_utils import *\n",
    "import dglm_hmm1\n",
    "from pandas.errors import SettingWithCopyWarning\n",
    "warnings.simplefilter(action=\"ignore\", category=SettingWithCopyWarning)\n",
    "\n",
    "\n",
    "ibl_data_path = '../data_IBL'\n",
    "colorsFeatures = [['#FAA61A','indigo','#99CC66','#59C3C3','#9593D9'],['#FAA61A',\"#2369BD\",\"#A9373B\",'#99CC66','#59C3C3','#9593D9']]\n",
    "colorsStates = ['darkblue','forestgreen','darkorange','purple']\n",
    "myFeatures = [['bias','delta stimulus', 'previous choice', 'previous reward'],['bias','contrast left','contrast right', 'previous choice', 'previous reward']]\n",
    "sns.set_context(\"talk\")\n",
    "colormap = ['rebeccapurple','teal','darkturquoise','springgreen']"
   ]
  },
  {
   "cell_type": "code",
   "execution_count": 6,
   "metadata": {},
   "outputs": [],
   "source": [
    "ibl_data_path = '../data_IBL'\n",
    "dfAll = pd.read_csv(ibl_data_path + '/Ibl_processed.csv')\n",
    "subjectsWitten = np.unique(dfAll[dfAll['lab'] == 'wittenlab']['subject'])\n",
    "\n",
    "df = pd.DataFrame(columns=['subject','K','fold']) # in total z=0,131\n",
    "z = 0\n",
    "for subject in subjectsWitten:\n",
    "    for K in [1,2,3]:\n",
    "        for fold in [0,1,2,3]:\n",
    "            df.loc[z, 'subject'] = subject\n",
    "            df.loc[z, 'K'] = K\n",
    "            df.loc[z, 'fold'] = fold\n",
    "            z += 1\n",
    "\n",
    "# read from cluster array in order to get parallelizations\n",
    "idx = 0\n",
    "# idx = int(sys.argv[1])\n",
    "subject = df.loc[idx,'subject']\n",
    "K = df.loc[idx,'K']\n",
    "fold = df.loc[idx,'fold']\n",
    "\n",
    "# setting hyperparameters\n",
    "sigmaList =  [10**x for x in list(np.arange(-3,1,0.5,dtype=float))] + [10**x for x in list(np.arange(-3,1,0.5,dtype=float))] + [10]\n",
    "L2penaltyW = 1\n",
    "priorDirP = None\n",
    "maxiter = 300\n",
    "splitFolds = 4\n",
    "\n",
    "initParam = 'all' # initializing for best GLM-HMM fit from all animals or subject-specific one\n",
    "\n",
    "D = 4 # number of features\n",
    "stimCol = [1]\n",
    "sessStop = -1 # last session to use in fitting"
   ]
  },
  {
   "cell_type": "code",
   "execution_count": 7,
   "metadata": {},
   "outputs": [],
   "source": [
    "testLl = np.load(f'../data_IBL/data_IBL_Cluster/{subject}/testLl_{subject}_D={D}_{K}_state_fold-{fold}_sigmas2D_L2penaltyW={L2penaltyW}_priorDirP={priorDirP}_untilSession{sessStop}_init-{initParam}.npy')"
   ]
  },
  {
   "cell_type": "code",
   "execution_count": 9,
   "metadata": {},
   "outputs": [
    {
     "name": "stdout",
     "output_type": "stream",
     "text": [
      "(17, 17)\n"
     ]
    }
   ],
   "source": [
    "print(testLl.shape)"
   ]
  },
  {
   "cell_type": "code",
   "execution_count": 12,
   "metadata": {},
   "outputs": [
    {
     "data": {
      "text/plain": [
       "<AxesSubplot:>"
      ]
     },
     "execution_count": 12,
     "metadata": {},
     "output_type": "execute_result"
    },
    {
     "data": {
      "image/png": "[encoded data removed]",
      "text/plain": [
       "<Figure size 432x288 with 2 Axes>"
      ]
     },
     "metadata": {
      "needs_background": "light"
     },
     "output_type": "display_data"
    }
   ],
   "source": [
    "sns.heatmap(testLl[:,:])"
   ]
  }
 ],
 "metadata": {
  "kernelspec": {
   "display_name": "base",
   "language": "python",
   "name": "python3"
  },
  "language_info": {
   "codemirror_mode": {
    "name": "ipython",
    "version": 3
   },
   "file_extension": ".py",
   "mimetype": "text/x-python",
   "name": "python",
   "nbconvert_exporter": "python",
   "pygments_lexer": "ipython3",
   "version": "3.9.12"
  },
  "orig_nbformat": 4
 },
 "nbformat": 4,
 "nbformat_minor": 2
}
