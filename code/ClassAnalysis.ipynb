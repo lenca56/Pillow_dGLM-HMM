{
 "cells": [
  {
   "cell_type": "code",
   "execution_count": null,
   "metadata": {},
   "outputs": [],
   "source": [
    "# importing packages and modules\n",
    "import pandas as pd \n",
    "import numpy as np\n",
    "from pathlib import Path\n",
    "import pickle\n",
    "\n",
    "class dGLM_HMM1():\n",
    "    \"\"\"\n",
    "    Base class for fitting hidden Markov models. \n",
    "    Notation: \n",
    "        n: number of data points\n",
    "        d: number of features (inputs to design matrix)\n",
    "        c: number of classes (possible observations)\n",
    "        k: number of states (states)\n",
    "        X: design matrix (nxm)\n",
    "        Y: observations (nxc)\n",
    "        w: weights mapping x to y (mxc or mx1)\n",
    "    \"\"\"\n",
    "\n",
    "    def __init__(self,n,d,c,k):\n",
    "            self.n, self.d, self.c, self.k  = n, d, c, k"
   ]
  }
 ],
 "metadata": {
  "language_info": {
   "name": "python"
  },
  "orig_nbformat": 4
 },
 "nbformat": 4,
 "nbformat_minor": 2
}
