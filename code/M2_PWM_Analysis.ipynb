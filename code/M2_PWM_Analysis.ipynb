{
 "cells": [
  {
   "cell_type": "code",
   "execution_count": 1,
   "metadata": {},
   "outputs": [],
   "source": [
    "# importing packages and modules\n",
    "import matplotlib.pyplot as plt\n",
    "import scipy.stats as stats\n",
    "from scipy.optimize import minimize\n",
    "from utils import *\n",
    "from plotting_utils import *\n",
    "from analysis_utils import *\n",
    "import dglm_hmm1\n",
    "from scipy.stats import multivariate_normal, norm\n",
    "# import jax\n",
    "\n",
    "# code from summer project working with PWM data\n",
    "import sys, os\n",
    "sys.path.append(os.path.abspath(os.path.join('..', '..', 'LC_PWM_GLM-HMM/code')))\n",
    "import io_utils, analysis_utils, plotting_utils\n",
    "\n",
    "sns.set_context(\"talk\")"
   ]
  },
  {
   "cell_type": "code",
   "execution_count": 2,
   "metadata": {},
   "outputs": [],
   "source": [
    "# list of animals that have good psychometrics\n",
    "animalsIDs = ['W060','W068','W073','W074','W075','W080','W081','W082','W088','W089']"
   ]
  },
  {
   "cell_type": "code",
   "execution_count": 7,
   "metadata": {},
   "outputs": [],
   "source": [
    "pni_path = '/Users/lencacuturela/Desktop/github/LC_PWM_GLM-HMM/data'\n",
    "laptop_path = '/Users/lencacuturela/Desktop/Research/github/LC_PWM_GLM-HMM/data'"
   ]
  },
  {
   "cell_type": "code",
   "execution_count": 26,
   "metadata": {},
   "outputs": [
    {
     "name": "stdout",
     "output_type": "stream",
     "text": [
      "104438\n",
      "(104438, 6)\n",
      "(104438,)\n",
      "(78129, 6)\n",
      "(26309, 6)\n",
      "561\n"
     ]
    }
   ],
   "source": [
    "df = io_utils.load_and_wrangle(rat_id='W081', path=None, psychometric=True, cutoff=10, overwrite=False, stage_filter=3)\n",
    "print(len(df.index.tolist()))\n",
    "x, y = io_utils.prepare_design_matrices(rat_id='W081', path=None, psychometric=True, cutoff=10, stage_filter=3, overwrite=False)\n",
    "sessInd = list(io_utils.session_start(rat_id='W081', path=None, psychometric=True, cutoff=10, stage_filter=3))\n",
    "print(x.shape)\n",
    "print(y.shape)\n",
    "nfolds = 4\n",
    "trainX, trainY, trainSessInd, testX, testY, testSessInd = split_data_per_session(x, y, sessInd, folds=nfolds, random_state=1)\n",
    "print(trainX[0].shape)\n",
    "print(testX[0].shape)\n",
    "print(len(trainSessInd[0]))"
   ]
  },
  {
   "cell_type": "markdown",
   "metadata": {},
   "source": [
    "### Fitting dGLM-HMM1 for PWM data with K=1,2 and multiple sigmas value"
   ]
  },
  {
   "cell_type": "code",
   "execution_count": 5,
   "metadata": {},
   "outputs": [
    {
     "name": "stdout",
     "output_type": "stream",
     "text": [
      "[6 1 9 4 5 0 7 8 3 2]\n"
     ]
    }
   ],
   "source": [
    "randomOrder = np.array([6, 1, 9, 4, 5, 0, 7, 8, 3, 2])\n",
    "print(randomOrder) # [6 1 9 4 5 0 7 8 3 2]"
   ]
  },
  {
   "cell_type": "code",
   "execution_count": 10,
   "metadata": {},
   "outputs": [
    {
     "name": "stdout",
     "output_type": "stream",
     "text": [
      "Animal  W081\n",
      "Sigma Index 0\n",
      "0\n",
      "Sigma Index 1\n",
      "0\n"
     ]
    }
   ],
   "source": [
    "sigmaList = [0] + [10**x for x in list(np.arange(-3,1,0.5,dtype=float))] + [10**x for x in list(np.arange(1,4,1,dtype=float))] \n",
    "nfolds = 4\n",
    "\n",
    "for randInd in randomOrder:\n",
    "    animal = animalsIDs[randInd]\n",
    "    print(\"Animal \", animal)\n",
    "    for K in [1,2]:\n",
    "        fit_eval_CV_multiple_sigmas_PWM(rat_id=animal, stage_filter=3, K=K, folds=nfolds, sigmaList = sigmaList, maxiter=300, path=laptop_path, save=True)"
   ]
  }
 ],
 "metadata": {
  "kernelspec": {
   "display_name": "base",
   "language": "python",
   "name": "python3"
  },
  "language_info": {
   "codemirror_mode": {
    "name": "ipython",
    "version": 3
   },
   "file_extension": ".py",
   "mimetype": "text/x-python",
   "name": "python",
   "nbconvert_exporter": "python",
   "pygments_lexer": "ipython3",
   "version": "3.9.12"
  },
  "orig_nbformat": 4
 },
 "nbformat": 4,
 "nbformat_minor": 2
}
