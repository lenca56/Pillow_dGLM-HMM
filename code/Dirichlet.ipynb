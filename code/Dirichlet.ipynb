{
 "cells": [
  {
   "cell_type": "markdown",
   "metadata": {},
   "source": [
    "### Dirichlet Simulator\n"
   ]
  },
  {
   "cell_type": "code",
   "execution_count": 2,
   "metadata": {},
   "outputs": [],
   "source": [
    "import scipy\n",
    "import numpy as np\n",
    "import matplotlib.pyplot as plt"
   ]
  },
  {
   "cell_type": "code",
   "execution_count": 31,
   "metadata": {},
   "outputs": [
    {
     "ename": "ValueError",
     "evalue": "Each entry in 'x' must be greater than zero if its alpha is less than one.",
     "output_type": "error",
     "traceback": [
      "\u001b[0;31m---------------------------------------------------------------------------\u001b[0m",
      "\u001b[0;31mValueError\u001b[0m                                Traceback (most recent call last)",
      "\u001b[1;32mUntitled-1.ipynb Cell 3\u001b[0m in \u001b[0;36m<cell line: 7>\u001b[0;34m()\u001b[0m\n\u001b[1;32m      <a href='vscode-notebook-cell:Untitled-1.ipynb?jupyter-notebook#W3sdW50aXRsZWQ%3D?line=7'>8</a>\u001b[0m \u001b[39mfor\u001b[39;00m j \u001b[39min\u001b[39;00m \u001b[39mrange\u001b[39m(\u001b[39m0\u001b[39m,x\u001b[39m.\u001b[39mshape[\u001b[39m0\u001b[39m]):\n\u001b[1;32m      <a href='vscode-notebook-cell:Untitled-1.ipynb?jupyter-notebook#W3sdW50aXRsZWQ%3D?line=8'>9</a>\u001b[0m     \u001b[39mif\u001b[39;00m (x[i] \u001b[39m+\u001b[39m y[j] \u001b[39m<\u001b[39m\u001b[39m=\u001b[39m\u001b[39m1\u001b[39m):\n\u001b[0;32m---> <a href='vscode-notebook-cell:Untitled-1.ipynb?jupyter-notebook#W3sdW50aXRsZWQ%3D?line=9'>10</a>\u001b[0m         z[i,j] \u001b[39m=\u001b[39m scipy\u001b[39m.\u001b[39;49mstats\u001b[39m.\u001b[39;49mdirichlet\u001b[39m.\u001b[39;49mpdf(np\u001b[39m.\u001b[39;49marray([x[i],y[j]]), alpha\u001b[39m*\u001b[39;49mbase)\n",
      "File \u001b[0;32m~/opt/anaconda3/lib/python3.9/site-packages/scipy/stats/_multivariate.py:1586\u001b[0m, in \u001b[0;36mdirichlet_gen.pdf\u001b[0;34m(self, x, alpha)\u001b[0m\n\u001b[1;32m   1571\u001b[0m \u001b[39m\"\"\"The Dirichlet probability density function.\u001b[39;00m\n\u001b[1;32m   1572\u001b[0m \n\u001b[1;32m   1573\u001b[0m \u001b[39mParameters\u001b[39;00m\n\u001b[0;32m   (...)\u001b[0m\n\u001b[1;32m   1583\u001b[0m \n\u001b[1;32m   1584\u001b[0m \u001b[39m\"\"\"\u001b[39;00m\n\u001b[1;32m   1585\u001b[0m alpha \u001b[39m=\u001b[39m _dirichlet_check_parameters(alpha)\n\u001b[0;32m-> 1586\u001b[0m x \u001b[39m=\u001b[39m _dirichlet_check_input(alpha, x)\n\u001b[1;32m   1588\u001b[0m out \u001b[39m=\u001b[39m np\u001b[39m.\u001b[39mexp(\u001b[39mself\u001b[39m\u001b[39m.\u001b[39m_logpdf(x, alpha))\n\u001b[1;32m   1589\u001b[0m \u001b[39mreturn\u001b[39;00m _squeeze_output(out)\n",
      "File \u001b[0;32m~/opt/anaconda3/lib/python3.9/site-packages/scipy/stats/_multivariate.py:1386\u001b[0m, in \u001b[0;36m_dirichlet_check_input\u001b[0;34m(alpha, x)\u001b[0m\n\u001b[1;32m   1383\u001b[0m chk \u001b[39m=\u001b[39m np\u001b[39m.\u001b[39mlogical_and(xeq0, alphalt1)\n\u001b[1;32m   1385\u001b[0m \u001b[39mif\u001b[39;00m np\u001b[39m.\u001b[39msum(chk):\n\u001b[0;32m-> 1386\u001b[0m     \u001b[39mraise\u001b[39;00m \u001b[39mValueError\u001b[39;00m(\u001b[39m\"\u001b[39m\u001b[39mEach entry in \u001b[39m\u001b[39m'\u001b[39m\u001b[39mx\u001b[39m\u001b[39m'\u001b[39m\u001b[39m must be greater than zero if its \u001b[39m\u001b[39m\"\u001b[39m\n\u001b[1;32m   1387\u001b[0m                      \u001b[39m\"\u001b[39m\u001b[39malpha is less than one.\u001b[39m\u001b[39m\"\u001b[39m)\n\u001b[1;32m   1389\u001b[0m \u001b[39mif\u001b[39;00m (np\u001b[39m.\u001b[39mabs(np\u001b[39m.\u001b[39msum(x, \u001b[39m0\u001b[39m) \u001b[39m-\u001b[39m \u001b[39m1.0\u001b[39m) \u001b[39m>\u001b[39m \u001b[39m10e-10\u001b[39m)\u001b[39m.\u001b[39many():\n\u001b[1;32m   1390\u001b[0m     \u001b[39mraise\u001b[39;00m \u001b[39mValueError\u001b[39;00m(\u001b[39m\"\u001b[39m\u001b[39mThe input vector \u001b[39m\u001b[39m'\u001b[39m\u001b[39mx\u001b[39m\u001b[39m'\u001b[39m\u001b[39m must lie within the normal \u001b[39m\u001b[39m\"\u001b[39m\n\u001b[1;32m   1391\u001b[0m                      \u001b[39m\"\u001b[39m\u001b[39msimplex. but np.sum(x, 0) = \u001b[39m\u001b[39m%s\u001b[39;00m\u001b[39m.\u001b[39m\u001b[39m\"\u001b[39m \u001b[39m%\u001b[39m np\u001b[39m.\u001b[39msum(x, \u001b[39m0\u001b[39m))\n",
      "\u001b[0;31mValueError\u001b[0m: Each entry in 'x' must be greater than zero if its alpha is less than one."
     ]
    }
   ],
   "source": [
    "base = np.array([0.97,0.2])\n",
    "alpha = 1 # scalar\n",
    "\n",
    "x = np.arange(0, 1+0.0001, 0.0001)\n",
    "y = np.arange(0, 1+0.0001, 0.0001)\n",
    "z = np.zeros((x.shape[0], x.shape[0]))\n",
    "for i in range(0,x.shape[0]):\n",
    "    for j in range(0,x.shape[0]):\n",
    "        if (x[i] + y[j] <=1):\n",
    "            z[i,j] = scipy.stats.dirichlet.pdf(np.array([x[i],y[j]]), alpha*base)\n",
    "\n",
    "\n"
   ]
  },
  {
   "cell_type": "code",
   "execution_count": 23,
   "metadata": {},
   "outputs": [
    {
     "ename": "ValueError",
     "evalue": "Vector 'x' must have either the same number of entries as, or one entry fewer than, parameter vector 'a', but alpha.shape = (2,) and x.shape = (10001,).",
     "output_type": "error",
     "traceback": [
      "\u001b[0;31m---------------------------------------------------------------------------\u001b[0m",
      "\u001b[0;31mValueError\u001b[0m                                Traceback (most recent call last)",
      "\u001b[1;32mUntitled-1.ipynb Cell 4\u001b[0m in \u001b[0;36m<cell line: 3>\u001b[0;34m()\u001b[0m\n\u001b[1;32m      <a href='vscode-notebook-cell:Untitled-1.ipynb?jupyter-notebook#W4sdW50aXRsZWQ%3D?line=0'>1</a>\u001b[0m \u001b[39m# Evaluate a gaussian kde on a regular grid of nbins x nbins over data extents\u001b[39;00m\n\u001b[1;32m      <a href='vscode-notebook-cell:Untitled-1.ipynb?jupyter-notebook#W4sdW50aXRsZWQ%3D?line=1'>2</a>\u001b[0m nbins\u001b[39m=\u001b[39m\u001b[39m300\u001b[39m\n\u001b[0;32m----> <a href='vscode-notebook-cell:Untitled-1.ipynb?jupyter-notebook#W4sdW50aXRsZWQ%3D?line=2'>3</a>\u001b[0m k \u001b[39m=\u001b[39m scipy\u001b[39m.\u001b[39;49mstats\u001b[39m.\u001b[39;49mdirichlet\u001b[39m.\u001b[39;49mpdf(xi, alpha\u001b[39m*\u001b[39;49mbase)\n\u001b[1;32m      <a href='vscode-notebook-cell:Untitled-1.ipynb?jupyter-notebook#W4sdW50aXRsZWQ%3D?line=4'>5</a>\u001b[0m zi \u001b[39m=\u001b[39m k(np\u001b[39m.\u001b[39mvstack([xi\u001b[39m.\u001b[39mflatten(), yi\u001b[39m.\u001b[39mflatten()]))\n\u001b[1;32m      <a href='vscode-notebook-cell:Untitled-1.ipynb?jupyter-notebook#W4sdW50aXRsZWQ%3D?line=6'>7</a>\u001b[0m \u001b[39m# Make the plot\u001b[39;00m\n",
      "File \u001b[0;32m~/opt/anaconda3/lib/python3.9/site-packages/scipy/stats/_multivariate.py:1586\u001b[0m, in \u001b[0;36mdirichlet_gen.pdf\u001b[0;34m(self, x, alpha)\u001b[0m\n\u001b[1;32m   1571\u001b[0m \u001b[39m\"\"\"The Dirichlet probability density function.\u001b[39;00m\n\u001b[1;32m   1572\u001b[0m \n\u001b[1;32m   1573\u001b[0m \u001b[39mParameters\u001b[39;00m\n\u001b[0;32m   (...)\u001b[0m\n\u001b[1;32m   1583\u001b[0m \n\u001b[1;32m   1584\u001b[0m \u001b[39m\"\"\"\u001b[39;00m\n\u001b[1;32m   1585\u001b[0m alpha \u001b[39m=\u001b[39m _dirichlet_check_parameters(alpha)\n\u001b[0;32m-> 1586\u001b[0m x \u001b[39m=\u001b[39m _dirichlet_check_input(alpha, x)\n\u001b[1;32m   1588\u001b[0m out \u001b[39m=\u001b[39m np\u001b[39m.\u001b[39mexp(\u001b[39mself\u001b[39m\u001b[39m.\u001b[39m_logpdf(x, alpha))\n\u001b[1;32m   1589\u001b[0m \u001b[39mreturn\u001b[39;00m _squeeze_output(out)\n",
      "File \u001b[0;32m~/opt/anaconda3/lib/python3.9/site-packages/scipy/stats/_multivariate.py:1356\u001b[0m, in \u001b[0;36m_dirichlet_check_input\u001b[0;34m(alpha, x)\u001b[0m\n\u001b[1;32m   1353\u001b[0m x \u001b[39m=\u001b[39m np\u001b[39m.\u001b[39masarray(x)\n\u001b[1;32m   1355\u001b[0m \u001b[39mif\u001b[39;00m x\u001b[39m.\u001b[39mshape[\u001b[39m0\u001b[39m] \u001b[39m+\u001b[39m \u001b[39m1\u001b[39m \u001b[39m!=\u001b[39m alpha\u001b[39m.\u001b[39mshape[\u001b[39m0\u001b[39m] \u001b[39mand\u001b[39;00m x\u001b[39m.\u001b[39mshape[\u001b[39m0\u001b[39m] \u001b[39m!=\u001b[39m alpha\u001b[39m.\u001b[39mshape[\u001b[39m0\u001b[39m]:\n\u001b[0;32m-> 1356\u001b[0m     \u001b[39mraise\u001b[39;00m \u001b[39mValueError\u001b[39;00m(\u001b[39m\"\u001b[39m\u001b[39mVector \u001b[39m\u001b[39m'\u001b[39m\u001b[39mx\u001b[39m\u001b[39m'\u001b[39m\u001b[39m must have either the same number \u001b[39m\u001b[39m\"\u001b[39m\n\u001b[1;32m   1357\u001b[0m                      \u001b[39m\"\u001b[39m\u001b[39mof entries as, or one entry fewer than, \u001b[39m\u001b[39m\"\u001b[39m\n\u001b[1;32m   1358\u001b[0m                      \u001b[39m\"\u001b[39m\u001b[39mparameter vector \u001b[39m\u001b[39m'\u001b[39m\u001b[39ma\u001b[39m\u001b[39m'\u001b[39m\u001b[39m, but alpha.shape = \u001b[39m\u001b[39m%s\u001b[39;00m\u001b[39m \u001b[39m\u001b[39m\"\u001b[39m\n\u001b[1;32m   1359\u001b[0m                      \u001b[39m\"\u001b[39m\u001b[39mand x.shape = \u001b[39m\u001b[39m%s\u001b[39;00m\u001b[39m.\u001b[39m\u001b[39m\"\u001b[39m \u001b[39m%\u001b[39m (alpha\u001b[39m.\u001b[39mshape, x\u001b[39m.\u001b[39mshape))\n\u001b[1;32m   1361\u001b[0m \u001b[39mif\u001b[39;00m x\u001b[39m.\u001b[39mshape[\u001b[39m0\u001b[39m] \u001b[39m!=\u001b[39m alpha\u001b[39m.\u001b[39mshape[\u001b[39m0\u001b[39m]:\n\u001b[1;32m   1362\u001b[0m     xk \u001b[39m=\u001b[39m np\u001b[39m.\u001b[39marray([\u001b[39m1\u001b[39m \u001b[39m-\u001b[39m np\u001b[39m.\u001b[39msum(x, \u001b[39m0\u001b[39m)])\n",
      "\u001b[0;31mValueError\u001b[0m: Vector 'x' must have either the same number of entries as, or one entry fewer than, parameter vector 'a', but alpha.shape = (2,) and x.shape = (10001,)."
     ]
    }
   ],
   "source": [
    "\n",
    "\n",
    "# Evaluate a gaussian kde on a regular grid of nbins x nbins over data extents\n",
    "nbins=300\n",
    "k = scipy.stats.dirichlet.pdf(xi, alpha*base)\n",
    "\n",
    "zi = k(np.vstack([xi.flatten(), yi.flatten()]))\n",
    " \n",
    "# Make the plot\n",
    "plt.pcolormesh(xi, yi, zi.reshape(xi.shape), shading='auto')\n",
    "plt.show()"
   ]
  }
 ],
 "metadata": {
  "kernelspec": {
   "display_name": "base",
   "language": "python",
   "name": "python3"
  },
  "language_info": {
   "codemirror_mode": {
    "name": "ipython",
    "version": 3
   },
   "file_extension": ".py",
   "mimetype": "text/x-python",
   "name": "python",
   "nbconvert_exporter": "python",
   "pygments_lexer": "ipython3",
   "version": "3.9.12"
  },
  "orig_nbformat": 4
 },
 "nbformat": 4,
 "nbformat_minor": 2
}
