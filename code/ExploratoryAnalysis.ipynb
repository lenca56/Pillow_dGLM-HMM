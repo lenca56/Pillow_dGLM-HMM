{
 "cells": [
  {
   "cell_type": "code",
   "execution_count": 1,
   "metadata": {},
   "outputs": [],
   "source": [
    "# importing packages and modules\n",
    "import pandas as pd \n",
    "import numpy as np\n",
    "import matplotlib.pyplot as plt\n",
    "import scipy.stats as stats\n",
    "from scipy.optimize import minimize\n",
    "from utils import *\n",
    "from plotting_utils import *\n",
    "import dglm_hmm1\n",
    "from scipy.stats import multivariate_normal, norm\n",
    "import jax\n"
   ]
  },
  {
   "cell_type": "code",
   "execution_count": 2,
   "metadata": {},
   "outputs": [
    {
     "name": "stdout",
     "output_type": "stream",
     "text": [
      "True Transition Matrix P\n",
      "[[1.]]\n"
     ]
    }
   ],
   "source": [
    "# setting hyperparameters\n",
    "S = 10 # sessions\n",
    "T = 500 # trials per session\n",
    "N = T * S # total data points\n",
    "C = 2 # classes\n",
    "K = 1 # states\n",
    "D = 2 # features (sensory & bias)\n",
    "\n",
    "# True Transition Matrix\n",
    "trueP = np.ones((1,1))\n",
    "print(\"True Transition Matrix P\")\n",
    "print(trueP)"
   ]
  },
  {
   "cell_type": "code",
   "execution_count": 3,
   "metadata": {},
   "outputs": [
    {
     "name": "stdout",
     "output_type": "stream",
     "text": [
      "Session indicies\n",
      "[0, 500, 1000, 1500, 2000, 2500, 3000, 3500, 4000, 4500, 5000]\n"
     ]
    },
    {
     "data": {
      "image/png": "[encoded data removed]",
      "text/plain": [
       "<Figure size 432x288 with 1 Axes>"
      ]
     },
     "metadata": {
      "needs_background": "light"
     },
     "output_type": "display_data"
    }
   ],
   "source": [
    "# True Weights and Session Start Indices\n",
    "ourW = np.zeros((S,K,D))\n",
    "ourW[:,0,1] = 0 # state 1 sensory (increasing)\n",
    "ourW[:,0,0] = 1 # state 1 bias (decreasing)\n",
    "trueW = np.zeros((N,K,D,C))\n",
    "# change weight format to have session*trials points\n",
    "sessInd = []\n",
    "for sess in range(0,S):\n",
    "    sessInd.append(sess*T)\n",
    "    for t in range(0,T):\n",
    "        trueW[sess*T+t,:,:,0] = ourW[sess,:,:]\n",
    "sessInd.append(N)\n",
    "print(\"Session indicies\")\n",
    "print(sessInd)\n",
    "\n",
    "plotting_weights(trueW, sessInd, trueW, 'true weights')\n"
   ]
  },
  {
   "cell_type": "code",
   "execution_count": 4,
   "metadata": {},
   "outputs": [],
   "source": [
    "dGLM_HMM = dglm_hmm1.dGLM_HMM1(N,K,D,C)\n",
    "simX, simY, simZ = dGLM_HMM.simulate_data(trueW, trueP, sessInd, save=False)"
   ]
  },
  {
   "cell_type": "code",
   "execution_count": 7,
   "metadata": {},
   "outputs": [
    {
     "name": "stdout",
     "output_type": "stream",
     "text": [
      "[[[-0.36194577  0.        ]\n",
      "  [ 0.41189423  0.        ]]]\n"
     ]
    }
   ],
   "source": [
    "initP, initW = dGLM_HMM.generate_param(sessInd=sessInd, transitionDistribution=['dirichlet', (5, 1)], weightDistribution=['uniform', (-2,2)]) # initialize the model parameters\n",
    "print(initW[0])"
   ]
  },
  {
   "cell_type": "code",
   "execution_count": 8,
   "metadata": {},
   "outputs": [
    {
     "name": "stderr",
     "output_type": "stream",
     "text": [
      "/Users/lencacuturela/opt/anaconda3/envs/glmhmm/lib/python3.7/site-packages/scipy/optimize/optimize.py:1046: RuntimeWarning: divide by zero encountered in double_scalars\n",
      "  rhok = 1.0 / (numpy.dot(yk, sk))\n"
     ]
    }
   ],
   "source": [
    "checkP, checkW, checkLl = dGLM_HMM.fit(simX, simY,  initP, initW, sigma=reshapeSigma(.0001, K, D) , sessInd=sessInd, pi0=None, maxIter=10, tol=1e-3) # fit the model"
   ]
  },
  {
   "cell_type": "code",
   "execution_count": null,
   "metadata": {},
   "outputs": [],
   "source": [
    "plotting_weights(checkW, sessInd, trueW, 'recovered')"
   ]
  }
 ],
 "metadata": {
  "kernelspec": {
   "display_name": "glmhmm",
   "language": "python",
   "name": "python3"
  },
  "language_info": {
   "codemirror_mode": {
    "name": "ipython",
    "version": 3
   },
   "file_extension": ".py",
   "mimetype": "text/x-python",
   "name": "python",
   "nbconvert_exporter": "python",
   "pygments_lexer": "ipython3",
   "version": "3.7.3"
  },
  "orig_nbformat": 4,
  "vscode": {
   "interpreter": {
    "hash": "1d640932c2a2c517cdbbece3f152ca5b28ed3faaa2a397b6e105b7071e77c91f"
   }
  }
 },
 "nbformat": 4,
 "nbformat_minor": 2
}
