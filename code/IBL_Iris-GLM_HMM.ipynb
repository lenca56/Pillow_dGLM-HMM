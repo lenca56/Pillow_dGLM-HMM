{
 "cells": [
  {
   "cell_type": "code",
   "execution_count": 2,
   "metadata": {},
   "outputs": [],
   "source": [
    "import numpy as np\n",
    "import matplotlib.pyplot as plt\n",
    "import time\n",
    "from sklearn.model_selection import KFold\n",
    "import scipy.io as sio\n",
    "import seaborn as sns\n",
    "import scipy.optimize\n",
    "import pickle\n",
    "import pandas as pd\n",
    "sns.set_context(\"talk\")\n",
    "\n",
    "# Import outside packages by changing the path\n",
    "import sys, os\n",
    "sys.path.append(os.path.abspath(os.path.join('..', '..', 'glmhmm')))\n",
    "from glmhmm import glm, glm_hmm, utils, analysis\n",
    "from glmhmm.utils import permute_states, find_best_fit, compare_top_weights\n",
    "from glmhmm import visualize\n",
    "\n",
    "# code from Brody Summer Project\n",
    "sys.path.append(os.path.abspath(os.path.join('..', '..', 'LC_PWM_GLM-HMM/code')))\n",
    "import io_utils, analysis_utils, plotting_utils\n",
    "\n",
    "sns.set_context(\"talk\")"
   ]
  },
  {
   "cell_type": "code",
   "execution_count": 6,
   "metadata": {},
   "outputs": [],
   "source": [
    "### Fitting Iris' standard GLM-HMM models for IBL 3 features data for each animal from witten lab and until session 40"
   ]
  },
  {
   "cell_type": "code",
   "execution_count": 3,
   "metadata": {},
   "outputs": [
    {
     "name": "stdout",
     "output_type": "stream",
     "text": [
      "['ibl_witten_02' 'ibl_witten_03' 'ibl_witten_04' 'ibl_witten_05'\n",
      " 'ibl_witten_06' 'ibl_witten_07' 'ibl_witten_12' 'ibl_witten_13'\n",
      " 'ibl_witten_14' 'ibl_witten_15' 'ibl_witten_16']\n"
     ]
    }
   ],
   "source": [
    "ibl_data_path = '../data_IBL'\n",
    "dfAll = pd.read_csv(ibl_data_path + '/Ibl_processed.csv')\n",
    "subjectsWitten = np.unique(dfAll[dfAll['lab'] == 'wittenlab']['subject'])\n",
    "print(subjectsWitten)"
   ]
  },
  {
   "cell_type": "code",
   "execution_count": 11,
   "metadata": {},
   "outputs": [],
   "source": [
    "import warnings\n",
    "from pandas.core.common import SettingWithCopyWarning\n",
    "warnings.simplefilter(action=\"ignore\", category=SettingWithCopyWarning)\n",
    "\n",
    "def get_mouse_design(dfAll, subject):\n",
    "    data = dfAll[dfAll['subject']==subject]   # Restrict data to the subject specified\n",
    "\n",
    "    p=5 # as used in Psytrack paper\n",
    "    data['cL'] = np.tanh(p*data['contrastLeft'])/np.tanh(p) # tanh transformation of left contrasts\n",
    "    data['cR'] = np.tanh(p*data['contrastRight'])/np.tanh(p) # tanh transformation of right contrasts\n",
    "\n",
    "    # keeping first 40 sessions\n",
    "    dateToKeep = np.unique(data['date'])[0:40]\n",
    "    dataTemp = pd.DataFrame(data.loc[data['date'].isin(list(dateToKeep))])\n",
    "\n",
    "    # design and out matrix\n",
    "    x = np.ones((dataTemp.shape[0], 3)) # column 0 is bias\n",
    "    x[:,1] = dataTemp['cL'] # cL = contrast left transformed \n",
    "    x[:,2] = dataTemp['cR'] # cR = contrast right transformed\n",
    "    y = np.array(dataTemp['choice'])\n",
    "    print(y.shape)\n",
    "\n",
    "    # session start indicies\n",
    "    sessInd = [0]\n",
    "    for date in dateToKeep :\n",
    "        d = dataTemp[dataTemp['date']==date]\n",
    "        for sess in np.unique(d['session']):\n",
    "            dTemp = d[d['session'] == sess] \n",
    "            dLength = len(dTemp.index.tolist())\n",
    "            sessInd.append(sessInd[-1] + dLength)\n",
    "    print(sessInd[-1])\n",
    "    \n",
    "    return x, y, sessInd"
   ]
  },
  {
   "cell_type": "code",
   "execution_count": 21,
   "metadata": {},
   "outputs": [
    {
     "name": "stdout",
     "output_type": "stream",
     "text": [
      "(36672,)\n",
      "36672\n",
      "Init  0\n",
      "Init  1\n",
      "Init  2\n",
      "Init  3\n",
      "Init  4\n",
      "Init  5\n",
      "Init  6\n",
      "Init  7\n",
      "Init  8\n",
      "Init  9\n",
      "Init  10\n",
      "Init  11\n",
      "Init  12\n"
     ]
    }
   ],
   "source": [
    "subject = 'ibl_witten_15'\n",
    "x, y, sessInd = get_mouse_design(dfAll, subject)\n",
    "\n",
    "for K in [3]:\n",
    "\n",
    "    # Set hyperparameters\n",
    "    N = x.shape[0] # number of data/time points for the indirect pathway cohort\n",
    "    C = 2 # number of observation classes\n",
    "    D = x.shape[1] # number of GLM inputs (regressors)\n",
    "\n",
    "    inits = 30 # set the number of initializations - Iris has 50\n",
    "    maxiter = 250 # maximum number of iterations of EM to allow for each fit - Iris has 250\n",
    "    tol = 1e-4\n",
    "\n",
    "    # store values for each initialization\n",
    "    lls_all = np.zeros((inits,maxiter))\n",
    "    real_GLMHMMs = np.zeros((inits),dtype=object)\n",
    "\n",
    "    # fit the model for each initialization\n",
    "    for i in range(inits):\n",
    "        print(\"Init \", i)\n",
    "        real_GLMHMMs[i] = glm_hmm.GLMHMM(N,D,C,K,observations=\"bernoulli\",gaussianPrior=1)\n",
    "        # initialize the weights\n",
    "        A_init, w_init, _ = real_GLMHMMs[i].generate_params(weights=['GLM',-2,2.2,x,y,1])\n",
    "        # fit the model                     \n",
    "        lls_all[i,:], A, w, pi = real_GLMHMMs[i].fit(y,x,A_init,w_init,maxiter=maxiter,tol=tol,sess=sessInd) \n",
    "        \n",
    "        # Check to see that multiple fits achieve the same log-likelihood \n",
    "    fig, axes = plt.subplots(1,1)\n",
    "    fig.set_size_inches(8, 4)\n",
    "    topixs = visualize.plot_loglikelihoods(lls_all, maxdiff=0.15, ax=axes, startix=5) # colored in red are the ones (within maxdiff) to the best\n",
    "    axes.set_title('log like')\n",
    "        \n",
    "\n",
    "    # find the initialization that led to the best fit\n",
    "    bestix = find_best_fit(lls_all) \n",
    "    best_GLMHMM = real_GLMHMMs[bestix]\n",
    "\n",
    "    # save the best fit - only for when large number of initializations and iterations!\n",
    "    pickle.dump(best_GLMHMM, open(f'../data_IBL/IBL_{subject}_bestGLMHMM__states-' + str(K) + '.pickle', 'wb'))"
   ]
  },
  {
   "cell_type": "code",
   "execution_count": 20,
   "metadata": {},
   "outputs": [
    {
     "name": "stdout",
     "output_type": "stream",
     "text": [
      "[ 1  3  5 14 18 19 20 24]\n",
      "[[[ 0.          2.80691371]\n",
      "  [ 0.         -2.83475789]\n",
      "  [ 0.         -0.90271782]]\n",
      "\n",
      " [[ 0.         -0.38889616]\n",
      "  [ 0.         -2.49361159]\n",
      "  [ 0.          1.84860961]]]\n"
     ]
    },
    {
     "data": {
      "image/png": "[encoded data removed]",
      "text/plain": [
       "<Figure size 576x288 with 1 Axes>"
      ]
     },
     "metadata": {
      "needs_background": "light"
     },
     "output_type": "display_data"
    }
   ],
   "source": [
    "fig, axes = plt.subplots(1,1)\n",
    "fig.set_size_inches(8, 4)\n",
    "topixs = visualize.plot_loglikelihoods(lls_all[0:25], maxdiff=0.15, ax=axes, startix=5) # colored in red are the ones (within maxdiff) to the best\n",
    "axes.set_title('log like')\n",
    "print(topixs)\n",
    "\n",
    "# find the initialization that led to the best fit\n",
    "bestix = find_best_fit(lls_all[0:25]) \n",
    "best_GLMHMM = real_GLMHMMs[bestix]\n",
    "print(best_GLMHMM.w)"
   ]
  },
  {
   "cell_type": "code",
   "execution_count": null,
   "metadata": {},
   "outputs": [],
   "source": [
    "subject = 'ibl_witten_16'\n",
    "x, y, sessInd = get_mouse_design(dfAll, subject)\n",
    "\n",
    "for K in [2,3]:\n",
    "\n",
    "    # Set hyperparameters\n",
    "    N = x.shape[0] # number of data/time points for the indirect pathway cohort\n",
    "    C = 2 # number of observation classes\n",
    "    D = x.shape[1] # number of GLM inputs (regressors)\n",
    "\n",
    "    inits = 30 # set the number of initializations - Iris has 50\n",
    "    maxiter = 250 # maximum number of iterations of EM to allow for each fit - Iris has 250\n",
    "    tol = 1e-4\n",
    "\n",
    "    # store values for each initialization\n",
    "    lls_all = np.zeros((inits,maxiter))\n",
    "    real_GLMHMMs = np.zeros((inits),dtype=object)\n",
    "\n",
    "    # fit the model for each initialization\n",
    "    for i in range(inits):\n",
    "        print(\"Init \", i)\n",
    "        real_GLMHMMs[i] = glm_hmm.GLMHMM(N,D,C,K,observations=\"bernoulli\",gaussianPrior=1)\n",
    "        # initialize the weights\n",
    "        A_init, w_init, _ = real_GLMHMMs[i].generate_params(weights=['GLM',-2,2.2,x,y,1])\n",
    "        # fit the model                     \n",
    "        lls_all[i,:], A, w, pi = real_GLMHMMs[i].fit(y,x,A_init,w_init,maxiter=maxiter,tol=tol,sess=sessInd) \n",
    "        \n",
    "        # Check to see that multiple fits achieve the same log-likelihood \n",
    "    fig, axes = plt.subplots(1,1)\n",
    "    fig.set_size_inches(8, 4)\n",
    "    topixs = visualize.plot_loglikelihoods(lls_all, maxdiff=0.15, ax=axes, startix=5) # colored in red are the ones (within maxdiff) to the best\n",
    "    axes.set_title('log like')\n",
    "        \n",
    "\n",
    "    # find the initialization that led to the best fit\n",
    "    bestix = find_best_fit(lls_all) \n",
    "    best_GLMHMM = real_GLMHMMs[bestix]\n",
    "\n",
    "    # save the best fit - only for when large number of initializations and iterations!\n",
    "    pickle.dump(best_GLMHMM, open(f'../data_IBL/IBL_{subject}_bestGLMHMM__states-' + str(K) + '.pickle', 'wb'))"
   ]
  },
  {
   "cell_type": "code",
   "execution_count": null,
   "metadata": {},
   "outputs": [],
   "source": [
    "for subjects in ['ibl_witten_15','ibl_witten_16']:\n",
    "    for K in [2,3]:\n",
    "        bestGLMHMM = pickle.load(open(f'../data_IBL/IBL_{subject}_bestGLMHMM__states-' + str(K) + '.pickle', 'rb'))\n",
    "        print(bestGLMHMM.A)\n",
    "\n",
    "        x, y, sessInd = get_mouse_design(dfAll, subject)\n",
    "        wTemp = bestGLMHMM.w\n",
    "        wTemp[:,:,:] = - wTemp[:,:,:] # all weights have opposite sign in my code vs Iris'\n",
    "        w = np.repeat(wTemp[np.newaxis], sessInd[-1], axis=0)\n",
    "        np.save(f'../data_IBL/W_IBL_{subject}_bestGLMHMM-Iris_{K}-state', w)\n",
    "        np.save(f'../data_IBL/P_IBL_{subject}_bestGLMHMM-Iris_{K}-state', bestGLMHMM.A)"
   ]
  }
 ],
 "metadata": {
  "kernelspec": {
   "display_name": "glmhmm",
   "language": "python",
   "name": "python3"
  },
  "language_info": {
   "codemirror_mode": {
    "name": "ipython",
    "version": 3
   },
   "file_extension": ".py",
   "mimetype": "text/x-python",
   "name": "python",
   "nbconvert_exporter": "python",
   "pygments_lexer": "ipython3",
   "version": "3.7.3"
  },
  "orig_nbformat": 4
 },
 "nbformat": 4,
 "nbformat_minor": 2
}
