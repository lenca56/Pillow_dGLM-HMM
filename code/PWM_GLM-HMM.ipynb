{
 "cells": [
  {
   "cell_type": "markdown",
   "metadata": {},
   "source": [
    "### Looking for global fit (standard GLM-HMM) for Psytrack animals all together"
   ]
  },
  {
   "cell_type": "code",
   "execution_count": 1,
   "metadata": {},
   "outputs": [],
   "source": [
    "# importing packages and modules\n",
    "import matplotlib.pyplot as plt\n",
    "import scipy.stats as stats\n",
    "from scipy.optimize import minimize\n",
    "from utils import *\n",
    "from plotting_utils import *\n",
    "from analysis_utils import *\n",
    "import dglm_hmm1\n",
    "from scipy.stats import multivariate_normal, norm\n",
    "# import jax\n",
    "\n",
    "# code from summer project working with PWM data\n",
    "import sys, os\n",
    "sys.path.append(os.path.abspath(os.path.join('..', '..', 'LC_PWM_GLM-HMM/code')))\n",
    "import io_utils, analysis_utils, plotting_utils\n",
    "\n",
    "sns.set_context(\"talk\")"
   ]
  },
  {
   "cell_type": "code",
   "execution_count": 2,
   "metadata": {},
   "outputs": [],
   "source": [
    "animalsIDs = ['W060','W068','W073','W074','W075','W080','W081','W082','W088','W089']\n",
    "pni_path = '/Users/lencacuturela/Desktop/github/LC_PWM_GLM-HMM/data'"
   ]
  },
  {
   "cell_type": "code",
   "execution_count": 3,
   "metadata": {},
   "outputs": [],
   "source": [
    "# According to Jonathan's suggestions for fitting global GLM-HMM for all animals\n",
    "# stage filter changed from 3 to 4\n",
    "# cutoff changed from 10 to 50\n",
    "firstAnimal = 'W060'\n",
    "x, y = io_utils.prepare_design_matrices(rat_id=firstAnimal, path=pni_path, psychometric=True, cutoff=100, stage_filter=4, overwrite=False)\n",
    "sessInd = list(io_utils.session_start(rat_id=firstAnimal, path=pni_path, psychometric=True, cutoff=100, stage_filter=4))\n",
    "\n",
    "for animal in animalsIDs:\n",
    "    if (animal != firstAnimal):\n",
    "        xTemp, yTemp = io_utils.prepare_design_matrices(rat_id=animal, path=pni_path, psychometric=True, cutoff=100, stage_filter=4, overwrite=False)\n",
    "        sessIndTemp = list(io_utils.session_start(rat_id=animal, path=pni_path, psychometric=True, cutoff=100, stage_filter=4))\n",
    "        x = np.concatenate((x,xTemp))\n",
    "        y = np.concatenate((y,yTemp))\n",
    "oneSessInd = [0,x.shape[0]]\n",
    "\n",
    "# NOT TAKING INTO ACCOUNT TO BREAK FORWARD-BACKWARD AT EACH SESSION LIKE IRIS DOES\n",
    "    "
   ]
  },
  {
   "cell_type": "code",
   "execution_count": 6,
   "metadata": {},
   "outputs": [
    {
     "name": "stdout",
     "output_type": "stream",
     "text": [
      "Init  0\n",
      "0\n"
     ]
    }
   ],
   "source": [
    "inits = 30\n",
    "penaltyW=True\n",
    "maxiter = 250\n",
    "\n",
    "path = pni_path\n",
    "\n",
    "N = x.shape[0]\n",
    "D = x.shape[1]\n",
    "C = 2 # only looking at binomial classes\n",
    "K = 2\n",
    "\n",
    "allP = np.zeros((inits, K, K))\n",
    "allW = np.zeros((inits, N, K, D, C))\n",
    "allLl = np.zeros((inits, maxiter))\n",
    "testLl = np.zeros((inits))\n",
    "oneSessInd = [0,N]\n",
    "dGLM_HMM = dglm_hmm1.dGLM_HMM1(N,K,D,C)\n",
    "\n",
    "for i in range(0,inits):\n",
    "    print(\"Init \", i)\n",
    "\n",
    "    # global fit\n",
    "    if (i%2 ==0):\n",
    "        initP0, initW0 = dGLM_HMM.generate_param(sessInd=oneSessInd, transitionDistribution=['dirichlet', (5, 1)], weightDistribution=['uniform', (-2,2)]) \n",
    "    else:\n",
    "        initP0, initW0 = dGLM_HMM.generate_param(sessInd=oneSessInd, transitionDistribution=['dirichlet', (5, 1)], weightDistribution=['normal', (0,2)]) \n",
    "    allP[i], allW[i], allLl[i] = dGLM_HMM.fit(x, y,  initP0, initW0, sigma=reshapeSigma(0, K, D), sessInd=oneSessInd, pi0=None, maxIter=maxiter, tol=1e-3, penaltyW=penaltyW) # sigma does not matter here\n",
    "    \n",
    "    np.save(f'../data_PWM/trainLl-global_PWM_all-animals_sf=4_{K}_state_multiple_inits_penaltyW={penaltyW}', allLl)\n",
    "    np.save(f'../data_PWM/P-global_PWM_all-animals_sf=4_{K}_state_multiple_inits_penaltyW={penaltyW}', allP)\n",
    "    np.save(f'../data_PWM/W-global_PWM_all-animals_sf=4_{K}_state_multiple_inits_penaltyW={penaltyW}', allW)\n",
    "\n",
    "    "
   ]
  }
 ],
 "metadata": {
  "kernelspec": {
   "display_name": "base",
   "language": "python",
   "name": "python3"
  },
  "language_info": {
   "codemirror_mode": {
    "name": "ipython",
    "version": 3
   },
   "file_extension": ".py",
   "mimetype": "text/x-python",
   "name": "python",
   "nbconvert_exporter": "python",
   "pygments_lexer": "ipython3",
   "version": "3.10.9"
  },
  "orig_nbformat": 4
 },
 "nbformat": 4,
 "nbformat_minor": 2
}
