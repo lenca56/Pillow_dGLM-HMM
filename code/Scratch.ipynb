{
 "cells": [
  {
   "cell_type": "code",
   "execution_count": 1,
   "metadata": {},
   "outputs": [],
   "source": [
    "from matplotlib import pyplot as plt\n",
    "import numpy as np\n",
    "import pandas as pd\n",
    "# from oneibl.onelight import ONE # only used for downloading data\n",
    "# import wget\n",
    "from utils import *\n",
    "from plotting_utils import *\n",
    "from analysis_utils import *\n",
    "import dglm_hmm2\n",
    "from pandas.errors import SettingWithCopyWarning\n",
    "warnings.simplefilter(action=\"ignore\", category=SettingWithCopyWarning)\n",
    "import sys\n",
    "import os\n",
    "\n",
    "ibl_data_path = '../data_IBL'\n",
    "dfAll = pd.read_csv(ibl_data_path + '/Ibl_processed.csv')\n",
    "subjectsWitten = np.unique(dfAll[dfAll['lab'] == 'wittenlab']['subject']).tolist()\n",
    "subjectsWitten.remove('ibl_witten_02')\n",
    "subjectsWitten.remove('ibl_witten_03')"
   ]
  },
  {
   "cell_type": "code",
   "execution_count": 12,
   "metadata": {},
   "outputs": [
    {
     "name": "stdout",
     "output_type": "stream",
     "text": [
      "ibl_witten_15\n",
      "69\n"
     ]
    }
   ],
   "source": [
    "# read from cluster array in order to get parallelizations\n",
    "idx = 7 #int(os.environ[\"SLURM_ARRAY_TASK_ID\"]) # 0,8 inclusively\n",
    "subject = subjectsWitten[idx]\n",
    "K = 3\n",
    "print(subject)\n",
    "\n",
    "# setting hyperparameters\n",
    "alpha = 0\n",
    "L2penaltyW = 1\n",
    "maxiter = 200\n",
    "bestSigma = 1 # verified from fitting multiple sigmas\n",
    "priorDirP = None\n",
    "fit_init_states = False\n",
    "\n",
    "D = 4 # number of features\n",
    "sessStop = -1 # last session to use in fitting\n",
    "\n",
    "# fitting for K = 1,2,3,4\n",
    "x, y, sessInd, _ = get_mouse_design(dfAll, subject, sessStop=sessStop, D=D) # NOT LOOKING AT FULL DATASET\n",
    "N = x.shape[0]\n",
    "sess = len(sessInd)-1\n",
    "print(sess)\n",
    "\n",
    "# parameters for best model in dGLM-HMM1 (only weights varying)\n",
    "dglmhmmW = np.load(f'../data_IBL/{subject}/{subject}_bestW_D={D}_{K}_state_CV_sigma=1_L2penaltyW={L2penaltyW}_priorDirP={priorDirP}_untilSession{sessStop}.npy')\n",
    "globalP = np.load(f'../data_IBL/{subject}/{subject}_bestP_D={D}_{K}_state_CV_sigma=1_L2penaltyW={L2penaltyW}_priorDirP={priorDirP}_untilSession{sessStop}.npy')  \n",
    "\n",
    "inits = 21 # first one is constant P\n",
    "trainLl = np.zeros((inits,maxiter))\n",
    "testLl = np.zeros((inits))\n",
    "testAccuracy = np.zeros((inits))\n",
    "allP = np.zeros((inits,N,K,K))\n",
    "allW = np.zeros((inits,N,K,D,2))\n",
    "\n",
    "# previous fit with constant P - dGLM-HMM1\n",
    "allP[0] = reshapeP_M1_to_M2(globalP, N) \n",
    "allW[0] = np.copy(dglmhmmW)\n",
    "\n",
    "# creating matrix for initializations of P from globalP with addedd noise\n",
    "initP = np.zeros((inits,N,K,K))\n",
    "noiseDir = np.ones((K,K))\n",
    "alpha = 10\n",
    "for k in range(0,K):\n",
    "    noiseDir[k,k] = alpha # diagonal element\n",
    "# first init is just constant transition matrix P (from dGLMHMM1)\n",
    "initP[0] = reshapeP_M1_to_M2(globalP, N) \n",
    "for init in range(1,inits):\n",
    "    for s in range(0,sess):\n",
    "        for k in range(0,K):\n",
    "            initP[init,sessInd[s]:sessInd[s+1],k,:] = (globalP[k] + np.random.dirichlet(noiseDir[k])) /2\n",
    "np.save(f'../data_IBL/{subject}/{subject}_initP-noisy-alpha=10.npy', initP)\n",
    "\n",
    "pi = np.ones((K))/K    \n",
    "presentAll = np.ones((N))\n"
   ]
  },
  {
   "cell_type": "code",
   "execution_count": 22,
   "metadata": {},
   "outputs": [
    {
     "name": "stdout",
     "output_type": "stream",
     "text": [
      "[[    0]\n",
      " [    1]\n",
      " [    2]\n",
      " ...\n",
      " [68234]\n",
      " [68235]\n",
      " [68236]]\n"
     ]
    },
    {
     "ename": "TypeError",
     "evalue": "'numpy.float64' object cannot be interpreted as an integer",
     "output_type": "error",
     "traceback": [
      "\u001b[0;31m---------------------------------------------------------------------------\u001b[0m",
      "\u001b[0;31mTypeError\u001b[0m                                 Traceback (most recent call last)",
      "\u001b[1;32m/Volumes/Lenca_SSD/github/Pillow_dGLM-HMM/code/Scratch.ipynb Cell 3\u001b[0m line \u001b[0;36m<cell line: 8>\u001b[0;34m()\u001b[0m\n\u001b[1;32m     <a href='vscode-notebook-cell:/Volumes/Lenca_SSD/github/Pillow_dGLM-HMM/code/Scratch.ipynb#W3sZmlsZQ%3D%3D?line=12'>13</a>\u001b[0m     \u001b[39mprint\u001b[39m(np\u001b[39m.\u001b[39margwhere(presentAll\u001b[39m==\u001b[39m\u001b[39m1\u001b[39m))\n\u001b[1;32m     <a href='vscode-notebook-cell:/Volumes/Lenca_SSD/github/Pillow_dGLM-HMM/code/Scratch.ipynb#W3sZmlsZQ%3D%3D?line=13'>14</a>\u001b[0m     \u001b[39m# evaluate \u001b[39;00m\n\u001b[0;32m---> <a href='vscode-notebook-cell:/Volumes/Lenca_SSD/github/Pillow_dGLM-HMM/code/Scratch.ipynb#W3sZmlsZQ%3D%3D?line=14'>15</a>\u001b[0m     testLl[init], testAccuracy[init] \u001b[39m=\u001b[39m dGLM_HMM2\u001b[39m.\u001b[39;49mevaluate(x, y, sessInd, presentAll, allP[init], pi, allW[init], sortStates\u001b[39m=\u001b[39;49m\u001b[39mFalse\u001b[39;49;00m)\n\u001b[1;32m     <a href='vscode-notebook-cell:/Volumes/Lenca_SSD/github/Pillow_dGLM-HMM/code/Scratch.ipynb#W3sZmlsZQ%3D%3D?line=16'>17</a>\u001b[0m np\u001b[39m.\u001b[39msavez(\u001b[39mf\u001b[39m\u001b[39m'\u001b[39m\u001b[39m../data_IBL/\u001b[39m\u001b[39m{\u001b[39;00msubject\u001b[39m}\u001b[39;00m\u001b[39m/\u001b[39m\u001b[39m{\u001b[39;00msubject\u001b[39m}\u001b[39;00m\u001b[39m_D=\u001b[39m\u001b[39m{\u001b[39;00mD\u001b[39m}\u001b[39;00m\u001b[39m_\u001b[39m\u001b[39m{\u001b[39;00mK\u001b[39m}\u001b[39;00m\u001b[39m_state_alpha=\u001b[39m\u001b[39m{\u001b[39;00mbestAlpha\u001b[39m}\u001b[39;00m\u001b[39m_multiple-inits_L2penaltyW=\u001b[39m\u001b[39m{\u001b[39;00mL2penaltyW\u001b[39m}\u001b[39;00m\u001b[39m_untilSession\u001b[39m\u001b[39m{\u001b[39;00msessStop\u001b[39m}\u001b[39;00m\u001b[39m'\u001b[39m, trainLl\u001b[39m=\u001b[39mtrainLl, allP\u001b[39m=\u001b[39mallP, allW\u001b[39m=\u001b[39mallW, testLl\u001b[39m=\u001b[39mtestLl, testAccuracy\u001b[39m=\u001b[39mtestAccuracy)\n",
      "File \u001b[0;32m/Volumes/Lenca_SSD/github/Pillow_dGLM-HMM/code/dglm_hmm2.py:698\u001b[0m, in \u001b[0;36mdGLM_HMM2.evaluate\u001b[0;34m(self, x, y, sessInd, presentTest, p, pi, w, sortStates)\u001b[0m\n\u001b[1;32m    694\u001b[0m gamma, _ \u001b[39m=\u001b[39m \u001b[39mself\u001b[39m\u001b[39m.\u001b[39mposteriorLatents(y, present, p, phi, alpha, beta, ct, sessInd[:\u001b[39m-\u001b[39m\u001b[39m1\u001b[39m])\n\u001b[1;32m    696\u001b[0m llTest \u001b[39m=\u001b[39m np\u001b[39m.\u001b[39msum(np\u001b[39m.\u001b[39mlog(ct[np\u001b[39m.\u001b[39margwhere(presentTest\u001b[39m==\u001b[39m\u001b[39m1\u001b[39m)])) \u001b[39m/\u001b[39m Ntest \u001b[39m# average test log-likelihood per trial\u001b[39;00m\n\u001b[0;32m--> 698\u001b[0m gammaTest \u001b[39m=\u001b[39m gamma[np\u001b[39m.\u001b[39;49margwhere(presentTest\u001b[39m==\u001b[39;49m\u001b[39m1\u001b[39;49m)]\u001b[39m.\u001b[39;49mreshape((Ntest, \u001b[39mself\u001b[39;49m\u001b[39m.\u001b[39;49mk))\n\u001b[1;32m    699\u001b[0m phiTest \u001b[39m=\u001b[39m phi[np\u001b[39m.\u001b[39margwhere(presentTest\u001b[39m==\u001b[39m\u001b[39m1\u001b[39m)]\u001b[39m.\u001b[39mreshape((Ntest, \u001b[39mself\u001b[39m\u001b[39m.\u001b[39mk, \u001b[39mself\u001b[39m\u001b[39m.\u001b[39mc))\n\u001b[1;32m    700\u001b[0m yTest \u001b[39m=\u001b[39m y[np\u001b[39m.\u001b[39margwhere(presentTest\u001b[39m==\u001b[39m\u001b[39m1\u001b[39m)]\u001b[39m.\u001b[39mreshape((Ntest,))\n",
      "\u001b[0;31mTypeError\u001b[0m: 'numpy.float64' object cannot be interpreted as an integer"
     ]
    }
   ],
   "source": [
    "initP = np.load(f'../data_IBL/{subject}/{subject}_initP-noisy-alpha=10.npy')\n",
    "allP[0] = initP[0] # globalP repeated across sessions - constant\n",
    "allW[0] = np.copy(dglmhmmW)\n",
    "bestAlpha = 0\n",
    "pi = np.ones((K))/K    \n",
    "presentAll = np.ones((N))\n",
    "dGLM_HMM2 = dglm_hmm2.dGLM_HMM2(N,K,D,2)\n",
    "for init in range(0,inits):\n",
    "    # fitting\n",
    "    if init !=0: # first init is only evaluated\n",
    "        allP[init], _, allW[init], trainLl[init] = dGLM_HMM2.fit(x, y, presentAll, initP[init], pi, dglmhmmW, sigma=reshapeSigma(bestSigma, K, D), alpha=bestAlpha, globalP=globalP, sessInd=sessInd, maxIter=10, tol=1e-3, L2penaltyW=L2penaltyW, fit_init_states=fit_init_states) \n",
    "\n",
    "    print(np.argwhere(presentAll==1))\n",
    "    # evaluate \n",
    "    testLl[init], testAccuracy[init] = dGLM_HMM2.evaluate(x, y, sessInd, presentAll, allP[init], pi, allW[init], sortStates=False)\n",
    "                                 \n",
    "np.savez(f'../data_IBL/{subject}/{subject}_D={D}_{K}_state_alpha={bestAlpha}_multiple-inits_L2penaltyW={L2penaltyW}_untilSession{sessStop}', trainLl=trainLl, allP=allP, allW=allW, testLl=testLl, testAccuracy=testAccuracy)\n"
   ]
  }
 ],
 "metadata": {
  "kernelspec": {
   "display_name": "base",
   "language": "python",
   "name": "python3"
  },
  "language_info": {
   "codemirror_mode": {
    "name": "ipython",
    "version": 3
   },
   "file_extension": ".py",
   "mimetype": "text/x-python",
   "name": "python",
   "nbconvert_exporter": "python",
   "pygments_lexer": "ipython3",
   "version": "3.9.12"
  }
 },
 "nbformat": 4,
 "nbformat_minor": 2
}
